{
 "cells": [
  {
   "cell_type": "code",
   "execution_count": 8,
   "metadata": {},
   "outputs": [],
   "source": [
    "import numpy as np\n",
    "import pathlib\n",
    "\n",
    "labels_dir = pathlib.Path('Images/labels/')\n",
    "labels = labels_dir.glob('*.txt')\n",
    "\n",
    "for label in labels:\n",
    "    with open(label, 'r') as f:\n",
    "        data = [list(map(int, line.split())) for line in f]\n",
    "    \n",
    "    label_data = np.array(data)\n",
    "    \n",
    "    label_data[label_data == 2] = 1\n",
    "    \n",
    "    np.savetxt(f'Images/labels/cytoplasm/{label.name}', label_data, fmt='%d')"
   ]
  }
 ],
 "metadata": {
  "kernelspec": {
   "display_name": "cellseg-1BDzHjDw-py3.10",
   "language": "python",
   "name": "python3"
  },
  "language_info": {
   "codemirror_mode": {
    "name": "ipython",
    "version": 3
   },
   "file_extension": ".py",
   "mimetype": "text/x-python",
   "name": "python",
   "nbconvert_exporter": "python",
   "pygments_lexer": "ipython3",
   "version": "3.10.12"
  }
 },
 "nbformat": 4,
 "nbformat_minor": 2
}
