{
 "cells": [
  {
   "cell_type": "code",
   "execution_count": 10,
   "metadata": {},
   "outputs": [],
   "source": [
    "import optuna\n",
    "from skimage import filters\n",
    "from scipy.ndimage import gaussian_filter\n",
    "from sklearn.metrics import f1_score\n",
    "import colorcorrect.algorithm as cca\n",
    "import mahotas as mh\n",
    "import cellseg.src.image_worker as iw\n",
    "import cellseg.src.convert_worker as cw\n",
    "import cellseg.src.shape_descriptors as sd\n",
    "import numpy as np\n",
    "\n",
    "img = mh.imread(\"Images/BAL_images/2023_12_14_image_006.png\")\n",
    "\n",
    "file_path = 'Images/labels/cytoplasm/2023_12_14_image_006.txt'\n",
    "\n",
    "with open(file_path, 'r') as f:\n",
    "    data = [list(map(int, line.split())) for line in f]\n",
    "\n",
    "cytoplasm_labels = np.array(data)"
   ]
  },
  {
   "cell_type": "code",
   "execution_count": 13,
   "metadata": {},
   "outputs": [
    {
     "name": "stdout",
     "output_type": "stream",
     "text": [
      "2023_12_14_image_006\n"
     ]
    }
   ],
   "source": [
    "import pathlib\n",
    "\n",
    "print(pathlib.Path(\"Images/BAL_images/2023_12_14_image_006.png\").stem)"
   ]
  },
  {
   "cell_type": "code",
   "execution_count": 6,
   "metadata": {},
   "outputs": [],
   "source": [
    "def objective(trial):\n",
    "    # Hyperparameters to optimize\n",
    "    slope = trial.suggest_int('slope', 5, 20)\n",
    "    limit = trial.suggest_int('limit', 500, 2000)\n",
    "    samples = trial.suggest_int('samples', 100, 1000)\n",
    "    sigma = trial.suggest_float('sigma', 1.0, 15.0)\n",
    "    subwidth = trial.suggest_int('subwidth', 10, 30)\n",
    "    subheight = trial.suggest_int('subweight', 10, 30)\n",
    "    mask_size = trial.suggest_int('mask_size', 2, 5)\n",
    "    iterations = trial.suggest_int('iterations', 1, 10)\n",
    "    min_size = trial.suggest_int('min_size', 50, 300)\n",
    "    \n",
    "    # Step 1: Automatic color equalization\n",
    "    img_c_corrected = cca.automatic_color_equalization(img, slope=slope, limit=limit, samples=samples)\n",
    "    \n",
    "    # Step 2: Gaussian Blur\n",
    "    img_blurred = gaussian_filter(img_c_corrected, sigma=sigma)\n",
    "    \n",
    "    # Step 3: Luminance weighted gray world\n",
    "    RGB_balanced = cca.luminance_weighted_gray_world(img_blurred, subwidth=subwidth, subheight=subheight)\n",
    "    r2, g2, b2 = RGB_balanced[:, :, 0], RGB_balanced[:, :, 1], RGB_balanced[:, :, 2]\n",
    "    \n",
    "    # Step 4: Thresholding and segmentation\n",
    "    thresholds = filters.threshold_multiotsu(g2)\n",
    "    regions = np.digitize(g2, bins=thresholds)\n",
    "    bin_cyto_nuclei = cw.convert_labeled_to_bin(regions, background=2)\n",
    "    bin_cyto_nuclei = iw.close_holes_remove_noise(bin_cyto_nuclei, mask_size=mask_size, iterations=iterations)\n",
    "    \n",
    "    # Step 5: Label cytoplasm regions\n",
    "    img_labeled_cytoplasm, nr_cytoplasm = mh.label(bin_cyto_nuclei)\n",
    "    img_labeled_cytoplasm = iw.remove_small_regions(img_labeled_cytoplasm, min_size=min_size)\n",
    "    img_cytoplasm_nuclei = mh.labeled.remove_bordering(img_labeled_cytoplasm)\n",
    "    \n",
    "    # Evaluate using F1 score\n",
    "    f1 = f1_score(cytoplasm_labels.flatten(), img_cytoplasm_nuclei.flatten(), average='micro')\n",
    "    \n",
    "    return f1\n"
   ]
  },
  {
   "cell_type": "code",
   "execution_count": 8,
   "metadata": {},
   "outputs": [
    {
     "name": "stderr",
     "output_type": "stream",
     "text": [
      "[I 2024-11-07 17:50:06,128] Using an existing study with name 'cytoplasm_segmentation' instead of creating a new one.\n",
      "[I 2024-11-07 17:50:12,773] Trial 1 finished with value: 0.7734947364560987 and parameters: {'slope': 19, 'limit': 1302, 'samples': 132, 'sigma': 7.205548764269908, 'subwidth': 17, 'subweight': 15, 'mask_size': 5, 'iterations': 7, 'min_size': 193}. Best is trial 1 with value: 0.7734947364560987.\n",
      "[I 2024-11-07 17:50:37,236] Trial 2 finished with value: 0.7799605528882043 and parameters: {'slope': 18, 'limit': 1871, 'samples': 497, 'sigma': 14.06816245867328, 'subwidth': 14, 'subweight': 17, 'mask_size': 5, 'iterations': 2, 'min_size': 263}. Best is trial 2 with value: 0.7799605528882043.\n",
      "[I 2024-11-07 17:50:46,031] Trial 3 finished with value: 0.7778362761507372 and parameters: {'slope': 17, 'limit': 1338, 'samples': 154, 'sigma': 8.040883550669287, 'subwidth': 14, 'subweight': 10, 'mask_size': 4, 'iterations': 3, 'min_size': 211}. Best is trial 2 with value: 0.7799605528882043.\n",
      "[I 2024-11-07 17:51:38,594] Trial 4 finished with value: 0.7579774973348316 and parameters: {'slope': 14, 'limit': 1785, 'samples': 993, 'sigma': 14.897624633946533, 'subwidth': 13, 'subweight': 20, 'mask_size': 4, 'iterations': 6, 'min_size': 134}. Best is trial 2 with value: 0.7799605528882043.\n",
      "[I 2024-11-07 17:51:49,454] Trial 5 finished with value: 0.7726752135408891 and parameters: {'slope': 5, 'limit': 1658, 'samples': 169, 'sigma': 9.978059387074383, 'subwidth': 20, 'subweight': 19, 'mask_size': 2, 'iterations': 10, 'min_size': 123}. Best is trial 2 with value: 0.7799605528882043.\n",
      "[I 2024-11-07 17:52:29,343] Trial 6 finished with value: 0.7620499008583544 and parameters: {'slope': 17, 'limit': 876, 'samples': 678, 'sigma': 13.746153063132914, 'subwidth': 22, 'subweight': 10, 'mask_size': 2, 'iterations': 4, 'min_size': 138}. Best is trial 2 with value: 0.7799605528882043.\n",
      "[I 2024-11-07 17:52:54,993] Trial 7 finished with value: 0.7792379451878977 and parameters: {'slope': 7, 'limit': 629, 'samples': 450, 'sigma': 9.47270495897704, 'subwidth': 14, 'subweight': 10, 'mask_size': 4, 'iterations': 4, 'min_size': 217}. Best is trial 2 with value: 0.7799605528882043.\n",
      "[I 2024-11-07 17:53:14,961] Trial 8 finished with value: 0.782296995366405 and parameters: {'slope': 9, 'limit': 1779, 'samples': 380, 'sigma': 4.003191963163605, 'subwidth': 23, 'subweight': 27, 'mask_size': 3, 'iterations': 5, 'min_size': 88}. Best is trial 8 with value: 0.782296995366405.\n",
      "[I 2024-11-07 17:53:45,953] Trial 9 finished with value: 0.7838803804315084 and parameters: {'slope': 7, 'limit': 1259, 'samples': 584, 'sigma': 1.1596276552490346, 'subwidth': 19, 'subweight': 13, 'mask_size': 3, 'iterations': 5, 'min_size': 261}. Best is trial 9 with value: 0.7838803804315084.\n",
      "[I 2024-11-07 17:53:54,503] Trial 10 finished with value: 0.7817299103927162 and parameters: {'slope': 10, 'limit': 1843, 'samples': 136, 'sigma': 1.9623344033437622, 'subwidth': 13, 'subweight': 29, 'mask_size': 2, 'iterations': 10, 'min_size': 125}. Best is trial 9 with value: 0.7838803804315084.\n",
      "[I 2024-11-07 17:54:34,363] Trial 11 finished with value: 0.7816025454650227 and parameters: {'slope': 12, 'limit': 958, 'samples': 723, 'sigma': 1.7291918556423445, 'subwidth': 30, 'subweight': 24, 'mask_size': 3, 'iterations': 8, 'min_size': 295}. Best is trial 9 with value: 0.7838803804315084.\n",
      "[I 2024-11-07 17:54:53,755] Trial 12 finished with value: 0.7819597566118441 and parameters: {'slope': 8, 'limit': 1555, 'samples': 373, 'sigma': 3.5809691844817757, 'subwidth': 25, 'subweight': 25, 'mask_size': 3, 'iterations': 5, 'min_size': 61}. Best is trial 9 with value: 0.7838803804315084.\n",
      "[I 2024-11-07 17:55:12,601] Trial 13 finished with value: 0.7718095249320939 and parameters: {'slope': 9, 'limit': 1065, 'samples': 330, 'sigma': 5.343574313132626, 'subwidth': 25, 'subweight': 28, 'mask_size': 3, 'iterations': 6, 'min_size': 51}. Best is trial 9 with value: 0.7838803804315084.\n",
      "[I 2024-11-07 17:55:47,670] Trial 14 finished with value: 0.7799333773380795 and parameters: {'slope': 5, 'limit': 1497, 'samples': 686, 'sigma': 4.17226225651318, 'subwidth': 19, 'subweight': 14, 'mask_size': 3, 'iterations': 1, 'min_size': 253}. Best is trial 9 with value: 0.7838803804315084.\n",
      "[I 2024-11-07 17:56:23,397] Trial 15 finished with value: 0.7640193097017369 and parameters: {'slope': 12, 'limit': 516, 'samples': 612, 'sigma': 1.0617994815793876, 'subwidth': 24, 'subweight': 24, 'mask_size': 3, 'iterations': 8, 'min_size': 166}. Best is trial 9 with value: 0.7838803804315084.\n",
      "[I 2024-11-07 17:57:10,444] Trial 16 finished with value: 0.7812116104427453 and parameters: {'slope': 7, 'limit': 1972, 'samples': 865, 'sigma': 3.4573064093757653, 'subwidth': 10, 'subweight': 22, 'mask_size': 4, 'iterations': 4, 'min_size': 89}. Best is trial 9 with value: 0.7838803804315084.\n",
      "[I 2024-11-07 17:57:29,036] Trial 17 finished with value: 0.7692324314979687 and parameters: {'slope': 10, 'limit': 1156, 'samples': 321, 'sigma': 6.132636238999877, 'subwidth': 29, 'subweight': 14, 'mask_size': 2, 'iterations': 5, 'min_size': 251}. Best is trial 9 with value: 0.7838803804315084.\n",
      "[I 2024-11-07 17:58:00,623] Trial 18 finished with value: 0.7697337058020782 and parameters: {'slope': 14, 'limit': 1411, 'samples': 538, 'sigma': 2.5738226608011834, 'subwidth': 18, 'subweight': 27, 'mask_size': 3, 'iterations': 7, 'min_size': 91}. Best is trial 9 with value: 0.7838803804315084.\n",
      "[I 2024-11-07 17:58:47,465] Trial 19 finished with value: 0.7747572535799695 and parameters: {'slope': 6, 'limit': 781, 'samples': 803, 'sigma': 4.889374218821363, 'subwidth': 22, 'subweight': 17, 'mask_size': 4, 'iterations': 3, 'min_size': 165}. Best is trial 9 with value: 0.7838803804315084.\n",
      "[I 2024-11-07 17:59:11,107] Trial 20 finished with value: 0.770362345033881 and parameters: {'slope': 10, 'limit': 1638, 'samples': 403, 'sigma': 11.170838381671512, 'subwidth': 27, 'subweight': 30, 'mask_size': 2, 'iterations': 1, 'min_size': 287}. Best is trial 9 with value: 0.7838803804315084.\n",
      "[I 2024-11-07 17:59:23,431] Trial 21 finished with value: 0.7778821144280562 and parameters: {'slope': 8, 'limit': 1157, 'samples': 244, 'sigma': 2.997559811052564, 'subwidth': 22, 'subweight': 12, 'mask_size': 3, 'iterations': 7, 'min_size': 229}. Best is trial 9 with value: 0.7838803804315084.\n",
      "[I 2024-11-07 17:59:41,100] Trial 22 finished with value: 0.7787333967211225 and parameters: {'slope': 8, 'limit': 1538, 'samples': 364, 'sigma': 3.7932367880373667, 'subwidth': 25, 'subweight': 26, 'mask_size': 3, 'iterations': 5, 'min_size': 57}. Best is trial 9 with value: 0.7838803804315084.\n",
      "[I 2024-11-07 18:00:13,248] Trial 23 finished with value: 0.7759434827137308 and parameters: {'slope': 8, 'limit': 1686, 'samples': 577, 'sigma': 6.2447335649836875, 'subwidth': 27, 'subweight': 23, 'mask_size': 3, 'iterations': 5, 'min_size': 96}. Best is trial 9 with value: 0.7838803804315084.\n",
      "[I 2024-11-07 18:00:28,017] Trial 24 finished with value: 0.7816536224026067 and parameters: {'slope': 6, 'limit': 1521, 'samples': 259, 'sigma': 1.2732966652851379, 'subwidth': 23, 'subweight': 26, 'mask_size': 3, 'iterations': 3, 'min_size': 75}. Best is trial 9 with value: 0.7838803804315084.\n",
      "[I 2024-11-07 18:00:54,091] Trial 25 finished with value: 0.7686686206869455 and parameters: {'slope': 11, 'limit': 1208, 'samples': 461, 'sigma': 4.410521884884295, 'subwidth': 17, 'subweight': 21, 'mask_size': 4, 'iterations': 6, 'min_size': 110}. Best is trial 9 with value: 0.7838803804315084.\n",
      "[I 2024-11-07 18:01:18,309] Trial 26 finished with value: 0.7679702417903645 and parameters: {'slope': 14, 'limit': 1437, 'samples': 419, 'sigma': 2.6359476694024893, 'subwidth': 20, 'subweight': 25, 'mask_size': 3, 'iterations': 4, 'min_size': 71}. Best is trial 9 with value: 0.7838803804315084.\n",
      "[I 2024-11-07 18:01:33,645] Trial 27 finished with value: 0.7796495074349686 and parameters: {'slope': 7, 'limit': 1995, 'samples': 272, 'sigma': 5.405114550627158, 'subwidth': 26, 'subweight': 18, 'mask_size': 2, 'iterations': 5, 'min_size': 147}. Best is trial 9 with value: 0.7838803804315084.\n",
      "[I 2024-11-07 18:02:08,501] Trial 28 finished with value: 0.7796148013107128 and parameters: {'slope': 9, 'limit': 1755, 'samples': 619, 'sigma': 7.533149016899914, 'subwidth': 28, 'subweight': 28, 'mask_size': 3, 'iterations': 8, 'min_size': 183}. Best is trial 9 with value: 0.7838803804315084.\n",
      "[I 2024-11-07 18:02:38,415] Trial 29 finished with value: 0.7836269602411879 and parameters: {'slope': 9, 'limit': 1596, 'samples': 534, 'sigma': 2.466484243626754, 'subwidth': 21, 'subweight': 30, 'mask_size': 4, 'iterations': 6, 'min_size': 107}. Best is trial 9 with value: 0.7838803804315084.\n",
      "[I 2024-11-07 18:03:08,474] Trial 30 finished with value: 0.7760200981201067 and parameters: {'slope': 11, 'limit': 1331, 'samples': 520, 'sigma': 2.4406418189966175, 'subwidth': 16, 'subweight': 30, 'mask_size': 4, 'iterations': 7, 'min_size': 154}. Best is trial 9 with value: 0.7838803804315084.\n",
      "[I 2024-11-07 18:03:49,624] Trial 31 finished with value: 0.7713707871348982 and parameters: {'slope': 13, 'limit': 1262, 'samples': 755, 'sigma': 1.0543280107911643, 'subwidth': 18, 'subweight': 15, 'mask_size': 5, 'iterations': 9, 'min_size': 105}. Best is trial 9 with value: 0.7838803804315084.\n",
      "[I 2024-11-07 18:04:15,939] Trial 32 finished with value: 0.7826090230684405 and parameters: {'slope': 9, 'limit': 1607, 'samples': 485, 'sigma': 3.568839635234437, 'subwidth': 21, 'subweight': 28, 'mask_size': 5, 'iterations': 6, 'min_size': 73}. Best is trial 9 with value: 0.7838803804315084.\n",
      "[I 2024-11-07 18:04:46,110] Trial 33 finished with value: 0.7838771062688428 and parameters: {'slope': 9, 'limit': 1857, 'samples': 490, 'sigma': 2.1450142941118546, 'subwidth': 21, 'subweight': 29, 'mask_size': 5, 'iterations': 6, 'min_size': 71}. Best is trial 9 with value: 0.7838803804315084.\n",
      "[I 2024-11-07 18:05:19,107] Trial 34 finished with value: 0.767964675713833 and parameters: {'slope': 20, 'limit': 1859, 'samples': 574, 'sigma': 1.9928983022501905, 'subwidth': 21, 'subweight': 30, 'mask_size': 5, 'iterations': 6, 'min_size': 74}. Best is trial 9 with value: 0.7838803804315084.\n",
      "[I 2024-11-07 18:05:43,598] Trial 35 finished with value: 0.7851697456892375 and parameters: {'slope': 6, 'limit': 1614, 'samples': 482, 'sigma': 3.057158488555641, 'subwidth': 16, 'subweight': 28, 'mask_size': 5, 'iterations': 6, 'min_size': 112}. Best is trial 35 with value: 0.7851697456892375.\n",
      "[I 2024-11-07 18:06:18,848] Trial 36 finished with value: 0.7832677845967673 and parameters: {'slope': 6, 'limit': 1716, 'samples': 645, 'sigma': 2.969657305553683, 'subwidth': 16, 'subweight': 29, 'mask_size': 5, 'iterations': 7, 'min_size': 193}. Best is trial 35 with value: 0.7851697456892375.\n",
      "[I 2024-11-07 18:06:45,370] Trial 37 finished with value: 0.7842945620087118 and parameters: {'slope': 5, 'limit': 1386, 'samples': 506, 'sigma': 1.8906513517321555, 'subwidth': 19, 'subweight': 12, 'mask_size': 5, 'iterations': 7, 'min_size': 118}. Best is trial 35 with value: 0.7851697456892375.\n",
      "[I 2024-11-07 18:07:09,650] Trial 38 finished with value: 0.768627693653625 and parameters: {'slope': 5, 'limit': 1405, 'samples': 489, 'sigma': 12.74394776917113, 'subwidth': 15, 'subweight': 12, 'mask_size': 5, 'iterations': 9, 'min_size': 276}. Best is trial 35 with value: 0.7851697456892375.\n",
      "[I 2024-11-07 18:07:35,883] Trial 39 finished with value: 0.7797778546114617 and parameters: {'slope': 5, 'limit': 1067, 'samples': 458, 'sigma': 6.578714506785868, 'subwidth': 19, 'subweight': 19, 'mask_size': 5, 'iterations': 8, 'min_size': 123}. Best is trial 35 with value: 0.7851697456892375.\n",
      "[I 2024-11-07 18:08:09,522] Trial 40 finished with value: 0.7770481851971177 and parameters: {'slope': 6, 'limit': 1930, 'samples': 590, 'sigma': 8.382046424451959, 'subwidth': 17, 'subweight': 12, 'mask_size': 5, 'iterations': 7, 'min_size': 211}. Best is trial 35 with value: 0.7851697456892375.\n",
      "[I 2024-11-07 18:08:43,041] Trial 41 finished with value: 0.7834753665097688 and parameters: {'slope': 7, 'limit': 1343, 'samples': 655, 'sigma': 1.9044347678155678, 'subwidth': 11, 'subweight': 11, 'mask_size': 5, 'iterations': 4, 'min_size': 131}. Best is trial 35 with value: 0.7851697456892375.\n",
      "[I 2024-11-07 18:09:09,318] Trial 42 finished with value: 0.7835369207678828 and parameters: {'slope': 6, 'limit': 1827, 'samples': 522, 'sigma': 1.8094264826590838, 'subwidth': 19, 'subweight': 16, 'mask_size': 4, 'iterations': 6, 'min_size': 109}. Best is trial 35 with value: 0.7851697456892375.\n",
      "[I 2024-11-07 18:09:36,318] Trial 43 finished with value: 0.7649930456784981 and parameters: {'slope': 16, 'limit': 1456, 'samples': 537, 'sigma': 2.372907935571532, 'subwidth': 20, 'subweight': 13, 'mask_size': 5, 'iterations': 6, 'min_size': 116}. Best is trial 35 with value: 0.7851697456892375.\n",
      "[I 2024-11-07 18:09:55,946] Trial 44 finished with value: 0.7871034661595644 and parameters: {'slope': 7, 'limit': 1623, 'samples': 423, 'sigma': 1.0056550229113084, 'subwidth': 21, 'subweight': 29, 'mask_size': 5, 'iterations': 7, 'min_size': 143}. Best is trial 44 with value: 0.7871034661595644.\n",
      "[I 2024-11-07 18:10:20,936] Trial 45 finished with value: 0.7839360411968244 and parameters: {'slope': 5, 'limit': 1908, 'samples': 435, 'sigma': 1.422679184656222, 'subwidth': 13, 'subweight': 10, 'mask_size': 5, 'iterations': 7, 'min_size': 141}. Best is trial 44 with value: 0.7871034661595644.\n",
      "[I 2024-11-07 18:10:43,530] Trial 46 finished with value: 0.7864568190331005 and parameters: {'slope': 5, 'limit': 1282, 'samples': 425, 'sigma': 1.2750985798954741, 'subwidth': 13, 'subweight': 11, 'mask_size': 5, 'iterations': 9, 'min_size': 142}. Best is trial 44 with value: 0.7871034661595644.\n",
      "[I 2024-11-07 18:11:00,198] Trial 47 finished with value: 0.7859650398007214 and parameters: {'slope': 5, 'limit': 1369, 'samples': 324, 'sigma': 1.3128781538391152, 'subwidth': 13, 'subweight': 10, 'mask_size': 5, 'iterations': 9, 'min_size': 143}. Best is trial 44 with value: 0.7871034661595644.\n",
      "[I 2024-11-07 18:11:11,468] Trial 48 finished with value: 0.780938545276431 and parameters: {'slope': 5, 'limit': 1332, 'samples': 201, 'sigma': 3.2435417316463435, 'subwidth': 12, 'subweight': 11, 'mask_size': 5, 'iterations': 9, 'min_size': 153}. Best is trial 44 with value: 0.7871034661595644.\n",
      "[I 2024-11-07 18:11:31,851] Trial 49 finished with value: 0.7857577853039863 and parameters: {'slope': 6, 'limit': 1379, 'samples': 336, 'sigma': 1.0316134728772757, 'subwidth': 14, 'subweight': 10, 'mask_size': 5, 'iterations': 9, 'min_size': 131}. Best is trial 44 with value: 0.7871034661595644.\n",
      "[I 2024-11-07 18:11:49,888] Trial 50 finished with value: 0.7849824635847629 and parameters: {'slope': 7, 'limit': 1066, 'samples': 307, 'sigma': 1.0424413225761877, 'subwidth': 14, 'subweight': 10, 'mask_size': 5, 'iterations': 10, 'min_size': 162}. Best is trial 44 with value: 0.7871034661595644.\n"
     ]
    }
   ],
   "source": [
    "study = optuna.create_study(\n",
    "    storage=\"sqlite:///optuna.db\",\n",
    "    load_if_exists=True,\n",
    "    study_name=\"cytoplasm_segmentation\",\n",
    "    direction=\"maximize\"\n",
    "    )\n",
    "study.optimize(objective, n_trials=50)"
   ]
  },
  {
   "cell_type": "code",
   "execution_count": 9,
   "metadata": {},
   "outputs": [
    {
     "name": "stdout",
     "output_type": "stream",
     "text": [
      "Best parameters: {'slope': 7, 'limit': 1623, 'samples': 423, 'sigma': 1.0056550229113084, 'subwidth': 21, 'subweight': 29, 'mask_size': 5, 'iterations': 7, 'min_size': 143}\n",
      "Best F1 score: 0.7871034661595644\n"
     ]
    }
   ],
   "source": [
    "print(\"Best parameters:\", study.best_params)\n",
    "print(\"Best F1 score:\", study.best_value)"
   ]
  }
 ],
 "metadata": {
  "kernelspec": {
   "display_name": "cellseg-1BDzHjDw-py3.10",
   "language": "python",
   "name": "python3"
  },
  "language_info": {
   "codemirror_mode": {
    "name": "ipython",
    "version": 3
   },
   "file_extension": ".py",
   "mimetype": "text/x-python",
   "name": "python",
   "nbconvert_exporter": "python",
   "pygments_lexer": "ipython3",
   "version": "3.10.12"
  }
 },
 "nbformat": 4,
 "nbformat_minor": 2
}
