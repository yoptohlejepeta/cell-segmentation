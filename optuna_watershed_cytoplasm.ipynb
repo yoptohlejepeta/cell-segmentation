{
 "cells": [
  {
   "cell_type": "code",
   "execution_count": 2,
   "metadata": {},
   "outputs": [],
   "source": [
    "import optuna\n",
    "from skimage import filters\n",
    "from scipy.ndimage import gaussian_filter\n",
    "from sklearn.metrics import f1_score\n",
    "import colorcorrect.algorithm as cca\n",
    "import mahotas as mh\n",
    "import cellseg.src.image_worker as iw\n",
    "import cellseg.src.convert_worker as cw\n",
    "import cellseg.src.shape_descriptors as sd\n",
    "import numpy as np\n",
    "\n",
    "img = mh.imread(\"cellseg/Images/all_images/2023_12_14_image_006.png\")\n",
    "\n",
    "file_path = \"cellseg/Labels/orig/cytoplasm/2023_12_14_image_006.npy\"\n",
    "\n",
    "cytoplasm_labels = np.load(file_path)"
   ]
  },
  {
   "cell_type": "code",
   "execution_count": 3,
   "metadata": {},
   "outputs": [],
   "source": [
    "def morph_cyto(\n",
    "    img: np.ndarray,\n",
    "    mask_size: int,\n",
    "    iterations: int,\n",
    "    min_size: int,\n",
    "    slope: int,\n",
    "    limit: int,\n",
    "    samples: int,\n",
    "    subwidth: int,\n",
    "    subheight: int,\n",
    "    sigma: float,\n",
    "    label: np.ndarray | None = None,\n",
    ") -> np.ndarray:\n",
    "    \"\"\"watershed\n",
    "\n",
    "    If label is provided, it will calculate the f1 score.\n",
    "\n",
    "    Args:\n",
    "        img (np.ndarray): Original image\n",
    "        mask_size (int): Mask for noise removal\n",
    "        iterations (int): Number of iterations for noise removal\n",
    "        min_size (int): Minimum size of region to keep\n",
    "        slope (int): Slope for color correction\n",
    "        limit (int): Limit for color correction\n",
    "        samples (int): Samples for color correction\n",
    "        subwidth (int): Subwidth for color correction\n",
    "        subheight (int): Subheight for color correction\n",
    "        sigma (float): Sigma for gaussian filter\n",
    "        label (np.ndarray, optional): Ground truth labels. Defaults to None.\n",
    "\n",
    "    Returns:\n",
    "        np.ndarray:\n",
    "    \"\"\"\n",
    "    img_c_corrected = cca.automatic_color_equalization(\n",
    "        img, slope=slope, limit=limit, samples=samples\n",
    "    )\n",
    "\n",
    "    img_blurred = gaussian_filter(img_c_corrected, sigma=sigma)\n",
    "\n",
    "    RGB_balanced = cca.luminance_weighted_gray_world(\n",
    "        img_blurred, subwidth=subwidth, subheight=subheight\n",
    "    )\n",
    "    r, g, b = RGB_balanced[:, :, 0], RGB_balanced[:, :, 1], RGB_balanced[:, :, 2]\n",
    "\n",
    "    thresholds = filters.threshold_multiotsu(g, classes=3)\n",
    "    regions = np.digitize(g, bins=thresholds)\n",
    "    bin_cyto_nuclei = cw.convert_labeled_to_bin(regions, background=2)\n",
    "    bin_cyto_nuclei = iw.close_holes_remove_noise(\n",
    "        bin_cyto_nuclei, mask_size=mask_size, iterations=iterations\n",
    "    )\n",
    "\n",
    "    img_labeled_cytoplasm, nr_cytoplasm = mh.label(bin_cyto_nuclei)\n",
    "    img_labeled_cytoplasm = iw.remove_small_regions(img_labeled_cytoplasm, min_size=min_size)\n",
    "    img_cytoplasm_nuclei = mh.labeled.remove_bordering(img_labeled_cytoplasm)\n",
    "\n",
    "    if label is not None:\n",
    "        f1 = f1_score(label.flatten(), img_cytoplasm_nuclei.flatten(), average=\"micro\")\n",
    "        return img_cytoplasm_nuclei, f1\n",
    "\n",
    "    return img_cytoplasm_nuclei, None"
   ]
  },
  {
   "cell_type": "code",
   "execution_count": null,
   "metadata": {},
   "outputs": [],
   "source": [
    "from pathlib import Path\n",
    "\n",
    "def objective(trial):\n",
    "\n",
    "    imgs_dir = Path(\"cellseg/Images/all_images/\")\n",
    "\n",
    "    # Hyperparameters to optimize\n",
    "    slope = trial.suggest_int(\"slope\", 5, 20)\n",
    "    limit = trial.suggest_int(\"limit\", 500, 2000)\n",
    "    samples = trial.suggest_int(\"samples\", 100, 1000)\n",
    "    sigma = trial.suggest_float(\"sigma\", 1.0, 15.0)\n",
    "    subwidth = trial.suggest_int(\"subwidth\", 10, 30)\n",
    "    subheight = trial.suggest_int(\"subheight\", 10, 30)\n",
    "    mask_size = trial.suggest_int(\"mask_size\", 2, 5)\n",
    "    iterations = trial.suggest_int(\"iterations\", 1, 10)\n",
    "    min_size = trial.suggest_int(\"min_size\", 50, 300)\n",
    "    \n",
    "    scores = []\n",
    "\n",
    "    for img_path in imgs_dir.glob(\"*.png\"):\n",
    "    _, f1 = morph_cyto(\n",
    "        img,\n",
    "        mask_size=mask_size,\n",
    "        iterations=iterations,\n",
    "        min_size=min_size,\n",
    "        slope=slope,\n",
    "        limit=limit,\n",
    "        samples=samples,\n",
    "        subwidth=subwidth,\n",
    "        subheight=subheight,\n",
    "        sigma=sigma,\n",
    "        label=cytoplasm_labels,\n",
    "    )\n",
    "\n",
    "    return f1"
   ]
  },
  {
   "cell_type": "code",
   "execution_count": 5,
   "metadata": {},
   "outputs": [
    {
     "name": "stderr",
     "output_type": "stream",
     "text": [
      "[I 2024-11-19 20:20:07,772] Using an existing study with name 'cytoplasm_segmentation' instead of creating a new one.\n",
      "[I 2024-11-19 20:20:40,410] Trial 32 finished with value: 0.7769211476856909 and parameters: {'slope': 10, 'limit': 1898, 'samples': 806, 'sigma': 7.393631669526211, 'subwidth': 17, 'subheight': 21, 'mask_size': 3, 'iterations': 8, 'min_size': 73}. Best is trial 12 with value: 0.7882117702218835.\n"
     ]
    }
   ],
   "source": [
    "study = optuna.create_study(\n",
    "    storage=\"sqlite:///optuna.db\",\n",
    "    load_if_exists=True,\n",
    "    study_name=\"cytoplasm_segmentation\",\n",
    "    direction=\"maximize\",\n",
    ")\n",
    "study.optimize(objective, n_trials=1)"
   ]
  },
  {
   "cell_type": "code",
   "execution_count": 19,
   "metadata": {},
   "outputs": [
    {
     "name": "stdout",
     "output_type": "stream",
     "text": [
      "Best parameters: {'slope': 5, 'limit': 1958, 'samples': 646, 'sigma': 1.006495976340624, 'subwidth': 10, 'subheight': 18, 'mask_size': 5, 'iterations': 9, 'min_size': 140}\n",
      "Best F1 score: 0.7882117702218835\n"
     ]
    }
   ],
   "source": [
    "print(\"Best parameters:\", study.best_params)\n",
    "print(\"Best F1 score:\", study.best_value)"
   ]
  }
 ],
 "metadata": {
  "kernelspec": {
   "display_name": ".venv",
   "language": "python",
   "name": "python3"
  },
  "language_info": {
   "codemirror_mode": {
    "name": "ipython",
    "version": 3
   },
   "file_extension": ".py",
   "mimetype": "text/x-python",
   "name": "python",
   "nbconvert_exporter": "python",
   "pygments_lexer": "ipython3",
   "version": "3.10.12"
  }
 },
 "nbformat": 4,
 "nbformat_minor": 2
}
