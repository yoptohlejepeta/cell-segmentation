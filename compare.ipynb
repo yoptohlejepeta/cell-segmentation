{
 "cells": [
  {
   "cell_type": "code",
   "execution_count": 18,
   "metadata": {},
   "outputs": [
    {
     "name": "stdout",
     "output_type": "stream",
     "text": [
      "{'slope': 5, 'limit': 1958, 'samples': 646, 'sigma': 1.006495976340624, 'subwidth': 10, 'subheight': 18, 'mask_size': 5, 'iterations': 9, 'min_size': 140}\n"
     ]
    }
   ],
   "source": [
    "from optuna import load_study\n",
    "from cellseg.src.watershed import watershed_cytoplasm\n",
    "import pathlib\n",
    "\n",
    "study = load_study(storage=\"sqlite:///optuna.db\", study_name=\"cytoplasm_segmentation\")\n",
    "params = study.best_params\n",
    "print(params)"
   ]
  },
  {
   "cell_type": "code",
   "execution_count": 21,
   "metadata": {},
   "outputs": [
    {
     "data": {
      "text/html": [
       "<pre style=\"white-space:pre;overflow-x:auto;line-height:normal;font-family:Menlo,'DejaVu Sans Mono',consolas,'Courier New',monospace\"><span style=\"color: #808000; text-decoration-color: #808000\">╭── Cytoplasm segmentation ───╮</span>\n",
       "<span style=\"color: #808000; text-decoration-color: #808000\">│</span> Segmentation started!       <span style=\"color: #808000; text-decoration-color: #808000\">│</span>\n",
       "<span style=\"color: #808000; text-decoration-color: #808000\">│</span>                             <span style=\"color: #808000; text-decoration-color: #808000\">│</span>\n",
       "<span style=\"color: #808000; text-decoration-color: #808000\">│</span> Image: 2023_12_14_image_041 <span style=\"color: #808000; text-decoration-color: #808000\">│</span>\n",
       "<span style=\"color: #808000; text-decoration-color: #808000\">│</span>                             <span style=\"color: #808000; text-decoration-color: #808000\">│</span>\n",
       "<span style=\"color: #808000; text-decoration-color: #808000\">╰─────────────────────────────╯</span>\n",
       "</pre>\n"
      ],
      "text/plain": [
       "\u001b[33m╭─\u001b[0m\u001b[33m─\u001b[0m\u001b[33m Cytoplasm segmentation \u001b[0m\u001b[33m──\u001b[0m\u001b[33m─╮\u001b[0m\n",
       "\u001b[33m│\u001b[0m Segmentation started!       \u001b[33m│\u001b[0m\n",
       "\u001b[33m│\u001b[0m                             \u001b[33m│\u001b[0m\n",
       "\u001b[33m│\u001b[0m Image: 2023_12_14_image_041 \u001b[33m│\u001b[0m\n",
       "\u001b[33m│\u001b[0m                             \u001b[33m│\u001b[0m\n",
       "\u001b[33m╰─────────────────────────────╯\u001b[0m\n"
      ]
     },
     "metadata": {},
     "output_type": "display_data"
    },
    {
     "name": "stderr",
     "output_type": "stream",
     "text": [
      "/tmp/ipykernel_653001/3876979326.py:31: FutureWarning: The behavior of DataFrame concatenation with empty or all-NA entries is deprecated. In a future version, this will no longer exclude empty or all-NA columns when determining the result dtypes. To retain the old behavior, exclude the relevant entries before the concat operation.\n",
      "  results_cytoplasm = pd.concat([results_cytoplasm, pd.DataFrame({\"image\": [img_name], \"F1\": [f1], \"time\": [t], \"method\": [\"watershed\"]})])\n"
     ]
    },
    {
     "data": {
      "text/html": [
       "<pre style=\"white-space:pre;overflow-x:auto;line-height:normal;font-family:Menlo,'DejaVu Sans Mono',consolas,'Courier New',monospace\"><span style=\"color: #808000; text-decoration-color: #808000\">╭── Cytoplasm segmentation ───╮</span>\n",
       "<span style=\"color: #808000; text-decoration-color: #808000\">│</span> Segmentation started!       <span style=\"color: #808000; text-decoration-color: #808000\">│</span>\n",
       "<span style=\"color: #808000; text-decoration-color: #808000\">│</span>                             <span style=\"color: #808000; text-decoration-color: #808000\">│</span>\n",
       "<span style=\"color: #808000; text-decoration-color: #808000\">│</span> Image: 2023_12_14_image_040 <span style=\"color: #808000; text-decoration-color: #808000\">│</span>\n",
       "<span style=\"color: #808000; text-decoration-color: #808000\">│</span>                             <span style=\"color: #808000; text-decoration-color: #808000\">│</span>\n",
       "<span style=\"color: #808000; text-decoration-color: #808000\">╰─────────────────────────────╯</span>\n",
       "</pre>\n"
      ],
      "text/plain": [
       "\u001b[33m╭─\u001b[0m\u001b[33m─\u001b[0m\u001b[33m Cytoplasm segmentation \u001b[0m\u001b[33m──\u001b[0m\u001b[33m─╮\u001b[0m\n",
       "\u001b[33m│\u001b[0m Segmentation started!       \u001b[33m│\u001b[0m\n",
       "\u001b[33m│\u001b[0m                             \u001b[33m│\u001b[0m\n",
       "\u001b[33m│\u001b[0m Image: 2023_12_14_image_040 \u001b[33m│\u001b[0m\n",
       "\u001b[33m│\u001b[0m                             \u001b[33m│\u001b[0m\n",
       "\u001b[33m╰─────────────────────────────╯\u001b[0m\n"
      ]
     },
     "metadata": {},
     "output_type": "display_data"
    },
    {
     "data": {
      "text/html": [
       "<pre style=\"white-space:pre;overflow-x:auto;line-height:normal;font-family:Menlo,'DejaVu Sans Mono',consolas,'Courier New',monospace\"><span style=\"color: #808000; text-decoration-color: #808000\">╭── Cytoplasm segmentation ───╮</span>\n",
       "<span style=\"color: #808000; text-decoration-color: #808000\">│</span> Segmentation started!       <span style=\"color: #808000; text-decoration-color: #808000\">│</span>\n",
       "<span style=\"color: #808000; text-decoration-color: #808000\">│</span>                             <span style=\"color: #808000; text-decoration-color: #808000\">│</span>\n",
       "<span style=\"color: #808000; text-decoration-color: #808000\">│</span> Image: 2023_12_14_image_043 <span style=\"color: #808000; text-decoration-color: #808000\">│</span>\n",
       "<span style=\"color: #808000; text-decoration-color: #808000\">│</span>                             <span style=\"color: #808000; text-decoration-color: #808000\">│</span>\n",
       "<span style=\"color: #808000; text-decoration-color: #808000\">╰─────────────────────────────╯</span>\n",
       "</pre>\n"
      ],
      "text/plain": [
       "\u001b[33m╭─\u001b[0m\u001b[33m─\u001b[0m\u001b[33m Cytoplasm segmentation \u001b[0m\u001b[33m──\u001b[0m\u001b[33m─╮\u001b[0m\n",
       "\u001b[33m│\u001b[0m Segmentation started!       \u001b[33m│\u001b[0m\n",
       "\u001b[33m│\u001b[0m                             \u001b[33m│\u001b[0m\n",
       "\u001b[33m│\u001b[0m Image: 2023_12_14_image_043 \u001b[33m│\u001b[0m\n",
       "\u001b[33m│\u001b[0m                             \u001b[33m│\u001b[0m\n",
       "\u001b[33m╰─────────────────────────────╯\u001b[0m\n"
      ]
     },
     "metadata": {},
     "output_type": "display_data"
    },
    {
     "data": {
      "text/html": [
       "<pre style=\"white-space:pre;overflow-x:auto;line-height:normal;font-family:Menlo,'DejaVu Sans Mono',consolas,'Courier New',monospace\"><span style=\"color: #808000; text-decoration-color: #808000\">╭── Cytoplasm segmentation ───╮</span>\n",
       "<span style=\"color: #808000; text-decoration-color: #808000\">│</span> Segmentation started!       <span style=\"color: #808000; text-decoration-color: #808000\">│</span>\n",
       "<span style=\"color: #808000; text-decoration-color: #808000\">│</span>                             <span style=\"color: #808000; text-decoration-color: #808000\">│</span>\n",
       "<span style=\"color: #808000; text-decoration-color: #808000\">│</span> Image: 2023_12_14_image_005 <span style=\"color: #808000; text-decoration-color: #808000\">│</span>\n",
       "<span style=\"color: #808000; text-decoration-color: #808000\">│</span>                             <span style=\"color: #808000; text-decoration-color: #808000\">│</span>\n",
       "<span style=\"color: #808000; text-decoration-color: #808000\">╰─────────────────────────────╯</span>\n",
       "</pre>\n"
      ],
      "text/plain": [
       "\u001b[33m╭─\u001b[0m\u001b[33m─\u001b[0m\u001b[33m Cytoplasm segmentation \u001b[0m\u001b[33m──\u001b[0m\u001b[33m─╮\u001b[0m\n",
       "\u001b[33m│\u001b[0m Segmentation started!       \u001b[33m│\u001b[0m\n",
       "\u001b[33m│\u001b[0m                             \u001b[33m│\u001b[0m\n",
       "\u001b[33m│\u001b[0m Image: 2023_12_14_image_005 \u001b[33m│\u001b[0m\n",
       "\u001b[33m│\u001b[0m                             \u001b[33m│\u001b[0m\n",
       "\u001b[33m╰─────────────────────────────╯\u001b[0m\n"
      ]
     },
     "metadata": {},
     "output_type": "display_data"
    },
    {
     "data": {
      "text/html": [
       "<pre style=\"white-space:pre;overflow-x:auto;line-height:normal;font-family:Menlo,'DejaVu Sans Mono',consolas,'Courier New',monospace\"><span style=\"color: #808000; text-decoration-color: #808000\">╭── Cytoplasm segmentation ───╮</span>\n",
       "<span style=\"color: #808000; text-decoration-color: #808000\">│</span> Segmentation started!       <span style=\"color: #808000; text-decoration-color: #808000\">│</span>\n",
       "<span style=\"color: #808000; text-decoration-color: #808000\">│</span>                             <span style=\"color: #808000; text-decoration-color: #808000\">│</span>\n",
       "<span style=\"color: #808000; text-decoration-color: #808000\">│</span> Image: 2023_12_14_image_029 <span style=\"color: #808000; text-decoration-color: #808000\">│</span>\n",
       "<span style=\"color: #808000; text-decoration-color: #808000\">│</span>                             <span style=\"color: #808000; text-decoration-color: #808000\">│</span>\n",
       "<span style=\"color: #808000; text-decoration-color: #808000\">╰─────────────────────────────╯</span>\n",
       "</pre>\n"
      ],
      "text/plain": [
       "\u001b[33m╭─\u001b[0m\u001b[33m─\u001b[0m\u001b[33m Cytoplasm segmentation \u001b[0m\u001b[33m──\u001b[0m\u001b[33m─╮\u001b[0m\n",
       "\u001b[33m│\u001b[0m Segmentation started!       \u001b[33m│\u001b[0m\n",
       "\u001b[33m│\u001b[0m                             \u001b[33m│\u001b[0m\n",
       "\u001b[33m│\u001b[0m Image: 2023_12_14_image_029 \u001b[33m│\u001b[0m\n",
       "\u001b[33m│\u001b[0m                             \u001b[33m│\u001b[0m\n",
       "\u001b[33m╰─────────────────────────────╯\u001b[0m\n"
      ]
     },
     "metadata": {},
     "output_type": "display_data"
    },
    {
     "data": {
      "text/html": [
       "<pre style=\"white-space:pre;overflow-x:auto;line-height:normal;font-family:Menlo,'DejaVu Sans Mono',consolas,'Courier New',monospace\"><span style=\"color: #808000; text-decoration-color: #808000\">╭── Cytoplasm segmentation ───╮</span>\n",
       "<span style=\"color: #808000; text-decoration-color: #808000\">│</span> Segmentation started!       <span style=\"color: #808000; text-decoration-color: #808000\">│</span>\n",
       "<span style=\"color: #808000; text-decoration-color: #808000\">│</span>                             <span style=\"color: #808000; text-decoration-color: #808000\">│</span>\n",
       "<span style=\"color: #808000; text-decoration-color: #808000\">│</span> Image: 2023_12_14_image_027 <span style=\"color: #808000; text-decoration-color: #808000\">│</span>\n",
       "<span style=\"color: #808000; text-decoration-color: #808000\">│</span>                             <span style=\"color: #808000; text-decoration-color: #808000\">│</span>\n",
       "<span style=\"color: #808000; text-decoration-color: #808000\">╰─────────────────────────────╯</span>\n",
       "</pre>\n"
      ],
      "text/plain": [
       "\u001b[33m╭─\u001b[0m\u001b[33m─\u001b[0m\u001b[33m Cytoplasm segmentation \u001b[0m\u001b[33m──\u001b[0m\u001b[33m─╮\u001b[0m\n",
       "\u001b[33m│\u001b[0m Segmentation started!       \u001b[33m│\u001b[0m\n",
       "\u001b[33m│\u001b[0m                             \u001b[33m│\u001b[0m\n",
       "\u001b[33m│\u001b[0m Image: 2023_12_14_image_027 \u001b[33m│\u001b[0m\n",
       "\u001b[33m│\u001b[0m                             \u001b[33m│\u001b[0m\n",
       "\u001b[33m╰─────────────────────────────╯\u001b[0m\n"
      ]
     },
     "metadata": {},
     "output_type": "display_data"
    },
    {
     "data": {
      "text/html": [
       "<pre style=\"white-space:pre;overflow-x:auto;line-height:normal;font-family:Menlo,'DejaVu Sans Mono',consolas,'Courier New',monospace\"><span style=\"color: #808000; text-decoration-color: #808000\">╭── Cytoplasm segmentation ───╮</span>\n",
       "<span style=\"color: #808000; text-decoration-color: #808000\">│</span> Segmentation started!       <span style=\"color: #808000; text-decoration-color: #808000\">│</span>\n",
       "<span style=\"color: #808000; text-decoration-color: #808000\">│</span>                             <span style=\"color: #808000; text-decoration-color: #808000\">│</span>\n",
       "<span style=\"color: #808000; text-decoration-color: #808000\">│</span> Image: 2023_12_14_image_039 <span style=\"color: #808000; text-decoration-color: #808000\">│</span>\n",
       "<span style=\"color: #808000; text-decoration-color: #808000\">│</span>                             <span style=\"color: #808000; text-decoration-color: #808000\">│</span>\n",
       "<span style=\"color: #808000; text-decoration-color: #808000\">╰─────────────────────────────╯</span>\n",
       "</pre>\n"
      ],
      "text/plain": [
       "\u001b[33m╭─\u001b[0m\u001b[33m─\u001b[0m\u001b[33m Cytoplasm segmentation \u001b[0m\u001b[33m──\u001b[0m\u001b[33m─╮\u001b[0m\n",
       "\u001b[33m│\u001b[0m Segmentation started!       \u001b[33m│\u001b[0m\n",
       "\u001b[33m│\u001b[0m                             \u001b[33m│\u001b[0m\n",
       "\u001b[33m│\u001b[0m Image: 2023_12_14_image_039 \u001b[33m│\u001b[0m\n",
       "\u001b[33m│\u001b[0m                             \u001b[33m│\u001b[0m\n",
       "\u001b[33m╰─────────────────────────────╯\u001b[0m\n"
      ]
     },
     "metadata": {},
     "output_type": "display_data"
    },
    {
     "data": {
      "text/html": [
       "<pre style=\"white-space:pre;overflow-x:auto;line-height:normal;font-family:Menlo,'DejaVu Sans Mono',consolas,'Courier New',monospace\"><span style=\"color: #808000; text-decoration-color: #808000\">╭── Cytoplasm segmentation ───╮</span>\n",
       "<span style=\"color: #808000; text-decoration-color: #808000\">│</span> Segmentation started!       <span style=\"color: #808000; text-decoration-color: #808000\">│</span>\n",
       "<span style=\"color: #808000; text-decoration-color: #808000\">│</span>                             <span style=\"color: #808000; text-decoration-color: #808000\">│</span>\n",
       "<span style=\"color: #808000; text-decoration-color: #808000\">│</span> Image: 2023_12_14_image_037 <span style=\"color: #808000; text-decoration-color: #808000\">│</span>\n",
       "<span style=\"color: #808000; text-decoration-color: #808000\">│</span>                             <span style=\"color: #808000; text-decoration-color: #808000\">│</span>\n",
       "<span style=\"color: #808000; text-decoration-color: #808000\">╰─────────────────────────────╯</span>\n",
       "</pre>\n"
      ],
      "text/plain": [
       "\u001b[33m╭─\u001b[0m\u001b[33m─\u001b[0m\u001b[33m Cytoplasm segmentation \u001b[0m\u001b[33m──\u001b[0m\u001b[33m─╮\u001b[0m\n",
       "\u001b[33m│\u001b[0m Segmentation started!       \u001b[33m│\u001b[0m\n",
       "\u001b[33m│\u001b[0m                             \u001b[33m│\u001b[0m\n",
       "\u001b[33m│\u001b[0m Image: 2023_12_14_image_037 \u001b[33m│\u001b[0m\n",
       "\u001b[33m│\u001b[0m                             \u001b[33m│\u001b[0m\n",
       "\u001b[33m╰─────────────────────────────╯\u001b[0m\n"
      ]
     },
     "metadata": {},
     "output_type": "display_data"
    },
    {
     "data": {
      "text/html": [
       "<pre style=\"white-space:pre;overflow-x:auto;line-height:normal;font-family:Menlo,'DejaVu Sans Mono',consolas,'Courier New',monospace\"><span style=\"color: #808000; text-decoration-color: #808000\">╭── Cytoplasm segmentation ───╮</span>\n",
       "<span style=\"color: #808000; text-decoration-color: #808000\">│</span> Segmentation started!       <span style=\"color: #808000; text-decoration-color: #808000\">│</span>\n",
       "<span style=\"color: #808000; text-decoration-color: #808000\">│</span>                             <span style=\"color: #808000; text-decoration-color: #808000\">│</span>\n",
       "<span style=\"color: #808000; text-decoration-color: #808000\">│</span> Image: 2023_12_14_image_045 <span style=\"color: #808000; text-decoration-color: #808000\">│</span>\n",
       "<span style=\"color: #808000; text-decoration-color: #808000\">│</span>                             <span style=\"color: #808000; text-decoration-color: #808000\">│</span>\n",
       "<span style=\"color: #808000; text-decoration-color: #808000\">╰─────────────────────────────╯</span>\n",
       "</pre>\n"
      ],
      "text/plain": [
       "\u001b[33m╭─\u001b[0m\u001b[33m─\u001b[0m\u001b[33m Cytoplasm segmentation \u001b[0m\u001b[33m──\u001b[0m\u001b[33m─╮\u001b[0m\n",
       "\u001b[33m│\u001b[0m Segmentation started!       \u001b[33m│\u001b[0m\n",
       "\u001b[33m│\u001b[0m                             \u001b[33m│\u001b[0m\n",
       "\u001b[33m│\u001b[0m Image: 2023_12_14_image_045 \u001b[33m│\u001b[0m\n",
       "\u001b[33m│\u001b[0m                             \u001b[33m│\u001b[0m\n",
       "\u001b[33m╰─────────────────────────────╯\u001b[0m\n"
      ]
     },
     "metadata": {},
     "output_type": "display_data"
    },
    {
     "data": {
      "text/html": [
       "<pre style=\"white-space:pre;overflow-x:auto;line-height:normal;font-family:Menlo,'DejaVu Sans Mono',consolas,'Courier New',monospace\"><span style=\"color: #808000; text-decoration-color: #808000\">╭── Cytoplasm segmentation ───╮</span>\n",
       "<span style=\"color: #808000; text-decoration-color: #808000\">│</span> Segmentation started!       <span style=\"color: #808000; text-decoration-color: #808000\">│</span>\n",
       "<span style=\"color: #808000; text-decoration-color: #808000\">│</span>                             <span style=\"color: #808000; text-decoration-color: #808000\">│</span>\n",
       "<span style=\"color: #808000; text-decoration-color: #808000\">│</span> Image: 2023_12_14_image_000 <span style=\"color: #808000; text-decoration-color: #808000\">│</span>\n",
       "<span style=\"color: #808000; text-decoration-color: #808000\">│</span>                             <span style=\"color: #808000; text-decoration-color: #808000\">│</span>\n",
       "<span style=\"color: #808000; text-decoration-color: #808000\">╰─────────────────────────────╯</span>\n",
       "</pre>\n"
      ],
      "text/plain": [
       "\u001b[33m╭─\u001b[0m\u001b[33m─\u001b[0m\u001b[33m Cytoplasm segmentation \u001b[0m\u001b[33m──\u001b[0m\u001b[33m─╮\u001b[0m\n",
       "\u001b[33m│\u001b[0m Segmentation started!       \u001b[33m│\u001b[0m\n",
       "\u001b[33m│\u001b[0m                             \u001b[33m│\u001b[0m\n",
       "\u001b[33m│\u001b[0m Image: 2023_12_14_image_000 \u001b[33m│\u001b[0m\n",
       "\u001b[33m│\u001b[0m                             \u001b[33m│\u001b[0m\n",
       "\u001b[33m╰─────────────────────────────╯\u001b[0m\n"
      ]
     },
     "metadata": {},
     "output_type": "display_data"
    },
    {
     "data": {
      "text/html": [
       "<pre style=\"white-space:pre;overflow-x:auto;line-height:normal;font-family:Menlo,'DejaVu Sans Mono',consolas,'Courier New',monospace\"><span style=\"color: #808000; text-decoration-color: #808000\">╭── Cytoplasm segmentation ───╮</span>\n",
       "<span style=\"color: #808000; text-decoration-color: #808000\">│</span> Segmentation started!       <span style=\"color: #808000; text-decoration-color: #808000\">│</span>\n",
       "<span style=\"color: #808000; text-decoration-color: #808000\">│</span>                             <span style=\"color: #808000; text-decoration-color: #808000\">│</span>\n",
       "<span style=\"color: #808000; text-decoration-color: #808000\">│</span> Image: 2023_12_14_image_015 <span style=\"color: #808000; text-decoration-color: #808000\">│</span>\n",
       "<span style=\"color: #808000; text-decoration-color: #808000\">│</span>                             <span style=\"color: #808000; text-decoration-color: #808000\">│</span>\n",
       "<span style=\"color: #808000; text-decoration-color: #808000\">╰─────────────────────────────╯</span>\n",
       "</pre>\n"
      ],
      "text/plain": [
       "\u001b[33m╭─\u001b[0m\u001b[33m─\u001b[0m\u001b[33m Cytoplasm segmentation \u001b[0m\u001b[33m──\u001b[0m\u001b[33m─╮\u001b[0m\n",
       "\u001b[33m│\u001b[0m Segmentation started!       \u001b[33m│\u001b[0m\n",
       "\u001b[33m│\u001b[0m                             \u001b[33m│\u001b[0m\n",
       "\u001b[33m│\u001b[0m Image: 2023_12_14_image_015 \u001b[33m│\u001b[0m\n",
       "\u001b[33m│\u001b[0m                             \u001b[33m│\u001b[0m\n",
       "\u001b[33m╰─────────────────────────────╯\u001b[0m\n"
      ]
     },
     "metadata": {},
     "output_type": "display_data"
    },
    {
     "data": {
      "text/html": [
       "<pre style=\"white-space:pre;overflow-x:auto;line-height:normal;font-family:Menlo,'DejaVu Sans Mono',consolas,'Courier New',monospace\"><span style=\"color: #808000; text-decoration-color: #808000\">╭── Cytoplasm segmentation ───╮</span>\n",
       "<span style=\"color: #808000; text-decoration-color: #808000\">│</span> Segmentation started!       <span style=\"color: #808000; text-decoration-color: #808000\">│</span>\n",
       "<span style=\"color: #808000; text-decoration-color: #808000\">│</span>                             <span style=\"color: #808000; text-decoration-color: #808000\">│</span>\n",
       "<span style=\"color: #808000; text-decoration-color: #808000\">│</span> Image: 2023_12_14_image_017 <span style=\"color: #808000; text-decoration-color: #808000\">│</span>\n",
       "<span style=\"color: #808000; text-decoration-color: #808000\">│</span>                             <span style=\"color: #808000; text-decoration-color: #808000\">│</span>\n",
       "<span style=\"color: #808000; text-decoration-color: #808000\">╰─────────────────────────────╯</span>\n",
       "</pre>\n"
      ],
      "text/plain": [
       "\u001b[33m╭─\u001b[0m\u001b[33m─\u001b[0m\u001b[33m Cytoplasm segmentation \u001b[0m\u001b[33m──\u001b[0m\u001b[33m─╮\u001b[0m\n",
       "\u001b[33m│\u001b[0m Segmentation started!       \u001b[33m│\u001b[0m\n",
       "\u001b[33m│\u001b[0m                             \u001b[33m│\u001b[0m\n",
       "\u001b[33m│\u001b[0m Image: 2023_12_14_image_017 \u001b[33m│\u001b[0m\n",
       "\u001b[33m│\u001b[0m                             \u001b[33m│\u001b[0m\n",
       "\u001b[33m╰─────────────────────────────╯\u001b[0m\n"
      ]
     },
     "metadata": {},
     "output_type": "display_data"
    },
    {
     "data": {
      "text/html": [
       "<pre style=\"white-space:pre;overflow-x:auto;line-height:normal;font-family:Menlo,'DejaVu Sans Mono',consolas,'Courier New',monospace\"><span style=\"color: #808000; text-decoration-color: #808000\">╭── Cytoplasm segmentation ───╮</span>\n",
       "<span style=\"color: #808000; text-decoration-color: #808000\">│</span> Segmentation started!       <span style=\"color: #808000; text-decoration-color: #808000\">│</span>\n",
       "<span style=\"color: #808000; text-decoration-color: #808000\">│</span>                             <span style=\"color: #808000; text-decoration-color: #808000\">│</span>\n",
       "<span style=\"color: #808000; text-decoration-color: #808000\">│</span> Image: 2023_12_14_image_003 <span style=\"color: #808000; text-decoration-color: #808000\">│</span>\n",
       "<span style=\"color: #808000; text-decoration-color: #808000\">│</span>                             <span style=\"color: #808000; text-decoration-color: #808000\">│</span>\n",
       "<span style=\"color: #808000; text-decoration-color: #808000\">╰─────────────────────────────╯</span>\n",
       "</pre>\n"
      ],
      "text/plain": [
       "\u001b[33m╭─\u001b[0m\u001b[33m─\u001b[0m\u001b[33m Cytoplasm segmentation \u001b[0m\u001b[33m──\u001b[0m\u001b[33m─╮\u001b[0m\n",
       "\u001b[33m│\u001b[0m Segmentation started!       \u001b[33m│\u001b[0m\n",
       "\u001b[33m│\u001b[0m                             \u001b[33m│\u001b[0m\n",
       "\u001b[33m│\u001b[0m Image: 2023_12_14_image_003 \u001b[33m│\u001b[0m\n",
       "\u001b[33m│\u001b[0m                             \u001b[33m│\u001b[0m\n",
       "\u001b[33m╰─────────────────────────────╯\u001b[0m\n"
      ]
     },
     "metadata": {},
     "output_type": "display_data"
    },
    {
     "data": {
      "text/html": [
       "<pre style=\"white-space:pre;overflow-x:auto;line-height:normal;font-family:Menlo,'DejaVu Sans Mono',consolas,'Courier New',monospace\"><span style=\"color: #808000; text-decoration-color: #808000\">╭── Cytoplasm segmentation ───╮</span>\n",
       "<span style=\"color: #808000; text-decoration-color: #808000\">│</span> Segmentation started!       <span style=\"color: #808000; text-decoration-color: #808000\">│</span>\n",
       "<span style=\"color: #808000; text-decoration-color: #808000\">│</span>                             <span style=\"color: #808000; text-decoration-color: #808000\">│</span>\n",
       "<span style=\"color: #808000; text-decoration-color: #808000\">│</span> Image: 2023_12_14_image_022 <span style=\"color: #808000; text-decoration-color: #808000\">│</span>\n",
       "<span style=\"color: #808000; text-decoration-color: #808000\">│</span>                             <span style=\"color: #808000; text-decoration-color: #808000\">│</span>\n",
       "<span style=\"color: #808000; text-decoration-color: #808000\">╰─────────────────────────────╯</span>\n",
       "</pre>\n"
      ],
      "text/plain": [
       "\u001b[33m╭─\u001b[0m\u001b[33m─\u001b[0m\u001b[33m Cytoplasm segmentation \u001b[0m\u001b[33m──\u001b[0m\u001b[33m─╮\u001b[0m\n",
       "\u001b[33m│\u001b[0m Segmentation started!       \u001b[33m│\u001b[0m\n",
       "\u001b[33m│\u001b[0m                             \u001b[33m│\u001b[0m\n",
       "\u001b[33m│\u001b[0m Image: 2023_12_14_image_022 \u001b[33m│\u001b[0m\n",
       "\u001b[33m│\u001b[0m                             \u001b[33m│\u001b[0m\n",
       "\u001b[33m╰─────────────────────────────╯\u001b[0m\n"
      ]
     },
     "metadata": {},
     "output_type": "display_data"
    },
    {
     "data": {
      "text/html": [
       "<pre style=\"white-space:pre;overflow-x:auto;line-height:normal;font-family:Menlo,'DejaVu Sans Mono',consolas,'Courier New',monospace\"><span style=\"color: #808000; text-decoration-color: #808000\">╭── Cytoplasm segmentation ───╮</span>\n",
       "<span style=\"color: #808000; text-decoration-color: #808000\">│</span> Segmentation started!       <span style=\"color: #808000; text-decoration-color: #808000\">│</span>\n",
       "<span style=\"color: #808000; text-decoration-color: #808000\">│</span>                             <span style=\"color: #808000; text-decoration-color: #808000\">│</span>\n",
       "<span style=\"color: #808000; text-decoration-color: #808000\">│</span> Image: 2023_12_14_image_044 <span style=\"color: #808000; text-decoration-color: #808000\">│</span>\n",
       "<span style=\"color: #808000; text-decoration-color: #808000\">│</span>                             <span style=\"color: #808000; text-decoration-color: #808000\">│</span>\n",
       "<span style=\"color: #808000; text-decoration-color: #808000\">╰─────────────────────────────╯</span>\n",
       "</pre>\n"
      ],
      "text/plain": [
       "\u001b[33m╭─\u001b[0m\u001b[33m─\u001b[0m\u001b[33m Cytoplasm segmentation \u001b[0m\u001b[33m──\u001b[0m\u001b[33m─╮\u001b[0m\n",
       "\u001b[33m│\u001b[0m Segmentation started!       \u001b[33m│\u001b[0m\n",
       "\u001b[33m│\u001b[0m                             \u001b[33m│\u001b[0m\n",
       "\u001b[33m│\u001b[0m Image: 2023_12_14_image_044 \u001b[33m│\u001b[0m\n",
       "\u001b[33m│\u001b[0m                             \u001b[33m│\u001b[0m\n",
       "\u001b[33m╰─────────────────────────────╯\u001b[0m\n"
      ]
     },
     "metadata": {},
     "output_type": "display_data"
    },
    {
     "data": {
      "text/html": [
       "<pre style=\"white-space:pre;overflow-x:auto;line-height:normal;font-family:Menlo,'DejaVu Sans Mono',consolas,'Courier New',monospace\"><span style=\"color: #808000; text-decoration-color: #808000\">╭── Cytoplasm segmentation ───╮</span>\n",
       "<span style=\"color: #808000; text-decoration-color: #808000\">│</span> Segmentation started!       <span style=\"color: #808000; text-decoration-color: #808000\">│</span>\n",
       "<span style=\"color: #808000; text-decoration-color: #808000\">│</span>                             <span style=\"color: #808000; text-decoration-color: #808000\">│</span>\n",
       "<span style=\"color: #808000; text-decoration-color: #808000\">│</span> Image: 2023_12_14_image_002 <span style=\"color: #808000; text-decoration-color: #808000\">│</span>\n",
       "<span style=\"color: #808000; text-decoration-color: #808000\">│</span>                             <span style=\"color: #808000; text-decoration-color: #808000\">│</span>\n",
       "<span style=\"color: #808000; text-decoration-color: #808000\">╰─────────────────────────────╯</span>\n",
       "</pre>\n"
      ],
      "text/plain": [
       "\u001b[33m╭─\u001b[0m\u001b[33m─\u001b[0m\u001b[33m Cytoplasm segmentation \u001b[0m\u001b[33m──\u001b[0m\u001b[33m─╮\u001b[0m\n",
       "\u001b[33m│\u001b[0m Segmentation started!       \u001b[33m│\u001b[0m\n",
       "\u001b[33m│\u001b[0m                             \u001b[33m│\u001b[0m\n",
       "\u001b[33m│\u001b[0m Image: 2023_12_14_image_002 \u001b[33m│\u001b[0m\n",
       "\u001b[33m│\u001b[0m                             \u001b[33m│\u001b[0m\n",
       "\u001b[33m╰─────────────────────────────╯\u001b[0m\n"
      ]
     },
     "metadata": {},
     "output_type": "display_data"
    },
    {
     "data": {
      "text/html": [
       "<pre style=\"white-space:pre;overflow-x:auto;line-height:normal;font-family:Menlo,'DejaVu Sans Mono',consolas,'Courier New',monospace\"><span style=\"color: #808000; text-decoration-color: #808000\">╭── Cytoplasm segmentation ───╮</span>\n",
       "<span style=\"color: #808000; text-decoration-color: #808000\">│</span> Segmentation started!       <span style=\"color: #808000; text-decoration-color: #808000\">│</span>\n",
       "<span style=\"color: #808000; text-decoration-color: #808000\">│</span>                             <span style=\"color: #808000; text-decoration-color: #808000\">│</span>\n",
       "<span style=\"color: #808000; text-decoration-color: #808000\">│</span> Image: 2023_12_14_image_036 <span style=\"color: #808000; text-decoration-color: #808000\">│</span>\n",
       "<span style=\"color: #808000; text-decoration-color: #808000\">│</span>                             <span style=\"color: #808000; text-decoration-color: #808000\">│</span>\n",
       "<span style=\"color: #808000; text-decoration-color: #808000\">╰─────────────────────────────╯</span>\n",
       "</pre>\n"
      ],
      "text/plain": [
       "\u001b[33m╭─\u001b[0m\u001b[33m─\u001b[0m\u001b[33m Cytoplasm segmentation \u001b[0m\u001b[33m──\u001b[0m\u001b[33m─╮\u001b[0m\n",
       "\u001b[33m│\u001b[0m Segmentation started!       \u001b[33m│\u001b[0m\n",
       "\u001b[33m│\u001b[0m                             \u001b[33m│\u001b[0m\n",
       "\u001b[33m│\u001b[0m Image: 2023_12_14_image_036 \u001b[33m│\u001b[0m\n",
       "\u001b[33m│\u001b[0m                             \u001b[33m│\u001b[0m\n",
       "\u001b[33m╰─────────────────────────────╯\u001b[0m\n"
      ]
     },
     "metadata": {},
     "output_type": "display_data"
    },
    {
     "data": {
      "text/html": [
       "<pre style=\"white-space:pre;overflow-x:auto;line-height:normal;font-family:Menlo,'DejaVu Sans Mono',consolas,'Courier New',monospace\"><span style=\"color: #808000; text-decoration-color: #808000\">╭── Cytoplasm segmentation ───╮</span>\n",
       "<span style=\"color: #808000; text-decoration-color: #808000\">│</span> Segmentation started!       <span style=\"color: #808000; text-decoration-color: #808000\">│</span>\n",
       "<span style=\"color: #808000; text-decoration-color: #808000\">│</span>                             <span style=\"color: #808000; text-decoration-color: #808000\">│</span>\n",
       "<span style=\"color: #808000; text-decoration-color: #808000\">│</span> Image: 2023_12_14_image_009 <span style=\"color: #808000; text-decoration-color: #808000\">│</span>\n",
       "<span style=\"color: #808000; text-decoration-color: #808000\">│</span>                             <span style=\"color: #808000; text-decoration-color: #808000\">│</span>\n",
       "<span style=\"color: #808000; text-decoration-color: #808000\">╰─────────────────────────────╯</span>\n",
       "</pre>\n"
      ],
      "text/plain": [
       "\u001b[33m╭─\u001b[0m\u001b[33m─\u001b[0m\u001b[33m Cytoplasm segmentation \u001b[0m\u001b[33m──\u001b[0m\u001b[33m─╮\u001b[0m\n",
       "\u001b[33m│\u001b[0m Segmentation started!       \u001b[33m│\u001b[0m\n",
       "\u001b[33m│\u001b[0m                             \u001b[33m│\u001b[0m\n",
       "\u001b[33m│\u001b[0m Image: 2023_12_14_image_009 \u001b[33m│\u001b[0m\n",
       "\u001b[33m│\u001b[0m                             \u001b[33m│\u001b[0m\n",
       "\u001b[33m╰─────────────────────────────╯\u001b[0m\n"
      ]
     },
     "metadata": {},
     "output_type": "display_data"
    },
    {
     "data": {
      "text/html": [
       "<pre style=\"white-space:pre;overflow-x:auto;line-height:normal;font-family:Menlo,'DejaVu Sans Mono',consolas,'Courier New',monospace\"><span style=\"color: #808000; text-decoration-color: #808000\">╭── Cytoplasm segmentation ───╮</span>\n",
       "<span style=\"color: #808000; text-decoration-color: #808000\">│</span> Segmentation started!       <span style=\"color: #808000; text-decoration-color: #808000\">│</span>\n",
       "<span style=\"color: #808000; text-decoration-color: #808000\">│</span>                             <span style=\"color: #808000; text-decoration-color: #808000\">│</span>\n",
       "<span style=\"color: #808000; text-decoration-color: #808000\">│</span> Image: 2023_12_14_image_047 <span style=\"color: #808000; text-decoration-color: #808000\">│</span>\n",
       "<span style=\"color: #808000; text-decoration-color: #808000\">│</span>                             <span style=\"color: #808000; text-decoration-color: #808000\">│</span>\n",
       "<span style=\"color: #808000; text-decoration-color: #808000\">╰─────────────────────────────╯</span>\n",
       "</pre>\n"
      ],
      "text/plain": [
       "\u001b[33m╭─\u001b[0m\u001b[33m─\u001b[0m\u001b[33m Cytoplasm segmentation \u001b[0m\u001b[33m──\u001b[0m\u001b[33m─╮\u001b[0m\n",
       "\u001b[33m│\u001b[0m Segmentation started!       \u001b[33m│\u001b[0m\n",
       "\u001b[33m│\u001b[0m                             \u001b[33m│\u001b[0m\n",
       "\u001b[33m│\u001b[0m Image: 2023_12_14_image_047 \u001b[33m│\u001b[0m\n",
       "\u001b[33m│\u001b[0m                             \u001b[33m│\u001b[0m\n",
       "\u001b[33m╰─────────────────────────────╯\u001b[0m\n"
      ]
     },
     "metadata": {},
     "output_type": "display_data"
    },
    {
     "data": {
      "text/html": [
       "<pre style=\"white-space:pre;overflow-x:auto;line-height:normal;font-family:Menlo,'DejaVu Sans Mono',consolas,'Courier New',monospace\"><span style=\"color: #808000; text-decoration-color: #808000\">╭── Cytoplasm segmentation ───╮</span>\n",
       "<span style=\"color: #808000; text-decoration-color: #808000\">│</span> Segmentation started!       <span style=\"color: #808000; text-decoration-color: #808000\">│</span>\n",
       "<span style=\"color: #808000; text-decoration-color: #808000\">│</span>                             <span style=\"color: #808000; text-decoration-color: #808000\">│</span>\n",
       "<span style=\"color: #808000; text-decoration-color: #808000\">│</span> Image: 2023_12_14_image_018 <span style=\"color: #808000; text-decoration-color: #808000\">│</span>\n",
       "<span style=\"color: #808000; text-decoration-color: #808000\">│</span>                             <span style=\"color: #808000; text-decoration-color: #808000\">│</span>\n",
       "<span style=\"color: #808000; text-decoration-color: #808000\">╰─────────────────────────────╯</span>\n",
       "</pre>\n"
      ],
      "text/plain": [
       "\u001b[33m╭─\u001b[0m\u001b[33m─\u001b[0m\u001b[33m Cytoplasm segmentation \u001b[0m\u001b[33m──\u001b[0m\u001b[33m─╮\u001b[0m\n",
       "\u001b[33m│\u001b[0m Segmentation started!       \u001b[33m│\u001b[0m\n",
       "\u001b[33m│\u001b[0m                             \u001b[33m│\u001b[0m\n",
       "\u001b[33m│\u001b[0m Image: 2023_12_14_image_018 \u001b[33m│\u001b[0m\n",
       "\u001b[33m│\u001b[0m                             \u001b[33m│\u001b[0m\n",
       "\u001b[33m╰─────────────────────────────╯\u001b[0m\n"
      ]
     },
     "metadata": {},
     "output_type": "display_data"
    },
    {
     "data": {
      "text/html": [
       "<pre style=\"white-space:pre;overflow-x:auto;line-height:normal;font-family:Menlo,'DejaVu Sans Mono',consolas,'Courier New',monospace\"><span style=\"color: #808000; text-decoration-color: #808000\">╭── Cytoplasm segmentation ───╮</span>\n",
       "<span style=\"color: #808000; text-decoration-color: #808000\">│</span> Segmentation started!       <span style=\"color: #808000; text-decoration-color: #808000\">│</span>\n",
       "<span style=\"color: #808000; text-decoration-color: #808000\">│</span>                             <span style=\"color: #808000; text-decoration-color: #808000\">│</span>\n",
       "<span style=\"color: #808000; text-decoration-color: #808000\">│</span> Image: 2023_12_14_image_032 <span style=\"color: #808000; text-decoration-color: #808000\">│</span>\n",
       "<span style=\"color: #808000; text-decoration-color: #808000\">│</span>                             <span style=\"color: #808000; text-decoration-color: #808000\">│</span>\n",
       "<span style=\"color: #808000; text-decoration-color: #808000\">╰─────────────────────────────╯</span>\n",
       "</pre>\n"
      ],
      "text/plain": [
       "\u001b[33m╭─\u001b[0m\u001b[33m─\u001b[0m\u001b[33m Cytoplasm segmentation \u001b[0m\u001b[33m──\u001b[0m\u001b[33m─╮\u001b[0m\n",
       "\u001b[33m│\u001b[0m Segmentation started!       \u001b[33m│\u001b[0m\n",
       "\u001b[33m│\u001b[0m                             \u001b[33m│\u001b[0m\n",
       "\u001b[33m│\u001b[0m Image: 2023_12_14_image_032 \u001b[33m│\u001b[0m\n",
       "\u001b[33m│\u001b[0m                             \u001b[33m│\u001b[0m\n",
       "\u001b[33m╰─────────────────────────────╯\u001b[0m\n"
      ]
     },
     "metadata": {},
     "output_type": "display_data"
    },
    {
     "data": {
      "text/html": [
       "<pre style=\"white-space:pre;overflow-x:auto;line-height:normal;font-family:Menlo,'DejaVu Sans Mono',consolas,'Courier New',monospace\"><span style=\"color: #808000; text-decoration-color: #808000\">╭── Cytoplasm segmentation ───╮</span>\n",
       "<span style=\"color: #808000; text-decoration-color: #808000\">│</span> Segmentation started!       <span style=\"color: #808000; text-decoration-color: #808000\">│</span>\n",
       "<span style=\"color: #808000; text-decoration-color: #808000\">│</span>                             <span style=\"color: #808000; text-decoration-color: #808000\">│</span>\n",
       "<span style=\"color: #808000; text-decoration-color: #808000\">│</span> Image: 2023_12_14_image_004 <span style=\"color: #808000; text-decoration-color: #808000\">│</span>\n",
       "<span style=\"color: #808000; text-decoration-color: #808000\">│</span>                             <span style=\"color: #808000; text-decoration-color: #808000\">│</span>\n",
       "<span style=\"color: #808000; text-decoration-color: #808000\">╰─────────────────────────────╯</span>\n",
       "</pre>\n"
      ],
      "text/plain": [
       "\u001b[33m╭─\u001b[0m\u001b[33m─\u001b[0m\u001b[33m Cytoplasm segmentation \u001b[0m\u001b[33m──\u001b[0m\u001b[33m─╮\u001b[0m\n",
       "\u001b[33m│\u001b[0m Segmentation started!       \u001b[33m│\u001b[0m\n",
       "\u001b[33m│\u001b[0m                             \u001b[33m│\u001b[0m\n",
       "\u001b[33m│\u001b[0m Image: 2023_12_14_image_004 \u001b[33m│\u001b[0m\n",
       "\u001b[33m│\u001b[0m                             \u001b[33m│\u001b[0m\n",
       "\u001b[33m╰─────────────────────────────╯\u001b[0m\n"
      ]
     },
     "metadata": {},
     "output_type": "display_data"
    },
    {
     "data": {
      "text/html": [
       "<pre style=\"white-space:pre;overflow-x:auto;line-height:normal;font-family:Menlo,'DejaVu Sans Mono',consolas,'Courier New',monospace\"><span style=\"color: #808000; text-decoration-color: #808000\">╭── Cytoplasm segmentation ───╮</span>\n",
       "<span style=\"color: #808000; text-decoration-color: #808000\">│</span> Segmentation started!       <span style=\"color: #808000; text-decoration-color: #808000\">│</span>\n",
       "<span style=\"color: #808000; text-decoration-color: #808000\">│</span>                             <span style=\"color: #808000; text-decoration-color: #808000\">│</span>\n",
       "<span style=\"color: #808000; text-decoration-color: #808000\">│</span> Image: 2023_12_14_image_019 <span style=\"color: #808000; text-decoration-color: #808000\">│</span>\n",
       "<span style=\"color: #808000; text-decoration-color: #808000\">│</span>                             <span style=\"color: #808000; text-decoration-color: #808000\">│</span>\n",
       "<span style=\"color: #808000; text-decoration-color: #808000\">╰─────────────────────────────╯</span>\n",
       "</pre>\n"
      ],
      "text/plain": [
       "\u001b[33m╭─\u001b[0m\u001b[33m─\u001b[0m\u001b[33m Cytoplasm segmentation \u001b[0m\u001b[33m──\u001b[0m\u001b[33m─╮\u001b[0m\n",
       "\u001b[33m│\u001b[0m Segmentation started!       \u001b[33m│\u001b[0m\n",
       "\u001b[33m│\u001b[0m                             \u001b[33m│\u001b[0m\n",
       "\u001b[33m│\u001b[0m Image: 2023_12_14_image_019 \u001b[33m│\u001b[0m\n",
       "\u001b[33m│\u001b[0m                             \u001b[33m│\u001b[0m\n",
       "\u001b[33m╰─────────────────────────────╯\u001b[0m\n"
      ]
     },
     "metadata": {},
     "output_type": "display_data"
    },
    {
     "data": {
      "text/html": [
       "<pre style=\"white-space:pre;overflow-x:auto;line-height:normal;font-family:Menlo,'DejaVu Sans Mono',consolas,'Courier New',monospace\"><span style=\"color: #808000; text-decoration-color: #808000\">╭── Cytoplasm segmentation ───╮</span>\n",
       "<span style=\"color: #808000; text-decoration-color: #808000\">│</span> Segmentation started!       <span style=\"color: #808000; text-decoration-color: #808000\">│</span>\n",
       "<span style=\"color: #808000; text-decoration-color: #808000\">│</span>                             <span style=\"color: #808000; text-decoration-color: #808000\">│</span>\n",
       "<span style=\"color: #808000; text-decoration-color: #808000\">│</span> Image: 2023_12_14_image_010 <span style=\"color: #808000; text-decoration-color: #808000\">│</span>\n",
       "<span style=\"color: #808000; text-decoration-color: #808000\">│</span>                             <span style=\"color: #808000; text-decoration-color: #808000\">│</span>\n",
       "<span style=\"color: #808000; text-decoration-color: #808000\">╰─────────────────────────────╯</span>\n",
       "</pre>\n"
      ],
      "text/plain": [
       "\u001b[33m╭─\u001b[0m\u001b[33m─\u001b[0m\u001b[33m Cytoplasm segmentation \u001b[0m\u001b[33m──\u001b[0m\u001b[33m─╮\u001b[0m\n",
       "\u001b[33m│\u001b[0m Segmentation started!       \u001b[33m│\u001b[0m\n",
       "\u001b[33m│\u001b[0m                             \u001b[33m│\u001b[0m\n",
       "\u001b[33m│\u001b[0m Image: 2023_12_14_image_010 \u001b[33m│\u001b[0m\n",
       "\u001b[33m│\u001b[0m                             \u001b[33m│\u001b[0m\n",
       "\u001b[33m╰─────────────────────────────╯\u001b[0m\n"
      ]
     },
     "metadata": {},
     "output_type": "display_data"
    },
    {
     "data": {
      "text/html": [
       "<pre style=\"white-space:pre;overflow-x:auto;line-height:normal;font-family:Menlo,'DejaVu Sans Mono',consolas,'Courier New',monospace\"><span style=\"color: #808000; text-decoration-color: #808000\">╭── Cytoplasm segmentation ───╮</span>\n",
       "<span style=\"color: #808000; text-decoration-color: #808000\">│</span> Segmentation started!       <span style=\"color: #808000; text-decoration-color: #808000\">│</span>\n",
       "<span style=\"color: #808000; text-decoration-color: #808000\">│</span>                             <span style=\"color: #808000; text-decoration-color: #808000\">│</span>\n",
       "<span style=\"color: #808000; text-decoration-color: #808000\">│</span> Image: 2023_12_14_image_013 <span style=\"color: #808000; text-decoration-color: #808000\">│</span>\n",
       "<span style=\"color: #808000; text-decoration-color: #808000\">│</span>                             <span style=\"color: #808000; text-decoration-color: #808000\">│</span>\n",
       "<span style=\"color: #808000; text-decoration-color: #808000\">╰─────────────────────────────╯</span>\n",
       "</pre>\n"
      ],
      "text/plain": [
       "\u001b[33m╭─\u001b[0m\u001b[33m─\u001b[0m\u001b[33m Cytoplasm segmentation \u001b[0m\u001b[33m──\u001b[0m\u001b[33m─╮\u001b[0m\n",
       "\u001b[33m│\u001b[0m Segmentation started!       \u001b[33m│\u001b[0m\n",
       "\u001b[33m│\u001b[0m                             \u001b[33m│\u001b[0m\n",
       "\u001b[33m│\u001b[0m Image: 2023_12_14_image_013 \u001b[33m│\u001b[0m\n",
       "\u001b[33m│\u001b[0m                             \u001b[33m│\u001b[0m\n",
       "\u001b[33m╰─────────────────────────────╯\u001b[0m\n"
      ]
     },
     "metadata": {},
     "output_type": "display_data"
    },
    {
     "data": {
      "text/html": [
       "<pre style=\"white-space:pre;overflow-x:auto;line-height:normal;font-family:Menlo,'DejaVu Sans Mono',consolas,'Courier New',monospace\"><span style=\"color: #808000; text-decoration-color: #808000\">╭── Cytoplasm segmentation ───╮</span>\n",
       "<span style=\"color: #808000; text-decoration-color: #808000\">│</span> Segmentation started!       <span style=\"color: #808000; text-decoration-color: #808000\">│</span>\n",
       "<span style=\"color: #808000; text-decoration-color: #808000\">│</span>                             <span style=\"color: #808000; text-decoration-color: #808000\">│</span>\n",
       "<span style=\"color: #808000; text-decoration-color: #808000\">│</span> Image: 2023_12_14_image_011 <span style=\"color: #808000; text-decoration-color: #808000\">│</span>\n",
       "<span style=\"color: #808000; text-decoration-color: #808000\">│</span>                             <span style=\"color: #808000; text-decoration-color: #808000\">│</span>\n",
       "<span style=\"color: #808000; text-decoration-color: #808000\">╰─────────────────────────────╯</span>\n",
       "</pre>\n"
      ],
      "text/plain": [
       "\u001b[33m╭─\u001b[0m\u001b[33m─\u001b[0m\u001b[33m Cytoplasm segmentation \u001b[0m\u001b[33m──\u001b[0m\u001b[33m─╮\u001b[0m\n",
       "\u001b[33m│\u001b[0m Segmentation started!       \u001b[33m│\u001b[0m\n",
       "\u001b[33m│\u001b[0m                             \u001b[33m│\u001b[0m\n",
       "\u001b[33m│\u001b[0m Image: 2023_12_14_image_011 \u001b[33m│\u001b[0m\n",
       "\u001b[33m│\u001b[0m                             \u001b[33m│\u001b[0m\n",
       "\u001b[33m╰─────────────────────────────╯\u001b[0m\n"
      ]
     },
     "metadata": {},
     "output_type": "display_data"
    },
    {
     "data": {
      "text/html": [
       "<pre style=\"white-space:pre;overflow-x:auto;line-height:normal;font-family:Menlo,'DejaVu Sans Mono',consolas,'Courier New',monospace\"><span style=\"color: #808000; text-decoration-color: #808000\">╭── Cytoplasm segmentation ───╮</span>\n",
       "<span style=\"color: #808000; text-decoration-color: #808000\">│</span> Segmentation started!       <span style=\"color: #808000; text-decoration-color: #808000\">│</span>\n",
       "<span style=\"color: #808000; text-decoration-color: #808000\">│</span>                             <span style=\"color: #808000; text-decoration-color: #808000\">│</span>\n",
       "<span style=\"color: #808000; text-decoration-color: #808000\">│</span> Image: 2023_12_14_image_049 <span style=\"color: #808000; text-decoration-color: #808000\">│</span>\n",
       "<span style=\"color: #808000; text-decoration-color: #808000\">│</span>                             <span style=\"color: #808000; text-decoration-color: #808000\">│</span>\n",
       "<span style=\"color: #808000; text-decoration-color: #808000\">╰─────────────────────────────╯</span>\n",
       "</pre>\n"
      ],
      "text/plain": [
       "\u001b[33m╭─\u001b[0m\u001b[33m─\u001b[0m\u001b[33m Cytoplasm segmentation \u001b[0m\u001b[33m──\u001b[0m\u001b[33m─╮\u001b[0m\n",
       "\u001b[33m│\u001b[0m Segmentation started!       \u001b[33m│\u001b[0m\n",
       "\u001b[33m│\u001b[0m                             \u001b[33m│\u001b[0m\n",
       "\u001b[33m│\u001b[0m Image: 2023_12_14_image_049 \u001b[33m│\u001b[0m\n",
       "\u001b[33m│\u001b[0m                             \u001b[33m│\u001b[0m\n",
       "\u001b[33m╰─────────────────────────────╯\u001b[0m\n"
      ]
     },
     "metadata": {},
     "output_type": "display_data"
    },
    {
     "data": {
      "text/html": [
       "<pre style=\"white-space:pre;overflow-x:auto;line-height:normal;font-family:Menlo,'DejaVu Sans Mono',consolas,'Courier New',monospace\"><span style=\"color: #808000; text-decoration-color: #808000\">╭── Cytoplasm segmentation ───╮</span>\n",
       "<span style=\"color: #808000; text-decoration-color: #808000\">│</span> Segmentation started!       <span style=\"color: #808000; text-decoration-color: #808000\">│</span>\n",
       "<span style=\"color: #808000; text-decoration-color: #808000\">│</span>                             <span style=\"color: #808000; text-decoration-color: #808000\">│</span>\n",
       "<span style=\"color: #808000; text-decoration-color: #808000\">│</span> Image: 2023_12_14_image_006 <span style=\"color: #808000; text-decoration-color: #808000\">│</span>\n",
       "<span style=\"color: #808000; text-decoration-color: #808000\">│</span>                             <span style=\"color: #808000; text-decoration-color: #808000\">│</span>\n",
       "<span style=\"color: #808000; text-decoration-color: #808000\">╰─────────────────────────────╯</span>\n",
       "</pre>\n"
      ],
      "text/plain": [
       "\u001b[33m╭─\u001b[0m\u001b[33m─\u001b[0m\u001b[33m Cytoplasm segmentation \u001b[0m\u001b[33m──\u001b[0m\u001b[33m─╮\u001b[0m\n",
       "\u001b[33m│\u001b[0m Segmentation started!       \u001b[33m│\u001b[0m\n",
       "\u001b[33m│\u001b[0m                             \u001b[33m│\u001b[0m\n",
       "\u001b[33m│\u001b[0m Image: 2023_12_14_image_006 \u001b[33m│\u001b[0m\n",
       "\u001b[33m│\u001b[0m                             \u001b[33m│\u001b[0m\n",
       "\u001b[33m╰─────────────────────────────╯\u001b[0m\n"
      ]
     },
     "metadata": {},
     "output_type": "display_data"
    },
    {
     "data": {
      "text/html": [
       "<pre style=\"white-space:pre;overflow-x:auto;line-height:normal;font-family:Menlo,'DejaVu Sans Mono',consolas,'Courier New',monospace\"><span style=\"color: #808000; text-decoration-color: #808000\">╭── Cytoplasm segmentation ───╮</span>\n",
       "<span style=\"color: #808000; text-decoration-color: #808000\">│</span> Segmentation started!       <span style=\"color: #808000; text-decoration-color: #808000\">│</span>\n",
       "<span style=\"color: #808000; text-decoration-color: #808000\">│</span>                             <span style=\"color: #808000; text-decoration-color: #808000\">│</span>\n",
       "<span style=\"color: #808000; text-decoration-color: #808000\">│</span> Image: 2023_12_14_image_030 <span style=\"color: #808000; text-decoration-color: #808000\">│</span>\n",
       "<span style=\"color: #808000; text-decoration-color: #808000\">│</span>                             <span style=\"color: #808000; text-decoration-color: #808000\">│</span>\n",
       "<span style=\"color: #808000; text-decoration-color: #808000\">╰─────────────────────────────╯</span>\n",
       "</pre>\n"
      ],
      "text/plain": [
       "\u001b[33m╭─\u001b[0m\u001b[33m─\u001b[0m\u001b[33m Cytoplasm segmentation \u001b[0m\u001b[33m──\u001b[0m\u001b[33m─╮\u001b[0m\n",
       "\u001b[33m│\u001b[0m Segmentation started!       \u001b[33m│\u001b[0m\n",
       "\u001b[33m│\u001b[0m                             \u001b[33m│\u001b[0m\n",
       "\u001b[33m│\u001b[0m Image: 2023_12_14_image_030 \u001b[33m│\u001b[0m\n",
       "\u001b[33m│\u001b[0m                             \u001b[33m│\u001b[0m\n",
       "\u001b[33m╰─────────────────────────────╯\u001b[0m\n"
      ]
     },
     "metadata": {},
     "output_type": "display_data"
    },
    {
     "data": {
      "text/html": [
       "<pre style=\"white-space:pre;overflow-x:auto;line-height:normal;font-family:Menlo,'DejaVu Sans Mono',consolas,'Courier New',monospace\"><span style=\"color: #808000; text-decoration-color: #808000\">╭── Cytoplasm segmentation ───╮</span>\n",
       "<span style=\"color: #808000; text-decoration-color: #808000\">│</span> Segmentation started!       <span style=\"color: #808000; text-decoration-color: #808000\">│</span>\n",
       "<span style=\"color: #808000; text-decoration-color: #808000\">│</span>                             <span style=\"color: #808000; text-decoration-color: #808000\">│</span>\n",
       "<span style=\"color: #808000; text-decoration-color: #808000\">│</span> Image: 2023_12_14_image_028 <span style=\"color: #808000; text-decoration-color: #808000\">│</span>\n",
       "<span style=\"color: #808000; text-decoration-color: #808000\">│</span>                             <span style=\"color: #808000; text-decoration-color: #808000\">│</span>\n",
       "<span style=\"color: #808000; text-decoration-color: #808000\">╰─────────────────────────────╯</span>\n",
       "</pre>\n"
      ],
      "text/plain": [
       "\u001b[33m╭─\u001b[0m\u001b[33m─\u001b[0m\u001b[33m Cytoplasm segmentation \u001b[0m\u001b[33m──\u001b[0m\u001b[33m─╮\u001b[0m\n",
       "\u001b[33m│\u001b[0m Segmentation started!       \u001b[33m│\u001b[0m\n",
       "\u001b[33m│\u001b[0m                             \u001b[33m│\u001b[0m\n",
       "\u001b[33m│\u001b[0m Image: 2023_12_14_image_028 \u001b[33m│\u001b[0m\n",
       "\u001b[33m│\u001b[0m                             \u001b[33m│\u001b[0m\n",
       "\u001b[33m╰─────────────────────────────╯\u001b[0m\n"
      ]
     },
     "metadata": {},
     "output_type": "display_data"
    },
    {
     "data": {
      "text/html": [
       "<pre style=\"white-space:pre;overflow-x:auto;line-height:normal;font-family:Menlo,'DejaVu Sans Mono',consolas,'Courier New',monospace\"><span style=\"color: #808000; text-decoration-color: #808000\">╭── Cytoplasm segmentation ───╮</span>\n",
       "<span style=\"color: #808000; text-decoration-color: #808000\">│</span> Segmentation started!       <span style=\"color: #808000; text-decoration-color: #808000\">│</span>\n",
       "<span style=\"color: #808000; text-decoration-color: #808000\">│</span>                             <span style=\"color: #808000; text-decoration-color: #808000\">│</span>\n",
       "<span style=\"color: #808000; text-decoration-color: #808000\">│</span> Image: 2023_12_14_image_012 <span style=\"color: #808000; text-decoration-color: #808000\">│</span>\n",
       "<span style=\"color: #808000; text-decoration-color: #808000\">│</span>                             <span style=\"color: #808000; text-decoration-color: #808000\">│</span>\n",
       "<span style=\"color: #808000; text-decoration-color: #808000\">╰─────────────────────────────╯</span>\n",
       "</pre>\n"
      ],
      "text/plain": [
       "\u001b[33m╭─\u001b[0m\u001b[33m─\u001b[0m\u001b[33m Cytoplasm segmentation \u001b[0m\u001b[33m──\u001b[0m\u001b[33m─╮\u001b[0m\n",
       "\u001b[33m│\u001b[0m Segmentation started!       \u001b[33m│\u001b[0m\n",
       "\u001b[33m│\u001b[0m                             \u001b[33m│\u001b[0m\n",
       "\u001b[33m│\u001b[0m Image: 2023_12_14_image_012 \u001b[33m│\u001b[0m\n",
       "\u001b[33m│\u001b[0m                             \u001b[33m│\u001b[0m\n",
       "\u001b[33m╰─────────────────────────────╯\u001b[0m\n"
      ]
     },
     "metadata": {},
     "output_type": "display_data"
    },
    {
     "data": {
      "text/html": [
       "<pre style=\"white-space:pre;overflow-x:auto;line-height:normal;font-family:Menlo,'DejaVu Sans Mono',consolas,'Courier New',monospace\"><span style=\"color: #808000; text-decoration-color: #808000\">╭── Cytoplasm segmentation ───╮</span>\n",
       "<span style=\"color: #808000; text-decoration-color: #808000\">│</span> Segmentation started!       <span style=\"color: #808000; text-decoration-color: #808000\">│</span>\n",
       "<span style=\"color: #808000; text-decoration-color: #808000\">│</span>                             <span style=\"color: #808000; text-decoration-color: #808000\">│</span>\n",
       "<span style=\"color: #808000; text-decoration-color: #808000\">│</span> Image: 2023_12_14_image_042 <span style=\"color: #808000; text-decoration-color: #808000\">│</span>\n",
       "<span style=\"color: #808000; text-decoration-color: #808000\">│</span>                             <span style=\"color: #808000; text-decoration-color: #808000\">│</span>\n",
       "<span style=\"color: #808000; text-decoration-color: #808000\">╰─────────────────────────────╯</span>\n",
       "</pre>\n"
      ],
      "text/plain": [
       "\u001b[33m╭─\u001b[0m\u001b[33m─\u001b[0m\u001b[33m Cytoplasm segmentation \u001b[0m\u001b[33m──\u001b[0m\u001b[33m─╮\u001b[0m\n",
       "\u001b[33m│\u001b[0m Segmentation started!       \u001b[33m│\u001b[0m\n",
       "\u001b[33m│\u001b[0m                             \u001b[33m│\u001b[0m\n",
       "\u001b[33m│\u001b[0m Image: 2023_12_14_image_042 \u001b[33m│\u001b[0m\n",
       "\u001b[33m│\u001b[0m                             \u001b[33m│\u001b[0m\n",
       "\u001b[33m╰─────────────────────────────╯\u001b[0m\n"
      ]
     },
     "metadata": {},
     "output_type": "display_data"
    },
    {
     "data": {
      "text/html": [
       "<pre style=\"white-space:pre;overflow-x:auto;line-height:normal;font-family:Menlo,'DejaVu Sans Mono',consolas,'Courier New',monospace\"><span style=\"color: #808000; text-decoration-color: #808000\">╭── Cytoplasm segmentation ───╮</span>\n",
       "<span style=\"color: #808000; text-decoration-color: #808000\">│</span> Segmentation started!       <span style=\"color: #808000; text-decoration-color: #808000\">│</span>\n",
       "<span style=\"color: #808000; text-decoration-color: #808000\">│</span>                             <span style=\"color: #808000; text-decoration-color: #808000\">│</span>\n",
       "<span style=\"color: #808000; text-decoration-color: #808000\">│</span> Image: 2023_12_14_image_025 <span style=\"color: #808000; text-decoration-color: #808000\">│</span>\n",
       "<span style=\"color: #808000; text-decoration-color: #808000\">│</span>                             <span style=\"color: #808000; text-decoration-color: #808000\">│</span>\n",
       "<span style=\"color: #808000; text-decoration-color: #808000\">╰─────────────────────────────╯</span>\n",
       "</pre>\n"
      ],
      "text/plain": [
       "\u001b[33m╭─\u001b[0m\u001b[33m─\u001b[0m\u001b[33m Cytoplasm segmentation \u001b[0m\u001b[33m──\u001b[0m\u001b[33m─╮\u001b[0m\n",
       "\u001b[33m│\u001b[0m Segmentation started!       \u001b[33m│\u001b[0m\n",
       "\u001b[33m│\u001b[0m                             \u001b[33m│\u001b[0m\n",
       "\u001b[33m│\u001b[0m Image: 2023_12_14_image_025 \u001b[33m│\u001b[0m\n",
       "\u001b[33m│\u001b[0m                             \u001b[33m│\u001b[0m\n",
       "\u001b[33m╰─────────────────────────────╯\u001b[0m\n"
      ]
     },
     "metadata": {},
     "output_type": "display_data"
    },
    {
     "data": {
      "text/html": [
       "<pre style=\"white-space:pre;overflow-x:auto;line-height:normal;font-family:Menlo,'DejaVu Sans Mono',consolas,'Courier New',monospace\"><span style=\"color: #808000; text-decoration-color: #808000\">╭── Cytoplasm segmentation ───╮</span>\n",
       "<span style=\"color: #808000; text-decoration-color: #808000\">│</span> Segmentation started!       <span style=\"color: #808000; text-decoration-color: #808000\">│</span>\n",
       "<span style=\"color: #808000; text-decoration-color: #808000\">│</span>                             <span style=\"color: #808000; text-decoration-color: #808000\">│</span>\n",
       "<span style=\"color: #808000; text-decoration-color: #808000\">│</span> Image: 2023_12_14_image_023 <span style=\"color: #808000; text-decoration-color: #808000\">│</span>\n",
       "<span style=\"color: #808000; text-decoration-color: #808000\">│</span>                             <span style=\"color: #808000; text-decoration-color: #808000\">│</span>\n",
       "<span style=\"color: #808000; text-decoration-color: #808000\">╰─────────────────────────────╯</span>\n",
       "</pre>\n"
      ],
      "text/plain": [
       "\u001b[33m╭─\u001b[0m\u001b[33m─\u001b[0m\u001b[33m Cytoplasm segmentation \u001b[0m\u001b[33m──\u001b[0m\u001b[33m─╮\u001b[0m\n",
       "\u001b[33m│\u001b[0m Segmentation started!       \u001b[33m│\u001b[0m\n",
       "\u001b[33m│\u001b[0m                             \u001b[33m│\u001b[0m\n",
       "\u001b[33m│\u001b[0m Image: 2023_12_14_image_023 \u001b[33m│\u001b[0m\n",
       "\u001b[33m│\u001b[0m                             \u001b[33m│\u001b[0m\n",
       "\u001b[33m╰─────────────────────────────╯\u001b[0m\n"
      ]
     },
     "metadata": {},
     "output_type": "display_data"
    },
    {
     "data": {
      "text/html": [
       "<pre style=\"white-space:pre;overflow-x:auto;line-height:normal;font-family:Menlo,'DejaVu Sans Mono',consolas,'Courier New',monospace\"><span style=\"color: #808000; text-decoration-color: #808000\">╭── Cytoplasm segmentation ───╮</span>\n",
       "<span style=\"color: #808000; text-decoration-color: #808000\">│</span> Segmentation started!       <span style=\"color: #808000; text-decoration-color: #808000\">│</span>\n",
       "<span style=\"color: #808000; text-decoration-color: #808000\">│</span>                             <span style=\"color: #808000; text-decoration-color: #808000\">│</span>\n",
       "<span style=\"color: #808000; text-decoration-color: #808000\">│</span> Image: 2023_12_14_image_038 <span style=\"color: #808000; text-decoration-color: #808000\">│</span>\n",
       "<span style=\"color: #808000; text-decoration-color: #808000\">│</span>                             <span style=\"color: #808000; text-decoration-color: #808000\">│</span>\n",
       "<span style=\"color: #808000; text-decoration-color: #808000\">╰─────────────────────────────╯</span>\n",
       "</pre>\n"
      ],
      "text/plain": [
       "\u001b[33m╭─\u001b[0m\u001b[33m─\u001b[0m\u001b[33m Cytoplasm segmentation \u001b[0m\u001b[33m──\u001b[0m\u001b[33m─╮\u001b[0m\n",
       "\u001b[33m│\u001b[0m Segmentation started!       \u001b[33m│\u001b[0m\n",
       "\u001b[33m│\u001b[0m                             \u001b[33m│\u001b[0m\n",
       "\u001b[33m│\u001b[0m Image: 2023_12_14_image_038 \u001b[33m│\u001b[0m\n",
       "\u001b[33m│\u001b[0m                             \u001b[33m│\u001b[0m\n",
       "\u001b[33m╰─────────────────────────────╯\u001b[0m\n"
      ]
     },
     "metadata": {},
     "output_type": "display_data"
    },
    {
     "data": {
      "text/html": [
       "<pre style=\"white-space:pre;overflow-x:auto;line-height:normal;font-family:Menlo,'DejaVu Sans Mono',consolas,'Courier New',monospace\"><span style=\"color: #808000; text-decoration-color: #808000\">╭── Cytoplasm segmentation ───╮</span>\n",
       "<span style=\"color: #808000; text-decoration-color: #808000\">│</span> Segmentation started!       <span style=\"color: #808000; text-decoration-color: #808000\">│</span>\n",
       "<span style=\"color: #808000; text-decoration-color: #808000\">│</span>                             <span style=\"color: #808000; text-decoration-color: #808000\">│</span>\n",
       "<span style=\"color: #808000; text-decoration-color: #808000\">│</span> Image: 2023_12_14_image_048 <span style=\"color: #808000; text-decoration-color: #808000\">│</span>\n",
       "<span style=\"color: #808000; text-decoration-color: #808000\">│</span>                             <span style=\"color: #808000; text-decoration-color: #808000\">│</span>\n",
       "<span style=\"color: #808000; text-decoration-color: #808000\">╰─────────────────────────────╯</span>\n",
       "</pre>\n"
      ],
      "text/plain": [
       "\u001b[33m╭─\u001b[0m\u001b[33m─\u001b[0m\u001b[33m Cytoplasm segmentation \u001b[0m\u001b[33m──\u001b[0m\u001b[33m─╮\u001b[0m\n",
       "\u001b[33m│\u001b[0m Segmentation started!       \u001b[33m│\u001b[0m\n",
       "\u001b[33m│\u001b[0m                             \u001b[33m│\u001b[0m\n",
       "\u001b[33m│\u001b[0m Image: 2023_12_14_image_048 \u001b[33m│\u001b[0m\n",
       "\u001b[33m│\u001b[0m                             \u001b[33m│\u001b[0m\n",
       "\u001b[33m╰─────────────────────────────╯\u001b[0m\n"
      ]
     },
     "metadata": {},
     "output_type": "display_data"
    },
    {
     "data": {
      "text/html": [
       "<pre style=\"white-space:pre;overflow-x:auto;line-height:normal;font-family:Menlo,'DejaVu Sans Mono',consolas,'Courier New',monospace\"><span style=\"color: #808000; text-decoration-color: #808000\">╭── Cytoplasm segmentation ───╮</span>\n",
       "<span style=\"color: #808000; text-decoration-color: #808000\">│</span> Segmentation started!       <span style=\"color: #808000; text-decoration-color: #808000\">│</span>\n",
       "<span style=\"color: #808000; text-decoration-color: #808000\">│</span>                             <span style=\"color: #808000; text-decoration-color: #808000\">│</span>\n",
       "<span style=\"color: #808000; text-decoration-color: #808000\">│</span> Image: 2023_12_14_image_046 <span style=\"color: #808000; text-decoration-color: #808000\">│</span>\n",
       "<span style=\"color: #808000; text-decoration-color: #808000\">│</span>                             <span style=\"color: #808000; text-decoration-color: #808000\">│</span>\n",
       "<span style=\"color: #808000; text-decoration-color: #808000\">╰─────────────────────────────╯</span>\n",
       "</pre>\n"
      ],
      "text/plain": [
       "\u001b[33m╭─\u001b[0m\u001b[33m─\u001b[0m\u001b[33m Cytoplasm segmentation \u001b[0m\u001b[33m──\u001b[0m\u001b[33m─╮\u001b[0m\n",
       "\u001b[33m│\u001b[0m Segmentation started!       \u001b[33m│\u001b[0m\n",
       "\u001b[33m│\u001b[0m                             \u001b[33m│\u001b[0m\n",
       "\u001b[33m│\u001b[0m Image: 2023_12_14_image_046 \u001b[33m│\u001b[0m\n",
       "\u001b[33m│\u001b[0m                             \u001b[33m│\u001b[0m\n",
       "\u001b[33m╰─────────────────────────────╯\u001b[0m\n"
      ]
     },
     "metadata": {},
     "output_type": "display_data"
    },
    {
     "data": {
      "text/html": [
       "<pre style=\"white-space:pre;overflow-x:auto;line-height:normal;font-family:Menlo,'DejaVu Sans Mono',consolas,'Courier New',monospace\"><span style=\"color: #808000; text-decoration-color: #808000\">╭── Cytoplasm segmentation ───╮</span>\n",
       "<span style=\"color: #808000; text-decoration-color: #808000\">│</span> Segmentation started!       <span style=\"color: #808000; text-decoration-color: #808000\">│</span>\n",
       "<span style=\"color: #808000; text-decoration-color: #808000\">│</span>                             <span style=\"color: #808000; text-decoration-color: #808000\">│</span>\n",
       "<span style=\"color: #808000; text-decoration-color: #808000\">│</span> Image: 2023_12_14_image_021 <span style=\"color: #808000; text-decoration-color: #808000\">│</span>\n",
       "<span style=\"color: #808000; text-decoration-color: #808000\">│</span>                             <span style=\"color: #808000; text-decoration-color: #808000\">│</span>\n",
       "<span style=\"color: #808000; text-decoration-color: #808000\">╰─────────────────────────────╯</span>\n",
       "</pre>\n"
      ],
      "text/plain": [
       "\u001b[33m╭─\u001b[0m\u001b[33m─\u001b[0m\u001b[33m Cytoplasm segmentation \u001b[0m\u001b[33m──\u001b[0m\u001b[33m─╮\u001b[0m\n",
       "\u001b[33m│\u001b[0m Segmentation started!       \u001b[33m│\u001b[0m\n",
       "\u001b[33m│\u001b[0m                             \u001b[33m│\u001b[0m\n",
       "\u001b[33m│\u001b[0m Image: 2023_12_14_image_021 \u001b[33m│\u001b[0m\n",
       "\u001b[33m│\u001b[0m                             \u001b[33m│\u001b[0m\n",
       "\u001b[33m╰─────────────────────────────╯\u001b[0m\n"
      ]
     },
     "metadata": {},
     "output_type": "display_data"
    },
    {
     "data": {
      "text/html": [
       "<pre style=\"white-space:pre;overflow-x:auto;line-height:normal;font-family:Menlo,'DejaVu Sans Mono',consolas,'Courier New',monospace\"><span style=\"color: #808000; text-decoration-color: #808000\">╭── Cytoplasm segmentation ───╮</span>\n",
       "<span style=\"color: #808000; text-decoration-color: #808000\">│</span> Segmentation started!       <span style=\"color: #808000; text-decoration-color: #808000\">│</span>\n",
       "<span style=\"color: #808000; text-decoration-color: #808000\">│</span>                             <span style=\"color: #808000; text-decoration-color: #808000\">│</span>\n",
       "<span style=\"color: #808000; text-decoration-color: #808000\">│</span> Image: 2023_12_14_image_001 <span style=\"color: #808000; text-decoration-color: #808000\">│</span>\n",
       "<span style=\"color: #808000; text-decoration-color: #808000\">│</span>                             <span style=\"color: #808000; text-decoration-color: #808000\">│</span>\n",
       "<span style=\"color: #808000; text-decoration-color: #808000\">╰─────────────────────────────╯</span>\n",
       "</pre>\n"
      ],
      "text/plain": [
       "\u001b[33m╭─\u001b[0m\u001b[33m─\u001b[0m\u001b[33m Cytoplasm segmentation \u001b[0m\u001b[33m──\u001b[0m\u001b[33m─╮\u001b[0m\n",
       "\u001b[33m│\u001b[0m Segmentation started!       \u001b[33m│\u001b[0m\n",
       "\u001b[33m│\u001b[0m                             \u001b[33m│\u001b[0m\n",
       "\u001b[33m│\u001b[0m Image: 2023_12_14_image_001 \u001b[33m│\u001b[0m\n",
       "\u001b[33m│\u001b[0m                             \u001b[33m│\u001b[0m\n",
       "\u001b[33m╰─────────────────────────────╯\u001b[0m\n"
      ]
     },
     "metadata": {},
     "output_type": "display_data"
    },
    {
     "data": {
      "text/html": [
       "<pre style=\"white-space:pre;overflow-x:auto;line-height:normal;font-family:Menlo,'DejaVu Sans Mono',consolas,'Courier New',monospace\"><span style=\"color: #808000; text-decoration-color: #808000\">╭── Cytoplasm segmentation ───╮</span>\n",
       "<span style=\"color: #808000; text-decoration-color: #808000\">│</span> Segmentation started!       <span style=\"color: #808000; text-decoration-color: #808000\">│</span>\n",
       "<span style=\"color: #808000; text-decoration-color: #808000\">│</span>                             <span style=\"color: #808000; text-decoration-color: #808000\">│</span>\n",
       "<span style=\"color: #808000; text-decoration-color: #808000\">│</span> Image: 2023_12_14_image_020 <span style=\"color: #808000; text-decoration-color: #808000\">│</span>\n",
       "<span style=\"color: #808000; text-decoration-color: #808000\">│</span>                             <span style=\"color: #808000; text-decoration-color: #808000\">│</span>\n",
       "<span style=\"color: #808000; text-decoration-color: #808000\">╰─────────────────────────────╯</span>\n",
       "</pre>\n"
      ],
      "text/plain": [
       "\u001b[33m╭─\u001b[0m\u001b[33m─\u001b[0m\u001b[33m Cytoplasm segmentation \u001b[0m\u001b[33m──\u001b[0m\u001b[33m─╮\u001b[0m\n",
       "\u001b[33m│\u001b[0m Segmentation started!       \u001b[33m│\u001b[0m\n",
       "\u001b[33m│\u001b[0m                             \u001b[33m│\u001b[0m\n",
       "\u001b[33m│\u001b[0m Image: 2023_12_14_image_020 \u001b[33m│\u001b[0m\n",
       "\u001b[33m│\u001b[0m                             \u001b[33m│\u001b[0m\n",
       "\u001b[33m╰─────────────────────────────╯\u001b[0m\n"
      ]
     },
     "metadata": {},
     "output_type": "display_data"
    },
    {
     "data": {
      "text/html": [
       "<pre style=\"white-space:pre;overflow-x:auto;line-height:normal;font-family:Menlo,'DejaVu Sans Mono',consolas,'Courier New',monospace\"><span style=\"color: #808000; text-decoration-color: #808000\">╭── Cytoplasm segmentation ───╮</span>\n",
       "<span style=\"color: #808000; text-decoration-color: #808000\">│</span> Segmentation started!       <span style=\"color: #808000; text-decoration-color: #808000\">│</span>\n",
       "<span style=\"color: #808000; text-decoration-color: #808000\">│</span>                             <span style=\"color: #808000; text-decoration-color: #808000\">│</span>\n",
       "<span style=\"color: #808000; text-decoration-color: #808000\">│</span> Image: 2023_12_14_image_016 <span style=\"color: #808000; text-decoration-color: #808000\">│</span>\n",
       "<span style=\"color: #808000; text-decoration-color: #808000\">│</span>                             <span style=\"color: #808000; text-decoration-color: #808000\">│</span>\n",
       "<span style=\"color: #808000; text-decoration-color: #808000\">╰─────────────────────────────╯</span>\n",
       "</pre>\n"
      ],
      "text/plain": [
       "\u001b[33m╭─\u001b[0m\u001b[33m─\u001b[0m\u001b[33m Cytoplasm segmentation \u001b[0m\u001b[33m──\u001b[0m\u001b[33m─╮\u001b[0m\n",
       "\u001b[33m│\u001b[0m Segmentation started!       \u001b[33m│\u001b[0m\n",
       "\u001b[33m│\u001b[0m                             \u001b[33m│\u001b[0m\n",
       "\u001b[33m│\u001b[0m Image: 2023_12_14_image_016 \u001b[33m│\u001b[0m\n",
       "\u001b[33m│\u001b[0m                             \u001b[33m│\u001b[0m\n",
       "\u001b[33m╰─────────────────────────────╯\u001b[0m\n"
      ]
     },
     "metadata": {},
     "output_type": "display_data"
    },
    {
     "data": {
      "text/html": [
       "<pre style=\"white-space:pre;overflow-x:auto;line-height:normal;font-family:Menlo,'DejaVu Sans Mono',consolas,'Courier New',monospace\"><span style=\"color: #808000; text-decoration-color: #808000\">╭── Cytoplasm segmentation ───╮</span>\n",
       "<span style=\"color: #808000; text-decoration-color: #808000\">│</span> Segmentation started!       <span style=\"color: #808000; text-decoration-color: #808000\">│</span>\n",
       "<span style=\"color: #808000; text-decoration-color: #808000\">│</span>                             <span style=\"color: #808000; text-decoration-color: #808000\">│</span>\n",
       "<span style=\"color: #808000; text-decoration-color: #808000\">│</span> Image: 2023_12_14_image_014 <span style=\"color: #808000; text-decoration-color: #808000\">│</span>\n",
       "<span style=\"color: #808000; text-decoration-color: #808000\">│</span>                             <span style=\"color: #808000; text-decoration-color: #808000\">│</span>\n",
       "<span style=\"color: #808000; text-decoration-color: #808000\">╰─────────────────────────────╯</span>\n",
       "</pre>\n"
      ],
      "text/plain": [
       "\u001b[33m╭─\u001b[0m\u001b[33m─\u001b[0m\u001b[33m Cytoplasm segmentation \u001b[0m\u001b[33m──\u001b[0m\u001b[33m─╮\u001b[0m\n",
       "\u001b[33m│\u001b[0m Segmentation started!       \u001b[33m│\u001b[0m\n",
       "\u001b[33m│\u001b[0m                             \u001b[33m│\u001b[0m\n",
       "\u001b[33m│\u001b[0m Image: 2023_12_14_image_014 \u001b[33m│\u001b[0m\n",
       "\u001b[33m│\u001b[0m                             \u001b[33m│\u001b[0m\n",
       "\u001b[33m╰─────────────────────────────╯\u001b[0m\n"
      ]
     },
     "metadata": {},
     "output_type": "display_data"
    },
    {
     "data": {
      "text/html": [
       "<pre style=\"white-space:pre;overflow-x:auto;line-height:normal;font-family:Menlo,'DejaVu Sans Mono',consolas,'Courier New',monospace\"><span style=\"color: #808000; text-decoration-color: #808000\">╭── Cytoplasm segmentation ───╮</span>\n",
       "<span style=\"color: #808000; text-decoration-color: #808000\">│</span> Segmentation started!       <span style=\"color: #808000; text-decoration-color: #808000\">│</span>\n",
       "<span style=\"color: #808000; text-decoration-color: #808000\">│</span>                             <span style=\"color: #808000; text-decoration-color: #808000\">│</span>\n",
       "<span style=\"color: #808000; text-decoration-color: #808000\">│</span> Image: 2023_12_14_image_035 <span style=\"color: #808000; text-decoration-color: #808000\">│</span>\n",
       "<span style=\"color: #808000; text-decoration-color: #808000\">│</span>                             <span style=\"color: #808000; text-decoration-color: #808000\">│</span>\n",
       "<span style=\"color: #808000; text-decoration-color: #808000\">╰─────────────────────────────╯</span>\n",
       "</pre>\n"
      ],
      "text/plain": [
       "\u001b[33m╭─\u001b[0m\u001b[33m─\u001b[0m\u001b[33m Cytoplasm segmentation \u001b[0m\u001b[33m──\u001b[0m\u001b[33m─╮\u001b[0m\n",
       "\u001b[33m│\u001b[0m Segmentation started!       \u001b[33m│\u001b[0m\n",
       "\u001b[33m│\u001b[0m                             \u001b[33m│\u001b[0m\n",
       "\u001b[33m│\u001b[0m Image: 2023_12_14_image_035 \u001b[33m│\u001b[0m\n",
       "\u001b[33m│\u001b[0m                             \u001b[33m│\u001b[0m\n",
       "\u001b[33m╰─────────────────────────────╯\u001b[0m\n"
      ]
     },
     "metadata": {},
     "output_type": "display_data"
    },
    {
     "data": {
      "text/html": [
       "<pre style=\"white-space:pre;overflow-x:auto;line-height:normal;font-family:Menlo,'DejaVu Sans Mono',consolas,'Courier New',monospace\"><span style=\"color: #808000; text-decoration-color: #808000\">╭── Cytoplasm segmentation ───╮</span>\n",
       "<span style=\"color: #808000; text-decoration-color: #808000\">│</span> Segmentation started!       <span style=\"color: #808000; text-decoration-color: #808000\">│</span>\n",
       "<span style=\"color: #808000; text-decoration-color: #808000\">│</span>                             <span style=\"color: #808000; text-decoration-color: #808000\">│</span>\n",
       "<span style=\"color: #808000; text-decoration-color: #808000\">│</span> Image: 2023_12_14_image_031 <span style=\"color: #808000; text-decoration-color: #808000\">│</span>\n",
       "<span style=\"color: #808000; text-decoration-color: #808000\">│</span>                             <span style=\"color: #808000; text-decoration-color: #808000\">│</span>\n",
       "<span style=\"color: #808000; text-decoration-color: #808000\">╰─────────────────────────────╯</span>\n",
       "</pre>\n"
      ],
      "text/plain": [
       "\u001b[33m╭─\u001b[0m\u001b[33m─\u001b[0m\u001b[33m Cytoplasm segmentation \u001b[0m\u001b[33m──\u001b[0m\u001b[33m─╮\u001b[0m\n",
       "\u001b[33m│\u001b[0m Segmentation started!       \u001b[33m│\u001b[0m\n",
       "\u001b[33m│\u001b[0m                             \u001b[33m│\u001b[0m\n",
       "\u001b[33m│\u001b[0m Image: 2023_12_14_image_031 \u001b[33m│\u001b[0m\n",
       "\u001b[33m│\u001b[0m                             \u001b[33m│\u001b[0m\n",
       "\u001b[33m╰─────────────────────────────╯\u001b[0m\n"
      ]
     },
     "metadata": {},
     "output_type": "display_data"
    },
    {
     "data": {
      "text/html": [
       "<pre style=\"white-space:pre;overflow-x:auto;line-height:normal;font-family:Menlo,'DejaVu Sans Mono',consolas,'Courier New',monospace\"><span style=\"color: #808000; text-decoration-color: #808000\">╭── Cytoplasm segmentation ───╮</span>\n",
       "<span style=\"color: #808000; text-decoration-color: #808000\">│</span> Segmentation started!       <span style=\"color: #808000; text-decoration-color: #808000\">│</span>\n",
       "<span style=\"color: #808000; text-decoration-color: #808000\">│</span>                             <span style=\"color: #808000; text-decoration-color: #808000\">│</span>\n",
       "<span style=\"color: #808000; text-decoration-color: #808000\">│</span> Image: 2023_12_14_image_026 <span style=\"color: #808000; text-decoration-color: #808000\">│</span>\n",
       "<span style=\"color: #808000; text-decoration-color: #808000\">│</span>                             <span style=\"color: #808000; text-decoration-color: #808000\">│</span>\n",
       "<span style=\"color: #808000; text-decoration-color: #808000\">╰─────────────────────────────╯</span>\n",
       "</pre>\n"
      ],
      "text/plain": [
       "\u001b[33m╭─\u001b[0m\u001b[33m─\u001b[0m\u001b[33m Cytoplasm segmentation \u001b[0m\u001b[33m──\u001b[0m\u001b[33m─╮\u001b[0m\n",
       "\u001b[33m│\u001b[0m Segmentation started!       \u001b[33m│\u001b[0m\n",
       "\u001b[33m│\u001b[0m                             \u001b[33m│\u001b[0m\n",
       "\u001b[33m│\u001b[0m Image: 2023_12_14_image_026 \u001b[33m│\u001b[0m\n",
       "\u001b[33m│\u001b[0m                             \u001b[33m│\u001b[0m\n",
       "\u001b[33m╰─────────────────────────────╯\u001b[0m\n"
      ]
     },
     "metadata": {},
     "output_type": "display_data"
    },
    {
     "data": {
      "text/html": [
       "<pre style=\"white-space:pre;overflow-x:auto;line-height:normal;font-family:Menlo,'DejaVu Sans Mono',consolas,'Courier New',monospace\"><span style=\"color: #808000; text-decoration-color: #808000\">╭── Cytoplasm segmentation ───╮</span>\n",
       "<span style=\"color: #808000; text-decoration-color: #808000\">│</span> Segmentation started!       <span style=\"color: #808000; text-decoration-color: #808000\">│</span>\n",
       "<span style=\"color: #808000; text-decoration-color: #808000\">│</span>                             <span style=\"color: #808000; text-decoration-color: #808000\">│</span>\n",
       "<span style=\"color: #808000; text-decoration-color: #808000\">│</span> Image: 2023_12_14_image_008 <span style=\"color: #808000; text-decoration-color: #808000\">│</span>\n",
       "<span style=\"color: #808000; text-decoration-color: #808000\">│</span>                             <span style=\"color: #808000; text-decoration-color: #808000\">│</span>\n",
       "<span style=\"color: #808000; text-decoration-color: #808000\">╰─────────────────────────────╯</span>\n",
       "</pre>\n"
      ],
      "text/plain": [
       "\u001b[33m╭─\u001b[0m\u001b[33m─\u001b[0m\u001b[33m Cytoplasm segmentation \u001b[0m\u001b[33m──\u001b[0m\u001b[33m─╮\u001b[0m\n",
       "\u001b[33m│\u001b[0m Segmentation started!       \u001b[33m│\u001b[0m\n",
       "\u001b[33m│\u001b[0m                             \u001b[33m│\u001b[0m\n",
       "\u001b[33m│\u001b[0m Image: 2023_12_14_image_008 \u001b[33m│\u001b[0m\n",
       "\u001b[33m│\u001b[0m                             \u001b[33m│\u001b[0m\n",
       "\u001b[33m╰─────────────────────────────╯\u001b[0m\n"
      ]
     },
     "metadata": {},
     "output_type": "display_data"
    },
    {
     "data": {
      "text/html": [
       "<pre style=\"white-space:pre;overflow-x:auto;line-height:normal;font-family:Menlo,'DejaVu Sans Mono',consolas,'Courier New',monospace\"><span style=\"color: #808000; text-decoration-color: #808000\">╭── Cytoplasm segmentation ───╮</span>\n",
       "<span style=\"color: #808000; text-decoration-color: #808000\">│</span> Segmentation started!       <span style=\"color: #808000; text-decoration-color: #808000\">│</span>\n",
       "<span style=\"color: #808000; text-decoration-color: #808000\">│</span>                             <span style=\"color: #808000; text-decoration-color: #808000\">│</span>\n",
       "<span style=\"color: #808000; text-decoration-color: #808000\">│</span> Image: 2023_12_14_image_024 <span style=\"color: #808000; text-decoration-color: #808000\">│</span>\n",
       "<span style=\"color: #808000; text-decoration-color: #808000\">│</span>                             <span style=\"color: #808000; text-decoration-color: #808000\">│</span>\n",
       "<span style=\"color: #808000; text-decoration-color: #808000\">╰─────────────────────────────╯</span>\n",
       "</pre>\n"
      ],
      "text/plain": [
       "\u001b[33m╭─\u001b[0m\u001b[33m─\u001b[0m\u001b[33m Cytoplasm segmentation \u001b[0m\u001b[33m──\u001b[0m\u001b[33m─╮\u001b[0m\n",
       "\u001b[33m│\u001b[0m Segmentation started!       \u001b[33m│\u001b[0m\n",
       "\u001b[33m│\u001b[0m                             \u001b[33m│\u001b[0m\n",
       "\u001b[33m│\u001b[0m Image: 2023_12_14_image_024 \u001b[33m│\u001b[0m\n",
       "\u001b[33m│\u001b[0m                             \u001b[33m│\u001b[0m\n",
       "\u001b[33m╰─────────────────────────────╯\u001b[0m\n"
      ]
     },
     "metadata": {},
     "output_type": "display_data"
    },
    {
     "data": {
      "text/html": [
       "<pre style=\"white-space:pre;overflow-x:auto;line-height:normal;font-family:Menlo,'DejaVu Sans Mono',consolas,'Courier New',monospace\"><span style=\"color: #808000; text-decoration-color: #808000\">╭── Cytoplasm segmentation ───╮</span>\n",
       "<span style=\"color: #808000; text-decoration-color: #808000\">│</span> Segmentation started!       <span style=\"color: #808000; text-decoration-color: #808000\">│</span>\n",
       "<span style=\"color: #808000; text-decoration-color: #808000\">│</span>                             <span style=\"color: #808000; text-decoration-color: #808000\">│</span>\n",
       "<span style=\"color: #808000; text-decoration-color: #808000\">│</span> Image: 2023_12_14_image_007 <span style=\"color: #808000; text-decoration-color: #808000\">│</span>\n",
       "<span style=\"color: #808000; text-decoration-color: #808000\">│</span>                             <span style=\"color: #808000; text-decoration-color: #808000\">│</span>\n",
       "<span style=\"color: #808000; text-decoration-color: #808000\">╰─────────────────────────────╯</span>\n",
       "</pre>\n"
      ],
      "text/plain": [
       "\u001b[33m╭─\u001b[0m\u001b[33m─\u001b[0m\u001b[33m Cytoplasm segmentation \u001b[0m\u001b[33m──\u001b[0m\u001b[33m─╮\u001b[0m\n",
       "\u001b[33m│\u001b[0m Segmentation started!       \u001b[33m│\u001b[0m\n",
       "\u001b[33m│\u001b[0m                             \u001b[33m│\u001b[0m\n",
       "\u001b[33m│\u001b[0m Image: 2023_12_14_image_007 \u001b[33m│\u001b[0m\n",
       "\u001b[33m│\u001b[0m                             \u001b[33m│\u001b[0m\n",
       "\u001b[33m╰─────────────────────────────╯\u001b[0m\n"
      ]
     },
     "metadata": {},
     "output_type": "display_data"
    },
    {
     "data": {
      "text/html": [
       "<pre style=\"white-space:pre;overflow-x:auto;line-height:normal;font-family:Menlo,'DejaVu Sans Mono',consolas,'Courier New',monospace\"><span style=\"color: #808000; text-decoration-color: #808000\">╭── Cytoplasm segmentation ───╮</span>\n",
       "<span style=\"color: #808000; text-decoration-color: #808000\">│</span> Segmentation started!       <span style=\"color: #808000; text-decoration-color: #808000\">│</span>\n",
       "<span style=\"color: #808000; text-decoration-color: #808000\">│</span>                             <span style=\"color: #808000; text-decoration-color: #808000\">│</span>\n",
       "<span style=\"color: #808000; text-decoration-color: #808000\">│</span> Image: 2023_12_14_image_034 <span style=\"color: #808000; text-decoration-color: #808000\">│</span>\n",
       "<span style=\"color: #808000; text-decoration-color: #808000\">│</span>                             <span style=\"color: #808000; text-decoration-color: #808000\">│</span>\n",
       "<span style=\"color: #808000; text-decoration-color: #808000\">╰─────────────────────────────╯</span>\n",
       "</pre>\n"
      ],
      "text/plain": [
       "\u001b[33m╭─\u001b[0m\u001b[33m─\u001b[0m\u001b[33m Cytoplasm segmentation \u001b[0m\u001b[33m──\u001b[0m\u001b[33m─╮\u001b[0m\n",
       "\u001b[33m│\u001b[0m Segmentation started!       \u001b[33m│\u001b[0m\n",
       "\u001b[33m│\u001b[0m                             \u001b[33m│\u001b[0m\n",
       "\u001b[33m│\u001b[0m Image: 2023_12_14_image_034 \u001b[33m│\u001b[0m\n",
       "\u001b[33m│\u001b[0m                             \u001b[33m│\u001b[0m\n",
       "\u001b[33m╰─────────────────────────────╯\u001b[0m\n"
      ]
     },
     "metadata": {},
     "output_type": "display_data"
    },
    {
     "data": {
      "text/html": [
       "<pre style=\"white-space:pre;overflow-x:auto;line-height:normal;font-family:Menlo,'DejaVu Sans Mono',consolas,'Courier New',monospace\"><span style=\"color: #808000; text-decoration-color: #808000\">╭── Cytoplasm segmentation ───╮</span>\n",
       "<span style=\"color: #808000; text-decoration-color: #808000\">│</span> Segmentation started!       <span style=\"color: #808000; text-decoration-color: #808000\">│</span>\n",
       "<span style=\"color: #808000; text-decoration-color: #808000\">│</span>                             <span style=\"color: #808000; text-decoration-color: #808000\">│</span>\n",
       "<span style=\"color: #808000; text-decoration-color: #808000\">│</span> Image: 2023_12_14_image_033 <span style=\"color: #808000; text-decoration-color: #808000\">│</span>\n",
       "<span style=\"color: #808000; text-decoration-color: #808000\">│</span>                             <span style=\"color: #808000; text-decoration-color: #808000\">│</span>\n",
       "<span style=\"color: #808000; text-decoration-color: #808000\">╰─────────────────────────────╯</span>\n",
       "</pre>\n"
      ],
      "text/plain": [
       "\u001b[33m╭─\u001b[0m\u001b[33m─\u001b[0m\u001b[33m Cytoplasm segmentation \u001b[0m\u001b[33m──\u001b[0m\u001b[33m─╮\u001b[0m\n",
       "\u001b[33m│\u001b[0m Segmentation started!       \u001b[33m│\u001b[0m\n",
       "\u001b[33m│\u001b[0m                             \u001b[33m│\u001b[0m\n",
       "\u001b[33m│\u001b[0m Image: 2023_12_14_image_033 \u001b[33m│\u001b[0m\n",
       "\u001b[33m│\u001b[0m                             \u001b[33m│\u001b[0m\n",
       "\u001b[33m╰─────────────────────────────╯\u001b[0m\n"
      ]
     },
     "metadata": {},
     "output_type": "display_data"
    }
   ],
   "source": [
    "import mahotas as mh\n",
    "import pandas as pd\n",
    "import numpy as np\n",
    "import pathlib\n",
    "import time\n",
    "import matplotlib.pyplot as plt\n",
    "\n",
    "images_path = pathlib.Path(\"Images/all_images\")\n",
    "labels_path = pathlib.Path(\"Labels/orig/cytoplasm\")\n",
    "\n",
    "results_cytoplasm = pd.DataFrame(columns=[\"image\", \"F1\", \"time\", \"method\"])\n",
    "\n",
    "for image_path in images_path.glob(\"*.png\"):\n",
    "    if (labels_path / images_path.name).exists():\n",
    "        continue\n",
    "    \n",
    "    img = mh.imread(image_path)\n",
    "    img_name = str(image_path.stem).split(\"/\")[-1]\n",
    "    label = labels_path / f\"{img_name}.npy\"\n",
    "    \n",
    "    t1 = time.monotonic()\n",
    "    \n",
    "    cytoplasm, f1 = watershed_cytoplasm(img_path=image_path, label_path=label, **params)\n",
    "    \n",
    "    t2 = time.monotonic()\n",
    "    t = t2 - t1\n",
    "    \n",
    "    plt.imsave(f\"Watershed/cytoplasm/{img_name}_cytoplasm.png\", cytoplasm)\n",
    "    \n",
    "    # results = results.concat(pd.DataFrame({\"image\": [img_name], \"F1\": [f1], \"time\": [time], \"method\": [\"watershed\"]}))\n",
    "    results_cytoplasm = pd.concat([results_cytoplasm, pd.DataFrame({\"image\": [img_name], \"F1\": [f1], \"time\": [t], \"method\": [\"watershed\"]})])"
   ]
  },
  {
   "cell_type": "code",
   "execution_count": 22,
   "metadata": {},
   "outputs": [
    {
     "data": {
      "text/html": [
       "<div>\n",
       "<style scoped>\n",
       "    .dataframe tbody tr th:only-of-type {\n",
       "        vertical-align: middle;\n",
       "    }\n",
       "\n",
       "    .dataframe tbody tr th {\n",
       "        vertical-align: top;\n",
       "    }\n",
       "\n",
       "    .dataframe thead th {\n",
       "        text-align: right;\n",
       "    }\n",
       "</style>\n",
       "<table border=\"1\" class=\"dataframe\">\n",
       "  <thead>\n",
       "    <tr style=\"text-align: right;\">\n",
       "      <th></th>\n",
       "      <th>F1</th>\n",
       "      <th>time</th>\n",
       "    </tr>\n",
       "  </thead>\n",
       "  <tbody>\n",
       "    <tr>\n",
       "      <th>count</th>\n",
       "      <td>50.000000</td>\n",
       "      <td>50.000000</td>\n",
       "    </tr>\n",
       "    <tr>\n",
       "      <th>mean</th>\n",
       "      <td>0.865671</td>\n",
       "      <td>28.120082</td>\n",
       "    </tr>\n",
       "    <tr>\n",
       "      <th>std</th>\n",
       "      <td>0.042333</td>\n",
       "      <td>1.340561</td>\n",
       "    </tr>\n",
       "    <tr>\n",
       "      <th>min</th>\n",
       "      <td>0.768460</td>\n",
       "      <td>25.004649</td>\n",
       "    </tr>\n",
       "    <tr>\n",
       "      <th>25%</th>\n",
       "      <td>0.845202</td>\n",
       "      <td>27.409377</td>\n",
       "    </tr>\n",
       "    <tr>\n",
       "      <th>50%</th>\n",
       "      <td>0.872025</td>\n",
       "      <td>27.763843</td>\n",
       "    </tr>\n",
       "    <tr>\n",
       "      <th>75%</th>\n",
       "      <td>0.889647</td>\n",
       "      <td>28.485608</td>\n",
       "    </tr>\n",
       "    <tr>\n",
       "      <th>max</th>\n",
       "      <td>0.959843</td>\n",
       "      <td>32.001654</td>\n",
       "    </tr>\n",
       "  </tbody>\n",
       "</table>\n",
       "</div>"
      ],
      "text/plain": [
       "              F1       time\n",
       "count  50.000000  50.000000\n",
       "mean    0.865671  28.120082\n",
       "std     0.042333   1.340561\n",
       "min     0.768460  25.004649\n",
       "25%     0.845202  27.409377\n",
       "50%     0.872025  27.763843\n",
       "75%     0.889647  28.485608\n",
       "max     0.959843  32.001654"
      ]
     },
     "execution_count": 22,
     "metadata": {},
     "output_type": "execute_result"
    }
   ],
   "source": [
    "results_cytoplasm.describe()"
   ]
  },
  {
   "cell_type": "code",
   "execution_count": 23,
   "metadata": {},
   "outputs": [
    {
     "data": {
      "text/html": [
       "<div>\n",
       "<style scoped>\n",
       "    .dataframe tbody tr th:only-of-type {\n",
       "        vertical-align: middle;\n",
       "    }\n",
       "\n",
       "    .dataframe tbody tr th {\n",
       "        vertical-align: top;\n",
       "    }\n",
       "\n",
       "    .dataframe thead th {\n",
       "        text-align: right;\n",
       "    }\n",
       "</style>\n",
       "<table border=\"1\" class=\"dataframe\">\n",
       "  <thead>\n",
       "    <tr style=\"text-align: right;\">\n",
       "      <th></th>\n",
       "      <th>image</th>\n",
       "      <th>F1</th>\n",
       "      <th>time</th>\n",
       "      <th>method</th>\n",
       "      <th>type</th>\n",
       "    </tr>\n",
       "  </thead>\n",
       "  <tbody>\n",
       "    <tr>\n",
       "      <th>0</th>\n",
       "      <td>2023_12_14_image_041</td>\n",
       "      <td>0.898528</td>\n",
       "      <td>25.004649</td>\n",
       "      <td>watershed</td>\n",
       "      <td>cytoplasm</td>\n",
       "    </tr>\n",
       "    <tr>\n",
       "      <th>0</th>\n",
       "      <td>2023_12_14_image_040</td>\n",
       "      <td>0.837764</td>\n",
       "      <td>25.454719</td>\n",
       "      <td>watershed</td>\n",
       "      <td>cytoplasm</td>\n",
       "    </tr>\n",
       "    <tr>\n",
       "      <th>0</th>\n",
       "      <td>2023_12_14_image_043</td>\n",
       "      <td>0.824692</td>\n",
       "      <td>26.844102</td>\n",
       "      <td>watershed</td>\n",
       "      <td>cytoplasm</td>\n",
       "    </tr>\n",
       "    <tr>\n",
       "      <th>0</th>\n",
       "      <td>2023_12_14_image_005</td>\n",
       "      <td>0.801802</td>\n",
       "      <td>27.383406</td>\n",
       "      <td>watershed</td>\n",
       "      <td>cytoplasm</td>\n",
       "    </tr>\n",
       "    <tr>\n",
       "      <th>0</th>\n",
       "      <td>2023_12_14_image_029</td>\n",
       "      <td>0.869673</td>\n",
       "      <td>27.395784</td>\n",
       "      <td>watershed</td>\n",
       "      <td>cytoplasm</td>\n",
       "    </tr>\n",
       "    <tr>\n",
       "      <th>0</th>\n",
       "      <td>2023_12_14_image_027</td>\n",
       "      <td>0.946670</td>\n",
       "      <td>27.780439</td>\n",
       "      <td>watershed</td>\n",
       "      <td>cytoplasm</td>\n",
       "    </tr>\n",
       "    <tr>\n",
       "      <th>0</th>\n",
       "      <td>2023_12_14_image_039</td>\n",
       "      <td>0.855329</td>\n",
       "      <td>27.224938</td>\n",
       "      <td>watershed</td>\n",
       "      <td>cytoplasm</td>\n",
       "    </tr>\n",
       "    <tr>\n",
       "      <th>0</th>\n",
       "      <td>2023_12_14_image_037</td>\n",
       "      <td>0.849223</td>\n",
       "      <td>27.892085</td>\n",
       "      <td>watershed</td>\n",
       "      <td>cytoplasm</td>\n",
       "    </tr>\n",
       "    <tr>\n",
       "      <th>0</th>\n",
       "      <td>2023_12_14_image_045</td>\n",
       "      <td>0.797533</td>\n",
       "      <td>28.208415</td>\n",
       "      <td>watershed</td>\n",
       "      <td>cytoplasm</td>\n",
       "    </tr>\n",
       "    <tr>\n",
       "      <th>0</th>\n",
       "      <td>2023_12_14_image_000</td>\n",
       "      <td>0.893781</td>\n",
       "      <td>28.865014</td>\n",
       "      <td>watershed</td>\n",
       "      <td>cytoplasm</td>\n",
       "    </tr>\n",
       "    <tr>\n",
       "      <th>0</th>\n",
       "      <td>2023_12_14_image_015</td>\n",
       "      <td>0.884230</td>\n",
       "      <td>29.784028</td>\n",
       "      <td>watershed</td>\n",
       "      <td>cytoplasm</td>\n",
       "    </tr>\n",
       "    <tr>\n",
       "      <th>0</th>\n",
       "      <td>2023_12_14_image_017</td>\n",
       "      <td>0.874752</td>\n",
       "      <td>28.578005</td>\n",
       "      <td>watershed</td>\n",
       "      <td>cytoplasm</td>\n",
       "    </tr>\n",
       "    <tr>\n",
       "      <th>0</th>\n",
       "      <td>2023_12_14_image_003</td>\n",
       "      <td>0.784606</td>\n",
       "      <td>29.901289</td>\n",
       "      <td>watershed</td>\n",
       "      <td>cytoplasm</td>\n",
       "    </tr>\n",
       "    <tr>\n",
       "      <th>0</th>\n",
       "      <td>2023_12_14_image_022</td>\n",
       "      <td>0.880152</td>\n",
       "      <td>31.182254</td>\n",
       "      <td>watershed</td>\n",
       "      <td>cytoplasm</td>\n",
       "    </tr>\n",
       "    <tr>\n",
       "      <th>0</th>\n",
       "      <td>2023_12_14_image_044</td>\n",
       "      <td>0.939873</td>\n",
       "      <td>27.727002</td>\n",
       "      <td>watershed</td>\n",
       "      <td>cytoplasm</td>\n",
       "    </tr>\n",
       "    <tr>\n",
       "      <th>0</th>\n",
       "      <td>2023_12_14_image_002</td>\n",
       "      <td>0.874378</td>\n",
       "      <td>30.943515</td>\n",
       "      <td>watershed</td>\n",
       "      <td>cytoplasm</td>\n",
       "    </tr>\n",
       "    <tr>\n",
       "      <th>0</th>\n",
       "      <td>2023_12_14_image_036</td>\n",
       "      <td>0.862731</td>\n",
       "      <td>32.001654</td>\n",
       "      <td>watershed</td>\n",
       "      <td>cytoplasm</td>\n",
       "    </tr>\n",
       "    <tr>\n",
       "      <th>0</th>\n",
       "      <td>2023_12_14_image_009</td>\n",
       "      <td>0.884160</td>\n",
       "      <td>27.710974</td>\n",
       "      <td>watershed</td>\n",
       "      <td>cytoplasm</td>\n",
       "    </tr>\n",
       "    <tr>\n",
       "      <th>0</th>\n",
       "      <td>2023_12_14_image_047</td>\n",
       "      <td>0.876809</td>\n",
       "      <td>28.194093</td>\n",
       "      <td>watershed</td>\n",
       "      <td>cytoplasm</td>\n",
       "    </tr>\n",
       "    <tr>\n",
       "      <th>0</th>\n",
       "      <td>2023_12_14_image_018</td>\n",
       "      <td>0.879311</td>\n",
       "      <td>29.498460</td>\n",
       "      <td>watershed</td>\n",
       "      <td>cytoplasm</td>\n",
       "    </tr>\n",
       "    <tr>\n",
       "      <th>0</th>\n",
       "      <td>2023_12_14_image_032</td>\n",
       "      <td>0.792516</td>\n",
       "      <td>27.385380</td>\n",
       "      <td>watershed</td>\n",
       "      <td>cytoplasm</td>\n",
       "    </tr>\n",
       "    <tr>\n",
       "      <th>0</th>\n",
       "      <td>2023_12_14_image_004</td>\n",
       "      <td>0.890388</td>\n",
       "      <td>27.516791</td>\n",
       "      <td>watershed</td>\n",
       "      <td>cytoplasm</td>\n",
       "    </tr>\n",
       "    <tr>\n",
       "      <th>0</th>\n",
       "      <td>2023_12_14_image_019</td>\n",
       "      <td>0.898737</td>\n",
       "      <td>28.065096</td>\n",
       "      <td>watershed</td>\n",
       "      <td>cytoplasm</td>\n",
       "    </tr>\n",
       "    <tr>\n",
       "      <th>0</th>\n",
       "      <td>2023_12_14_image_010</td>\n",
       "      <td>0.894614</td>\n",
       "      <td>27.173344</td>\n",
       "      <td>watershed</td>\n",
       "      <td>cytoplasm</td>\n",
       "    </tr>\n",
       "    <tr>\n",
       "      <th>0</th>\n",
       "      <td>2023_12_14_image_013</td>\n",
       "      <td>0.835425</td>\n",
       "      <td>27.779451</td>\n",
       "      <td>watershed</td>\n",
       "      <td>cytoplasm</td>\n",
       "    </tr>\n",
       "    <tr>\n",
       "      <th>0</th>\n",
       "      <td>2023_12_14_image_011</td>\n",
       "      <td>0.845461</td>\n",
       "      <td>30.940421</td>\n",
       "      <td>watershed</td>\n",
       "      <td>cytoplasm</td>\n",
       "    </tr>\n",
       "    <tr>\n",
       "      <th>0</th>\n",
       "      <td>2023_12_14_image_049</td>\n",
       "      <td>0.874719</td>\n",
       "      <td>26.822756</td>\n",
       "      <td>watershed</td>\n",
       "      <td>cytoplasm</td>\n",
       "    </tr>\n",
       "    <tr>\n",
       "      <th>0</th>\n",
       "      <td>2023_12_14_image_006</td>\n",
       "      <td>0.786814</td>\n",
       "      <td>27.326902</td>\n",
       "      <td>watershed</td>\n",
       "      <td>cytoplasm</td>\n",
       "    </tr>\n",
       "    <tr>\n",
       "      <th>0</th>\n",
       "      <td>2023_12_14_image_030</td>\n",
       "      <td>0.927851</td>\n",
       "      <td>27.992044</td>\n",
       "      <td>watershed</td>\n",
       "      <td>cytoplasm</td>\n",
       "    </tr>\n",
       "    <tr>\n",
       "      <th>0</th>\n",
       "      <td>2023_12_14_image_028</td>\n",
       "      <td>0.834987</td>\n",
       "      <td>29.125722</td>\n",
       "      <td>watershed</td>\n",
       "      <td>cytoplasm</td>\n",
       "    </tr>\n",
       "    <tr>\n",
       "      <th>0</th>\n",
       "      <td>2023_12_14_image_012</td>\n",
       "      <td>0.854163</td>\n",
       "      <td>27.735923</td>\n",
       "      <td>watershed</td>\n",
       "      <td>cytoplasm</td>\n",
       "    </tr>\n",
       "    <tr>\n",
       "      <th>0</th>\n",
       "      <td>2023_12_14_image_042</td>\n",
       "      <td>0.845115</td>\n",
       "      <td>27.498700</td>\n",
       "      <td>watershed</td>\n",
       "      <td>cytoplasm</td>\n",
       "    </tr>\n",
       "    <tr>\n",
       "      <th>0</th>\n",
       "      <td>2023_12_14_image_025</td>\n",
       "      <td>0.930497</td>\n",
       "      <td>27.806148</td>\n",
       "      <td>watershed</td>\n",
       "      <td>cytoplasm</td>\n",
       "    </tr>\n",
       "    <tr>\n",
       "      <th>0</th>\n",
       "      <td>2023_12_14_image_023</td>\n",
       "      <td>0.887422</td>\n",
       "      <td>27.210143</td>\n",
       "      <td>watershed</td>\n",
       "      <td>cytoplasm</td>\n",
       "    </tr>\n",
       "    <tr>\n",
       "      <th>0</th>\n",
       "      <td>2023_12_14_image_038</td>\n",
       "      <td>0.881771</td>\n",
       "      <td>27.054994</td>\n",
       "      <td>watershed</td>\n",
       "      <td>cytoplasm</td>\n",
       "    </tr>\n",
       "    <tr>\n",
       "      <th>0</th>\n",
       "      <td>2023_12_14_image_048</td>\n",
       "      <td>0.862956</td>\n",
       "      <td>27.773411</td>\n",
       "      <td>watershed</td>\n",
       "      <td>cytoplasm</td>\n",
       "    </tr>\n",
       "    <tr>\n",
       "      <th>0</th>\n",
       "      <td>2023_12_14_image_046</td>\n",
       "      <td>0.884734</td>\n",
       "      <td>27.649667</td>\n",
       "      <td>watershed</td>\n",
       "      <td>cytoplasm</td>\n",
       "    </tr>\n",
       "    <tr>\n",
       "      <th>0</th>\n",
       "      <td>2023_12_14_image_021</td>\n",
       "      <td>0.824888</td>\n",
       "      <td>27.399137</td>\n",
       "      <td>watershed</td>\n",
       "      <td>cytoplasm</td>\n",
       "    </tr>\n",
       "    <tr>\n",
       "      <th>0</th>\n",
       "      <td>2023_12_14_image_001</td>\n",
       "      <td>0.897278</td>\n",
       "      <td>27.440097</td>\n",
       "      <td>watershed</td>\n",
       "      <td>cytoplasm</td>\n",
       "    </tr>\n",
       "    <tr>\n",
       "      <th>0</th>\n",
       "      <td>2023_12_14_image_020</td>\n",
       "      <td>0.768460</td>\n",
       "      <td>27.488626</td>\n",
       "      <td>watershed</td>\n",
       "      <td>cytoplasm</td>\n",
       "    </tr>\n",
       "    <tr>\n",
       "      <th>0</th>\n",
       "      <td>2023_12_14_image_016</td>\n",
       "      <td>0.857391</td>\n",
       "      <td>27.919118</td>\n",
       "      <td>watershed</td>\n",
       "      <td>cytoplasm</td>\n",
       "    </tr>\n",
       "    <tr>\n",
       "      <th>0</th>\n",
       "      <td>2023_12_14_image_014</td>\n",
       "      <td>0.881681</td>\n",
       "      <td>29.519337</td>\n",
       "      <td>watershed</td>\n",
       "      <td>cytoplasm</td>\n",
       "    </tr>\n",
       "    <tr>\n",
       "      <th>0</th>\n",
       "      <td>2023_12_14_image_035</td>\n",
       "      <td>0.862532</td>\n",
       "      <td>30.463756</td>\n",
       "      <td>watershed</td>\n",
       "      <td>cytoplasm</td>\n",
       "    </tr>\n",
       "    <tr>\n",
       "      <th>0</th>\n",
       "      <td>2023_12_14_image_031</td>\n",
       "      <td>0.852934</td>\n",
       "      <td>27.695562</td>\n",
       "      <td>watershed</td>\n",
       "      <td>cytoplasm</td>\n",
       "    </tr>\n",
       "    <tr>\n",
       "      <th>0</th>\n",
       "      <td>2023_12_14_image_026</td>\n",
       "      <td>0.959843</td>\n",
       "      <td>27.790248</td>\n",
       "      <td>watershed</td>\n",
       "      <td>cytoplasm</td>\n",
       "    </tr>\n",
       "    <tr>\n",
       "      <th>0</th>\n",
       "      <td>2023_12_14_image_008</td>\n",
       "      <td>0.896072</td>\n",
       "      <td>28.730673</td>\n",
       "      <td>watershed</td>\n",
       "      <td>cytoplasm</td>\n",
       "    </tr>\n",
       "    <tr>\n",
       "      <th>0</th>\n",
       "      <td>2023_12_14_image_024</td>\n",
       "      <td>0.916499</td>\n",
       "      <td>28.013731</td>\n",
       "      <td>watershed</td>\n",
       "      <td>cytoplasm</td>\n",
       "    </tr>\n",
       "    <tr>\n",
       "      <th>0</th>\n",
       "      <td>2023_12_14_image_007</td>\n",
       "      <td>0.853818</td>\n",
       "      <td>27.754275</td>\n",
       "      <td>watershed</td>\n",
       "      <td>cytoplasm</td>\n",
       "    </tr>\n",
       "    <tr>\n",
       "      <th>0</th>\n",
       "      <td>2023_12_14_image_034</td>\n",
       "      <td>0.811198</td>\n",
       "      <td>27.608649</td>\n",
       "      <td>watershed</td>\n",
       "      <td>cytoplasm</td>\n",
       "    </tr>\n",
       "    <tr>\n",
       "      <th>0</th>\n",
       "      <td>2023_12_14_image_033</td>\n",
       "      <td>0.856772</td>\n",
       "      <td>27.749162</td>\n",
       "      <td>watershed</td>\n",
       "      <td>cytoplasm</td>\n",
       "    </tr>\n",
       "  </tbody>\n",
       "</table>\n",
       "</div>"
      ],
      "text/plain": [
       "                  image        F1       time     method       type\n",
       "0  2023_12_14_image_041  0.898528  25.004649  watershed  cytoplasm\n",
       "0  2023_12_14_image_040  0.837764  25.454719  watershed  cytoplasm\n",
       "0  2023_12_14_image_043  0.824692  26.844102  watershed  cytoplasm\n",
       "0  2023_12_14_image_005  0.801802  27.383406  watershed  cytoplasm\n",
       "0  2023_12_14_image_029  0.869673  27.395784  watershed  cytoplasm\n",
       "0  2023_12_14_image_027  0.946670  27.780439  watershed  cytoplasm\n",
       "0  2023_12_14_image_039  0.855329  27.224938  watershed  cytoplasm\n",
       "0  2023_12_14_image_037  0.849223  27.892085  watershed  cytoplasm\n",
       "0  2023_12_14_image_045  0.797533  28.208415  watershed  cytoplasm\n",
       "0  2023_12_14_image_000  0.893781  28.865014  watershed  cytoplasm\n",
       "0  2023_12_14_image_015  0.884230  29.784028  watershed  cytoplasm\n",
       "0  2023_12_14_image_017  0.874752  28.578005  watershed  cytoplasm\n",
       "0  2023_12_14_image_003  0.784606  29.901289  watershed  cytoplasm\n",
       "0  2023_12_14_image_022  0.880152  31.182254  watershed  cytoplasm\n",
       "0  2023_12_14_image_044  0.939873  27.727002  watershed  cytoplasm\n",
       "0  2023_12_14_image_002  0.874378  30.943515  watershed  cytoplasm\n",
       "0  2023_12_14_image_036  0.862731  32.001654  watershed  cytoplasm\n",
       "0  2023_12_14_image_009  0.884160  27.710974  watershed  cytoplasm\n",
       "0  2023_12_14_image_047  0.876809  28.194093  watershed  cytoplasm\n",
       "0  2023_12_14_image_018  0.879311  29.498460  watershed  cytoplasm\n",
       "0  2023_12_14_image_032  0.792516  27.385380  watershed  cytoplasm\n",
       "0  2023_12_14_image_004  0.890388  27.516791  watershed  cytoplasm\n",
       "0  2023_12_14_image_019  0.898737  28.065096  watershed  cytoplasm\n",
       "0  2023_12_14_image_010  0.894614  27.173344  watershed  cytoplasm\n",
       "0  2023_12_14_image_013  0.835425  27.779451  watershed  cytoplasm\n",
       "0  2023_12_14_image_011  0.845461  30.940421  watershed  cytoplasm\n",
       "0  2023_12_14_image_049  0.874719  26.822756  watershed  cytoplasm\n",
       "0  2023_12_14_image_006  0.786814  27.326902  watershed  cytoplasm\n",
       "0  2023_12_14_image_030  0.927851  27.992044  watershed  cytoplasm\n",
       "0  2023_12_14_image_028  0.834987  29.125722  watershed  cytoplasm\n",
       "0  2023_12_14_image_012  0.854163  27.735923  watershed  cytoplasm\n",
       "0  2023_12_14_image_042  0.845115  27.498700  watershed  cytoplasm\n",
       "0  2023_12_14_image_025  0.930497  27.806148  watershed  cytoplasm\n",
       "0  2023_12_14_image_023  0.887422  27.210143  watershed  cytoplasm\n",
       "0  2023_12_14_image_038  0.881771  27.054994  watershed  cytoplasm\n",
       "0  2023_12_14_image_048  0.862956  27.773411  watershed  cytoplasm\n",
       "0  2023_12_14_image_046  0.884734  27.649667  watershed  cytoplasm\n",
       "0  2023_12_14_image_021  0.824888  27.399137  watershed  cytoplasm\n",
       "0  2023_12_14_image_001  0.897278  27.440097  watershed  cytoplasm\n",
       "0  2023_12_14_image_020  0.768460  27.488626  watershed  cytoplasm\n",
       "0  2023_12_14_image_016  0.857391  27.919118  watershed  cytoplasm\n",
       "0  2023_12_14_image_014  0.881681  29.519337  watershed  cytoplasm\n",
       "0  2023_12_14_image_035  0.862532  30.463756  watershed  cytoplasm\n",
       "0  2023_12_14_image_031  0.852934  27.695562  watershed  cytoplasm\n",
       "0  2023_12_14_image_026  0.959843  27.790248  watershed  cytoplasm\n",
       "0  2023_12_14_image_008  0.896072  28.730673  watershed  cytoplasm\n",
       "0  2023_12_14_image_024  0.916499  28.013731  watershed  cytoplasm\n",
       "0  2023_12_14_image_007  0.853818  27.754275  watershed  cytoplasm\n",
       "0  2023_12_14_image_034  0.811198  27.608649  watershed  cytoplasm\n",
       "0  2023_12_14_image_033  0.856772  27.749162  watershed  cytoplasm"
      ]
     },
     "execution_count": 23,
     "metadata": {},
     "output_type": "execute_result"
    }
   ],
   "source": [
    "results_cytoplasm[\"type\"] = \"cytoplasm\"\n",
    "results_cytoplasm"
   ]
  },
  {
   "cell_type": "code",
   "execution_count": 24,
   "metadata": {},
   "outputs": [],
   "source": [
    "results_cytoplasm.to_csv(\"results_cytoplasm.csv\", index=False)"
   ]
  },
  {
   "cell_type": "code",
   "execution_count": 1,
   "metadata": {},
   "outputs": [
    {
     "name": "stderr",
     "output_type": "stream",
     "text": [
      "/home/petka/projects/UJEP/bakalarka/segmentace-bunek/.venv/lib/python3.10/site-packages/tqdm/auto.py:21: TqdmWarning: IProgress not found. Please update jupyter and ipywidgets. See https://ipywidgets.readthedocs.io/en/stable/user_install.html\n",
      "  from .autonotebook import tqdm as notebook_tqdm\n"
     ]
    },
    {
     "name": "stdout",
     "output_type": "stream",
     "text": [
      "{'radius': 32, 'percent': 852, 'threshold': 7, 'mask_size': 3, 'iterations': 5, 'min_size': 60}\n"
     ]
    }
   ],
   "source": [
    "from optuna import load_study\n",
    "from cellseg.src.watershed import watershed_cytoplasm\n",
    "import pathlib\n",
    "\n",
    "study = load_study(storage=\"sqlite:///params.db\", study_name=\"nucleis_segmentation\")\n",
    "params = study.best_params\n",
    "print(params)"
   ]
  },
  {
   "cell_type": "code",
   "execution_count": 2,
   "metadata": {},
   "outputs": [
    {
     "data": {
      "text/html": [
       "<pre style=\"white-space:pre;overflow-x:auto;line-height:normal;font-family:Menlo,'DejaVu Sans Mono',consolas,'Courier New',monospace\"><span style=\"color: #808000; text-decoration-color: #808000\">╭─── Nucleus segmentation ────╮</span>\n",
       "<span style=\"color: #808000; text-decoration-color: #808000\">│</span> Segmentation started!       <span style=\"color: #808000; text-decoration-color: #808000\">│</span>\n",
       "<span style=\"color: #808000; text-decoration-color: #808000\">│</span>                             <span style=\"color: #808000; text-decoration-color: #808000\">│</span>\n",
       "<span style=\"color: #808000; text-decoration-color: #808000\">│</span> Image: 2023_12_14_image_041 <span style=\"color: #808000; text-decoration-color: #808000\">│</span>\n",
       "<span style=\"color: #808000; text-decoration-color: #808000\">│</span>                             <span style=\"color: #808000; text-decoration-color: #808000\">│</span>\n",
       "<span style=\"color: #808000; text-decoration-color: #808000\">╰─────────────────────────────╯</span>\n",
       "</pre>\n"
      ],
      "text/plain": [
       "\u001b[33m╭─\u001b[0m\u001b[33m──\u001b[0m\u001b[33m Nucleus segmentation \u001b[0m\u001b[33m───\u001b[0m\u001b[33m─╮\u001b[0m\n",
       "\u001b[33m│\u001b[0m Segmentation started!       \u001b[33m│\u001b[0m\n",
       "\u001b[33m│\u001b[0m                             \u001b[33m│\u001b[0m\n",
       "\u001b[33m│\u001b[0m Image: 2023_12_14_image_041 \u001b[33m│\u001b[0m\n",
       "\u001b[33m│\u001b[0m                             \u001b[33m│\u001b[0m\n",
       "\u001b[33m╰─────────────────────────────╯\u001b[0m\n"
      ]
     },
     "metadata": {},
     "output_type": "display_data"
    },
    {
     "name": "stderr",
     "output_type": "stream",
     "text": [
      "/tmp/ipykernel_490381/3899143294.py:31: FutureWarning: The behavior of DataFrame concatenation with empty or all-NA entries is deprecated. In a future version, this will no longer exclude empty or all-NA columns when determining the result dtypes. To retain the old behavior, exclude the relevant entries before the concat operation.\n",
      "  results_nucleus = pd.concat([results_nucleus, pd.DataFrame({\"image\": [img_name], \"F1\": [f1], \"time\": [t], \"method\": [\"watershed\"]})])\n"
     ]
    },
    {
     "data": {
      "text/html": [
       "<pre style=\"white-space:pre;overflow-x:auto;line-height:normal;font-family:Menlo,'DejaVu Sans Mono',consolas,'Courier New',monospace\"><span style=\"color: #808000; text-decoration-color: #808000\">╭─── Nucleus segmentation ────╮</span>\n",
       "<span style=\"color: #808000; text-decoration-color: #808000\">│</span> Segmentation started!       <span style=\"color: #808000; text-decoration-color: #808000\">│</span>\n",
       "<span style=\"color: #808000; text-decoration-color: #808000\">│</span>                             <span style=\"color: #808000; text-decoration-color: #808000\">│</span>\n",
       "<span style=\"color: #808000; text-decoration-color: #808000\">│</span> Image: 2023_12_14_image_040 <span style=\"color: #808000; text-decoration-color: #808000\">│</span>\n",
       "<span style=\"color: #808000; text-decoration-color: #808000\">│</span>                             <span style=\"color: #808000; text-decoration-color: #808000\">│</span>\n",
       "<span style=\"color: #808000; text-decoration-color: #808000\">╰─────────────────────────────╯</span>\n",
       "</pre>\n"
      ],
      "text/plain": [
       "\u001b[33m╭─\u001b[0m\u001b[33m──\u001b[0m\u001b[33m Nucleus segmentation \u001b[0m\u001b[33m───\u001b[0m\u001b[33m─╮\u001b[0m\n",
       "\u001b[33m│\u001b[0m Segmentation started!       \u001b[33m│\u001b[0m\n",
       "\u001b[33m│\u001b[0m                             \u001b[33m│\u001b[0m\n",
       "\u001b[33m│\u001b[0m Image: 2023_12_14_image_040 \u001b[33m│\u001b[0m\n",
       "\u001b[33m│\u001b[0m                             \u001b[33m│\u001b[0m\n",
       "\u001b[33m╰─────────────────────────────╯\u001b[0m\n"
      ]
     },
     "metadata": {},
     "output_type": "display_data"
    },
    {
     "data": {
      "text/html": [
       "<pre style=\"white-space:pre;overflow-x:auto;line-height:normal;font-family:Menlo,'DejaVu Sans Mono',consolas,'Courier New',monospace\"><span style=\"color: #808000; text-decoration-color: #808000\">╭─── Nucleus segmentation ────╮</span>\n",
       "<span style=\"color: #808000; text-decoration-color: #808000\">│</span> Segmentation started!       <span style=\"color: #808000; text-decoration-color: #808000\">│</span>\n",
       "<span style=\"color: #808000; text-decoration-color: #808000\">│</span>                             <span style=\"color: #808000; text-decoration-color: #808000\">│</span>\n",
       "<span style=\"color: #808000; text-decoration-color: #808000\">│</span> Image: 2023_12_14_image_043 <span style=\"color: #808000; text-decoration-color: #808000\">│</span>\n",
       "<span style=\"color: #808000; text-decoration-color: #808000\">│</span>                             <span style=\"color: #808000; text-decoration-color: #808000\">│</span>\n",
       "<span style=\"color: #808000; text-decoration-color: #808000\">╰─────────────────────────────╯</span>\n",
       "</pre>\n"
      ],
      "text/plain": [
       "\u001b[33m╭─\u001b[0m\u001b[33m──\u001b[0m\u001b[33m Nucleus segmentation \u001b[0m\u001b[33m───\u001b[0m\u001b[33m─╮\u001b[0m\n",
       "\u001b[33m│\u001b[0m Segmentation started!       \u001b[33m│\u001b[0m\n",
       "\u001b[33m│\u001b[0m                             \u001b[33m│\u001b[0m\n",
       "\u001b[33m│\u001b[0m Image: 2023_12_14_image_043 \u001b[33m│\u001b[0m\n",
       "\u001b[33m│\u001b[0m                             \u001b[33m│\u001b[0m\n",
       "\u001b[33m╰─────────────────────────────╯\u001b[0m\n"
      ]
     },
     "metadata": {},
     "output_type": "display_data"
    },
    {
     "data": {
      "text/html": [
       "<pre style=\"white-space:pre;overflow-x:auto;line-height:normal;font-family:Menlo,'DejaVu Sans Mono',consolas,'Courier New',monospace\"><span style=\"color: #808000; text-decoration-color: #808000\">╭─── Nucleus segmentation ────╮</span>\n",
       "<span style=\"color: #808000; text-decoration-color: #808000\">│</span> Segmentation started!       <span style=\"color: #808000; text-decoration-color: #808000\">│</span>\n",
       "<span style=\"color: #808000; text-decoration-color: #808000\">│</span>                             <span style=\"color: #808000; text-decoration-color: #808000\">│</span>\n",
       "<span style=\"color: #808000; text-decoration-color: #808000\">│</span> Image: 2023_12_14_image_005 <span style=\"color: #808000; text-decoration-color: #808000\">│</span>\n",
       "<span style=\"color: #808000; text-decoration-color: #808000\">│</span>                             <span style=\"color: #808000; text-decoration-color: #808000\">│</span>\n",
       "<span style=\"color: #808000; text-decoration-color: #808000\">╰─────────────────────────────╯</span>\n",
       "</pre>\n"
      ],
      "text/plain": [
       "\u001b[33m╭─\u001b[0m\u001b[33m──\u001b[0m\u001b[33m Nucleus segmentation \u001b[0m\u001b[33m───\u001b[0m\u001b[33m─╮\u001b[0m\n",
       "\u001b[33m│\u001b[0m Segmentation started!       \u001b[33m│\u001b[0m\n",
       "\u001b[33m│\u001b[0m                             \u001b[33m│\u001b[0m\n",
       "\u001b[33m│\u001b[0m Image: 2023_12_14_image_005 \u001b[33m│\u001b[0m\n",
       "\u001b[33m│\u001b[0m                             \u001b[33m│\u001b[0m\n",
       "\u001b[33m╰─────────────────────────────╯\u001b[0m\n"
      ]
     },
     "metadata": {},
     "output_type": "display_data"
    },
    {
     "data": {
      "text/html": [
       "<pre style=\"white-space:pre;overflow-x:auto;line-height:normal;font-family:Menlo,'DejaVu Sans Mono',consolas,'Courier New',monospace\"><span style=\"color: #808000; text-decoration-color: #808000\">╭─── Nucleus segmentation ────╮</span>\n",
       "<span style=\"color: #808000; text-decoration-color: #808000\">│</span> Segmentation started!       <span style=\"color: #808000; text-decoration-color: #808000\">│</span>\n",
       "<span style=\"color: #808000; text-decoration-color: #808000\">│</span>                             <span style=\"color: #808000; text-decoration-color: #808000\">│</span>\n",
       "<span style=\"color: #808000; text-decoration-color: #808000\">│</span> Image: 2023_12_14_image_029 <span style=\"color: #808000; text-decoration-color: #808000\">│</span>\n",
       "<span style=\"color: #808000; text-decoration-color: #808000\">│</span>                             <span style=\"color: #808000; text-decoration-color: #808000\">│</span>\n",
       "<span style=\"color: #808000; text-decoration-color: #808000\">╰─────────────────────────────╯</span>\n",
       "</pre>\n"
      ],
      "text/plain": [
       "\u001b[33m╭─\u001b[0m\u001b[33m──\u001b[0m\u001b[33m Nucleus segmentation \u001b[0m\u001b[33m───\u001b[0m\u001b[33m─╮\u001b[0m\n",
       "\u001b[33m│\u001b[0m Segmentation started!       \u001b[33m│\u001b[0m\n",
       "\u001b[33m│\u001b[0m                             \u001b[33m│\u001b[0m\n",
       "\u001b[33m│\u001b[0m Image: 2023_12_14_image_029 \u001b[33m│\u001b[0m\n",
       "\u001b[33m│\u001b[0m                             \u001b[33m│\u001b[0m\n",
       "\u001b[33m╰─────────────────────────────╯\u001b[0m\n"
      ]
     },
     "metadata": {},
     "output_type": "display_data"
    },
    {
     "data": {
      "text/html": [
       "<pre style=\"white-space:pre;overflow-x:auto;line-height:normal;font-family:Menlo,'DejaVu Sans Mono',consolas,'Courier New',monospace\"><span style=\"color: #808000; text-decoration-color: #808000\">╭─── Nucleus segmentation ────╮</span>\n",
       "<span style=\"color: #808000; text-decoration-color: #808000\">│</span> Segmentation started!       <span style=\"color: #808000; text-decoration-color: #808000\">│</span>\n",
       "<span style=\"color: #808000; text-decoration-color: #808000\">│</span>                             <span style=\"color: #808000; text-decoration-color: #808000\">│</span>\n",
       "<span style=\"color: #808000; text-decoration-color: #808000\">│</span> Image: 2023_12_14_image_027 <span style=\"color: #808000; text-decoration-color: #808000\">│</span>\n",
       "<span style=\"color: #808000; text-decoration-color: #808000\">│</span>                             <span style=\"color: #808000; text-decoration-color: #808000\">│</span>\n",
       "<span style=\"color: #808000; text-decoration-color: #808000\">╰─────────────────────────────╯</span>\n",
       "</pre>\n"
      ],
      "text/plain": [
       "\u001b[33m╭─\u001b[0m\u001b[33m──\u001b[0m\u001b[33m Nucleus segmentation \u001b[0m\u001b[33m───\u001b[0m\u001b[33m─╮\u001b[0m\n",
       "\u001b[33m│\u001b[0m Segmentation started!       \u001b[33m│\u001b[0m\n",
       "\u001b[33m│\u001b[0m                             \u001b[33m│\u001b[0m\n",
       "\u001b[33m│\u001b[0m Image: 2023_12_14_image_027 \u001b[33m│\u001b[0m\n",
       "\u001b[33m│\u001b[0m                             \u001b[33m│\u001b[0m\n",
       "\u001b[33m╰─────────────────────────────╯\u001b[0m\n"
      ]
     },
     "metadata": {},
     "output_type": "display_data"
    },
    {
     "data": {
      "text/html": [
       "<pre style=\"white-space:pre;overflow-x:auto;line-height:normal;font-family:Menlo,'DejaVu Sans Mono',consolas,'Courier New',monospace\"><span style=\"color: #808000; text-decoration-color: #808000\">╭─── Nucleus segmentation ────╮</span>\n",
       "<span style=\"color: #808000; text-decoration-color: #808000\">│</span> Segmentation started!       <span style=\"color: #808000; text-decoration-color: #808000\">│</span>\n",
       "<span style=\"color: #808000; text-decoration-color: #808000\">│</span>                             <span style=\"color: #808000; text-decoration-color: #808000\">│</span>\n",
       "<span style=\"color: #808000; text-decoration-color: #808000\">│</span> Image: 2023_12_14_image_039 <span style=\"color: #808000; text-decoration-color: #808000\">│</span>\n",
       "<span style=\"color: #808000; text-decoration-color: #808000\">│</span>                             <span style=\"color: #808000; text-decoration-color: #808000\">│</span>\n",
       "<span style=\"color: #808000; text-decoration-color: #808000\">╰─────────────────────────────╯</span>\n",
       "</pre>\n"
      ],
      "text/plain": [
       "\u001b[33m╭─\u001b[0m\u001b[33m──\u001b[0m\u001b[33m Nucleus segmentation \u001b[0m\u001b[33m───\u001b[0m\u001b[33m─╮\u001b[0m\n",
       "\u001b[33m│\u001b[0m Segmentation started!       \u001b[33m│\u001b[0m\n",
       "\u001b[33m│\u001b[0m                             \u001b[33m│\u001b[0m\n",
       "\u001b[33m│\u001b[0m Image: 2023_12_14_image_039 \u001b[33m│\u001b[0m\n",
       "\u001b[33m│\u001b[0m                             \u001b[33m│\u001b[0m\n",
       "\u001b[33m╰─────────────────────────────╯\u001b[0m\n"
      ]
     },
     "metadata": {},
     "output_type": "display_data"
    },
    {
     "data": {
      "text/html": [
       "<pre style=\"white-space:pre;overflow-x:auto;line-height:normal;font-family:Menlo,'DejaVu Sans Mono',consolas,'Courier New',monospace\"><span style=\"color: #808000; text-decoration-color: #808000\">╭─── Nucleus segmentation ────╮</span>\n",
       "<span style=\"color: #808000; text-decoration-color: #808000\">│</span> Segmentation started!       <span style=\"color: #808000; text-decoration-color: #808000\">│</span>\n",
       "<span style=\"color: #808000; text-decoration-color: #808000\">│</span>                             <span style=\"color: #808000; text-decoration-color: #808000\">│</span>\n",
       "<span style=\"color: #808000; text-decoration-color: #808000\">│</span> Image: 2023_12_14_image_037 <span style=\"color: #808000; text-decoration-color: #808000\">│</span>\n",
       "<span style=\"color: #808000; text-decoration-color: #808000\">│</span>                             <span style=\"color: #808000; text-decoration-color: #808000\">│</span>\n",
       "<span style=\"color: #808000; text-decoration-color: #808000\">╰─────────────────────────────╯</span>\n",
       "</pre>\n"
      ],
      "text/plain": [
       "\u001b[33m╭─\u001b[0m\u001b[33m──\u001b[0m\u001b[33m Nucleus segmentation \u001b[0m\u001b[33m───\u001b[0m\u001b[33m─╮\u001b[0m\n",
       "\u001b[33m│\u001b[0m Segmentation started!       \u001b[33m│\u001b[0m\n",
       "\u001b[33m│\u001b[0m                             \u001b[33m│\u001b[0m\n",
       "\u001b[33m│\u001b[0m Image: 2023_12_14_image_037 \u001b[33m│\u001b[0m\n",
       "\u001b[33m│\u001b[0m                             \u001b[33m│\u001b[0m\n",
       "\u001b[33m╰─────────────────────────────╯\u001b[0m\n"
      ]
     },
     "metadata": {},
     "output_type": "display_data"
    },
    {
     "data": {
      "text/html": [
       "<pre style=\"white-space:pre;overflow-x:auto;line-height:normal;font-family:Menlo,'DejaVu Sans Mono',consolas,'Courier New',monospace\"><span style=\"color: #808000; text-decoration-color: #808000\">╭─── Nucleus segmentation ────╮</span>\n",
       "<span style=\"color: #808000; text-decoration-color: #808000\">│</span> Segmentation started!       <span style=\"color: #808000; text-decoration-color: #808000\">│</span>\n",
       "<span style=\"color: #808000; text-decoration-color: #808000\">│</span>                             <span style=\"color: #808000; text-decoration-color: #808000\">│</span>\n",
       "<span style=\"color: #808000; text-decoration-color: #808000\">│</span> Image: 2023_12_14_image_045 <span style=\"color: #808000; text-decoration-color: #808000\">│</span>\n",
       "<span style=\"color: #808000; text-decoration-color: #808000\">│</span>                             <span style=\"color: #808000; text-decoration-color: #808000\">│</span>\n",
       "<span style=\"color: #808000; text-decoration-color: #808000\">╰─────────────────────────────╯</span>\n",
       "</pre>\n"
      ],
      "text/plain": [
       "\u001b[33m╭─\u001b[0m\u001b[33m──\u001b[0m\u001b[33m Nucleus segmentation \u001b[0m\u001b[33m───\u001b[0m\u001b[33m─╮\u001b[0m\n",
       "\u001b[33m│\u001b[0m Segmentation started!       \u001b[33m│\u001b[0m\n",
       "\u001b[33m│\u001b[0m                             \u001b[33m│\u001b[0m\n",
       "\u001b[33m│\u001b[0m Image: 2023_12_14_image_045 \u001b[33m│\u001b[0m\n",
       "\u001b[33m│\u001b[0m                             \u001b[33m│\u001b[0m\n",
       "\u001b[33m╰─────────────────────────────╯\u001b[0m\n"
      ]
     },
     "metadata": {},
     "output_type": "display_data"
    },
    {
     "data": {
      "text/html": [
       "<pre style=\"white-space:pre;overflow-x:auto;line-height:normal;font-family:Menlo,'DejaVu Sans Mono',consolas,'Courier New',monospace\"><span style=\"color: #808000; text-decoration-color: #808000\">╭─── Nucleus segmentation ────╮</span>\n",
       "<span style=\"color: #808000; text-decoration-color: #808000\">│</span> Segmentation started!       <span style=\"color: #808000; text-decoration-color: #808000\">│</span>\n",
       "<span style=\"color: #808000; text-decoration-color: #808000\">│</span>                             <span style=\"color: #808000; text-decoration-color: #808000\">│</span>\n",
       "<span style=\"color: #808000; text-decoration-color: #808000\">│</span> Image: 2023_12_14_image_000 <span style=\"color: #808000; text-decoration-color: #808000\">│</span>\n",
       "<span style=\"color: #808000; text-decoration-color: #808000\">│</span>                             <span style=\"color: #808000; text-decoration-color: #808000\">│</span>\n",
       "<span style=\"color: #808000; text-decoration-color: #808000\">╰─────────────────────────────╯</span>\n",
       "</pre>\n"
      ],
      "text/plain": [
       "\u001b[33m╭─\u001b[0m\u001b[33m──\u001b[0m\u001b[33m Nucleus segmentation \u001b[0m\u001b[33m───\u001b[0m\u001b[33m─╮\u001b[0m\n",
       "\u001b[33m│\u001b[0m Segmentation started!       \u001b[33m│\u001b[0m\n",
       "\u001b[33m│\u001b[0m                             \u001b[33m│\u001b[0m\n",
       "\u001b[33m│\u001b[0m Image: 2023_12_14_image_000 \u001b[33m│\u001b[0m\n",
       "\u001b[33m│\u001b[0m                             \u001b[33m│\u001b[0m\n",
       "\u001b[33m╰─────────────────────────────╯\u001b[0m\n"
      ]
     },
     "metadata": {},
     "output_type": "display_data"
    },
    {
     "data": {
      "text/html": [
       "<pre style=\"white-space:pre;overflow-x:auto;line-height:normal;font-family:Menlo,'DejaVu Sans Mono',consolas,'Courier New',monospace\"><span style=\"color: #808000; text-decoration-color: #808000\">╭─── Nucleus segmentation ────╮</span>\n",
       "<span style=\"color: #808000; text-decoration-color: #808000\">│</span> Segmentation started!       <span style=\"color: #808000; text-decoration-color: #808000\">│</span>\n",
       "<span style=\"color: #808000; text-decoration-color: #808000\">│</span>                             <span style=\"color: #808000; text-decoration-color: #808000\">│</span>\n",
       "<span style=\"color: #808000; text-decoration-color: #808000\">│</span> Image: 2023_12_14_image_015 <span style=\"color: #808000; text-decoration-color: #808000\">│</span>\n",
       "<span style=\"color: #808000; text-decoration-color: #808000\">│</span>                             <span style=\"color: #808000; text-decoration-color: #808000\">│</span>\n",
       "<span style=\"color: #808000; text-decoration-color: #808000\">╰─────────────────────────────╯</span>\n",
       "</pre>\n"
      ],
      "text/plain": [
       "\u001b[33m╭─\u001b[0m\u001b[33m──\u001b[0m\u001b[33m Nucleus segmentation \u001b[0m\u001b[33m───\u001b[0m\u001b[33m─╮\u001b[0m\n",
       "\u001b[33m│\u001b[0m Segmentation started!       \u001b[33m│\u001b[0m\n",
       "\u001b[33m│\u001b[0m                             \u001b[33m│\u001b[0m\n",
       "\u001b[33m│\u001b[0m Image: 2023_12_14_image_015 \u001b[33m│\u001b[0m\n",
       "\u001b[33m│\u001b[0m                             \u001b[33m│\u001b[0m\n",
       "\u001b[33m╰─────────────────────────────╯\u001b[0m\n"
      ]
     },
     "metadata": {},
     "output_type": "display_data"
    },
    {
     "data": {
      "text/html": [
       "<pre style=\"white-space:pre;overflow-x:auto;line-height:normal;font-family:Menlo,'DejaVu Sans Mono',consolas,'Courier New',monospace\"><span style=\"color: #808000; text-decoration-color: #808000\">╭─── Nucleus segmentation ────╮</span>\n",
       "<span style=\"color: #808000; text-decoration-color: #808000\">│</span> Segmentation started!       <span style=\"color: #808000; text-decoration-color: #808000\">│</span>\n",
       "<span style=\"color: #808000; text-decoration-color: #808000\">│</span>                             <span style=\"color: #808000; text-decoration-color: #808000\">│</span>\n",
       "<span style=\"color: #808000; text-decoration-color: #808000\">│</span> Image: 2023_12_14_image_017 <span style=\"color: #808000; text-decoration-color: #808000\">│</span>\n",
       "<span style=\"color: #808000; text-decoration-color: #808000\">│</span>                             <span style=\"color: #808000; text-decoration-color: #808000\">│</span>\n",
       "<span style=\"color: #808000; text-decoration-color: #808000\">╰─────────────────────────────╯</span>\n",
       "</pre>\n"
      ],
      "text/plain": [
       "\u001b[33m╭─\u001b[0m\u001b[33m──\u001b[0m\u001b[33m Nucleus segmentation \u001b[0m\u001b[33m───\u001b[0m\u001b[33m─╮\u001b[0m\n",
       "\u001b[33m│\u001b[0m Segmentation started!       \u001b[33m│\u001b[0m\n",
       "\u001b[33m│\u001b[0m                             \u001b[33m│\u001b[0m\n",
       "\u001b[33m│\u001b[0m Image: 2023_12_14_image_017 \u001b[33m│\u001b[0m\n",
       "\u001b[33m│\u001b[0m                             \u001b[33m│\u001b[0m\n",
       "\u001b[33m╰─────────────────────────────╯\u001b[0m\n"
      ]
     },
     "metadata": {},
     "output_type": "display_data"
    },
    {
     "data": {
      "text/html": [
       "<pre style=\"white-space:pre;overflow-x:auto;line-height:normal;font-family:Menlo,'DejaVu Sans Mono',consolas,'Courier New',monospace\"><span style=\"color: #808000; text-decoration-color: #808000\">╭─── Nucleus segmentation ────╮</span>\n",
       "<span style=\"color: #808000; text-decoration-color: #808000\">│</span> Segmentation started!       <span style=\"color: #808000; text-decoration-color: #808000\">│</span>\n",
       "<span style=\"color: #808000; text-decoration-color: #808000\">│</span>                             <span style=\"color: #808000; text-decoration-color: #808000\">│</span>\n",
       "<span style=\"color: #808000; text-decoration-color: #808000\">│</span> Image: 2023_12_14_image_003 <span style=\"color: #808000; text-decoration-color: #808000\">│</span>\n",
       "<span style=\"color: #808000; text-decoration-color: #808000\">│</span>                             <span style=\"color: #808000; text-decoration-color: #808000\">│</span>\n",
       "<span style=\"color: #808000; text-decoration-color: #808000\">╰─────────────────────────────╯</span>\n",
       "</pre>\n"
      ],
      "text/plain": [
       "\u001b[33m╭─\u001b[0m\u001b[33m──\u001b[0m\u001b[33m Nucleus segmentation \u001b[0m\u001b[33m───\u001b[0m\u001b[33m─╮\u001b[0m\n",
       "\u001b[33m│\u001b[0m Segmentation started!       \u001b[33m│\u001b[0m\n",
       "\u001b[33m│\u001b[0m                             \u001b[33m│\u001b[0m\n",
       "\u001b[33m│\u001b[0m Image: 2023_12_14_image_003 \u001b[33m│\u001b[0m\n",
       "\u001b[33m│\u001b[0m                             \u001b[33m│\u001b[0m\n",
       "\u001b[33m╰─────────────────────────────╯\u001b[0m\n"
      ]
     },
     "metadata": {},
     "output_type": "display_data"
    },
    {
     "data": {
      "text/html": [
       "<pre style=\"white-space:pre;overflow-x:auto;line-height:normal;font-family:Menlo,'DejaVu Sans Mono',consolas,'Courier New',monospace\"><span style=\"color: #808000; text-decoration-color: #808000\">╭─── Nucleus segmentation ────╮</span>\n",
       "<span style=\"color: #808000; text-decoration-color: #808000\">│</span> Segmentation started!       <span style=\"color: #808000; text-decoration-color: #808000\">│</span>\n",
       "<span style=\"color: #808000; text-decoration-color: #808000\">│</span>                             <span style=\"color: #808000; text-decoration-color: #808000\">│</span>\n",
       "<span style=\"color: #808000; text-decoration-color: #808000\">│</span> Image: 2023_12_14_image_022 <span style=\"color: #808000; text-decoration-color: #808000\">│</span>\n",
       "<span style=\"color: #808000; text-decoration-color: #808000\">│</span>                             <span style=\"color: #808000; text-decoration-color: #808000\">│</span>\n",
       "<span style=\"color: #808000; text-decoration-color: #808000\">╰─────────────────────────────╯</span>\n",
       "</pre>\n"
      ],
      "text/plain": [
       "\u001b[33m╭─\u001b[0m\u001b[33m──\u001b[0m\u001b[33m Nucleus segmentation \u001b[0m\u001b[33m───\u001b[0m\u001b[33m─╮\u001b[0m\n",
       "\u001b[33m│\u001b[0m Segmentation started!       \u001b[33m│\u001b[0m\n",
       "\u001b[33m│\u001b[0m                             \u001b[33m│\u001b[0m\n",
       "\u001b[33m│\u001b[0m Image: 2023_12_14_image_022 \u001b[33m│\u001b[0m\n",
       "\u001b[33m│\u001b[0m                             \u001b[33m│\u001b[0m\n",
       "\u001b[33m╰─────────────────────────────╯\u001b[0m\n"
      ]
     },
     "metadata": {},
     "output_type": "display_data"
    },
    {
     "data": {
      "text/html": [
       "<pre style=\"white-space:pre;overflow-x:auto;line-height:normal;font-family:Menlo,'DejaVu Sans Mono',consolas,'Courier New',monospace\"><span style=\"color: #808000; text-decoration-color: #808000\">╭─── Nucleus segmentation ────╮</span>\n",
       "<span style=\"color: #808000; text-decoration-color: #808000\">│</span> Segmentation started!       <span style=\"color: #808000; text-decoration-color: #808000\">│</span>\n",
       "<span style=\"color: #808000; text-decoration-color: #808000\">│</span>                             <span style=\"color: #808000; text-decoration-color: #808000\">│</span>\n",
       "<span style=\"color: #808000; text-decoration-color: #808000\">│</span> Image: 2023_12_14_image_044 <span style=\"color: #808000; text-decoration-color: #808000\">│</span>\n",
       "<span style=\"color: #808000; text-decoration-color: #808000\">│</span>                             <span style=\"color: #808000; text-decoration-color: #808000\">│</span>\n",
       "<span style=\"color: #808000; text-decoration-color: #808000\">╰─────────────────────────────╯</span>\n",
       "</pre>\n"
      ],
      "text/plain": [
       "\u001b[33m╭─\u001b[0m\u001b[33m──\u001b[0m\u001b[33m Nucleus segmentation \u001b[0m\u001b[33m───\u001b[0m\u001b[33m─╮\u001b[0m\n",
       "\u001b[33m│\u001b[0m Segmentation started!       \u001b[33m│\u001b[0m\n",
       "\u001b[33m│\u001b[0m                             \u001b[33m│\u001b[0m\n",
       "\u001b[33m│\u001b[0m Image: 2023_12_14_image_044 \u001b[33m│\u001b[0m\n",
       "\u001b[33m│\u001b[0m                             \u001b[33m│\u001b[0m\n",
       "\u001b[33m╰─────────────────────────────╯\u001b[0m\n"
      ]
     },
     "metadata": {},
     "output_type": "display_data"
    },
    {
     "data": {
      "text/html": [
       "<pre style=\"white-space:pre;overflow-x:auto;line-height:normal;font-family:Menlo,'DejaVu Sans Mono',consolas,'Courier New',monospace\"><span style=\"color: #808000; text-decoration-color: #808000\">╭─── Nucleus segmentation ────╮</span>\n",
       "<span style=\"color: #808000; text-decoration-color: #808000\">│</span> Segmentation started!       <span style=\"color: #808000; text-decoration-color: #808000\">│</span>\n",
       "<span style=\"color: #808000; text-decoration-color: #808000\">│</span>                             <span style=\"color: #808000; text-decoration-color: #808000\">│</span>\n",
       "<span style=\"color: #808000; text-decoration-color: #808000\">│</span> Image: 2023_12_14_image_002 <span style=\"color: #808000; text-decoration-color: #808000\">│</span>\n",
       "<span style=\"color: #808000; text-decoration-color: #808000\">│</span>                             <span style=\"color: #808000; text-decoration-color: #808000\">│</span>\n",
       "<span style=\"color: #808000; text-decoration-color: #808000\">╰─────────────────────────────╯</span>\n",
       "</pre>\n"
      ],
      "text/plain": [
       "\u001b[33m╭─\u001b[0m\u001b[33m──\u001b[0m\u001b[33m Nucleus segmentation \u001b[0m\u001b[33m───\u001b[0m\u001b[33m─╮\u001b[0m\n",
       "\u001b[33m│\u001b[0m Segmentation started!       \u001b[33m│\u001b[0m\n",
       "\u001b[33m│\u001b[0m                             \u001b[33m│\u001b[0m\n",
       "\u001b[33m│\u001b[0m Image: 2023_12_14_image_002 \u001b[33m│\u001b[0m\n",
       "\u001b[33m│\u001b[0m                             \u001b[33m│\u001b[0m\n",
       "\u001b[33m╰─────────────────────────────╯\u001b[0m\n"
      ]
     },
     "metadata": {},
     "output_type": "display_data"
    },
    {
     "data": {
      "text/html": [
       "<pre style=\"white-space:pre;overflow-x:auto;line-height:normal;font-family:Menlo,'DejaVu Sans Mono',consolas,'Courier New',monospace\"><span style=\"color: #808000; text-decoration-color: #808000\">╭─── Nucleus segmentation ────╮</span>\n",
       "<span style=\"color: #808000; text-decoration-color: #808000\">│</span> Segmentation started!       <span style=\"color: #808000; text-decoration-color: #808000\">│</span>\n",
       "<span style=\"color: #808000; text-decoration-color: #808000\">│</span>                             <span style=\"color: #808000; text-decoration-color: #808000\">│</span>\n",
       "<span style=\"color: #808000; text-decoration-color: #808000\">│</span> Image: 2023_12_14_image_036 <span style=\"color: #808000; text-decoration-color: #808000\">│</span>\n",
       "<span style=\"color: #808000; text-decoration-color: #808000\">│</span>                             <span style=\"color: #808000; text-decoration-color: #808000\">│</span>\n",
       "<span style=\"color: #808000; text-decoration-color: #808000\">╰─────────────────────────────╯</span>\n",
       "</pre>\n"
      ],
      "text/plain": [
       "\u001b[33m╭─\u001b[0m\u001b[33m──\u001b[0m\u001b[33m Nucleus segmentation \u001b[0m\u001b[33m───\u001b[0m\u001b[33m─╮\u001b[0m\n",
       "\u001b[33m│\u001b[0m Segmentation started!       \u001b[33m│\u001b[0m\n",
       "\u001b[33m│\u001b[0m                             \u001b[33m│\u001b[0m\n",
       "\u001b[33m│\u001b[0m Image: 2023_12_14_image_036 \u001b[33m│\u001b[0m\n",
       "\u001b[33m│\u001b[0m                             \u001b[33m│\u001b[0m\n",
       "\u001b[33m╰─────────────────────────────╯\u001b[0m\n"
      ]
     },
     "metadata": {},
     "output_type": "display_data"
    },
    {
     "data": {
      "text/html": [
       "<pre style=\"white-space:pre;overflow-x:auto;line-height:normal;font-family:Menlo,'DejaVu Sans Mono',consolas,'Courier New',monospace\"><span style=\"color: #808000; text-decoration-color: #808000\">╭─── Nucleus segmentation ────╮</span>\n",
       "<span style=\"color: #808000; text-decoration-color: #808000\">│</span> Segmentation started!       <span style=\"color: #808000; text-decoration-color: #808000\">│</span>\n",
       "<span style=\"color: #808000; text-decoration-color: #808000\">│</span>                             <span style=\"color: #808000; text-decoration-color: #808000\">│</span>\n",
       "<span style=\"color: #808000; text-decoration-color: #808000\">│</span> Image: 2023_12_14_image_009 <span style=\"color: #808000; text-decoration-color: #808000\">│</span>\n",
       "<span style=\"color: #808000; text-decoration-color: #808000\">│</span>                             <span style=\"color: #808000; text-decoration-color: #808000\">│</span>\n",
       "<span style=\"color: #808000; text-decoration-color: #808000\">╰─────────────────────────────╯</span>\n",
       "</pre>\n"
      ],
      "text/plain": [
       "\u001b[33m╭─\u001b[0m\u001b[33m──\u001b[0m\u001b[33m Nucleus segmentation \u001b[0m\u001b[33m───\u001b[0m\u001b[33m─╮\u001b[0m\n",
       "\u001b[33m│\u001b[0m Segmentation started!       \u001b[33m│\u001b[0m\n",
       "\u001b[33m│\u001b[0m                             \u001b[33m│\u001b[0m\n",
       "\u001b[33m│\u001b[0m Image: 2023_12_14_image_009 \u001b[33m│\u001b[0m\n",
       "\u001b[33m│\u001b[0m                             \u001b[33m│\u001b[0m\n",
       "\u001b[33m╰─────────────────────────────╯\u001b[0m\n"
      ]
     },
     "metadata": {},
     "output_type": "display_data"
    },
    {
     "data": {
      "text/html": [
       "<pre style=\"white-space:pre;overflow-x:auto;line-height:normal;font-family:Menlo,'DejaVu Sans Mono',consolas,'Courier New',monospace\"><span style=\"color: #808000; text-decoration-color: #808000\">╭─── Nucleus segmentation ────╮</span>\n",
       "<span style=\"color: #808000; text-decoration-color: #808000\">│</span> Segmentation started!       <span style=\"color: #808000; text-decoration-color: #808000\">│</span>\n",
       "<span style=\"color: #808000; text-decoration-color: #808000\">│</span>                             <span style=\"color: #808000; text-decoration-color: #808000\">│</span>\n",
       "<span style=\"color: #808000; text-decoration-color: #808000\">│</span> Image: 2023_12_14_image_047 <span style=\"color: #808000; text-decoration-color: #808000\">│</span>\n",
       "<span style=\"color: #808000; text-decoration-color: #808000\">│</span>                             <span style=\"color: #808000; text-decoration-color: #808000\">│</span>\n",
       "<span style=\"color: #808000; text-decoration-color: #808000\">╰─────────────────────────────╯</span>\n",
       "</pre>\n"
      ],
      "text/plain": [
       "\u001b[33m╭─\u001b[0m\u001b[33m──\u001b[0m\u001b[33m Nucleus segmentation \u001b[0m\u001b[33m───\u001b[0m\u001b[33m─╮\u001b[0m\n",
       "\u001b[33m│\u001b[0m Segmentation started!       \u001b[33m│\u001b[0m\n",
       "\u001b[33m│\u001b[0m                             \u001b[33m│\u001b[0m\n",
       "\u001b[33m│\u001b[0m Image: 2023_12_14_image_047 \u001b[33m│\u001b[0m\n",
       "\u001b[33m│\u001b[0m                             \u001b[33m│\u001b[0m\n",
       "\u001b[33m╰─────────────────────────────╯\u001b[0m\n"
      ]
     },
     "metadata": {},
     "output_type": "display_data"
    },
    {
     "data": {
      "text/html": [
       "<pre style=\"white-space:pre;overflow-x:auto;line-height:normal;font-family:Menlo,'DejaVu Sans Mono',consolas,'Courier New',monospace\"><span style=\"color: #808000; text-decoration-color: #808000\">╭─── Nucleus segmentation ────╮</span>\n",
       "<span style=\"color: #808000; text-decoration-color: #808000\">│</span> Segmentation started!       <span style=\"color: #808000; text-decoration-color: #808000\">│</span>\n",
       "<span style=\"color: #808000; text-decoration-color: #808000\">│</span>                             <span style=\"color: #808000; text-decoration-color: #808000\">│</span>\n",
       "<span style=\"color: #808000; text-decoration-color: #808000\">│</span> Image: 2023_12_14_image_018 <span style=\"color: #808000; text-decoration-color: #808000\">│</span>\n",
       "<span style=\"color: #808000; text-decoration-color: #808000\">│</span>                             <span style=\"color: #808000; text-decoration-color: #808000\">│</span>\n",
       "<span style=\"color: #808000; text-decoration-color: #808000\">╰─────────────────────────────╯</span>\n",
       "</pre>\n"
      ],
      "text/plain": [
       "\u001b[33m╭─\u001b[0m\u001b[33m──\u001b[0m\u001b[33m Nucleus segmentation \u001b[0m\u001b[33m───\u001b[0m\u001b[33m─╮\u001b[0m\n",
       "\u001b[33m│\u001b[0m Segmentation started!       \u001b[33m│\u001b[0m\n",
       "\u001b[33m│\u001b[0m                             \u001b[33m│\u001b[0m\n",
       "\u001b[33m│\u001b[0m Image: 2023_12_14_image_018 \u001b[33m│\u001b[0m\n",
       "\u001b[33m│\u001b[0m                             \u001b[33m│\u001b[0m\n",
       "\u001b[33m╰─────────────────────────────╯\u001b[0m\n"
      ]
     },
     "metadata": {},
     "output_type": "display_data"
    },
    {
     "data": {
      "text/html": [
       "<pre style=\"white-space:pre;overflow-x:auto;line-height:normal;font-family:Menlo,'DejaVu Sans Mono',consolas,'Courier New',monospace\"><span style=\"color: #808000; text-decoration-color: #808000\">╭─── Nucleus segmentation ────╮</span>\n",
       "<span style=\"color: #808000; text-decoration-color: #808000\">│</span> Segmentation started!       <span style=\"color: #808000; text-decoration-color: #808000\">│</span>\n",
       "<span style=\"color: #808000; text-decoration-color: #808000\">│</span>                             <span style=\"color: #808000; text-decoration-color: #808000\">│</span>\n",
       "<span style=\"color: #808000; text-decoration-color: #808000\">│</span> Image: 2023_12_14_image_032 <span style=\"color: #808000; text-decoration-color: #808000\">│</span>\n",
       "<span style=\"color: #808000; text-decoration-color: #808000\">│</span>                             <span style=\"color: #808000; text-decoration-color: #808000\">│</span>\n",
       "<span style=\"color: #808000; text-decoration-color: #808000\">╰─────────────────────────────╯</span>\n",
       "</pre>\n"
      ],
      "text/plain": [
       "\u001b[33m╭─\u001b[0m\u001b[33m──\u001b[0m\u001b[33m Nucleus segmentation \u001b[0m\u001b[33m───\u001b[0m\u001b[33m─╮\u001b[0m\n",
       "\u001b[33m│\u001b[0m Segmentation started!       \u001b[33m│\u001b[0m\n",
       "\u001b[33m│\u001b[0m                             \u001b[33m│\u001b[0m\n",
       "\u001b[33m│\u001b[0m Image: 2023_12_14_image_032 \u001b[33m│\u001b[0m\n",
       "\u001b[33m│\u001b[0m                             \u001b[33m│\u001b[0m\n",
       "\u001b[33m╰─────────────────────────────╯\u001b[0m\n"
      ]
     },
     "metadata": {},
     "output_type": "display_data"
    },
    {
     "data": {
      "text/html": [
       "<pre style=\"white-space:pre;overflow-x:auto;line-height:normal;font-family:Menlo,'DejaVu Sans Mono',consolas,'Courier New',monospace\"><span style=\"color: #808000; text-decoration-color: #808000\">╭─── Nucleus segmentation ────╮</span>\n",
       "<span style=\"color: #808000; text-decoration-color: #808000\">│</span> Segmentation started!       <span style=\"color: #808000; text-decoration-color: #808000\">│</span>\n",
       "<span style=\"color: #808000; text-decoration-color: #808000\">│</span>                             <span style=\"color: #808000; text-decoration-color: #808000\">│</span>\n",
       "<span style=\"color: #808000; text-decoration-color: #808000\">│</span> Image: 2023_12_14_image_004 <span style=\"color: #808000; text-decoration-color: #808000\">│</span>\n",
       "<span style=\"color: #808000; text-decoration-color: #808000\">│</span>                             <span style=\"color: #808000; text-decoration-color: #808000\">│</span>\n",
       "<span style=\"color: #808000; text-decoration-color: #808000\">╰─────────────────────────────╯</span>\n",
       "</pre>\n"
      ],
      "text/plain": [
       "\u001b[33m╭─\u001b[0m\u001b[33m──\u001b[0m\u001b[33m Nucleus segmentation \u001b[0m\u001b[33m───\u001b[0m\u001b[33m─╮\u001b[0m\n",
       "\u001b[33m│\u001b[0m Segmentation started!       \u001b[33m│\u001b[0m\n",
       "\u001b[33m│\u001b[0m                             \u001b[33m│\u001b[0m\n",
       "\u001b[33m│\u001b[0m Image: 2023_12_14_image_004 \u001b[33m│\u001b[0m\n",
       "\u001b[33m│\u001b[0m                             \u001b[33m│\u001b[0m\n",
       "\u001b[33m╰─────────────────────────────╯\u001b[0m\n"
      ]
     },
     "metadata": {},
     "output_type": "display_data"
    },
    {
     "data": {
      "text/html": [
       "<pre style=\"white-space:pre;overflow-x:auto;line-height:normal;font-family:Menlo,'DejaVu Sans Mono',consolas,'Courier New',monospace\"><span style=\"color: #808000; text-decoration-color: #808000\">╭─── Nucleus segmentation ────╮</span>\n",
       "<span style=\"color: #808000; text-decoration-color: #808000\">│</span> Segmentation started!       <span style=\"color: #808000; text-decoration-color: #808000\">│</span>\n",
       "<span style=\"color: #808000; text-decoration-color: #808000\">│</span>                             <span style=\"color: #808000; text-decoration-color: #808000\">│</span>\n",
       "<span style=\"color: #808000; text-decoration-color: #808000\">│</span> Image: 2023_12_14_image_019 <span style=\"color: #808000; text-decoration-color: #808000\">│</span>\n",
       "<span style=\"color: #808000; text-decoration-color: #808000\">│</span>                             <span style=\"color: #808000; text-decoration-color: #808000\">│</span>\n",
       "<span style=\"color: #808000; text-decoration-color: #808000\">╰─────────────────────────────╯</span>\n",
       "</pre>\n"
      ],
      "text/plain": [
       "\u001b[33m╭─\u001b[0m\u001b[33m──\u001b[0m\u001b[33m Nucleus segmentation \u001b[0m\u001b[33m───\u001b[0m\u001b[33m─╮\u001b[0m\n",
       "\u001b[33m│\u001b[0m Segmentation started!       \u001b[33m│\u001b[0m\n",
       "\u001b[33m│\u001b[0m                             \u001b[33m│\u001b[0m\n",
       "\u001b[33m│\u001b[0m Image: 2023_12_14_image_019 \u001b[33m│\u001b[0m\n",
       "\u001b[33m│\u001b[0m                             \u001b[33m│\u001b[0m\n",
       "\u001b[33m╰─────────────────────────────╯\u001b[0m\n"
      ]
     },
     "metadata": {},
     "output_type": "display_data"
    },
    {
     "data": {
      "text/html": [
       "<pre style=\"white-space:pre;overflow-x:auto;line-height:normal;font-family:Menlo,'DejaVu Sans Mono',consolas,'Courier New',monospace\"><span style=\"color: #808000; text-decoration-color: #808000\">╭─── Nucleus segmentation ────╮</span>\n",
       "<span style=\"color: #808000; text-decoration-color: #808000\">│</span> Segmentation started!       <span style=\"color: #808000; text-decoration-color: #808000\">│</span>\n",
       "<span style=\"color: #808000; text-decoration-color: #808000\">│</span>                             <span style=\"color: #808000; text-decoration-color: #808000\">│</span>\n",
       "<span style=\"color: #808000; text-decoration-color: #808000\">│</span> Image: 2023_12_14_image_010 <span style=\"color: #808000; text-decoration-color: #808000\">│</span>\n",
       "<span style=\"color: #808000; text-decoration-color: #808000\">│</span>                             <span style=\"color: #808000; text-decoration-color: #808000\">│</span>\n",
       "<span style=\"color: #808000; text-decoration-color: #808000\">╰─────────────────────────────╯</span>\n",
       "</pre>\n"
      ],
      "text/plain": [
       "\u001b[33m╭─\u001b[0m\u001b[33m──\u001b[0m\u001b[33m Nucleus segmentation \u001b[0m\u001b[33m───\u001b[0m\u001b[33m─╮\u001b[0m\n",
       "\u001b[33m│\u001b[0m Segmentation started!       \u001b[33m│\u001b[0m\n",
       "\u001b[33m│\u001b[0m                             \u001b[33m│\u001b[0m\n",
       "\u001b[33m│\u001b[0m Image: 2023_12_14_image_010 \u001b[33m│\u001b[0m\n",
       "\u001b[33m│\u001b[0m                             \u001b[33m│\u001b[0m\n",
       "\u001b[33m╰─────────────────────────────╯\u001b[0m\n"
      ]
     },
     "metadata": {},
     "output_type": "display_data"
    },
    {
     "data": {
      "text/html": [
       "<pre style=\"white-space:pre;overflow-x:auto;line-height:normal;font-family:Menlo,'DejaVu Sans Mono',consolas,'Courier New',monospace\"><span style=\"color: #808000; text-decoration-color: #808000\">╭─── Nucleus segmentation ────╮</span>\n",
       "<span style=\"color: #808000; text-decoration-color: #808000\">│</span> Segmentation started!       <span style=\"color: #808000; text-decoration-color: #808000\">│</span>\n",
       "<span style=\"color: #808000; text-decoration-color: #808000\">│</span>                             <span style=\"color: #808000; text-decoration-color: #808000\">│</span>\n",
       "<span style=\"color: #808000; text-decoration-color: #808000\">│</span> Image: 2023_12_14_image_013 <span style=\"color: #808000; text-decoration-color: #808000\">│</span>\n",
       "<span style=\"color: #808000; text-decoration-color: #808000\">│</span>                             <span style=\"color: #808000; text-decoration-color: #808000\">│</span>\n",
       "<span style=\"color: #808000; text-decoration-color: #808000\">╰─────────────────────────────╯</span>\n",
       "</pre>\n"
      ],
      "text/plain": [
       "\u001b[33m╭─\u001b[0m\u001b[33m──\u001b[0m\u001b[33m Nucleus segmentation \u001b[0m\u001b[33m───\u001b[0m\u001b[33m─╮\u001b[0m\n",
       "\u001b[33m│\u001b[0m Segmentation started!       \u001b[33m│\u001b[0m\n",
       "\u001b[33m│\u001b[0m                             \u001b[33m│\u001b[0m\n",
       "\u001b[33m│\u001b[0m Image: 2023_12_14_image_013 \u001b[33m│\u001b[0m\n",
       "\u001b[33m│\u001b[0m                             \u001b[33m│\u001b[0m\n",
       "\u001b[33m╰─────────────────────────────╯\u001b[0m\n"
      ]
     },
     "metadata": {},
     "output_type": "display_data"
    },
    {
     "data": {
      "text/html": [
       "<pre style=\"white-space:pre;overflow-x:auto;line-height:normal;font-family:Menlo,'DejaVu Sans Mono',consolas,'Courier New',monospace\"><span style=\"color: #808000; text-decoration-color: #808000\">╭─── Nucleus segmentation ────╮</span>\n",
       "<span style=\"color: #808000; text-decoration-color: #808000\">│</span> Segmentation started!       <span style=\"color: #808000; text-decoration-color: #808000\">│</span>\n",
       "<span style=\"color: #808000; text-decoration-color: #808000\">│</span>                             <span style=\"color: #808000; text-decoration-color: #808000\">│</span>\n",
       "<span style=\"color: #808000; text-decoration-color: #808000\">│</span> Image: 2023_12_14_image_011 <span style=\"color: #808000; text-decoration-color: #808000\">│</span>\n",
       "<span style=\"color: #808000; text-decoration-color: #808000\">│</span>                             <span style=\"color: #808000; text-decoration-color: #808000\">│</span>\n",
       "<span style=\"color: #808000; text-decoration-color: #808000\">╰─────────────────────────────╯</span>\n",
       "</pre>\n"
      ],
      "text/plain": [
       "\u001b[33m╭─\u001b[0m\u001b[33m──\u001b[0m\u001b[33m Nucleus segmentation \u001b[0m\u001b[33m───\u001b[0m\u001b[33m─╮\u001b[0m\n",
       "\u001b[33m│\u001b[0m Segmentation started!       \u001b[33m│\u001b[0m\n",
       "\u001b[33m│\u001b[0m                             \u001b[33m│\u001b[0m\n",
       "\u001b[33m│\u001b[0m Image: 2023_12_14_image_011 \u001b[33m│\u001b[0m\n",
       "\u001b[33m│\u001b[0m                             \u001b[33m│\u001b[0m\n",
       "\u001b[33m╰─────────────────────────────╯\u001b[0m\n"
      ]
     },
     "metadata": {},
     "output_type": "display_data"
    },
    {
     "data": {
      "text/html": [
       "<pre style=\"white-space:pre;overflow-x:auto;line-height:normal;font-family:Menlo,'DejaVu Sans Mono',consolas,'Courier New',monospace\"><span style=\"color: #808000; text-decoration-color: #808000\">╭─── Nucleus segmentation ────╮</span>\n",
       "<span style=\"color: #808000; text-decoration-color: #808000\">│</span> Segmentation started!       <span style=\"color: #808000; text-decoration-color: #808000\">│</span>\n",
       "<span style=\"color: #808000; text-decoration-color: #808000\">│</span>                             <span style=\"color: #808000; text-decoration-color: #808000\">│</span>\n",
       "<span style=\"color: #808000; text-decoration-color: #808000\">│</span> Image: 2023_12_14_image_049 <span style=\"color: #808000; text-decoration-color: #808000\">│</span>\n",
       "<span style=\"color: #808000; text-decoration-color: #808000\">│</span>                             <span style=\"color: #808000; text-decoration-color: #808000\">│</span>\n",
       "<span style=\"color: #808000; text-decoration-color: #808000\">╰─────────────────────────────╯</span>\n",
       "</pre>\n"
      ],
      "text/plain": [
       "\u001b[33m╭─\u001b[0m\u001b[33m──\u001b[0m\u001b[33m Nucleus segmentation \u001b[0m\u001b[33m───\u001b[0m\u001b[33m─╮\u001b[0m\n",
       "\u001b[33m│\u001b[0m Segmentation started!       \u001b[33m│\u001b[0m\n",
       "\u001b[33m│\u001b[0m                             \u001b[33m│\u001b[0m\n",
       "\u001b[33m│\u001b[0m Image: 2023_12_14_image_049 \u001b[33m│\u001b[0m\n",
       "\u001b[33m│\u001b[0m                             \u001b[33m│\u001b[0m\n",
       "\u001b[33m╰─────────────────────────────╯\u001b[0m\n"
      ]
     },
     "metadata": {},
     "output_type": "display_data"
    },
    {
     "data": {
      "text/html": [
       "<pre style=\"white-space:pre;overflow-x:auto;line-height:normal;font-family:Menlo,'DejaVu Sans Mono',consolas,'Courier New',monospace\"><span style=\"color: #808000; text-decoration-color: #808000\">╭─── Nucleus segmentation ────╮</span>\n",
       "<span style=\"color: #808000; text-decoration-color: #808000\">│</span> Segmentation started!       <span style=\"color: #808000; text-decoration-color: #808000\">│</span>\n",
       "<span style=\"color: #808000; text-decoration-color: #808000\">│</span>                             <span style=\"color: #808000; text-decoration-color: #808000\">│</span>\n",
       "<span style=\"color: #808000; text-decoration-color: #808000\">│</span> Image: 2023_12_14_image_006 <span style=\"color: #808000; text-decoration-color: #808000\">│</span>\n",
       "<span style=\"color: #808000; text-decoration-color: #808000\">│</span>                             <span style=\"color: #808000; text-decoration-color: #808000\">│</span>\n",
       "<span style=\"color: #808000; text-decoration-color: #808000\">╰─────────────────────────────╯</span>\n",
       "</pre>\n"
      ],
      "text/plain": [
       "\u001b[33m╭─\u001b[0m\u001b[33m──\u001b[0m\u001b[33m Nucleus segmentation \u001b[0m\u001b[33m───\u001b[0m\u001b[33m─╮\u001b[0m\n",
       "\u001b[33m│\u001b[0m Segmentation started!       \u001b[33m│\u001b[0m\n",
       "\u001b[33m│\u001b[0m                             \u001b[33m│\u001b[0m\n",
       "\u001b[33m│\u001b[0m Image: 2023_12_14_image_006 \u001b[33m│\u001b[0m\n",
       "\u001b[33m│\u001b[0m                             \u001b[33m│\u001b[0m\n",
       "\u001b[33m╰─────────────────────────────╯\u001b[0m\n"
      ]
     },
     "metadata": {},
     "output_type": "display_data"
    },
    {
     "data": {
      "text/html": [
       "<pre style=\"white-space:pre;overflow-x:auto;line-height:normal;font-family:Menlo,'DejaVu Sans Mono',consolas,'Courier New',monospace\"><span style=\"color: #808000; text-decoration-color: #808000\">╭─── Nucleus segmentation ────╮</span>\n",
       "<span style=\"color: #808000; text-decoration-color: #808000\">│</span> Segmentation started!       <span style=\"color: #808000; text-decoration-color: #808000\">│</span>\n",
       "<span style=\"color: #808000; text-decoration-color: #808000\">│</span>                             <span style=\"color: #808000; text-decoration-color: #808000\">│</span>\n",
       "<span style=\"color: #808000; text-decoration-color: #808000\">│</span> Image: 2023_12_14_image_030 <span style=\"color: #808000; text-decoration-color: #808000\">│</span>\n",
       "<span style=\"color: #808000; text-decoration-color: #808000\">│</span>                             <span style=\"color: #808000; text-decoration-color: #808000\">│</span>\n",
       "<span style=\"color: #808000; text-decoration-color: #808000\">╰─────────────────────────────╯</span>\n",
       "</pre>\n"
      ],
      "text/plain": [
       "\u001b[33m╭─\u001b[0m\u001b[33m──\u001b[0m\u001b[33m Nucleus segmentation \u001b[0m\u001b[33m───\u001b[0m\u001b[33m─╮\u001b[0m\n",
       "\u001b[33m│\u001b[0m Segmentation started!       \u001b[33m│\u001b[0m\n",
       "\u001b[33m│\u001b[0m                             \u001b[33m│\u001b[0m\n",
       "\u001b[33m│\u001b[0m Image: 2023_12_14_image_030 \u001b[33m│\u001b[0m\n",
       "\u001b[33m│\u001b[0m                             \u001b[33m│\u001b[0m\n",
       "\u001b[33m╰─────────────────────────────╯\u001b[0m\n"
      ]
     },
     "metadata": {},
     "output_type": "display_data"
    },
    {
     "data": {
      "text/html": [
       "<pre style=\"white-space:pre;overflow-x:auto;line-height:normal;font-family:Menlo,'DejaVu Sans Mono',consolas,'Courier New',monospace\"><span style=\"color: #808000; text-decoration-color: #808000\">╭─── Nucleus segmentation ────╮</span>\n",
       "<span style=\"color: #808000; text-decoration-color: #808000\">│</span> Segmentation started!       <span style=\"color: #808000; text-decoration-color: #808000\">│</span>\n",
       "<span style=\"color: #808000; text-decoration-color: #808000\">│</span>                             <span style=\"color: #808000; text-decoration-color: #808000\">│</span>\n",
       "<span style=\"color: #808000; text-decoration-color: #808000\">│</span> Image: 2023_12_14_image_028 <span style=\"color: #808000; text-decoration-color: #808000\">│</span>\n",
       "<span style=\"color: #808000; text-decoration-color: #808000\">│</span>                             <span style=\"color: #808000; text-decoration-color: #808000\">│</span>\n",
       "<span style=\"color: #808000; text-decoration-color: #808000\">╰─────────────────────────────╯</span>\n",
       "</pre>\n"
      ],
      "text/plain": [
       "\u001b[33m╭─\u001b[0m\u001b[33m──\u001b[0m\u001b[33m Nucleus segmentation \u001b[0m\u001b[33m───\u001b[0m\u001b[33m─╮\u001b[0m\n",
       "\u001b[33m│\u001b[0m Segmentation started!       \u001b[33m│\u001b[0m\n",
       "\u001b[33m│\u001b[0m                             \u001b[33m│\u001b[0m\n",
       "\u001b[33m│\u001b[0m Image: 2023_12_14_image_028 \u001b[33m│\u001b[0m\n",
       "\u001b[33m│\u001b[0m                             \u001b[33m│\u001b[0m\n",
       "\u001b[33m╰─────────────────────────────╯\u001b[0m\n"
      ]
     },
     "metadata": {},
     "output_type": "display_data"
    },
    {
     "data": {
      "text/html": [
       "<pre style=\"white-space:pre;overflow-x:auto;line-height:normal;font-family:Menlo,'DejaVu Sans Mono',consolas,'Courier New',monospace\"><span style=\"color: #808000; text-decoration-color: #808000\">╭─── Nucleus segmentation ────╮</span>\n",
       "<span style=\"color: #808000; text-decoration-color: #808000\">│</span> Segmentation started!       <span style=\"color: #808000; text-decoration-color: #808000\">│</span>\n",
       "<span style=\"color: #808000; text-decoration-color: #808000\">│</span>                             <span style=\"color: #808000; text-decoration-color: #808000\">│</span>\n",
       "<span style=\"color: #808000; text-decoration-color: #808000\">│</span> Image: 2023_12_14_image_012 <span style=\"color: #808000; text-decoration-color: #808000\">│</span>\n",
       "<span style=\"color: #808000; text-decoration-color: #808000\">│</span>                             <span style=\"color: #808000; text-decoration-color: #808000\">│</span>\n",
       "<span style=\"color: #808000; text-decoration-color: #808000\">╰─────────────────────────────╯</span>\n",
       "</pre>\n"
      ],
      "text/plain": [
       "\u001b[33m╭─\u001b[0m\u001b[33m──\u001b[0m\u001b[33m Nucleus segmentation \u001b[0m\u001b[33m───\u001b[0m\u001b[33m─╮\u001b[0m\n",
       "\u001b[33m│\u001b[0m Segmentation started!       \u001b[33m│\u001b[0m\n",
       "\u001b[33m│\u001b[0m                             \u001b[33m│\u001b[0m\n",
       "\u001b[33m│\u001b[0m Image: 2023_12_14_image_012 \u001b[33m│\u001b[0m\n",
       "\u001b[33m│\u001b[0m                             \u001b[33m│\u001b[0m\n",
       "\u001b[33m╰─────────────────────────────╯\u001b[0m\n"
      ]
     },
     "metadata": {},
     "output_type": "display_data"
    },
    {
     "data": {
      "text/html": [
       "<pre style=\"white-space:pre;overflow-x:auto;line-height:normal;font-family:Menlo,'DejaVu Sans Mono',consolas,'Courier New',monospace\"><span style=\"color: #808000; text-decoration-color: #808000\">╭─── Nucleus segmentation ────╮</span>\n",
       "<span style=\"color: #808000; text-decoration-color: #808000\">│</span> Segmentation started!       <span style=\"color: #808000; text-decoration-color: #808000\">│</span>\n",
       "<span style=\"color: #808000; text-decoration-color: #808000\">│</span>                             <span style=\"color: #808000; text-decoration-color: #808000\">│</span>\n",
       "<span style=\"color: #808000; text-decoration-color: #808000\">│</span> Image: 2023_12_14_image_042 <span style=\"color: #808000; text-decoration-color: #808000\">│</span>\n",
       "<span style=\"color: #808000; text-decoration-color: #808000\">│</span>                             <span style=\"color: #808000; text-decoration-color: #808000\">│</span>\n",
       "<span style=\"color: #808000; text-decoration-color: #808000\">╰─────────────────────────────╯</span>\n",
       "</pre>\n"
      ],
      "text/plain": [
       "\u001b[33m╭─\u001b[0m\u001b[33m──\u001b[0m\u001b[33m Nucleus segmentation \u001b[0m\u001b[33m───\u001b[0m\u001b[33m─╮\u001b[0m\n",
       "\u001b[33m│\u001b[0m Segmentation started!       \u001b[33m│\u001b[0m\n",
       "\u001b[33m│\u001b[0m                             \u001b[33m│\u001b[0m\n",
       "\u001b[33m│\u001b[0m Image: 2023_12_14_image_042 \u001b[33m│\u001b[0m\n",
       "\u001b[33m│\u001b[0m                             \u001b[33m│\u001b[0m\n",
       "\u001b[33m╰─────────────────────────────╯\u001b[0m\n"
      ]
     },
     "metadata": {},
     "output_type": "display_data"
    },
    {
     "data": {
      "text/html": [
       "<pre style=\"white-space:pre;overflow-x:auto;line-height:normal;font-family:Menlo,'DejaVu Sans Mono',consolas,'Courier New',monospace\"><span style=\"color: #808000; text-decoration-color: #808000\">╭─── Nucleus segmentation ────╮</span>\n",
       "<span style=\"color: #808000; text-decoration-color: #808000\">│</span> Segmentation started!       <span style=\"color: #808000; text-decoration-color: #808000\">│</span>\n",
       "<span style=\"color: #808000; text-decoration-color: #808000\">│</span>                             <span style=\"color: #808000; text-decoration-color: #808000\">│</span>\n",
       "<span style=\"color: #808000; text-decoration-color: #808000\">│</span> Image: 2023_12_14_image_025 <span style=\"color: #808000; text-decoration-color: #808000\">│</span>\n",
       "<span style=\"color: #808000; text-decoration-color: #808000\">│</span>                             <span style=\"color: #808000; text-decoration-color: #808000\">│</span>\n",
       "<span style=\"color: #808000; text-decoration-color: #808000\">╰─────────────────────────────╯</span>\n",
       "</pre>\n"
      ],
      "text/plain": [
       "\u001b[33m╭─\u001b[0m\u001b[33m──\u001b[0m\u001b[33m Nucleus segmentation \u001b[0m\u001b[33m───\u001b[0m\u001b[33m─╮\u001b[0m\n",
       "\u001b[33m│\u001b[0m Segmentation started!       \u001b[33m│\u001b[0m\n",
       "\u001b[33m│\u001b[0m                             \u001b[33m│\u001b[0m\n",
       "\u001b[33m│\u001b[0m Image: 2023_12_14_image_025 \u001b[33m│\u001b[0m\n",
       "\u001b[33m│\u001b[0m                             \u001b[33m│\u001b[0m\n",
       "\u001b[33m╰─────────────────────────────╯\u001b[0m\n"
      ]
     },
     "metadata": {},
     "output_type": "display_data"
    },
    {
     "data": {
      "text/html": [
       "<pre style=\"white-space:pre;overflow-x:auto;line-height:normal;font-family:Menlo,'DejaVu Sans Mono',consolas,'Courier New',monospace\"><span style=\"color: #808000; text-decoration-color: #808000\">╭─── Nucleus segmentation ────╮</span>\n",
       "<span style=\"color: #808000; text-decoration-color: #808000\">│</span> Segmentation started!       <span style=\"color: #808000; text-decoration-color: #808000\">│</span>\n",
       "<span style=\"color: #808000; text-decoration-color: #808000\">│</span>                             <span style=\"color: #808000; text-decoration-color: #808000\">│</span>\n",
       "<span style=\"color: #808000; text-decoration-color: #808000\">│</span> Image: 2023_12_14_image_023 <span style=\"color: #808000; text-decoration-color: #808000\">│</span>\n",
       "<span style=\"color: #808000; text-decoration-color: #808000\">│</span>                             <span style=\"color: #808000; text-decoration-color: #808000\">│</span>\n",
       "<span style=\"color: #808000; text-decoration-color: #808000\">╰─────────────────────────────╯</span>\n",
       "</pre>\n"
      ],
      "text/plain": [
       "\u001b[33m╭─\u001b[0m\u001b[33m──\u001b[0m\u001b[33m Nucleus segmentation \u001b[0m\u001b[33m───\u001b[0m\u001b[33m─╮\u001b[0m\n",
       "\u001b[33m│\u001b[0m Segmentation started!       \u001b[33m│\u001b[0m\n",
       "\u001b[33m│\u001b[0m                             \u001b[33m│\u001b[0m\n",
       "\u001b[33m│\u001b[0m Image: 2023_12_14_image_023 \u001b[33m│\u001b[0m\n",
       "\u001b[33m│\u001b[0m                             \u001b[33m│\u001b[0m\n",
       "\u001b[33m╰─────────────────────────────╯\u001b[0m\n"
      ]
     },
     "metadata": {},
     "output_type": "display_data"
    },
    {
     "data": {
      "text/html": [
       "<pre style=\"white-space:pre;overflow-x:auto;line-height:normal;font-family:Menlo,'DejaVu Sans Mono',consolas,'Courier New',monospace\"><span style=\"color: #808000; text-decoration-color: #808000\">╭─── Nucleus segmentation ────╮</span>\n",
       "<span style=\"color: #808000; text-decoration-color: #808000\">│</span> Segmentation started!       <span style=\"color: #808000; text-decoration-color: #808000\">│</span>\n",
       "<span style=\"color: #808000; text-decoration-color: #808000\">│</span>                             <span style=\"color: #808000; text-decoration-color: #808000\">│</span>\n",
       "<span style=\"color: #808000; text-decoration-color: #808000\">│</span> Image: 2023_12_14_image_038 <span style=\"color: #808000; text-decoration-color: #808000\">│</span>\n",
       "<span style=\"color: #808000; text-decoration-color: #808000\">│</span>                             <span style=\"color: #808000; text-decoration-color: #808000\">│</span>\n",
       "<span style=\"color: #808000; text-decoration-color: #808000\">╰─────────────────────────────╯</span>\n",
       "</pre>\n"
      ],
      "text/plain": [
       "\u001b[33m╭─\u001b[0m\u001b[33m──\u001b[0m\u001b[33m Nucleus segmentation \u001b[0m\u001b[33m───\u001b[0m\u001b[33m─╮\u001b[0m\n",
       "\u001b[33m│\u001b[0m Segmentation started!       \u001b[33m│\u001b[0m\n",
       "\u001b[33m│\u001b[0m                             \u001b[33m│\u001b[0m\n",
       "\u001b[33m│\u001b[0m Image: 2023_12_14_image_038 \u001b[33m│\u001b[0m\n",
       "\u001b[33m│\u001b[0m                             \u001b[33m│\u001b[0m\n",
       "\u001b[33m╰─────────────────────────────╯\u001b[0m\n"
      ]
     },
     "metadata": {},
     "output_type": "display_data"
    },
    {
     "data": {
      "text/html": [
       "<pre style=\"white-space:pre;overflow-x:auto;line-height:normal;font-family:Menlo,'DejaVu Sans Mono',consolas,'Courier New',monospace\"><span style=\"color: #808000; text-decoration-color: #808000\">╭─── Nucleus segmentation ────╮</span>\n",
       "<span style=\"color: #808000; text-decoration-color: #808000\">│</span> Segmentation started!       <span style=\"color: #808000; text-decoration-color: #808000\">│</span>\n",
       "<span style=\"color: #808000; text-decoration-color: #808000\">│</span>                             <span style=\"color: #808000; text-decoration-color: #808000\">│</span>\n",
       "<span style=\"color: #808000; text-decoration-color: #808000\">│</span> Image: 2023_12_14_image_048 <span style=\"color: #808000; text-decoration-color: #808000\">│</span>\n",
       "<span style=\"color: #808000; text-decoration-color: #808000\">│</span>                             <span style=\"color: #808000; text-decoration-color: #808000\">│</span>\n",
       "<span style=\"color: #808000; text-decoration-color: #808000\">╰─────────────────────────────╯</span>\n",
       "</pre>\n"
      ],
      "text/plain": [
       "\u001b[33m╭─\u001b[0m\u001b[33m──\u001b[0m\u001b[33m Nucleus segmentation \u001b[0m\u001b[33m───\u001b[0m\u001b[33m─╮\u001b[0m\n",
       "\u001b[33m│\u001b[0m Segmentation started!       \u001b[33m│\u001b[0m\n",
       "\u001b[33m│\u001b[0m                             \u001b[33m│\u001b[0m\n",
       "\u001b[33m│\u001b[0m Image: 2023_12_14_image_048 \u001b[33m│\u001b[0m\n",
       "\u001b[33m│\u001b[0m                             \u001b[33m│\u001b[0m\n",
       "\u001b[33m╰─────────────────────────────╯\u001b[0m\n"
      ]
     },
     "metadata": {},
     "output_type": "display_data"
    },
    {
     "data": {
      "text/html": [
       "<pre style=\"white-space:pre;overflow-x:auto;line-height:normal;font-family:Menlo,'DejaVu Sans Mono',consolas,'Courier New',monospace\"><span style=\"color: #808000; text-decoration-color: #808000\">╭─── Nucleus segmentation ────╮</span>\n",
       "<span style=\"color: #808000; text-decoration-color: #808000\">│</span> Segmentation started!       <span style=\"color: #808000; text-decoration-color: #808000\">│</span>\n",
       "<span style=\"color: #808000; text-decoration-color: #808000\">│</span>                             <span style=\"color: #808000; text-decoration-color: #808000\">│</span>\n",
       "<span style=\"color: #808000; text-decoration-color: #808000\">│</span> Image: 2023_12_14_image_046 <span style=\"color: #808000; text-decoration-color: #808000\">│</span>\n",
       "<span style=\"color: #808000; text-decoration-color: #808000\">│</span>                             <span style=\"color: #808000; text-decoration-color: #808000\">│</span>\n",
       "<span style=\"color: #808000; text-decoration-color: #808000\">╰─────────────────────────────╯</span>\n",
       "</pre>\n"
      ],
      "text/plain": [
       "\u001b[33m╭─\u001b[0m\u001b[33m──\u001b[0m\u001b[33m Nucleus segmentation \u001b[0m\u001b[33m───\u001b[0m\u001b[33m─╮\u001b[0m\n",
       "\u001b[33m│\u001b[0m Segmentation started!       \u001b[33m│\u001b[0m\n",
       "\u001b[33m│\u001b[0m                             \u001b[33m│\u001b[0m\n",
       "\u001b[33m│\u001b[0m Image: 2023_12_14_image_046 \u001b[33m│\u001b[0m\n",
       "\u001b[33m│\u001b[0m                             \u001b[33m│\u001b[0m\n",
       "\u001b[33m╰─────────────────────────────╯\u001b[0m\n"
      ]
     },
     "metadata": {},
     "output_type": "display_data"
    },
    {
     "data": {
      "text/html": [
       "<pre style=\"white-space:pre;overflow-x:auto;line-height:normal;font-family:Menlo,'DejaVu Sans Mono',consolas,'Courier New',monospace\"><span style=\"color: #808000; text-decoration-color: #808000\">╭─── Nucleus segmentation ────╮</span>\n",
       "<span style=\"color: #808000; text-decoration-color: #808000\">│</span> Segmentation started!       <span style=\"color: #808000; text-decoration-color: #808000\">│</span>\n",
       "<span style=\"color: #808000; text-decoration-color: #808000\">│</span>                             <span style=\"color: #808000; text-decoration-color: #808000\">│</span>\n",
       "<span style=\"color: #808000; text-decoration-color: #808000\">│</span> Image: 2023_12_14_image_021 <span style=\"color: #808000; text-decoration-color: #808000\">│</span>\n",
       "<span style=\"color: #808000; text-decoration-color: #808000\">│</span>                             <span style=\"color: #808000; text-decoration-color: #808000\">│</span>\n",
       "<span style=\"color: #808000; text-decoration-color: #808000\">╰─────────────────────────────╯</span>\n",
       "</pre>\n"
      ],
      "text/plain": [
       "\u001b[33m╭─\u001b[0m\u001b[33m──\u001b[0m\u001b[33m Nucleus segmentation \u001b[0m\u001b[33m───\u001b[0m\u001b[33m─╮\u001b[0m\n",
       "\u001b[33m│\u001b[0m Segmentation started!       \u001b[33m│\u001b[0m\n",
       "\u001b[33m│\u001b[0m                             \u001b[33m│\u001b[0m\n",
       "\u001b[33m│\u001b[0m Image: 2023_12_14_image_021 \u001b[33m│\u001b[0m\n",
       "\u001b[33m│\u001b[0m                             \u001b[33m│\u001b[0m\n",
       "\u001b[33m╰─────────────────────────────╯\u001b[0m\n"
      ]
     },
     "metadata": {},
     "output_type": "display_data"
    },
    {
     "data": {
      "text/html": [
       "<pre style=\"white-space:pre;overflow-x:auto;line-height:normal;font-family:Menlo,'DejaVu Sans Mono',consolas,'Courier New',monospace\"><span style=\"color: #808000; text-decoration-color: #808000\">╭─── Nucleus segmentation ────╮</span>\n",
       "<span style=\"color: #808000; text-decoration-color: #808000\">│</span> Segmentation started!       <span style=\"color: #808000; text-decoration-color: #808000\">│</span>\n",
       "<span style=\"color: #808000; text-decoration-color: #808000\">│</span>                             <span style=\"color: #808000; text-decoration-color: #808000\">│</span>\n",
       "<span style=\"color: #808000; text-decoration-color: #808000\">│</span> Image: 2023_12_14_image_001 <span style=\"color: #808000; text-decoration-color: #808000\">│</span>\n",
       "<span style=\"color: #808000; text-decoration-color: #808000\">│</span>                             <span style=\"color: #808000; text-decoration-color: #808000\">│</span>\n",
       "<span style=\"color: #808000; text-decoration-color: #808000\">╰─────────────────────────────╯</span>\n",
       "</pre>\n"
      ],
      "text/plain": [
       "\u001b[33m╭─\u001b[0m\u001b[33m──\u001b[0m\u001b[33m Nucleus segmentation \u001b[0m\u001b[33m───\u001b[0m\u001b[33m─╮\u001b[0m\n",
       "\u001b[33m│\u001b[0m Segmentation started!       \u001b[33m│\u001b[0m\n",
       "\u001b[33m│\u001b[0m                             \u001b[33m│\u001b[0m\n",
       "\u001b[33m│\u001b[0m Image: 2023_12_14_image_001 \u001b[33m│\u001b[0m\n",
       "\u001b[33m│\u001b[0m                             \u001b[33m│\u001b[0m\n",
       "\u001b[33m╰─────────────────────────────╯\u001b[0m\n"
      ]
     },
     "metadata": {},
     "output_type": "display_data"
    },
    {
     "data": {
      "text/html": [
       "<pre style=\"white-space:pre;overflow-x:auto;line-height:normal;font-family:Menlo,'DejaVu Sans Mono',consolas,'Courier New',monospace\"><span style=\"color: #808000; text-decoration-color: #808000\">╭─── Nucleus segmentation ────╮</span>\n",
       "<span style=\"color: #808000; text-decoration-color: #808000\">│</span> Segmentation started!       <span style=\"color: #808000; text-decoration-color: #808000\">│</span>\n",
       "<span style=\"color: #808000; text-decoration-color: #808000\">│</span>                             <span style=\"color: #808000; text-decoration-color: #808000\">│</span>\n",
       "<span style=\"color: #808000; text-decoration-color: #808000\">│</span> Image: 2023_12_14_image_020 <span style=\"color: #808000; text-decoration-color: #808000\">│</span>\n",
       "<span style=\"color: #808000; text-decoration-color: #808000\">│</span>                             <span style=\"color: #808000; text-decoration-color: #808000\">│</span>\n",
       "<span style=\"color: #808000; text-decoration-color: #808000\">╰─────────────────────────────╯</span>\n",
       "</pre>\n"
      ],
      "text/plain": [
       "\u001b[33m╭─\u001b[0m\u001b[33m──\u001b[0m\u001b[33m Nucleus segmentation \u001b[0m\u001b[33m───\u001b[0m\u001b[33m─╮\u001b[0m\n",
       "\u001b[33m│\u001b[0m Segmentation started!       \u001b[33m│\u001b[0m\n",
       "\u001b[33m│\u001b[0m                             \u001b[33m│\u001b[0m\n",
       "\u001b[33m│\u001b[0m Image: 2023_12_14_image_020 \u001b[33m│\u001b[0m\n",
       "\u001b[33m│\u001b[0m                             \u001b[33m│\u001b[0m\n",
       "\u001b[33m╰─────────────────────────────╯\u001b[0m\n"
      ]
     },
     "metadata": {},
     "output_type": "display_data"
    },
    {
     "data": {
      "text/html": [
       "<pre style=\"white-space:pre;overflow-x:auto;line-height:normal;font-family:Menlo,'DejaVu Sans Mono',consolas,'Courier New',monospace\"><span style=\"color: #808000; text-decoration-color: #808000\">╭─── Nucleus segmentation ────╮</span>\n",
       "<span style=\"color: #808000; text-decoration-color: #808000\">│</span> Segmentation started!       <span style=\"color: #808000; text-decoration-color: #808000\">│</span>\n",
       "<span style=\"color: #808000; text-decoration-color: #808000\">│</span>                             <span style=\"color: #808000; text-decoration-color: #808000\">│</span>\n",
       "<span style=\"color: #808000; text-decoration-color: #808000\">│</span> Image: 2023_12_14_image_016 <span style=\"color: #808000; text-decoration-color: #808000\">│</span>\n",
       "<span style=\"color: #808000; text-decoration-color: #808000\">│</span>                             <span style=\"color: #808000; text-decoration-color: #808000\">│</span>\n",
       "<span style=\"color: #808000; text-decoration-color: #808000\">╰─────────────────────────────╯</span>\n",
       "</pre>\n"
      ],
      "text/plain": [
       "\u001b[33m╭─\u001b[0m\u001b[33m──\u001b[0m\u001b[33m Nucleus segmentation \u001b[0m\u001b[33m───\u001b[0m\u001b[33m─╮\u001b[0m\n",
       "\u001b[33m│\u001b[0m Segmentation started!       \u001b[33m│\u001b[0m\n",
       "\u001b[33m│\u001b[0m                             \u001b[33m│\u001b[0m\n",
       "\u001b[33m│\u001b[0m Image: 2023_12_14_image_016 \u001b[33m│\u001b[0m\n",
       "\u001b[33m│\u001b[0m                             \u001b[33m│\u001b[0m\n",
       "\u001b[33m╰─────────────────────────────╯\u001b[0m\n"
      ]
     },
     "metadata": {},
     "output_type": "display_data"
    },
    {
     "data": {
      "text/html": [
       "<pre style=\"white-space:pre;overflow-x:auto;line-height:normal;font-family:Menlo,'DejaVu Sans Mono',consolas,'Courier New',monospace\"><span style=\"color: #808000; text-decoration-color: #808000\">╭─── Nucleus segmentation ────╮</span>\n",
       "<span style=\"color: #808000; text-decoration-color: #808000\">│</span> Segmentation started!       <span style=\"color: #808000; text-decoration-color: #808000\">│</span>\n",
       "<span style=\"color: #808000; text-decoration-color: #808000\">│</span>                             <span style=\"color: #808000; text-decoration-color: #808000\">│</span>\n",
       "<span style=\"color: #808000; text-decoration-color: #808000\">│</span> Image: 2023_12_14_image_014 <span style=\"color: #808000; text-decoration-color: #808000\">│</span>\n",
       "<span style=\"color: #808000; text-decoration-color: #808000\">│</span>                             <span style=\"color: #808000; text-decoration-color: #808000\">│</span>\n",
       "<span style=\"color: #808000; text-decoration-color: #808000\">╰─────────────────────────────╯</span>\n",
       "</pre>\n"
      ],
      "text/plain": [
       "\u001b[33m╭─\u001b[0m\u001b[33m──\u001b[0m\u001b[33m Nucleus segmentation \u001b[0m\u001b[33m───\u001b[0m\u001b[33m─╮\u001b[0m\n",
       "\u001b[33m│\u001b[0m Segmentation started!       \u001b[33m│\u001b[0m\n",
       "\u001b[33m│\u001b[0m                             \u001b[33m│\u001b[0m\n",
       "\u001b[33m│\u001b[0m Image: 2023_12_14_image_014 \u001b[33m│\u001b[0m\n",
       "\u001b[33m│\u001b[0m                             \u001b[33m│\u001b[0m\n",
       "\u001b[33m╰─────────────────────────────╯\u001b[0m\n"
      ]
     },
     "metadata": {},
     "output_type": "display_data"
    },
    {
     "data": {
      "text/html": [
       "<pre style=\"white-space:pre;overflow-x:auto;line-height:normal;font-family:Menlo,'DejaVu Sans Mono',consolas,'Courier New',monospace\"><span style=\"color: #808000; text-decoration-color: #808000\">╭─── Nucleus segmentation ────╮</span>\n",
       "<span style=\"color: #808000; text-decoration-color: #808000\">│</span> Segmentation started!       <span style=\"color: #808000; text-decoration-color: #808000\">│</span>\n",
       "<span style=\"color: #808000; text-decoration-color: #808000\">│</span>                             <span style=\"color: #808000; text-decoration-color: #808000\">│</span>\n",
       "<span style=\"color: #808000; text-decoration-color: #808000\">│</span> Image: 2023_12_14_image_035 <span style=\"color: #808000; text-decoration-color: #808000\">│</span>\n",
       "<span style=\"color: #808000; text-decoration-color: #808000\">│</span>                             <span style=\"color: #808000; text-decoration-color: #808000\">│</span>\n",
       "<span style=\"color: #808000; text-decoration-color: #808000\">╰─────────────────────────────╯</span>\n",
       "</pre>\n"
      ],
      "text/plain": [
       "\u001b[33m╭─\u001b[0m\u001b[33m──\u001b[0m\u001b[33m Nucleus segmentation \u001b[0m\u001b[33m───\u001b[0m\u001b[33m─╮\u001b[0m\n",
       "\u001b[33m│\u001b[0m Segmentation started!       \u001b[33m│\u001b[0m\n",
       "\u001b[33m│\u001b[0m                             \u001b[33m│\u001b[0m\n",
       "\u001b[33m│\u001b[0m Image: 2023_12_14_image_035 \u001b[33m│\u001b[0m\n",
       "\u001b[33m│\u001b[0m                             \u001b[33m│\u001b[0m\n",
       "\u001b[33m╰─────────────────────────────╯\u001b[0m\n"
      ]
     },
     "metadata": {},
     "output_type": "display_data"
    },
    {
     "data": {
      "text/html": [
       "<pre style=\"white-space:pre;overflow-x:auto;line-height:normal;font-family:Menlo,'DejaVu Sans Mono',consolas,'Courier New',monospace\"><span style=\"color: #808000; text-decoration-color: #808000\">╭─── Nucleus segmentation ────╮</span>\n",
       "<span style=\"color: #808000; text-decoration-color: #808000\">│</span> Segmentation started!       <span style=\"color: #808000; text-decoration-color: #808000\">│</span>\n",
       "<span style=\"color: #808000; text-decoration-color: #808000\">│</span>                             <span style=\"color: #808000; text-decoration-color: #808000\">│</span>\n",
       "<span style=\"color: #808000; text-decoration-color: #808000\">│</span> Image: 2023_12_14_image_031 <span style=\"color: #808000; text-decoration-color: #808000\">│</span>\n",
       "<span style=\"color: #808000; text-decoration-color: #808000\">│</span>                             <span style=\"color: #808000; text-decoration-color: #808000\">│</span>\n",
       "<span style=\"color: #808000; text-decoration-color: #808000\">╰─────────────────────────────╯</span>\n",
       "</pre>\n"
      ],
      "text/plain": [
       "\u001b[33m╭─\u001b[0m\u001b[33m──\u001b[0m\u001b[33m Nucleus segmentation \u001b[0m\u001b[33m───\u001b[0m\u001b[33m─╮\u001b[0m\n",
       "\u001b[33m│\u001b[0m Segmentation started!       \u001b[33m│\u001b[0m\n",
       "\u001b[33m│\u001b[0m                             \u001b[33m│\u001b[0m\n",
       "\u001b[33m│\u001b[0m Image: 2023_12_14_image_031 \u001b[33m│\u001b[0m\n",
       "\u001b[33m│\u001b[0m                             \u001b[33m│\u001b[0m\n",
       "\u001b[33m╰─────────────────────────────╯\u001b[0m\n"
      ]
     },
     "metadata": {},
     "output_type": "display_data"
    },
    {
     "data": {
      "text/html": [
       "<pre style=\"white-space:pre;overflow-x:auto;line-height:normal;font-family:Menlo,'DejaVu Sans Mono',consolas,'Courier New',monospace\"><span style=\"color: #808000; text-decoration-color: #808000\">╭─── Nucleus segmentation ────╮</span>\n",
       "<span style=\"color: #808000; text-decoration-color: #808000\">│</span> Segmentation started!       <span style=\"color: #808000; text-decoration-color: #808000\">│</span>\n",
       "<span style=\"color: #808000; text-decoration-color: #808000\">│</span>                             <span style=\"color: #808000; text-decoration-color: #808000\">│</span>\n",
       "<span style=\"color: #808000; text-decoration-color: #808000\">│</span> Image: 2023_12_14_image_026 <span style=\"color: #808000; text-decoration-color: #808000\">│</span>\n",
       "<span style=\"color: #808000; text-decoration-color: #808000\">│</span>                             <span style=\"color: #808000; text-decoration-color: #808000\">│</span>\n",
       "<span style=\"color: #808000; text-decoration-color: #808000\">╰─────────────────────────────╯</span>\n",
       "</pre>\n"
      ],
      "text/plain": [
       "\u001b[33m╭─\u001b[0m\u001b[33m──\u001b[0m\u001b[33m Nucleus segmentation \u001b[0m\u001b[33m───\u001b[0m\u001b[33m─╮\u001b[0m\n",
       "\u001b[33m│\u001b[0m Segmentation started!       \u001b[33m│\u001b[0m\n",
       "\u001b[33m│\u001b[0m                             \u001b[33m│\u001b[0m\n",
       "\u001b[33m│\u001b[0m Image: 2023_12_14_image_026 \u001b[33m│\u001b[0m\n",
       "\u001b[33m│\u001b[0m                             \u001b[33m│\u001b[0m\n",
       "\u001b[33m╰─────────────────────────────╯\u001b[0m\n"
      ]
     },
     "metadata": {},
     "output_type": "display_data"
    },
    {
     "data": {
      "text/html": [
       "<pre style=\"white-space:pre;overflow-x:auto;line-height:normal;font-family:Menlo,'DejaVu Sans Mono',consolas,'Courier New',monospace\"><span style=\"color: #808000; text-decoration-color: #808000\">╭─── Nucleus segmentation ────╮</span>\n",
       "<span style=\"color: #808000; text-decoration-color: #808000\">│</span> Segmentation started!       <span style=\"color: #808000; text-decoration-color: #808000\">│</span>\n",
       "<span style=\"color: #808000; text-decoration-color: #808000\">│</span>                             <span style=\"color: #808000; text-decoration-color: #808000\">│</span>\n",
       "<span style=\"color: #808000; text-decoration-color: #808000\">│</span> Image: 2023_12_14_image_008 <span style=\"color: #808000; text-decoration-color: #808000\">│</span>\n",
       "<span style=\"color: #808000; text-decoration-color: #808000\">│</span>                             <span style=\"color: #808000; text-decoration-color: #808000\">│</span>\n",
       "<span style=\"color: #808000; text-decoration-color: #808000\">╰─────────────────────────────╯</span>\n",
       "</pre>\n"
      ],
      "text/plain": [
       "\u001b[33m╭─\u001b[0m\u001b[33m──\u001b[0m\u001b[33m Nucleus segmentation \u001b[0m\u001b[33m───\u001b[0m\u001b[33m─╮\u001b[0m\n",
       "\u001b[33m│\u001b[0m Segmentation started!       \u001b[33m│\u001b[0m\n",
       "\u001b[33m│\u001b[0m                             \u001b[33m│\u001b[0m\n",
       "\u001b[33m│\u001b[0m Image: 2023_12_14_image_008 \u001b[33m│\u001b[0m\n",
       "\u001b[33m│\u001b[0m                             \u001b[33m│\u001b[0m\n",
       "\u001b[33m╰─────────────────────────────╯\u001b[0m\n"
      ]
     },
     "metadata": {},
     "output_type": "display_data"
    },
    {
     "data": {
      "text/html": [
       "<pre style=\"white-space:pre;overflow-x:auto;line-height:normal;font-family:Menlo,'DejaVu Sans Mono',consolas,'Courier New',monospace\"><span style=\"color: #808000; text-decoration-color: #808000\">╭─── Nucleus segmentation ────╮</span>\n",
       "<span style=\"color: #808000; text-decoration-color: #808000\">│</span> Segmentation started!       <span style=\"color: #808000; text-decoration-color: #808000\">│</span>\n",
       "<span style=\"color: #808000; text-decoration-color: #808000\">│</span>                             <span style=\"color: #808000; text-decoration-color: #808000\">│</span>\n",
       "<span style=\"color: #808000; text-decoration-color: #808000\">│</span> Image: 2023_12_14_image_024 <span style=\"color: #808000; text-decoration-color: #808000\">│</span>\n",
       "<span style=\"color: #808000; text-decoration-color: #808000\">│</span>                             <span style=\"color: #808000; text-decoration-color: #808000\">│</span>\n",
       "<span style=\"color: #808000; text-decoration-color: #808000\">╰─────────────────────────────╯</span>\n",
       "</pre>\n"
      ],
      "text/plain": [
       "\u001b[33m╭─\u001b[0m\u001b[33m──\u001b[0m\u001b[33m Nucleus segmentation \u001b[0m\u001b[33m───\u001b[0m\u001b[33m─╮\u001b[0m\n",
       "\u001b[33m│\u001b[0m Segmentation started!       \u001b[33m│\u001b[0m\n",
       "\u001b[33m│\u001b[0m                             \u001b[33m│\u001b[0m\n",
       "\u001b[33m│\u001b[0m Image: 2023_12_14_image_024 \u001b[33m│\u001b[0m\n",
       "\u001b[33m│\u001b[0m                             \u001b[33m│\u001b[0m\n",
       "\u001b[33m╰─────────────────────────────╯\u001b[0m\n"
      ]
     },
     "metadata": {},
     "output_type": "display_data"
    },
    {
     "data": {
      "text/html": [
       "<pre style=\"white-space:pre;overflow-x:auto;line-height:normal;font-family:Menlo,'DejaVu Sans Mono',consolas,'Courier New',monospace\"><span style=\"color: #808000; text-decoration-color: #808000\">╭─── Nucleus segmentation ────╮</span>\n",
       "<span style=\"color: #808000; text-decoration-color: #808000\">│</span> Segmentation started!       <span style=\"color: #808000; text-decoration-color: #808000\">│</span>\n",
       "<span style=\"color: #808000; text-decoration-color: #808000\">│</span>                             <span style=\"color: #808000; text-decoration-color: #808000\">│</span>\n",
       "<span style=\"color: #808000; text-decoration-color: #808000\">│</span> Image: 2023_12_14_image_007 <span style=\"color: #808000; text-decoration-color: #808000\">│</span>\n",
       "<span style=\"color: #808000; text-decoration-color: #808000\">│</span>                             <span style=\"color: #808000; text-decoration-color: #808000\">│</span>\n",
       "<span style=\"color: #808000; text-decoration-color: #808000\">╰─────────────────────────────╯</span>\n",
       "</pre>\n"
      ],
      "text/plain": [
       "\u001b[33m╭─\u001b[0m\u001b[33m──\u001b[0m\u001b[33m Nucleus segmentation \u001b[0m\u001b[33m───\u001b[0m\u001b[33m─╮\u001b[0m\n",
       "\u001b[33m│\u001b[0m Segmentation started!       \u001b[33m│\u001b[0m\n",
       "\u001b[33m│\u001b[0m                             \u001b[33m│\u001b[0m\n",
       "\u001b[33m│\u001b[0m Image: 2023_12_14_image_007 \u001b[33m│\u001b[0m\n",
       "\u001b[33m│\u001b[0m                             \u001b[33m│\u001b[0m\n",
       "\u001b[33m╰─────────────────────────────╯\u001b[0m\n"
      ]
     },
     "metadata": {},
     "output_type": "display_data"
    },
    {
     "data": {
      "text/html": [
       "<pre style=\"white-space:pre;overflow-x:auto;line-height:normal;font-family:Menlo,'DejaVu Sans Mono',consolas,'Courier New',monospace\"><span style=\"color: #808000; text-decoration-color: #808000\">╭─── Nucleus segmentation ────╮</span>\n",
       "<span style=\"color: #808000; text-decoration-color: #808000\">│</span> Segmentation started!       <span style=\"color: #808000; text-decoration-color: #808000\">│</span>\n",
       "<span style=\"color: #808000; text-decoration-color: #808000\">│</span>                             <span style=\"color: #808000; text-decoration-color: #808000\">│</span>\n",
       "<span style=\"color: #808000; text-decoration-color: #808000\">│</span> Image: 2023_12_14_image_034 <span style=\"color: #808000; text-decoration-color: #808000\">│</span>\n",
       "<span style=\"color: #808000; text-decoration-color: #808000\">│</span>                             <span style=\"color: #808000; text-decoration-color: #808000\">│</span>\n",
       "<span style=\"color: #808000; text-decoration-color: #808000\">╰─────────────────────────────╯</span>\n",
       "</pre>\n"
      ],
      "text/plain": [
       "\u001b[33m╭─\u001b[0m\u001b[33m──\u001b[0m\u001b[33m Nucleus segmentation \u001b[0m\u001b[33m───\u001b[0m\u001b[33m─╮\u001b[0m\n",
       "\u001b[33m│\u001b[0m Segmentation started!       \u001b[33m│\u001b[0m\n",
       "\u001b[33m│\u001b[0m                             \u001b[33m│\u001b[0m\n",
       "\u001b[33m│\u001b[0m Image: 2023_12_14_image_034 \u001b[33m│\u001b[0m\n",
       "\u001b[33m│\u001b[0m                             \u001b[33m│\u001b[0m\n",
       "\u001b[33m╰─────────────────────────────╯\u001b[0m\n"
      ]
     },
     "metadata": {},
     "output_type": "display_data"
    },
    {
     "data": {
      "text/html": [
       "<pre style=\"white-space:pre;overflow-x:auto;line-height:normal;font-family:Menlo,'DejaVu Sans Mono',consolas,'Courier New',monospace\"><span style=\"color: #808000; text-decoration-color: #808000\">╭─── Nucleus segmentation ────╮</span>\n",
       "<span style=\"color: #808000; text-decoration-color: #808000\">│</span> Segmentation started!       <span style=\"color: #808000; text-decoration-color: #808000\">│</span>\n",
       "<span style=\"color: #808000; text-decoration-color: #808000\">│</span>                             <span style=\"color: #808000; text-decoration-color: #808000\">│</span>\n",
       "<span style=\"color: #808000; text-decoration-color: #808000\">│</span> Image: 2023_12_14_image_033 <span style=\"color: #808000; text-decoration-color: #808000\">│</span>\n",
       "<span style=\"color: #808000; text-decoration-color: #808000\">│</span>                             <span style=\"color: #808000; text-decoration-color: #808000\">│</span>\n",
       "<span style=\"color: #808000; text-decoration-color: #808000\">╰─────────────────────────────╯</span>\n",
       "</pre>\n"
      ],
      "text/plain": [
       "\u001b[33m╭─\u001b[0m\u001b[33m──\u001b[0m\u001b[33m Nucleus segmentation \u001b[0m\u001b[33m───\u001b[0m\u001b[33m─╮\u001b[0m\n",
       "\u001b[33m│\u001b[0m Segmentation started!       \u001b[33m│\u001b[0m\n",
       "\u001b[33m│\u001b[0m                             \u001b[33m│\u001b[0m\n",
       "\u001b[33m│\u001b[0m Image: 2023_12_14_image_033 \u001b[33m│\u001b[0m\n",
       "\u001b[33m│\u001b[0m                             \u001b[33m│\u001b[0m\n",
       "\u001b[33m╰─────────────────────────────╯\u001b[0m\n"
      ]
     },
     "metadata": {},
     "output_type": "display_data"
    }
   ],
   "source": [
    "import matplotlib.pyplot as plt\n",
    "import mahotas as mh\n",
    "import pandas as pd\n",
    "import numpy as np\n",
    "import pathlib\n",
    "import time\n",
    "from cellseg.src.watershed import watershed_nucleus\n",
    "\n",
    "images_path = pathlib.Path(\"Images/all_images\")\n",
    "labels_path = pathlib.Path(\"Labels/orig/nucleus\")\n",
    "\n",
    "results_nucleus = pd.DataFrame(columns=[\"image\", \"F1\", \"time\", \"method\"])\n",
    "\n",
    "for image_path in images_path.glob(\"*.png\"):\n",
    "    if (labels_path / images_path.name).exists():\n",
    "        continue\n",
    "    \n",
    "    img = mh.imread(image_path)\n",
    "    img_name = str(image_path.stem).split(\"/\")[-1]\n",
    "    label = labels_path / f\"{img_name}.npy\"\n",
    "    \n",
    "    t1 = time.monotonic()\n",
    "    \n",
    "    cytoplasm, f1 = watershed_nucleus(img_path=image_path, label_path=label, **params)\n",
    "    \n",
    "    t2 = time.monotonic()\n",
    "    t = t2 - t1\n",
    "    \n",
    "    plt.imsave(f\"Watershed/nucleus/{img_name}_nucleus.png\", cytoplasm)\n",
    "    \n",
    "    results_nucleus = pd.concat([results_nucleus, pd.DataFrame({\"image\": [img_name], \"F1\": [f1], \"time\": [t], \"method\": [\"watershed\"]})])"
   ]
  },
  {
   "cell_type": "code",
   "execution_count": 3,
   "metadata": {},
   "outputs": [
    {
     "data": {
      "text/html": [
       "<div>\n",
       "<style scoped>\n",
       "    .dataframe tbody tr th:only-of-type {\n",
       "        vertical-align: middle;\n",
       "    }\n",
       "\n",
       "    .dataframe tbody tr th {\n",
       "        vertical-align: top;\n",
       "    }\n",
       "\n",
       "    .dataframe thead th {\n",
       "        text-align: right;\n",
       "    }\n",
       "</style>\n",
       "<table border=\"1\" class=\"dataframe\">\n",
       "  <thead>\n",
       "    <tr style=\"text-align: right;\">\n",
       "      <th></th>\n",
       "      <th>F1</th>\n",
       "      <th>time</th>\n",
       "    </tr>\n",
       "  </thead>\n",
       "  <tbody>\n",
       "    <tr>\n",
       "      <th>count</th>\n",
       "      <td>50.000000</td>\n",
       "      <td>50.000000</td>\n",
       "    </tr>\n",
       "    <tr>\n",
       "      <th>mean</th>\n",
       "      <td>0.804822</td>\n",
       "      <td>1.035988</td>\n",
       "    </tr>\n",
       "    <tr>\n",
       "      <th>std</th>\n",
       "      <td>0.041972</td>\n",
       "      <td>0.073238</td>\n",
       "    </tr>\n",
       "    <tr>\n",
       "      <th>min</th>\n",
       "      <td>0.703096</td>\n",
       "      <td>0.938034</td>\n",
       "    </tr>\n",
       "    <tr>\n",
       "      <th>25%</th>\n",
       "      <td>0.778616</td>\n",
       "      <td>0.988306</td>\n",
       "    </tr>\n",
       "    <tr>\n",
       "      <th>50%</th>\n",
       "      <td>0.815940</td>\n",
       "      <td>1.008598</td>\n",
       "    </tr>\n",
       "    <tr>\n",
       "      <th>75%</th>\n",
       "      <td>0.834434</td>\n",
       "      <td>1.085397</td>\n",
       "    </tr>\n",
       "    <tr>\n",
       "      <th>max</th>\n",
       "      <td>0.887337</td>\n",
       "      <td>1.281357</td>\n",
       "    </tr>\n",
       "  </tbody>\n",
       "</table>\n",
       "</div>"
      ],
      "text/plain": [
       "              F1       time\n",
       "count  50.000000  50.000000\n",
       "mean    0.804822   1.035988\n",
       "std     0.041972   0.073238\n",
       "min     0.703096   0.938034\n",
       "25%     0.778616   0.988306\n",
       "50%     0.815940   1.008598\n",
       "75%     0.834434   1.085397\n",
       "max     0.887337   1.281357"
      ]
     },
     "execution_count": 3,
     "metadata": {},
     "output_type": "execute_result"
    }
   ],
   "source": [
    "results_nucleus.describe()"
   ]
  },
  {
   "cell_type": "code",
   "execution_count": 4,
   "metadata": {},
   "outputs": [
    {
     "data": {
      "text/html": [
       "<div>\n",
       "<style scoped>\n",
       "    .dataframe tbody tr th:only-of-type {\n",
       "        vertical-align: middle;\n",
       "    }\n",
       "\n",
       "    .dataframe tbody tr th {\n",
       "        vertical-align: top;\n",
       "    }\n",
       "\n",
       "    .dataframe thead th {\n",
       "        text-align: right;\n",
       "    }\n",
       "</style>\n",
       "<table border=\"1\" class=\"dataframe\">\n",
       "  <thead>\n",
       "    <tr style=\"text-align: right;\">\n",
       "      <th></th>\n",
       "      <th>image</th>\n",
       "      <th>F1</th>\n",
       "      <th>time</th>\n",
       "      <th>method</th>\n",
       "    </tr>\n",
       "  </thead>\n",
       "  <tbody>\n",
       "    <tr>\n",
       "      <th>0</th>\n",
       "      <td>2023_12_14_image_041</td>\n",
       "      <td>0.793517</td>\n",
       "      <td>1.004378</td>\n",
       "      <td>watershed</td>\n",
       "    </tr>\n",
       "    <tr>\n",
       "      <th>0</th>\n",
       "      <td>2023_12_14_image_040</td>\n",
       "      <td>0.802873</td>\n",
       "      <td>0.988748</td>\n",
       "      <td>watershed</td>\n",
       "    </tr>\n",
       "    <tr>\n",
       "      <th>0</th>\n",
       "      <td>2023_12_14_image_043</td>\n",
       "      <td>0.747510</td>\n",
       "      <td>1.012818</td>\n",
       "      <td>watershed</td>\n",
       "    </tr>\n",
       "    <tr>\n",
       "      <th>0</th>\n",
       "      <td>2023_12_14_image_005</td>\n",
       "      <td>0.823767</td>\n",
       "      <td>1.002151</td>\n",
       "      <td>watershed</td>\n",
       "    </tr>\n",
       "    <tr>\n",
       "      <th>0</th>\n",
       "      <td>2023_12_14_image_029</td>\n",
       "      <td>0.860918</td>\n",
       "      <td>1.003326</td>\n",
       "      <td>watershed</td>\n",
       "    </tr>\n",
       "  </tbody>\n",
       "</table>\n",
       "</div>"
      ],
      "text/plain": [
       "                  image        F1      time     method\n",
       "0  2023_12_14_image_041  0.793517  1.004378  watershed\n",
       "0  2023_12_14_image_040  0.802873  0.988748  watershed\n",
       "0  2023_12_14_image_043  0.747510  1.012818  watershed\n",
       "0  2023_12_14_image_005  0.823767  1.002151  watershed\n",
       "0  2023_12_14_image_029  0.860918  1.003326  watershed"
      ]
     },
     "execution_count": 4,
     "metadata": {},
     "output_type": "execute_result"
    }
   ],
   "source": [
    "results_nucleus.head()"
   ]
  },
  {
   "cell_type": "code",
   "execution_count": 5,
   "metadata": {},
   "outputs": [
    {
     "data": {
      "text/html": [
       "<div>\n",
       "<style scoped>\n",
       "    .dataframe tbody tr th:only-of-type {\n",
       "        vertical-align: middle;\n",
       "    }\n",
       "\n",
       "    .dataframe tbody tr th {\n",
       "        vertical-align: top;\n",
       "    }\n",
       "\n",
       "    .dataframe thead th {\n",
       "        text-align: right;\n",
       "    }\n",
       "</style>\n",
       "<table border=\"1\" class=\"dataframe\">\n",
       "  <thead>\n",
       "    <tr style=\"text-align: right;\">\n",
       "      <th></th>\n",
       "      <th>image</th>\n",
       "      <th>F1</th>\n",
       "      <th>time</th>\n",
       "      <th>method</th>\n",
       "      <th>type</th>\n",
       "    </tr>\n",
       "  </thead>\n",
       "  <tbody>\n",
       "    <tr>\n",
       "      <th>0</th>\n",
       "      <td>2023_12_14_image_041</td>\n",
       "      <td>0.793517</td>\n",
       "      <td>1.004378</td>\n",
       "      <td>watershed</td>\n",
       "      <td>nucleus</td>\n",
       "    </tr>\n",
       "    <tr>\n",
       "      <th>0</th>\n",
       "      <td>2023_12_14_image_040</td>\n",
       "      <td>0.802873</td>\n",
       "      <td>0.988748</td>\n",
       "      <td>watershed</td>\n",
       "      <td>nucleus</td>\n",
       "    </tr>\n",
       "    <tr>\n",
       "      <th>0</th>\n",
       "      <td>2023_12_14_image_043</td>\n",
       "      <td>0.747510</td>\n",
       "      <td>1.012818</td>\n",
       "      <td>watershed</td>\n",
       "      <td>nucleus</td>\n",
       "    </tr>\n",
       "    <tr>\n",
       "      <th>0</th>\n",
       "      <td>2023_12_14_image_005</td>\n",
       "      <td>0.823767</td>\n",
       "      <td>1.002151</td>\n",
       "      <td>watershed</td>\n",
       "      <td>nucleus</td>\n",
       "    </tr>\n",
       "    <tr>\n",
       "      <th>0</th>\n",
       "      <td>2023_12_14_image_029</td>\n",
       "      <td>0.860918</td>\n",
       "      <td>1.003326</td>\n",
       "      <td>watershed</td>\n",
       "      <td>nucleus</td>\n",
       "    </tr>\n",
       "    <tr>\n",
       "      <th>0</th>\n",
       "      <td>2023_12_14_image_027</td>\n",
       "      <td>0.790371</td>\n",
       "      <td>1.020246</td>\n",
       "      <td>watershed</td>\n",
       "      <td>nucleus</td>\n",
       "    </tr>\n",
       "    <tr>\n",
       "      <th>0</th>\n",
       "      <td>2023_12_14_image_039</td>\n",
       "      <td>0.820518</td>\n",
       "      <td>0.954688</td>\n",
       "      <td>watershed</td>\n",
       "      <td>nucleus</td>\n",
       "    </tr>\n",
       "    <tr>\n",
       "      <th>0</th>\n",
       "      <td>2023_12_14_image_037</td>\n",
       "      <td>0.847415</td>\n",
       "      <td>1.058707</td>\n",
       "      <td>watershed</td>\n",
       "      <td>nucleus</td>\n",
       "    </tr>\n",
       "    <tr>\n",
       "      <th>0</th>\n",
       "      <td>2023_12_14_image_045</td>\n",
       "      <td>0.745442</td>\n",
       "      <td>0.995586</td>\n",
       "      <td>watershed</td>\n",
       "      <td>nucleus</td>\n",
       "    </tr>\n",
       "    <tr>\n",
       "      <th>0</th>\n",
       "      <td>2023_12_14_image_000</td>\n",
       "      <td>0.848711</td>\n",
       "      <td>0.999293</td>\n",
       "      <td>watershed</td>\n",
       "      <td>nucleus</td>\n",
       "    </tr>\n",
       "    <tr>\n",
       "      <th>0</th>\n",
       "      <td>2023_12_14_image_015</td>\n",
       "      <td>0.714474</td>\n",
       "      <td>1.016630</td>\n",
       "      <td>watershed</td>\n",
       "      <td>nucleus</td>\n",
       "    </tr>\n",
       "    <tr>\n",
       "      <th>0</th>\n",
       "      <td>2023_12_14_image_017</td>\n",
       "      <td>0.813245</td>\n",
       "      <td>0.960503</td>\n",
       "      <td>watershed</td>\n",
       "      <td>nucleus</td>\n",
       "    </tr>\n",
       "    <tr>\n",
       "      <th>0</th>\n",
       "      <td>2023_12_14_image_003</td>\n",
       "      <td>0.790239</td>\n",
       "      <td>0.988159</td>\n",
       "      <td>watershed</td>\n",
       "      <td>nucleus</td>\n",
       "    </tr>\n",
       "    <tr>\n",
       "      <th>0</th>\n",
       "      <td>2023_12_14_image_022</td>\n",
       "      <td>0.806267</td>\n",
       "      <td>0.984183</td>\n",
       "      <td>watershed</td>\n",
       "      <td>nucleus</td>\n",
       "    </tr>\n",
       "    <tr>\n",
       "      <th>0</th>\n",
       "      <td>2023_12_14_image_044</td>\n",
       "      <td>0.826002</td>\n",
       "      <td>1.115333</td>\n",
       "      <td>watershed</td>\n",
       "      <td>nucleus</td>\n",
       "    </tr>\n",
       "    <tr>\n",
       "      <th>0</th>\n",
       "      <td>2023_12_14_image_002</td>\n",
       "      <td>0.717218</td>\n",
       "      <td>1.048595</td>\n",
       "      <td>watershed</td>\n",
       "      <td>nucleus</td>\n",
       "    </tr>\n",
       "    <tr>\n",
       "      <th>0</th>\n",
       "      <td>2023_12_14_image_036</td>\n",
       "      <td>0.775887</td>\n",
       "      <td>0.969338</td>\n",
       "      <td>watershed</td>\n",
       "      <td>nucleus</td>\n",
       "    </tr>\n",
       "    <tr>\n",
       "      <th>0</th>\n",
       "      <td>2023_12_14_image_009</td>\n",
       "      <td>0.791595</td>\n",
       "      <td>1.003005</td>\n",
       "      <td>watershed</td>\n",
       "      <td>nucleus</td>\n",
       "    </tr>\n",
       "    <tr>\n",
       "      <th>0</th>\n",
       "      <td>2023_12_14_image_047</td>\n",
       "      <td>0.752257</td>\n",
       "      <td>1.051909</td>\n",
       "      <td>watershed</td>\n",
       "      <td>nucleus</td>\n",
       "    </tr>\n",
       "    <tr>\n",
       "      <th>0</th>\n",
       "      <td>2023_12_14_image_018</td>\n",
       "      <td>0.832863</td>\n",
       "      <td>1.016489</td>\n",
       "      <td>watershed</td>\n",
       "      <td>nucleus</td>\n",
       "    </tr>\n",
       "    <tr>\n",
       "      <th>0</th>\n",
       "      <td>2023_12_14_image_032</td>\n",
       "      <td>0.824469</td>\n",
       "      <td>0.938034</td>\n",
       "      <td>watershed</td>\n",
       "      <td>nucleus</td>\n",
       "    </tr>\n",
       "    <tr>\n",
       "      <th>0</th>\n",
       "      <td>2023_12_14_image_004</td>\n",
       "      <td>0.741369</td>\n",
       "      <td>0.998797</td>\n",
       "      <td>watershed</td>\n",
       "      <td>nucleus</td>\n",
       "    </tr>\n",
       "    <tr>\n",
       "      <th>0</th>\n",
       "      <td>2023_12_14_image_019</td>\n",
       "      <td>0.835581</td>\n",
       "      <td>1.033032</td>\n",
       "      <td>watershed</td>\n",
       "      <td>nucleus</td>\n",
       "    </tr>\n",
       "    <tr>\n",
       "      <th>0</th>\n",
       "      <td>2023_12_14_image_010</td>\n",
       "      <td>0.816861</td>\n",
       "      <td>1.097031</td>\n",
       "      <td>watershed</td>\n",
       "      <td>nucleus</td>\n",
       "    </tr>\n",
       "    <tr>\n",
       "      <th>0</th>\n",
       "      <td>2023_12_14_image_013</td>\n",
       "      <td>0.773953</td>\n",
       "      <td>0.992042</td>\n",
       "      <td>watershed</td>\n",
       "      <td>nucleus</td>\n",
       "    </tr>\n",
       "    <tr>\n",
       "      <th>0</th>\n",
       "      <td>2023_12_14_image_011</td>\n",
       "      <td>0.753616</td>\n",
       "      <td>1.065846</td>\n",
       "      <td>watershed</td>\n",
       "      <td>nucleus</td>\n",
       "    </tr>\n",
       "    <tr>\n",
       "      <th>0</th>\n",
       "      <td>2023_12_14_image_049</td>\n",
       "      <td>0.857015</td>\n",
       "      <td>1.130625</td>\n",
       "      <td>watershed</td>\n",
       "      <td>nucleus</td>\n",
       "    </tr>\n",
       "    <tr>\n",
       "      <th>0</th>\n",
       "      <td>2023_12_14_image_006</td>\n",
       "      <td>0.848489</td>\n",
       "      <td>0.974225</td>\n",
       "      <td>watershed</td>\n",
       "      <td>nucleus</td>\n",
       "    </tr>\n",
       "    <tr>\n",
       "      <th>0</th>\n",
       "      <td>2023_12_14_image_030</td>\n",
       "      <td>0.887337</td>\n",
       "      <td>1.032660</td>\n",
       "      <td>watershed</td>\n",
       "      <td>nucleus</td>\n",
       "    </tr>\n",
       "    <tr>\n",
       "      <th>0</th>\n",
       "      <td>2023_12_14_image_028</td>\n",
       "      <td>0.815019</td>\n",
       "      <td>1.097930</td>\n",
       "      <td>watershed</td>\n",
       "      <td>nucleus</td>\n",
       "    </tr>\n",
       "    <tr>\n",
       "      <th>0</th>\n",
       "      <td>2023_12_14_image_012</td>\n",
       "      <td>0.821934</td>\n",
       "      <td>1.167136</td>\n",
       "      <td>watershed</td>\n",
       "      <td>nucleus</td>\n",
       "    </tr>\n",
       "    <tr>\n",
       "      <th>0</th>\n",
       "      <td>2023_12_14_image_042</td>\n",
       "      <td>0.793653</td>\n",
       "      <td>1.281357</td>\n",
       "      <td>watershed</td>\n",
       "      <td>nucleus</td>\n",
       "    </tr>\n",
       "    <tr>\n",
       "      <th>0</th>\n",
       "      <td>2023_12_14_image_025</td>\n",
       "      <td>0.777937</td>\n",
       "      <td>1.089569</td>\n",
       "      <td>watershed</td>\n",
       "      <td>nucleus</td>\n",
       "    </tr>\n",
       "    <tr>\n",
       "      <th>0</th>\n",
       "      <td>2023_12_14_image_023</td>\n",
       "      <td>0.817207</td>\n",
       "      <td>1.157289</td>\n",
       "      <td>watershed</td>\n",
       "      <td>nucleus</td>\n",
       "    </tr>\n",
       "    <tr>\n",
       "      <th>0</th>\n",
       "      <td>2023_12_14_image_038</td>\n",
       "      <td>0.786891</td>\n",
       "      <td>1.119414</td>\n",
       "      <td>watershed</td>\n",
       "      <td>nucleus</td>\n",
       "    </tr>\n",
       "    <tr>\n",
       "      <th>0</th>\n",
       "      <td>2023_12_14_image_048</td>\n",
       "      <td>0.834958</td>\n",
       "      <td>1.167987</td>\n",
       "      <td>watershed</td>\n",
       "      <td>nucleus</td>\n",
       "    </tr>\n",
       "    <tr>\n",
       "      <th>0</th>\n",
       "      <td>2023_12_14_image_046</td>\n",
       "      <td>0.780653</td>\n",
       "      <td>1.130444</td>\n",
       "      <td>watershed</td>\n",
       "      <td>nucleus</td>\n",
       "    </tr>\n",
       "    <tr>\n",
       "      <th>0</th>\n",
       "      <td>2023_12_14_image_021</td>\n",
       "      <td>0.824946</td>\n",
       "      <td>1.072881</td>\n",
       "      <td>watershed</td>\n",
       "      <td>nucleus</td>\n",
       "    </tr>\n",
       "    <tr>\n",
       "      <th>0</th>\n",
       "      <td>2023_12_14_image_001</td>\n",
       "      <td>0.703096</td>\n",
       "      <td>1.092719</td>\n",
       "      <td>watershed</td>\n",
       "      <td>nucleus</td>\n",
       "    </tr>\n",
       "    <tr>\n",
       "      <th>0</th>\n",
       "      <td>2023_12_14_image_020</td>\n",
       "      <td>0.844858</td>\n",
       "      <td>0.962375</td>\n",
       "      <td>watershed</td>\n",
       "      <td>nucleus</td>\n",
       "    </tr>\n",
       "    <tr>\n",
       "      <th>0</th>\n",
       "      <td>2023_12_14_image_016</td>\n",
       "      <td>0.854407</td>\n",
       "      <td>0.979427</td>\n",
       "      <td>watershed</td>\n",
       "      <td>nucleus</td>\n",
       "    </tr>\n",
       "    <tr>\n",
       "      <th>0</th>\n",
       "      <td>2023_12_14_image_014</td>\n",
       "      <td>0.823620</td>\n",
       "      <td>0.958605</td>\n",
       "      <td>watershed</td>\n",
       "      <td>nucleus</td>\n",
       "    </tr>\n",
       "    <tr>\n",
       "      <th>0</th>\n",
       "      <td>2023_12_14_image_035</td>\n",
       "      <td>0.838180</td>\n",
       "      <td>0.955512</td>\n",
       "      <td>watershed</td>\n",
       "      <td>nucleus</td>\n",
       "    </tr>\n",
       "    <tr>\n",
       "      <th>0</th>\n",
       "      <td>2023_12_14_image_031</td>\n",
       "      <td>0.869397</td>\n",
       "      <td>0.994719</td>\n",
       "      <td>watershed</td>\n",
       "      <td>nucleus</td>\n",
       "    </tr>\n",
       "    <tr>\n",
       "      <th>0</th>\n",
       "      <td>2023_12_14_image_026</td>\n",
       "      <td>0.796458</td>\n",
       "      <td>1.003941</td>\n",
       "      <td>watershed</td>\n",
       "      <td>nucleus</td>\n",
       "    </tr>\n",
       "    <tr>\n",
       "      <th>0</th>\n",
       "      <td>2023_12_14_image_008</td>\n",
       "      <td>0.835324</td>\n",
       "      <td>0.947733</td>\n",
       "      <td>watershed</td>\n",
       "      <td>nucleus</td>\n",
       "    </tr>\n",
       "    <tr>\n",
       "      <th>0</th>\n",
       "      <td>2023_12_14_image_024</td>\n",
       "      <td>0.829869</td>\n",
       "      <td>1.171254</td>\n",
       "      <td>watershed</td>\n",
       "      <td>nucleus</td>\n",
       "    </tr>\n",
       "    <tr>\n",
       "      <th>0</th>\n",
       "      <td>2023_12_14_image_007</td>\n",
       "      <td>0.748759</td>\n",
       "      <td>0.972100</td>\n",
       "      <td>watershed</td>\n",
       "      <td>nucleus</td>\n",
       "    </tr>\n",
       "    <tr>\n",
       "      <th>0</th>\n",
       "      <td>2023_12_14_image_034</td>\n",
       "      <td>0.830178</td>\n",
       "      <td>0.994416</td>\n",
       "      <td>watershed</td>\n",
       "      <td>nucleus</td>\n",
       "    </tr>\n",
       "    <tr>\n",
       "      <th>0</th>\n",
       "      <td>2023_12_14_image_033</td>\n",
       "      <td>0.773974</td>\n",
       "      <td>1.026217</td>\n",
       "      <td>watershed</td>\n",
       "      <td>nucleus</td>\n",
       "    </tr>\n",
       "  </tbody>\n",
       "</table>\n",
       "</div>"
      ],
      "text/plain": [
       "                  image        F1      time     method     type\n",
       "0  2023_12_14_image_041  0.793517  1.004378  watershed  nucleus\n",
       "0  2023_12_14_image_040  0.802873  0.988748  watershed  nucleus\n",
       "0  2023_12_14_image_043  0.747510  1.012818  watershed  nucleus\n",
       "0  2023_12_14_image_005  0.823767  1.002151  watershed  nucleus\n",
       "0  2023_12_14_image_029  0.860918  1.003326  watershed  nucleus\n",
       "0  2023_12_14_image_027  0.790371  1.020246  watershed  nucleus\n",
       "0  2023_12_14_image_039  0.820518  0.954688  watershed  nucleus\n",
       "0  2023_12_14_image_037  0.847415  1.058707  watershed  nucleus\n",
       "0  2023_12_14_image_045  0.745442  0.995586  watershed  nucleus\n",
       "0  2023_12_14_image_000  0.848711  0.999293  watershed  nucleus\n",
       "0  2023_12_14_image_015  0.714474  1.016630  watershed  nucleus\n",
       "0  2023_12_14_image_017  0.813245  0.960503  watershed  nucleus\n",
       "0  2023_12_14_image_003  0.790239  0.988159  watershed  nucleus\n",
       "0  2023_12_14_image_022  0.806267  0.984183  watershed  nucleus\n",
       "0  2023_12_14_image_044  0.826002  1.115333  watershed  nucleus\n",
       "0  2023_12_14_image_002  0.717218  1.048595  watershed  nucleus\n",
       "0  2023_12_14_image_036  0.775887  0.969338  watershed  nucleus\n",
       "0  2023_12_14_image_009  0.791595  1.003005  watershed  nucleus\n",
       "0  2023_12_14_image_047  0.752257  1.051909  watershed  nucleus\n",
       "0  2023_12_14_image_018  0.832863  1.016489  watershed  nucleus\n",
       "0  2023_12_14_image_032  0.824469  0.938034  watershed  nucleus\n",
       "0  2023_12_14_image_004  0.741369  0.998797  watershed  nucleus\n",
       "0  2023_12_14_image_019  0.835581  1.033032  watershed  nucleus\n",
       "0  2023_12_14_image_010  0.816861  1.097031  watershed  nucleus\n",
       "0  2023_12_14_image_013  0.773953  0.992042  watershed  nucleus\n",
       "0  2023_12_14_image_011  0.753616  1.065846  watershed  nucleus\n",
       "0  2023_12_14_image_049  0.857015  1.130625  watershed  nucleus\n",
       "0  2023_12_14_image_006  0.848489  0.974225  watershed  nucleus\n",
       "0  2023_12_14_image_030  0.887337  1.032660  watershed  nucleus\n",
       "0  2023_12_14_image_028  0.815019  1.097930  watershed  nucleus\n",
       "0  2023_12_14_image_012  0.821934  1.167136  watershed  nucleus\n",
       "0  2023_12_14_image_042  0.793653  1.281357  watershed  nucleus\n",
       "0  2023_12_14_image_025  0.777937  1.089569  watershed  nucleus\n",
       "0  2023_12_14_image_023  0.817207  1.157289  watershed  nucleus\n",
       "0  2023_12_14_image_038  0.786891  1.119414  watershed  nucleus\n",
       "0  2023_12_14_image_048  0.834958  1.167987  watershed  nucleus\n",
       "0  2023_12_14_image_046  0.780653  1.130444  watershed  nucleus\n",
       "0  2023_12_14_image_021  0.824946  1.072881  watershed  nucleus\n",
       "0  2023_12_14_image_001  0.703096  1.092719  watershed  nucleus\n",
       "0  2023_12_14_image_020  0.844858  0.962375  watershed  nucleus\n",
       "0  2023_12_14_image_016  0.854407  0.979427  watershed  nucleus\n",
       "0  2023_12_14_image_014  0.823620  0.958605  watershed  nucleus\n",
       "0  2023_12_14_image_035  0.838180  0.955512  watershed  nucleus\n",
       "0  2023_12_14_image_031  0.869397  0.994719  watershed  nucleus\n",
       "0  2023_12_14_image_026  0.796458  1.003941  watershed  nucleus\n",
       "0  2023_12_14_image_008  0.835324  0.947733  watershed  nucleus\n",
       "0  2023_12_14_image_024  0.829869  1.171254  watershed  nucleus\n",
       "0  2023_12_14_image_007  0.748759  0.972100  watershed  nucleus\n",
       "0  2023_12_14_image_034  0.830178  0.994416  watershed  nucleus\n",
       "0  2023_12_14_image_033  0.773974  1.026217  watershed  nucleus"
      ]
     },
     "execution_count": 5,
     "metadata": {},
     "output_type": "execute_result"
    }
   ],
   "source": [
    "results_nucleus[\"type\"] = \"nucleus\"\n",
    "results_nucleus"
   ]
  },
  {
   "cell_type": "code",
   "execution_count": 29,
   "metadata": {},
   "outputs": [],
   "source": [
    "cytoplasm_df = pd.read_csv(\"results_cytoplasm.csv\")\n",
    "\n",
    "# concatenate the two dataframes\n",
    "results = pd.concat([cytoplasm_df, results_nucleus])"
   ]
  },
  {
   "cell_type": "code",
   "execution_count": 30,
   "metadata": {},
   "outputs": [],
   "source": [
    "results.to_csv(\"results_water.csv\", index=False)"
   ]
  }
 ],
 "metadata": {
  "kernelspec": {
   "display_name": ".venv",
   "language": "python",
   "name": "python3"
  },
  "language_info": {
   "codemirror_mode": {
    "name": "ipython",
    "version": 3
   },
   "file_extension": ".py",
   "mimetype": "text/x-python",
   "name": "python",
   "nbconvert_exporter": "python",
   "pygments_lexer": "ipython3",
   "version": "3.10.12"
  }
 },
 "nbformat": 4,
 "nbformat_minor": 2
}
