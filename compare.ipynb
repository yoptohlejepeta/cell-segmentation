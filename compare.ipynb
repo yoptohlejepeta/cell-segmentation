{
 "cells": [
  {
   "cell_type": "code",
   "execution_count": 18,
   "metadata": {},
   "outputs": [
    {
     "name": "stdout",
     "output_type": "stream",
     "text": [
      "{'slope': 5, 'limit': 1958, 'samples': 646, 'sigma': 1.006495976340624, 'subwidth': 10, 'subheight': 18, 'mask_size': 5, 'iterations': 9, 'min_size': 140}\n"
     ]
    }
   ],
   "source": [
    "from optuna import load_study\n",
    "from cellseg.src.watershed import watershed_cytoplasm\n",
    "import pathlib\n",
    "\n",
    "study = load_study(storage=\"sqlite:///optuna.db\", study_name=\"cytoplasm_segmentation\")\n",
    "params = study.best_params\n",
    "print(params)"
   ]
  },
  {
   "cell_type": "code",
   "execution_count": 21,
   "metadata": {},
   "outputs": [
    {
     "data": {
      "text/html": [
       "<pre style=\"white-space:pre;overflow-x:auto;line-height:normal;font-family:Menlo,'DejaVu Sans Mono',consolas,'Courier New',monospace\"><span style=\"color: #808000; text-decoration-color: #808000\">╭── Cytoplasm segmentation ───╮</span>\n",
       "<span style=\"color: #808000; text-decoration-color: #808000\">│</span> Segmentation started!       <span style=\"color: #808000; text-decoration-color: #808000\">│</span>\n",
       "<span style=\"color: #808000; text-decoration-color: #808000\">│</span>                             <span style=\"color: #808000; text-decoration-color: #808000\">│</span>\n",
       "<span style=\"color: #808000; text-decoration-color: #808000\">│</span> Image: 2023_12_14_image_041 <span style=\"color: #808000; text-decoration-color: #808000\">│</span>\n",
       "<span style=\"color: #808000; text-decoration-color: #808000\">│</span>                             <span style=\"color: #808000; text-decoration-color: #808000\">│</span>\n",
       "<span style=\"color: #808000; text-decoration-color: #808000\">╰─────────────────────────────╯</span>\n",
       "</pre>\n"
      ],
      "text/plain": [
       "\u001b[33m╭─\u001b[0m\u001b[33m─\u001b[0m\u001b[33m Cytoplasm segmentation \u001b[0m\u001b[33m──\u001b[0m\u001b[33m─╮\u001b[0m\n",
       "\u001b[33m│\u001b[0m Segmentation started!       \u001b[33m│\u001b[0m\n",
       "\u001b[33m│\u001b[0m                             \u001b[33m│\u001b[0m\n",
       "\u001b[33m│\u001b[0m Image: 2023_12_14_image_041 \u001b[33m│\u001b[0m\n",
       "\u001b[33m│\u001b[0m                             \u001b[33m│\u001b[0m\n",
       "\u001b[33m╰─────────────────────────────╯\u001b[0m\n"
      ]
     },
     "metadata": {},
     "output_type": "display_data"
    },
    {
     "name": "stderr",
     "output_type": "stream",
     "text": [
      "/tmp/ipykernel_653001/3876979326.py:31: FutureWarning: The behavior of DataFrame concatenation with empty or all-NA entries is deprecated. In a future version, this will no longer exclude empty or all-NA columns when determining the result dtypes. To retain the old behavior, exclude the relevant entries before the concat operation.\n",
      "  results_cytoplasm = pd.concat([results_cytoplasm, pd.DataFrame({\"image\": [img_name], \"F1\": [f1], \"time\": [t], \"method\": [\"watershed\"]})])\n"
     ]
    },
    {
     "data": {
      "text/html": [
       "<pre style=\"white-space:pre;overflow-x:auto;line-height:normal;font-family:Menlo,'DejaVu Sans Mono',consolas,'Courier New',monospace\"><span style=\"color: #808000; text-decoration-color: #808000\">╭── Cytoplasm segmentation ───╮</span>\n",
       "<span style=\"color: #808000; text-decoration-color: #808000\">│</span> Segmentation started!       <span style=\"color: #808000; text-decoration-color: #808000\">│</span>\n",
       "<span style=\"color: #808000; text-decoration-color: #808000\">│</span>                             <span style=\"color: #808000; text-decoration-color: #808000\">│</span>\n",
       "<span style=\"color: #808000; text-decoration-color: #808000\">│</span> Image: 2023_12_14_image_040 <span style=\"color: #808000; text-decoration-color: #808000\">│</span>\n",
       "<span style=\"color: #808000; text-decoration-color: #808000\">│</span>                             <span style=\"color: #808000; text-decoration-color: #808000\">│</span>\n",
       "<span style=\"color: #808000; text-decoration-color: #808000\">╰─────────────────────────────╯</span>\n",
       "</pre>\n"
      ],
      "text/plain": [
       "\u001b[33m╭─\u001b[0m\u001b[33m─\u001b[0m\u001b[33m Cytoplasm segmentation \u001b[0m\u001b[33m──\u001b[0m\u001b[33m─╮\u001b[0m\n",
       "\u001b[33m│\u001b[0m Segmentation started!       \u001b[33m│\u001b[0m\n",
       "\u001b[33m│\u001b[0m                             \u001b[33m│\u001b[0m\n",
       "\u001b[33m│\u001b[0m Image: 2023_12_14_image_040 \u001b[33m│\u001b[0m\n",
       "\u001b[33m│\u001b[0m                             \u001b[33m│\u001b[0m\n",
       "\u001b[33m╰─────────────────────────────╯\u001b[0m\n"
      ]
     },
     "metadata": {},
     "output_type": "display_data"
    },
    {
     "data": {
      "text/html": [
       "<pre style=\"white-space:pre;overflow-x:auto;line-height:normal;font-family:Menlo,'DejaVu Sans Mono',consolas,'Courier New',monospace\"><span style=\"color: #808000; text-decoration-color: #808000\">╭── Cytoplasm segmentation ───╮</span>\n",
       "<span style=\"color: #808000; text-decoration-color: #808000\">│</span> Segmentation started!       <span style=\"color: #808000; text-decoration-color: #808000\">│</span>\n",
       "<span style=\"color: #808000; text-decoration-color: #808000\">│</span>                             <span style=\"color: #808000; text-decoration-color: #808000\">│</span>\n",
       "<span style=\"color: #808000; text-decoration-color: #808000\">│</span> Image: 2023_12_14_image_043 <span style=\"color: #808000; text-decoration-color: #808000\">│</span>\n",
       "<span style=\"color: #808000; text-decoration-color: #808000\">│</span>                             <span style=\"color: #808000; text-decoration-color: #808000\">│</span>\n",
       "<span style=\"color: #808000; text-decoration-color: #808000\">╰─────────────────────────────╯</span>\n",
       "</pre>\n"
      ],
      "text/plain": [
       "\u001b[33m╭─\u001b[0m\u001b[33m─\u001b[0m\u001b[33m Cytoplasm segmentation \u001b[0m\u001b[33m──\u001b[0m\u001b[33m─╮\u001b[0m\n",
       "\u001b[33m│\u001b[0m Segmentation started!       \u001b[33m│\u001b[0m\n",
       "\u001b[33m│\u001b[0m                             \u001b[33m│\u001b[0m\n",
       "\u001b[33m│\u001b[0m Image: 2023_12_14_image_043 \u001b[33m│\u001b[0m\n",
       "\u001b[33m│\u001b[0m                             \u001b[33m│\u001b[0m\n",
       "\u001b[33m╰─────────────────────────────╯\u001b[0m\n"
      ]
     },
     "metadata": {},
     "output_type": "display_data"
    },
    {
     "data": {
      "text/html": [
       "<pre style=\"white-space:pre;overflow-x:auto;line-height:normal;font-family:Menlo,'DejaVu Sans Mono',consolas,'Courier New',monospace\"><span style=\"color: #808000; text-decoration-color: #808000\">╭── Cytoplasm segmentation ───╮</span>\n",
       "<span style=\"color: #808000; text-decoration-color: #808000\">│</span> Segmentation started!       <span style=\"color: #808000; text-decoration-color: #808000\">│</span>\n",
       "<span style=\"color: #808000; text-decoration-color: #808000\">│</span>                             <span style=\"color: #808000; text-decoration-color: #808000\">│</span>\n",
       "<span style=\"color: #808000; text-decoration-color: #808000\">│</span> Image: 2023_12_14_image_005 <span style=\"color: #808000; text-decoration-color: #808000\">│</span>\n",
       "<span style=\"color: #808000; text-decoration-color: #808000\">│</span>                             <span style=\"color: #808000; text-decoration-color: #808000\">│</span>\n",
       "<span style=\"color: #808000; text-decoration-color: #808000\">╰─────────────────────────────╯</span>\n",
       "</pre>\n"
      ],
      "text/plain": [
       "\u001b[33m╭─\u001b[0m\u001b[33m─\u001b[0m\u001b[33m Cytoplasm segmentation \u001b[0m\u001b[33m──\u001b[0m\u001b[33m─╮\u001b[0m\n",
       "\u001b[33m│\u001b[0m Segmentation started!       \u001b[33m│\u001b[0m\n",
       "\u001b[33m│\u001b[0m                             \u001b[33m│\u001b[0m\n",
       "\u001b[33m│\u001b[0m Image: 2023_12_14_image_005 \u001b[33m│\u001b[0m\n",
       "\u001b[33m│\u001b[0m                             \u001b[33m│\u001b[0m\n",
       "\u001b[33m╰─────────────────────────────╯\u001b[0m\n"
      ]
     },
     "metadata": {},
     "output_type": "display_data"
    },
    {
     "data": {
      "text/html": [
       "<pre style=\"white-space:pre;overflow-x:auto;line-height:normal;font-family:Menlo,'DejaVu Sans Mono',consolas,'Courier New',monospace\"><span style=\"color: #808000; text-decoration-color: #808000\">╭── Cytoplasm segmentation ───╮</span>\n",
       "<span style=\"color: #808000; text-decoration-color: #808000\">│</span> Segmentation started!       <span style=\"color: #808000; text-decoration-color: #808000\">│</span>\n",
       "<span style=\"color: #808000; text-decoration-color: #808000\">│</span>                             <span style=\"color: #808000; text-decoration-color: #808000\">│</span>\n",
       "<span style=\"color: #808000; text-decoration-color: #808000\">│</span> Image: 2023_12_14_image_029 <span style=\"color: #808000; text-decoration-color: #808000\">│</span>\n",
       "<span style=\"color: #808000; text-decoration-color: #808000\">│</span>                             <span style=\"color: #808000; text-decoration-color: #808000\">│</span>\n",
       "<span style=\"color: #808000; text-decoration-color: #808000\">╰─────────────────────────────╯</span>\n",
       "</pre>\n"
      ],
      "text/plain": [
       "\u001b[33m╭─\u001b[0m\u001b[33m─\u001b[0m\u001b[33m Cytoplasm segmentation \u001b[0m\u001b[33m──\u001b[0m\u001b[33m─╮\u001b[0m\n",
       "\u001b[33m│\u001b[0m Segmentation started!       \u001b[33m│\u001b[0m\n",
       "\u001b[33m│\u001b[0m                             \u001b[33m│\u001b[0m\n",
       "\u001b[33m│\u001b[0m Image: 2023_12_14_image_029 \u001b[33m│\u001b[0m\n",
       "\u001b[33m│\u001b[0m                             \u001b[33m│\u001b[0m\n",
       "\u001b[33m╰─────────────────────────────╯\u001b[0m\n"
      ]
     },
     "metadata": {},
     "output_type": "display_data"
    },
    {
     "data": {
      "text/html": [
       "<pre style=\"white-space:pre;overflow-x:auto;line-height:normal;font-family:Menlo,'DejaVu Sans Mono',consolas,'Courier New',monospace\"><span style=\"color: #808000; text-decoration-color: #808000\">╭── Cytoplasm segmentation ───╮</span>\n",
       "<span style=\"color: #808000; text-decoration-color: #808000\">│</span> Segmentation started!       <span style=\"color: #808000; text-decoration-color: #808000\">│</span>\n",
       "<span style=\"color: #808000; text-decoration-color: #808000\">│</span>                             <span style=\"color: #808000; text-decoration-color: #808000\">│</span>\n",
       "<span style=\"color: #808000; text-decoration-color: #808000\">│</span> Image: 2023_12_14_image_027 <span style=\"color: #808000; text-decoration-color: #808000\">│</span>\n",
       "<span style=\"color: #808000; text-decoration-color: #808000\">│</span>                             <span style=\"color: #808000; text-decoration-color: #808000\">│</span>\n",
       "<span style=\"color: #808000; text-decoration-color: #808000\">╰─────────────────────────────╯</span>\n",
       "</pre>\n"
      ],
      "text/plain": [
       "\u001b[33m╭─\u001b[0m\u001b[33m─\u001b[0m\u001b[33m Cytoplasm segmentation \u001b[0m\u001b[33m──\u001b[0m\u001b[33m─╮\u001b[0m\n",
       "\u001b[33m│\u001b[0m Segmentation started!       \u001b[33m│\u001b[0m\n",
       "\u001b[33m│\u001b[0m                             \u001b[33m│\u001b[0m\n",
       "\u001b[33m│\u001b[0m Image: 2023_12_14_image_027 \u001b[33m│\u001b[0m\n",
       "\u001b[33m│\u001b[0m                             \u001b[33m│\u001b[0m\n",
       "\u001b[33m╰─────────────────────────────╯\u001b[0m\n"
      ]
     },
     "metadata": {},
     "output_type": "display_data"
    },
    {
     "data": {
      "text/html": [
       "<pre style=\"white-space:pre;overflow-x:auto;line-height:normal;font-family:Menlo,'DejaVu Sans Mono',consolas,'Courier New',monospace\"><span style=\"color: #808000; text-decoration-color: #808000\">╭── Cytoplasm segmentation ───╮</span>\n",
       "<span style=\"color: #808000; text-decoration-color: #808000\">│</span> Segmentation started!       <span style=\"color: #808000; text-decoration-color: #808000\">│</span>\n",
       "<span style=\"color: #808000; text-decoration-color: #808000\">│</span>                             <span style=\"color: #808000; text-decoration-color: #808000\">│</span>\n",
       "<span style=\"color: #808000; text-decoration-color: #808000\">│</span> Image: 2023_12_14_image_039 <span style=\"color: #808000; text-decoration-color: #808000\">│</span>\n",
       "<span style=\"color: #808000; text-decoration-color: #808000\">│</span>                             <span style=\"color: #808000; text-decoration-color: #808000\">│</span>\n",
       "<span style=\"color: #808000; text-decoration-color: #808000\">╰─────────────────────────────╯</span>\n",
       "</pre>\n"
      ],
      "text/plain": [
       "\u001b[33m╭─\u001b[0m\u001b[33m─\u001b[0m\u001b[33m Cytoplasm segmentation \u001b[0m\u001b[33m──\u001b[0m\u001b[33m─╮\u001b[0m\n",
       "\u001b[33m│\u001b[0m Segmentation started!       \u001b[33m│\u001b[0m\n",
       "\u001b[33m│\u001b[0m                             \u001b[33m│\u001b[0m\n",
       "\u001b[33m│\u001b[0m Image: 2023_12_14_image_039 \u001b[33m│\u001b[0m\n",
       "\u001b[33m│\u001b[0m                             \u001b[33m│\u001b[0m\n",
       "\u001b[33m╰─────────────────────────────╯\u001b[0m\n"
      ]
     },
     "metadata": {},
     "output_type": "display_data"
    },
    {
     "data": {
      "text/html": [
       "<pre style=\"white-space:pre;overflow-x:auto;line-height:normal;font-family:Menlo,'DejaVu Sans Mono',consolas,'Courier New',monospace\"><span style=\"color: #808000; text-decoration-color: #808000\">╭── Cytoplasm segmentation ───╮</span>\n",
       "<span style=\"color: #808000; text-decoration-color: #808000\">│</span> Segmentation started!       <span style=\"color: #808000; text-decoration-color: #808000\">│</span>\n",
       "<span style=\"color: #808000; text-decoration-color: #808000\">│</span>                             <span style=\"color: #808000; text-decoration-color: #808000\">│</span>\n",
       "<span style=\"color: #808000; text-decoration-color: #808000\">│</span> Image: 2023_12_14_image_037 <span style=\"color: #808000; text-decoration-color: #808000\">│</span>\n",
       "<span style=\"color: #808000; text-decoration-color: #808000\">│</span>                             <span style=\"color: #808000; text-decoration-color: #808000\">│</span>\n",
       "<span style=\"color: #808000; text-decoration-color: #808000\">╰─────────────────────────────╯</span>\n",
       "</pre>\n"
      ],
      "text/plain": [
       "\u001b[33m╭─\u001b[0m\u001b[33m─\u001b[0m\u001b[33m Cytoplasm segmentation \u001b[0m\u001b[33m──\u001b[0m\u001b[33m─╮\u001b[0m\n",
       "\u001b[33m│\u001b[0m Segmentation started!       \u001b[33m│\u001b[0m\n",
       "\u001b[33m│\u001b[0m                             \u001b[33m│\u001b[0m\n",
       "\u001b[33m│\u001b[0m Image: 2023_12_14_image_037 \u001b[33m│\u001b[0m\n",
       "\u001b[33m│\u001b[0m                             \u001b[33m│\u001b[0m\n",
       "\u001b[33m╰─────────────────────────────╯\u001b[0m\n"
      ]
     },
     "metadata": {},
     "output_type": "display_data"
    },
    {
     "data": {
      "text/html": [
       "<pre style=\"white-space:pre;overflow-x:auto;line-height:normal;font-family:Menlo,'DejaVu Sans Mono',consolas,'Courier New',monospace\"><span style=\"color: #808000; text-decoration-color: #808000\">╭── Cytoplasm segmentation ───╮</span>\n",
       "<span style=\"color: #808000; text-decoration-color: #808000\">│</span> Segmentation started!       <span style=\"color: #808000; text-decoration-color: #808000\">│</span>\n",
       "<span style=\"color: #808000; text-decoration-color: #808000\">│</span>                             <span style=\"color: #808000; text-decoration-color: #808000\">│</span>\n",
       "<span style=\"color: #808000; text-decoration-color: #808000\">│</span> Image: 2023_12_14_image_045 <span style=\"color: #808000; text-decoration-color: #808000\">│</span>\n",
       "<span style=\"color: #808000; text-decoration-color: #808000\">│</span>                             <span style=\"color: #808000; text-decoration-color: #808000\">│</span>\n",
       "<span style=\"color: #808000; text-decoration-color: #808000\">╰─────────────────────────────╯</span>\n",
       "</pre>\n"
      ],
      "text/plain": [
       "\u001b[33m╭─\u001b[0m\u001b[33m─\u001b[0m\u001b[33m Cytoplasm segmentation \u001b[0m\u001b[33m──\u001b[0m\u001b[33m─╮\u001b[0m\n",
       "\u001b[33m│\u001b[0m Segmentation started!       \u001b[33m│\u001b[0m\n",
       "\u001b[33m│\u001b[0m                             \u001b[33m│\u001b[0m\n",
       "\u001b[33m│\u001b[0m Image: 2023_12_14_image_045 \u001b[33m│\u001b[0m\n",
       "\u001b[33m│\u001b[0m                             \u001b[33m│\u001b[0m\n",
       "\u001b[33m╰─────────────────────────────╯\u001b[0m\n"
      ]
     },
     "metadata": {},
     "output_type": "display_data"
    },
    {
     "data": {
      "text/html": [
       "<pre style=\"white-space:pre;overflow-x:auto;line-height:normal;font-family:Menlo,'DejaVu Sans Mono',consolas,'Courier New',monospace\"><span style=\"color: #808000; text-decoration-color: #808000\">╭── Cytoplasm segmentation ───╮</span>\n",
       "<span style=\"color: #808000; text-decoration-color: #808000\">│</span> Segmentation started!       <span style=\"color: #808000; text-decoration-color: #808000\">│</span>\n",
       "<span style=\"color: #808000; text-decoration-color: #808000\">│</span>                             <span style=\"color: #808000; text-decoration-color: #808000\">│</span>\n",
       "<span style=\"color: #808000; text-decoration-color: #808000\">│</span> Image: 2023_12_14_image_000 <span style=\"color: #808000; text-decoration-color: #808000\">│</span>\n",
       "<span style=\"color: #808000; text-decoration-color: #808000\">│</span>                             <span style=\"color: #808000; text-decoration-color: #808000\">│</span>\n",
       "<span style=\"color: #808000; text-decoration-color: #808000\">╰─────────────────────────────╯</span>\n",
       "</pre>\n"
      ],
      "text/plain": [
       "\u001b[33m╭─\u001b[0m\u001b[33m─\u001b[0m\u001b[33m Cytoplasm segmentation \u001b[0m\u001b[33m──\u001b[0m\u001b[33m─╮\u001b[0m\n",
       "\u001b[33m│\u001b[0m Segmentation started!       \u001b[33m│\u001b[0m\n",
       "\u001b[33m│\u001b[0m                             \u001b[33m│\u001b[0m\n",
       "\u001b[33m│\u001b[0m Image: 2023_12_14_image_000 \u001b[33m│\u001b[0m\n",
       "\u001b[33m│\u001b[0m                             \u001b[33m│\u001b[0m\n",
       "\u001b[33m╰─────────────────────────────╯\u001b[0m\n"
      ]
     },
     "metadata": {},
     "output_type": "display_data"
    },
    {
     "data": {
      "text/html": [
       "<pre style=\"white-space:pre;overflow-x:auto;line-height:normal;font-family:Menlo,'DejaVu Sans Mono',consolas,'Courier New',monospace\"><span style=\"color: #808000; text-decoration-color: #808000\">╭── Cytoplasm segmentation ───╮</span>\n",
       "<span style=\"color: #808000; text-decoration-color: #808000\">│</span> Segmentation started!       <span style=\"color: #808000; text-decoration-color: #808000\">│</span>\n",
       "<span style=\"color: #808000; text-decoration-color: #808000\">│</span>                             <span style=\"color: #808000; text-decoration-color: #808000\">│</span>\n",
       "<span style=\"color: #808000; text-decoration-color: #808000\">│</span> Image: 2023_12_14_image_015 <span style=\"color: #808000; text-decoration-color: #808000\">│</span>\n",
       "<span style=\"color: #808000; text-decoration-color: #808000\">│</span>                             <span style=\"color: #808000; text-decoration-color: #808000\">│</span>\n",
       "<span style=\"color: #808000; text-decoration-color: #808000\">╰─────────────────────────────╯</span>\n",
       "</pre>\n"
      ],
      "text/plain": [
       "\u001b[33m╭─\u001b[0m\u001b[33m─\u001b[0m\u001b[33m Cytoplasm segmentation \u001b[0m\u001b[33m──\u001b[0m\u001b[33m─╮\u001b[0m\n",
       "\u001b[33m│\u001b[0m Segmentation started!       \u001b[33m│\u001b[0m\n",
       "\u001b[33m│\u001b[0m                             \u001b[33m│\u001b[0m\n",
       "\u001b[33m│\u001b[0m Image: 2023_12_14_image_015 \u001b[33m│\u001b[0m\n",
       "\u001b[33m│\u001b[0m                             \u001b[33m│\u001b[0m\n",
       "\u001b[33m╰─────────────────────────────╯\u001b[0m\n"
      ]
     },
     "metadata": {},
     "output_type": "display_data"
    },
    {
     "data": {
      "text/html": [
       "<pre style=\"white-space:pre;overflow-x:auto;line-height:normal;font-family:Menlo,'DejaVu Sans Mono',consolas,'Courier New',monospace\"><span style=\"color: #808000; text-decoration-color: #808000\">╭── Cytoplasm segmentation ───╮</span>\n",
       "<span style=\"color: #808000; text-decoration-color: #808000\">│</span> Segmentation started!       <span style=\"color: #808000; text-decoration-color: #808000\">│</span>\n",
       "<span style=\"color: #808000; text-decoration-color: #808000\">│</span>                             <span style=\"color: #808000; text-decoration-color: #808000\">│</span>\n",
       "<span style=\"color: #808000; text-decoration-color: #808000\">│</span> Image: 2023_12_14_image_017 <span style=\"color: #808000; text-decoration-color: #808000\">│</span>\n",
       "<span style=\"color: #808000; text-decoration-color: #808000\">│</span>                             <span style=\"color: #808000; text-decoration-color: #808000\">│</span>\n",
       "<span style=\"color: #808000; text-decoration-color: #808000\">╰─────────────────────────────╯</span>\n",
       "</pre>\n"
      ],
      "text/plain": [
       "\u001b[33m╭─\u001b[0m\u001b[33m─\u001b[0m\u001b[33m Cytoplasm segmentation \u001b[0m\u001b[33m──\u001b[0m\u001b[33m─╮\u001b[0m\n",
       "\u001b[33m│\u001b[0m Segmentation started!       \u001b[33m│\u001b[0m\n",
       "\u001b[33m│\u001b[0m                             \u001b[33m│\u001b[0m\n",
       "\u001b[33m│\u001b[0m Image: 2023_12_14_image_017 \u001b[33m│\u001b[0m\n",
       "\u001b[33m│\u001b[0m                             \u001b[33m│\u001b[0m\n",
       "\u001b[33m╰─────────────────────────────╯\u001b[0m\n"
      ]
     },
     "metadata": {},
     "output_type": "display_data"
    },
    {
     "data": {
      "text/html": [
       "<pre style=\"white-space:pre;overflow-x:auto;line-height:normal;font-family:Menlo,'DejaVu Sans Mono',consolas,'Courier New',monospace\"><span style=\"color: #808000; text-decoration-color: #808000\">╭── Cytoplasm segmentation ───╮</span>\n",
       "<span style=\"color: #808000; text-decoration-color: #808000\">│</span> Segmentation started!       <span style=\"color: #808000; text-decoration-color: #808000\">│</span>\n",
       "<span style=\"color: #808000; text-decoration-color: #808000\">│</span>                             <span style=\"color: #808000; text-decoration-color: #808000\">│</span>\n",
       "<span style=\"color: #808000; text-decoration-color: #808000\">│</span> Image: 2023_12_14_image_003 <span style=\"color: #808000; text-decoration-color: #808000\">│</span>\n",
       "<span style=\"color: #808000; text-decoration-color: #808000\">│</span>                             <span style=\"color: #808000; text-decoration-color: #808000\">│</span>\n",
       "<span style=\"color: #808000; text-decoration-color: #808000\">╰─────────────────────────────╯</span>\n",
       "</pre>\n"
      ],
      "text/plain": [
       "\u001b[33m╭─\u001b[0m\u001b[33m─\u001b[0m\u001b[33m Cytoplasm segmentation \u001b[0m\u001b[33m──\u001b[0m\u001b[33m─╮\u001b[0m\n",
       "\u001b[33m│\u001b[0m Segmentation started!       \u001b[33m│\u001b[0m\n",
       "\u001b[33m│\u001b[0m                             \u001b[33m│\u001b[0m\n",
       "\u001b[33m│\u001b[0m Image: 2023_12_14_image_003 \u001b[33m│\u001b[0m\n",
       "\u001b[33m│\u001b[0m                             \u001b[33m│\u001b[0m\n",
       "\u001b[33m╰─────────────────────────────╯\u001b[0m\n"
      ]
     },
     "metadata": {},
     "output_type": "display_data"
    },
    {
     "data": {
      "text/html": [
       "<pre style=\"white-space:pre;overflow-x:auto;line-height:normal;font-family:Menlo,'DejaVu Sans Mono',consolas,'Courier New',monospace\"><span style=\"color: #808000; text-decoration-color: #808000\">╭── Cytoplasm segmentation ───╮</span>\n",
       "<span style=\"color: #808000; text-decoration-color: #808000\">│</span> Segmentation started!       <span style=\"color: #808000; text-decoration-color: #808000\">│</span>\n",
       "<span style=\"color: #808000; text-decoration-color: #808000\">│</span>                             <span style=\"color: #808000; text-decoration-color: #808000\">│</span>\n",
       "<span style=\"color: #808000; text-decoration-color: #808000\">│</span> Image: 2023_12_14_image_022 <span style=\"color: #808000; text-decoration-color: #808000\">│</span>\n",
       "<span style=\"color: #808000; text-decoration-color: #808000\">│</span>                             <span style=\"color: #808000; text-decoration-color: #808000\">│</span>\n",
       "<span style=\"color: #808000; text-decoration-color: #808000\">╰─────────────────────────────╯</span>\n",
       "</pre>\n"
      ],
      "text/plain": [
       "\u001b[33m╭─\u001b[0m\u001b[33m─\u001b[0m\u001b[33m Cytoplasm segmentation \u001b[0m\u001b[33m──\u001b[0m\u001b[33m─╮\u001b[0m\n",
       "\u001b[33m│\u001b[0m Segmentation started!       \u001b[33m│\u001b[0m\n",
       "\u001b[33m│\u001b[0m                             \u001b[33m│\u001b[0m\n",
       "\u001b[33m│\u001b[0m Image: 2023_12_14_image_022 \u001b[33m│\u001b[0m\n",
       "\u001b[33m│\u001b[0m                             \u001b[33m│\u001b[0m\n",
       "\u001b[33m╰─────────────────────────────╯\u001b[0m\n"
      ]
     },
     "metadata": {},
     "output_type": "display_data"
    },
    {
     "data": {
      "text/html": [
       "<pre style=\"white-space:pre;overflow-x:auto;line-height:normal;font-family:Menlo,'DejaVu Sans Mono',consolas,'Courier New',monospace\"><span style=\"color: #808000; text-decoration-color: #808000\">╭── Cytoplasm segmentation ───╮</span>\n",
       "<span style=\"color: #808000; text-decoration-color: #808000\">│</span> Segmentation started!       <span style=\"color: #808000; text-decoration-color: #808000\">│</span>\n",
       "<span style=\"color: #808000; text-decoration-color: #808000\">│</span>                             <span style=\"color: #808000; text-decoration-color: #808000\">│</span>\n",
       "<span style=\"color: #808000; text-decoration-color: #808000\">│</span> Image: 2023_12_14_image_044 <span style=\"color: #808000; text-decoration-color: #808000\">│</span>\n",
       "<span style=\"color: #808000; text-decoration-color: #808000\">│</span>                             <span style=\"color: #808000; text-decoration-color: #808000\">│</span>\n",
       "<span style=\"color: #808000; text-decoration-color: #808000\">╰─────────────────────────────╯</span>\n",
       "</pre>\n"
      ],
      "text/plain": [
       "\u001b[33m╭─\u001b[0m\u001b[33m─\u001b[0m\u001b[33m Cytoplasm segmentation \u001b[0m\u001b[33m──\u001b[0m\u001b[33m─╮\u001b[0m\n",
       "\u001b[33m│\u001b[0m Segmentation started!       \u001b[33m│\u001b[0m\n",
       "\u001b[33m│\u001b[0m                             \u001b[33m│\u001b[0m\n",
       "\u001b[33m│\u001b[0m Image: 2023_12_14_image_044 \u001b[33m│\u001b[0m\n",
       "\u001b[33m│\u001b[0m                             \u001b[33m│\u001b[0m\n",
       "\u001b[33m╰─────────────────────────────╯\u001b[0m\n"
      ]
     },
     "metadata": {},
     "output_type": "display_data"
    },
    {
     "data": {
      "text/html": [
       "<pre style=\"white-space:pre;overflow-x:auto;line-height:normal;font-family:Menlo,'DejaVu Sans Mono',consolas,'Courier New',monospace\"><span style=\"color: #808000; text-decoration-color: #808000\">╭── Cytoplasm segmentation ───╮</span>\n",
       "<span style=\"color: #808000; text-decoration-color: #808000\">│</span> Segmentation started!       <span style=\"color: #808000; text-decoration-color: #808000\">│</span>\n",
       "<span style=\"color: #808000; text-decoration-color: #808000\">│</span>                             <span style=\"color: #808000; text-decoration-color: #808000\">│</span>\n",
       "<span style=\"color: #808000; text-decoration-color: #808000\">│</span> Image: 2023_12_14_image_002 <span style=\"color: #808000; text-decoration-color: #808000\">│</span>\n",
       "<span style=\"color: #808000; text-decoration-color: #808000\">│</span>                             <span style=\"color: #808000; text-decoration-color: #808000\">│</span>\n",
       "<span style=\"color: #808000; text-decoration-color: #808000\">╰─────────────────────────────╯</span>\n",
       "</pre>\n"
      ],
      "text/plain": [
       "\u001b[33m╭─\u001b[0m\u001b[33m─\u001b[0m\u001b[33m Cytoplasm segmentation \u001b[0m\u001b[33m──\u001b[0m\u001b[33m─╮\u001b[0m\n",
       "\u001b[33m│\u001b[0m Segmentation started!       \u001b[33m│\u001b[0m\n",
       "\u001b[33m│\u001b[0m                             \u001b[33m│\u001b[0m\n",
       "\u001b[33m│\u001b[0m Image: 2023_12_14_image_002 \u001b[33m│\u001b[0m\n",
       "\u001b[33m│\u001b[0m                             \u001b[33m│\u001b[0m\n",
       "\u001b[33m╰─────────────────────────────╯\u001b[0m\n"
      ]
     },
     "metadata": {},
     "output_type": "display_data"
    },
    {
     "data": {
      "text/html": [
       "<pre style=\"white-space:pre;overflow-x:auto;line-height:normal;font-family:Menlo,'DejaVu Sans Mono',consolas,'Courier New',monospace\"><span style=\"color: #808000; text-decoration-color: #808000\">╭── Cytoplasm segmentation ───╮</span>\n",
       "<span style=\"color: #808000; text-decoration-color: #808000\">│</span> Segmentation started!       <span style=\"color: #808000; text-decoration-color: #808000\">│</span>\n",
       "<span style=\"color: #808000; text-decoration-color: #808000\">│</span>                             <span style=\"color: #808000; text-decoration-color: #808000\">│</span>\n",
       "<span style=\"color: #808000; text-decoration-color: #808000\">│</span> Image: 2023_12_14_image_036 <span style=\"color: #808000; text-decoration-color: #808000\">│</span>\n",
       "<span style=\"color: #808000; text-decoration-color: #808000\">│</span>                             <span style=\"color: #808000; text-decoration-color: #808000\">│</span>\n",
       "<span style=\"color: #808000; text-decoration-color: #808000\">╰─────────────────────────────╯</span>\n",
       "</pre>\n"
      ],
      "text/plain": [
       "\u001b[33m╭─\u001b[0m\u001b[33m─\u001b[0m\u001b[33m Cytoplasm segmentation \u001b[0m\u001b[33m──\u001b[0m\u001b[33m─╮\u001b[0m\n",
       "\u001b[33m│\u001b[0m Segmentation started!       \u001b[33m│\u001b[0m\n",
       "\u001b[33m│\u001b[0m                             \u001b[33m│\u001b[0m\n",
       "\u001b[33m│\u001b[0m Image: 2023_12_14_image_036 \u001b[33m│\u001b[0m\n",
       "\u001b[33m│\u001b[0m                             \u001b[33m│\u001b[0m\n",
       "\u001b[33m╰─────────────────────────────╯\u001b[0m\n"
      ]
     },
     "metadata": {},
     "output_type": "display_data"
    },
    {
     "data": {
      "text/html": [
       "<pre style=\"white-space:pre;overflow-x:auto;line-height:normal;font-family:Menlo,'DejaVu Sans Mono',consolas,'Courier New',monospace\"><span style=\"color: #808000; text-decoration-color: #808000\">╭── Cytoplasm segmentation ───╮</span>\n",
       "<span style=\"color: #808000; text-decoration-color: #808000\">│</span> Segmentation started!       <span style=\"color: #808000; text-decoration-color: #808000\">│</span>\n",
       "<span style=\"color: #808000; text-decoration-color: #808000\">│</span>                             <span style=\"color: #808000; text-decoration-color: #808000\">│</span>\n",
       "<span style=\"color: #808000; text-decoration-color: #808000\">│</span> Image: 2023_12_14_image_009 <span style=\"color: #808000; text-decoration-color: #808000\">│</span>\n",
       "<span style=\"color: #808000; text-decoration-color: #808000\">│</span>                             <span style=\"color: #808000; text-decoration-color: #808000\">│</span>\n",
       "<span style=\"color: #808000; text-decoration-color: #808000\">╰─────────────────────────────╯</span>\n",
       "</pre>\n"
      ],
      "text/plain": [
       "\u001b[33m╭─\u001b[0m\u001b[33m─\u001b[0m\u001b[33m Cytoplasm segmentation \u001b[0m\u001b[33m──\u001b[0m\u001b[33m─╮\u001b[0m\n",
       "\u001b[33m│\u001b[0m Segmentation started!       \u001b[33m│\u001b[0m\n",
       "\u001b[33m│\u001b[0m                             \u001b[33m│\u001b[0m\n",
       "\u001b[33m│\u001b[0m Image: 2023_12_14_image_009 \u001b[33m│\u001b[0m\n",
       "\u001b[33m│\u001b[0m                             \u001b[33m│\u001b[0m\n",
       "\u001b[33m╰─────────────────────────────╯\u001b[0m\n"
      ]
     },
     "metadata": {},
     "output_type": "display_data"
    },
    {
     "data": {
      "text/html": [
       "<pre style=\"white-space:pre;overflow-x:auto;line-height:normal;font-family:Menlo,'DejaVu Sans Mono',consolas,'Courier New',monospace\"><span style=\"color: #808000; text-decoration-color: #808000\">╭── Cytoplasm segmentation ───╮</span>\n",
       "<span style=\"color: #808000; text-decoration-color: #808000\">│</span> Segmentation started!       <span style=\"color: #808000; text-decoration-color: #808000\">│</span>\n",
       "<span style=\"color: #808000; text-decoration-color: #808000\">│</span>                             <span style=\"color: #808000; text-decoration-color: #808000\">│</span>\n",
       "<span style=\"color: #808000; text-decoration-color: #808000\">│</span> Image: 2023_12_14_image_047 <span style=\"color: #808000; text-decoration-color: #808000\">│</span>\n",
       "<span style=\"color: #808000; text-decoration-color: #808000\">│</span>                             <span style=\"color: #808000; text-decoration-color: #808000\">│</span>\n",
       "<span style=\"color: #808000; text-decoration-color: #808000\">╰─────────────────────────────╯</span>\n",
       "</pre>\n"
      ],
      "text/plain": [
       "\u001b[33m╭─\u001b[0m\u001b[33m─\u001b[0m\u001b[33m Cytoplasm segmentation \u001b[0m\u001b[33m──\u001b[0m\u001b[33m─╮\u001b[0m\n",
       "\u001b[33m│\u001b[0m Segmentation started!       \u001b[33m│\u001b[0m\n",
       "\u001b[33m│\u001b[0m                             \u001b[33m│\u001b[0m\n",
       "\u001b[33m│\u001b[0m Image: 2023_12_14_image_047 \u001b[33m│\u001b[0m\n",
       "\u001b[33m│\u001b[0m                             \u001b[33m│\u001b[0m\n",
       "\u001b[33m╰─────────────────────────────╯\u001b[0m\n"
      ]
     },
     "metadata": {},
     "output_type": "display_data"
    },
    {
     "data": {
      "text/html": [
       "<pre style=\"white-space:pre;overflow-x:auto;line-height:normal;font-family:Menlo,'DejaVu Sans Mono',consolas,'Courier New',monospace\"><span style=\"color: #808000; text-decoration-color: #808000\">╭── Cytoplasm segmentation ───╮</span>\n",
       "<span style=\"color: #808000; text-decoration-color: #808000\">│</span> Segmentation started!       <span style=\"color: #808000; text-decoration-color: #808000\">│</span>\n",
       "<span style=\"color: #808000; text-decoration-color: #808000\">│</span>                             <span style=\"color: #808000; text-decoration-color: #808000\">│</span>\n",
       "<span style=\"color: #808000; text-decoration-color: #808000\">│</span> Image: 2023_12_14_image_018 <span style=\"color: #808000; text-decoration-color: #808000\">│</span>\n",
       "<span style=\"color: #808000; text-decoration-color: #808000\">│</span>                             <span style=\"color: #808000; text-decoration-color: #808000\">│</span>\n",
       "<span style=\"color: #808000; text-decoration-color: #808000\">╰─────────────────────────────╯</span>\n",
       "</pre>\n"
      ],
      "text/plain": [
       "\u001b[33m╭─\u001b[0m\u001b[33m─\u001b[0m\u001b[33m Cytoplasm segmentation \u001b[0m\u001b[33m──\u001b[0m\u001b[33m─╮\u001b[0m\n",
       "\u001b[33m│\u001b[0m Segmentation started!       \u001b[33m│\u001b[0m\n",
       "\u001b[33m│\u001b[0m                             \u001b[33m│\u001b[0m\n",
       "\u001b[33m│\u001b[0m Image: 2023_12_14_image_018 \u001b[33m│\u001b[0m\n",
       "\u001b[33m│\u001b[0m                             \u001b[33m│\u001b[0m\n",
       "\u001b[33m╰─────────────────────────────╯\u001b[0m\n"
      ]
     },
     "metadata": {},
     "output_type": "display_data"
    },
    {
     "data": {
      "text/html": [
       "<pre style=\"white-space:pre;overflow-x:auto;line-height:normal;font-family:Menlo,'DejaVu Sans Mono',consolas,'Courier New',monospace\"><span style=\"color: #808000; text-decoration-color: #808000\">╭── Cytoplasm segmentation ───╮</span>\n",
       "<span style=\"color: #808000; text-decoration-color: #808000\">│</span> Segmentation started!       <span style=\"color: #808000; text-decoration-color: #808000\">│</span>\n",
       "<span style=\"color: #808000; text-decoration-color: #808000\">│</span>                             <span style=\"color: #808000; text-decoration-color: #808000\">│</span>\n",
       "<span style=\"color: #808000; text-decoration-color: #808000\">│</span> Image: 2023_12_14_image_032 <span style=\"color: #808000; text-decoration-color: #808000\">│</span>\n",
       "<span style=\"color: #808000; text-decoration-color: #808000\">│</span>                             <span style=\"color: #808000; text-decoration-color: #808000\">│</span>\n",
       "<span style=\"color: #808000; text-decoration-color: #808000\">╰─────────────────────────────╯</span>\n",
       "</pre>\n"
      ],
      "text/plain": [
       "\u001b[33m╭─\u001b[0m\u001b[33m─\u001b[0m\u001b[33m Cytoplasm segmentation \u001b[0m\u001b[33m──\u001b[0m\u001b[33m─╮\u001b[0m\n",
       "\u001b[33m│\u001b[0m Segmentation started!       \u001b[33m│\u001b[0m\n",
       "\u001b[33m│\u001b[0m                             \u001b[33m│\u001b[0m\n",
       "\u001b[33m│\u001b[0m Image: 2023_12_14_image_032 \u001b[33m│\u001b[0m\n",
       "\u001b[33m│\u001b[0m                             \u001b[33m│\u001b[0m\n",
       "\u001b[33m╰─────────────────────────────╯\u001b[0m\n"
      ]
     },
     "metadata": {},
     "output_type": "display_data"
    },
    {
     "data": {
      "text/html": [
       "<pre style=\"white-space:pre;overflow-x:auto;line-height:normal;font-family:Menlo,'DejaVu Sans Mono',consolas,'Courier New',monospace\"><span style=\"color: #808000; text-decoration-color: #808000\">╭── Cytoplasm segmentation ───╮</span>\n",
       "<span style=\"color: #808000; text-decoration-color: #808000\">│</span> Segmentation started!       <span style=\"color: #808000; text-decoration-color: #808000\">│</span>\n",
       "<span style=\"color: #808000; text-decoration-color: #808000\">│</span>                             <span style=\"color: #808000; text-decoration-color: #808000\">│</span>\n",
       "<span style=\"color: #808000; text-decoration-color: #808000\">│</span> Image: 2023_12_14_image_004 <span style=\"color: #808000; text-decoration-color: #808000\">│</span>\n",
       "<span style=\"color: #808000; text-decoration-color: #808000\">│</span>                             <span style=\"color: #808000; text-decoration-color: #808000\">│</span>\n",
       "<span style=\"color: #808000; text-decoration-color: #808000\">╰─────────────────────────────╯</span>\n",
       "</pre>\n"
      ],
      "text/plain": [
       "\u001b[33m╭─\u001b[0m\u001b[33m─\u001b[0m\u001b[33m Cytoplasm segmentation \u001b[0m\u001b[33m──\u001b[0m\u001b[33m─╮\u001b[0m\n",
       "\u001b[33m│\u001b[0m Segmentation started!       \u001b[33m│\u001b[0m\n",
       "\u001b[33m│\u001b[0m                             \u001b[33m│\u001b[0m\n",
       "\u001b[33m│\u001b[0m Image: 2023_12_14_image_004 \u001b[33m│\u001b[0m\n",
       "\u001b[33m│\u001b[0m                             \u001b[33m│\u001b[0m\n",
       "\u001b[33m╰─────────────────────────────╯\u001b[0m\n"
      ]
     },
     "metadata": {},
     "output_type": "display_data"
    },
    {
     "data": {
      "text/html": [
       "<pre style=\"white-space:pre;overflow-x:auto;line-height:normal;font-family:Menlo,'DejaVu Sans Mono',consolas,'Courier New',monospace\"><span style=\"color: #808000; text-decoration-color: #808000\">╭── Cytoplasm segmentation ───╮</span>\n",
       "<span style=\"color: #808000; text-decoration-color: #808000\">│</span> Segmentation started!       <span style=\"color: #808000; text-decoration-color: #808000\">│</span>\n",
       "<span style=\"color: #808000; text-decoration-color: #808000\">│</span>                             <span style=\"color: #808000; text-decoration-color: #808000\">│</span>\n",
       "<span style=\"color: #808000; text-decoration-color: #808000\">│</span> Image: 2023_12_14_image_019 <span style=\"color: #808000; text-decoration-color: #808000\">│</span>\n",
       "<span style=\"color: #808000; text-decoration-color: #808000\">│</span>                             <span style=\"color: #808000; text-decoration-color: #808000\">│</span>\n",
       "<span style=\"color: #808000; text-decoration-color: #808000\">╰─────────────────────────────╯</span>\n",
       "</pre>\n"
      ],
      "text/plain": [
       "\u001b[33m╭─\u001b[0m\u001b[33m─\u001b[0m\u001b[33m Cytoplasm segmentation \u001b[0m\u001b[33m──\u001b[0m\u001b[33m─╮\u001b[0m\n",
       "\u001b[33m│\u001b[0m Segmentation started!       \u001b[33m│\u001b[0m\n",
       "\u001b[33m│\u001b[0m                             \u001b[33m│\u001b[0m\n",
       "\u001b[33m│\u001b[0m Image: 2023_12_14_image_019 \u001b[33m│\u001b[0m\n",
       "\u001b[33m│\u001b[0m                             \u001b[33m│\u001b[0m\n",
       "\u001b[33m╰─────────────────────────────╯\u001b[0m\n"
      ]
     },
     "metadata": {},
     "output_type": "display_data"
    },
    {
     "data": {
      "text/html": [
       "<pre style=\"white-space:pre;overflow-x:auto;line-height:normal;font-family:Menlo,'DejaVu Sans Mono',consolas,'Courier New',monospace\"><span style=\"color: #808000; text-decoration-color: #808000\">╭── Cytoplasm segmentation ───╮</span>\n",
       "<span style=\"color: #808000; text-decoration-color: #808000\">│</span> Segmentation started!       <span style=\"color: #808000; text-decoration-color: #808000\">│</span>\n",
       "<span style=\"color: #808000; text-decoration-color: #808000\">│</span>                             <span style=\"color: #808000; text-decoration-color: #808000\">│</span>\n",
       "<span style=\"color: #808000; text-decoration-color: #808000\">│</span> Image: 2023_12_14_image_010 <span style=\"color: #808000; text-decoration-color: #808000\">│</span>\n",
       "<span style=\"color: #808000; text-decoration-color: #808000\">│</span>                             <span style=\"color: #808000; text-decoration-color: #808000\">│</span>\n",
       "<span style=\"color: #808000; text-decoration-color: #808000\">╰─────────────────────────────╯</span>\n",
       "</pre>\n"
      ],
      "text/plain": [
       "\u001b[33m╭─\u001b[0m\u001b[33m─\u001b[0m\u001b[33m Cytoplasm segmentation \u001b[0m\u001b[33m──\u001b[0m\u001b[33m─╮\u001b[0m\n",
       "\u001b[33m│\u001b[0m Segmentation started!       \u001b[33m│\u001b[0m\n",
       "\u001b[33m│\u001b[0m                             \u001b[33m│\u001b[0m\n",
       "\u001b[33m│\u001b[0m Image: 2023_12_14_image_010 \u001b[33m│\u001b[0m\n",
       "\u001b[33m│\u001b[0m                             \u001b[33m│\u001b[0m\n",
       "\u001b[33m╰─────────────────────────────╯\u001b[0m\n"
      ]
     },
     "metadata": {},
     "output_type": "display_data"
    },
    {
     "data": {
      "text/html": [
       "<pre style=\"white-space:pre;overflow-x:auto;line-height:normal;font-family:Menlo,'DejaVu Sans Mono',consolas,'Courier New',monospace\"><span style=\"color: #808000; text-decoration-color: #808000\">╭── Cytoplasm segmentation ───╮</span>\n",
       "<span style=\"color: #808000; text-decoration-color: #808000\">│</span> Segmentation started!       <span style=\"color: #808000; text-decoration-color: #808000\">│</span>\n",
       "<span style=\"color: #808000; text-decoration-color: #808000\">│</span>                             <span style=\"color: #808000; text-decoration-color: #808000\">│</span>\n",
       "<span style=\"color: #808000; text-decoration-color: #808000\">│</span> Image: 2023_12_14_image_013 <span style=\"color: #808000; text-decoration-color: #808000\">│</span>\n",
       "<span style=\"color: #808000; text-decoration-color: #808000\">│</span>                             <span style=\"color: #808000; text-decoration-color: #808000\">│</span>\n",
       "<span style=\"color: #808000; text-decoration-color: #808000\">╰─────────────────────────────╯</span>\n",
       "</pre>\n"
      ],
      "text/plain": [
       "\u001b[33m╭─\u001b[0m\u001b[33m─\u001b[0m\u001b[33m Cytoplasm segmentation \u001b[0m\u001b[33m──\u001b[0m\u001b[33m─╮\u001b[0m\n",
       "\u001b[33m│\u001b[0m Segmentation started!       \u001b[33m│\u001b[0m\n",
       "\u001b[33m│\u001b[0m                             \u001b[33m│\u001b[0m\n",
       "\u001b[33m│\u001b[0m Image: 2023_12_14_image_013 \u001b[33m│\u001b[0m\n",
       "\u001b[33m│\u001b[0m                             \u001b[33m│\u001b[0m\n",
       "\u001b[33m╰─────────────────────────────╯\u001b[0m\n"
      ]
     },
     "metadata": {},
     "output_type": "display_data"
    },
    {
     "data": {
      "text/html": [
       "<pre style=\"white-space:pre;overflow-x:auto;line-height:normal;font-family:Menlo,'DejaVu Sans Mono',consolas,'Courier New',monospace\"><span style=\"color: #808000; text-decoration-color: #808000\">╭── Cytoplasm segmentation ───╮</span>\n",
       "<span style=\"color: #808000; text-decoration-color: #808000\">│</span> Segmentation started!       <span style=\"color: #808000; text-decoration-color: #808000\">│</span>\n",
       "<span style=\"color: #808000; text-decoration-color: #808000\">│</span>                             <span style=\"color: #808000; text-decoration-color: #808000\">│</span>\n",
       "<span style=\"color: #808000; text-decoration-color: #808000\">│</span> Image: 2023_12_14_image_011 <span style=\"color: #808000; text-decoration-color: #808000\">│</span>\n",
       "<span style=\"color: #808000; text-decoration-color: #808000\">│</span>                             <span style=\"color: #808000; text-decoration-color: #808000\">│</span>\n",
       "<span style=\"color: #808000; text-decoration-color: #808000\">╰─────────────────────────────╯</span>\n",
       "</pre>\n"
      ],
      "text/plain": [
       "\u001b[33m╭─\u001b[0m\u001b[33m─\u001b[0m\u001b[33m Cytoplasm segmentation \u001b[0m\u001b[33m──\u001b[0m\u001b[33m─╮\u001b[0m\n",
       "\u001b[33m│\u001b[0m Segmentation started!       \u001b[33m│\u001b[0m\n",
       "\u001b[33m│\u001b[0m                             \u001b[33m│\u001b[0m\n",
       "\u001b[33m│\u001b[0m Image: 2023_12_14_image_011 \u001b[33m│\u001b[0m\n",
       "\u001b[33m│\u001b[0m                             \u001b[33m│\u001b[0m\n",
       "\u001b[33m╰─────────────────────────────╯\u001b[0m\n"
      ]
     },
     "metadata": {},
     "output_type": "display_data"
    },
    {
     "data": {
      "text/html": [
       "<pre style=\"white-space:pre;overflow-x:auto;line-height:normal;font-family:Menlo,'DejaVu Sans Mono',consolas,'Courier New',monospace\"><span style=\"color: #808000; text-decoration-color: #808000\">╭── Cytoplasm segmentation ───╮</span>\n",
       "<span style=\"color: #808000; text-decoration-color: #808000\">│</span> Segmentation started!       <span style=\"color: #808000; text-decoration-color: #808000\">│</span>\n",
       "<span style=\"color: #808000; text-decoration-color: #808000\">│</span>                             <span style=\"color: #808000; text-decoration-color: #808000\">│</span>\n",
       "<span style=\"color: #808000; text-decoration-color: #808000\">│</span> Image: 2023_12_14_image_049 <span style=\"color: #808000; text-decoration-color: #808000\">│</span>\n",
       "<span style=\"color: #808000; text-decoration-color: #808000\">│</span>                             <span style=\"color: #808000; text-decoration-color: #808000\">│</span>\n",
       "<span style=\"color: #808000; text-decoration-color: #808000\">╰─────────────────────────────╯</span>\n",
       "</pre>\n"
      ],
      "text/plain": [
       "\u001b[33m╭─\u001b[0m\u001b[33m─\u001b[0m\u001b[33m Cytoplasm segmentation \u001b[0m\u001b[33m──\u001b[0m\u001b[33m─╮\u001b[0m\n",
       "\u001b[33m│\u001b[0m Segmentation started!       \u001b[33m│\u001b[0m\n",
       "\u001b[33m│\u001b[0m                             \u001b[33m│\u001b[0m\n",
       "\u001b[33m│\u001b[0m Image: 2023_12_14_image_049 \u001b[33m│\u001b[0m\n",
       "\u001b[33m│\u001b[0m                             \u001b[33m│\u001b[0m\n",
       "\u001b[33m╰─────────────────────────────╯\u001b[0m\n"
      ]
     },
     "metadata": {},
     "output_type": "display_data"
    },
    {
     "data": {
      "text/html": [
       "<pre style=\"white-space:pre;overflow-x:auto;line-height:normal;font-family:Menlo,'DejaVu Sans Mono',consolas,'Courier New',monospace\"><span style=\"color: #808000; text-decoration-color: #808000\">╭── Cytoplasm segmentation ───╮</span>\n",
       "<span style=\"color: #808000; text-decoration-color: #808000\">│</span> Segmentation started!       <span style=\"color: #808000; text-decoration-color: #808000\">│</span>\n",
       "<span style=\"color: #808000; text-decoration-color: #808000\">│</span>                             <span style=\"color: #808000; text-decoration-color: #808000\">│</span>\n",
       "<span style=\"color: #808000; text-decoration-color: #808000\">│</span> Image: 2023_12_14_image_006 <span style=\"color: #808000; text-decoration-color: #808000\">│</span>\n",
       "<span style=\"color: #808000; text-decoration-color: #808000\">│</span>                             <span style=\"color: #808000; text-decoration-color: #808000\">│</span>\n",
       "<span style=\"color: #808000; text-decoration-color: #808000\">╰─────────────────────────────╯</span>\n",
       "</pre>\n"
      ],
      "text/plain": [
       "\u001b[33m╭─\u001b[0m\u001b[33m─\u001b[0m\u001b[33m Cytoplasm segmentation \u001b[0m\u001b[33m──\u001b[0m\u001b[33m─╮\u001b[0m\n",
       "\u001b[33m│\u001b[0m Segmentation started!       \u001b[33m│\u001b[0m\n",
       "\u001b[33m│\u001b[0m                             \u001b[33m│\u001b[0m\n",
       "\u001b[33m│\u001b[0m Image: 2023_12_14_image_006 \u001b[33m│\u001b[0m\n",
       "\u001b[33m│\u001b[0m                             \u001b[33m│\u001b[0m\n",
       "\u001b[33m╰─────────────────────────────╯\u001b[0m\n"
      ]
     },
     "metadata": {},
     "output_type": "display_data"
    },
    {
     "data": {
      "text/html": [
       "<pre style=\"white-space:pre;overflow-x:auto;line-height:normal;font-family:Menlo,'DejaVu Sans Mono',consolas,'Courier New',monospace\"><span style=\"color: #808000; text-decoration-color: #808000\">╭── Cytoplasm segmentation ───╮</span>\n",
       "<span style=\"color: #808000; text-decoration-color: #808000\">│</span> Segmentation started!       <span style=\"color: #808000; text-decoration-color: #808000\">│</span>\n",
       "<span style=\"color: #808000; text-decoration-color: #808000\">│</span>                             <span style=\"color: #808000; text-decoration-color: #808000\">│</span>\n",
       "<span style=\"color: #808000; text-decoration-color: #808000\">│</span> Image: 2023_12_14_image_030 <span style=\"color: #808000; text-decoration-color: #808000\">│</span>\n",
       "<span style=\"color: #808000; text-decoration-color: #808000\">│</span>                             <span style=\"color: #808000; text-decoration-color: #808000\">│</span>\n",
       "<span style=\"color: #808000; text-decoration-color: #808000\">╰─────────────────────────────╯</span>\n",
       "</pre>\n"
      ],
      "text/plain": [
       "\u001b[33m╭─\u001b[0m\u001b[33m─\u001b[0m\u001b[33m Cytoplasm segmentation \u001b[0m\u001b[33m──\u001b[0m\u001b[33m─╮\u001b[0m\n",
       "\u001b[33m│\u001b[0m Segmentation started!       \u001b[33m│\u001b[0m\n",
       "\u001b[33m│\u001b[0m                             \u001b[33m│\u001b[0m\n",
       "\u001b[33m│\u001b[0m Image: 2023_12_14_image_030 \u001b[33m│\u001b[0m\n",
       "\u001b[33m│\u001b[0m                             \u001b[33m│\u001b[0m\n",
       "\u001b[33m╰─────────────────────────────╯\u001b[0m\n"
      ]
     },
     "metadata": {},
     "output_type": "display_data"
    },
    {
     "data": {
      "text/html": [
       "<pre style=\"white-space:pre;overflow-x:auto;line-height:normal;font-family:Menlo,'DejaVu Sans Mono',consolas,'Courier New',monospace\"><span style=\"color: #808000; text-decoration-color: #808000\">╭── Cytoplasm segmentation ───╮</span>\n",
       "<span style=\"color: #808000; text-decoration-color: #808000\">│</span> Segmentation started!       <span style=\"color: #808000; text-decoration-color: #808000\">│</span>\n",
       "<span style=\"color: #808000; text-decoration-color: #808000\">│</span>                             <span style=\"color: #808000; text-decoration-color: #808000\">│</span>\n",
       "<span style=\"color: #808000; text-decoration-color: #808000\">│</span> Image: 2023_12_14_image_028 <span style=\"color: #808000; text-decoration-color: #808000\">│</span>\n",
       "<span style=\"color: #808000; text-decoration-color: #808000\">│</span>                             <span style=\"color: #808000; text-decoration-color: #808000\">│</span>\n",
       "<span style=\"color: #808000; text-decoration-color: #808000\">╰─────────────────────────────╯</span>\n",
       "</pre>\n"
      ],
      "text/plain": [
       "\u001b[33m╭─\u001b[0m\u001b[33m─\u001b[0m\u001b[33m Cytoplasm segmentation \u001b[0m\u001b[33m──\u001b[0m\u001b[33m─╮\u001b[0m\n",
       "\u001b[33m│\u001b[0m Segmentation started!       \u001b[33m│\u001b[0m\n",
       "\u001b[33m│\u001b[0m                             \u001b[33m│\u001b[0m\n",
       "\u001b[33m│\u001b[0m Image: 2023_12_14_image_028 \u001b[33m│\u001b[0m\n",
       "\u001b[33m│\u001b[0m                             \u001b[33m│\u001b[0m\n",
       "\u001b[33m╰─────────────────────────────╯\u001b[0m\n"
      ]
     },
     "metadata": {},
     "output_type": "display_data"
    },
    {
     "data": {
      "text/html": [
       "<pre style=\"white-space:pre;overflow-x:auto;line-height:normal;font-family:Menlo,'DejaVu Sans Mono',consolas,'Courier New',monospace\"><span style=\"color: #808000; text-decoration-color: #808000\">╭── Cytoplasm segmentation ───╮</span>\n",
       "<span style=\"color: #808000; text-decoration-color: #808000\">│</span> Segmentation started!       <span style=\"color: #808000; text-decoration-color: #808000\">│</span>\n",
       "<span style=\"color: #808000; text-decoration-color: #808000\">│</span>                             <span style=\"color: #808000; text-decoration-color: #808000\">│</span>\n",
       "<span style=\"color: #808000; text-decoration-color: #808000\">│</span> Image: 2023_12_14_image_012 <span style=\"color: #808000; text-decoration-color: #808000\">│</span>\n",
       "<span style=\"color: #808000; text-decoration-color: #808000\">│</span>                             <span style=\"color: #808000; text-decoration-color: #808000\">│</span>\n",
       "<span style=\"color: #808000; text-decoration-color: #808000\">╰─────────────────────────────╯</span>\n",
       "</pre>\n"
      ],
      "text/plain": [
       "\u001b[33m╭─\u001b[0m\u001b[33m─\u001b[0m\u001b[33m Cytoplasm segmentation \u001b[0m\u001b[33m──\u001b[0m\u001b[33m─╮\u001b[0m\n",
       "\u001b[33m│\u001b[0m Segmentation started!       \u001b[33m│\u001b[0m\n",
       "\u001b[33m│\u001b[0m                             \u001b[33m│\u001b[0m\n",
       "\u001b[33m│\u001b[0m Image: 2023_12_14_image_012 \u001b[33m│\u001b[0m\n",
       "\u001b[33m│\u001b[0m                             \u001b[33m│\u001b[0m\n",
       "\u001b[33m╰─────────────────────────────╯\u001b[0m\n"
      ]
     },
     "metadata": {},
     "output_type": "display_data"
    },
    {
     "data": {
      "text/html": [
       "<pre style=\"white-space:pre;overflow-x:auto;line-height:normal;font-family:Menlo,'DejaVu Sans Mono',consolas,'Courier New',monospace\"><span style=\"color: #808000; text-decoration-color: #808000\">╭── Cytoplasm segmentation ───╮</span>\n",
       "<span style=\"color: #808000; text-decoration-color: #808000\">│</span> Segmentation started!       <span style=\"color: #808000; text-decoration-color: #808000\">│</span>\n",
       "<span style=\"color: #808000; text-decoration-color: #808000\">│</span>                             <span style=\"color: #808000; text-decoration-color: #808000\">│</span>\n",
       "<span style=\"color: #808000; text-decoration-color: #808000\">│</span> Image: 2023_12_14_image_042 <span style=\"color: #808000; text-decoration-color: #808000\">│</span>\n",
       "<span style=\"color: #808000; text-decoration-color: #808000\">│</span>                             <span style=\"color: #808000; text-decoration-color: #808000\">│</span>\n",
       "<span style=\"color: #808000; text-decoration-color: #808000\">╰─────────────────────────────╯</span>\n",
       "</pre>\n"
      ],
      "text/plain": [
       "\u001b[33m╭─\u001b[0m\u001b[33m─\u001b[0m\u001b[33m Cytoplasm segmentation \u001b[0m\u001b[33m──\u001b[0m\u001b[33m─╮\u001b[0m\n",
       "\u001b[33m│\u001b[0m Segmentation started!       \u001b[33m│\u001b[0m\n",
       "\u001b[33m│\u001b[0m                             \u001b[33m│\u001b[0m\n",
       "\u001b[33m│\u001b[0m Image: 2023_12_14_image_042 \u001b[33m│\u001b[0m\n",
       "\u001b[33m│\u001b[0m                             \u001b[33m│\u001b[0m\n",
       "\u001b[33m╰─────────────────────────────╯\u001b[0m\n"
      ]
     },
     "metadata": {},
     "output_type": "display_data"
    },
    {
     "data": {
      "text/html": [
       "<pre style=\"white-space:pre;overflow-x:auto;line-height:normal;font-family:Menlo,'DejaVu Sans Mono',consolas,'Courier New',monospace\"><span style=\"color: #808000; text-decoration-color: #808000\">╭── Cytoplasm segmentation ───╮</span>\n",
       "<span style=\"color: #808000; text-decoration-color: #808000\">│</span> Segmentation started!       <span style=\"color: #808000; text-decoration-color: #808000\">│</span>\n",
       "<span style=\"color: #808000; text-decoration-color: #808000\">│</span>                             <span style=\"color: #808000; text-decoration-color: #808000\">│</span>\n",
       "<span style=\"color: #808000; text-decoration-color: #808000\">│</span> Image: 2023_12_14_image_025 <span style=\"color: #808000; text-decoration-color: #808000\">│</span>\n",
       "<span style=\"color: #808000; text-decoration-color: #808000\">│</span>                             <span style=\"color: #808000; text-decoration-color: #808000\">│</span>\n",
       "<span style=\"color: #808000; text-decoration-color: #808000\">╰─────────────────────────────╯</span>\n",
       "</pre>\n"
      ],
      "text/plain": [
       "\u001b[33m╭─\u001b[0m\u001b[33m─\u001b[0m\u001b[33m Cytoplasm segmentation \u001b[0m\u001b[33m──\u001b[0m\u001b[33m─╮\u001b[0m\n",
       "\u001b[33m│\u001b[0m Segmentation started!       \u001b[33m│\u001b[0m\n",
       "\u001b[33m│\u001b[0m                             \u001b[33m│\u001b[0m\n",
       "\u001b[33m│\u001b[0m Image: 2023_12_14_image_025 \u001b[33m│\u001b[0m\n",
       "\u001b[33m│\u001b[0m                             \u001b[33m│\u001b[0m\n",
       "\u001b[33m╰─────────────────────────────╯\u001b[0m\n"
      ]
     },
     "metadata": {},
     "output_type": "display_data"
    },
    {
     "data": {
      "text/html": [
       "<pre style=\"white-space:pre;overflow-x:auto;line-height:normal;font-family:Menlo,'DejaVu Sans Mono',consolas,'Courier New',monospace\"><span style=\"color: #808000; text-decoration-color: #808000\">╭── Cytoplasm segmentation ───╮</span>\n",
       "<span style=\"color: #808000; text-decoration-color: #808000\">│</span> Segmentation started!       <span style=\"color: #808000; text-decoration-color: #808000\">│</span>\n",
       "<span style=\"color: #808000; text-decoration-color: #808000\">│</span>                             <span style=\"color: #808000; text-decoration-color: #808000\">│</span>\n",
       "<span style=\"color: #808000; text-decoration-color: #808000\">│</span> Image: 2023_12_14_image_023 <span style=\"color: #808000; text-decoration-color: #808000\">│</span>\n",
       "<span style=\"color: #808000; text-decoration-color: #808000\">│</span>                             <span style=\"color: #808000; text-decoration-color: #808000\">│</span>\n",
       "<span style=\"color: #808000; text-decoration-color: #808000\">╰─────────────────────────────╯</span>\n",
       "</pre>\n"
      ],
      "text/plain": [
       "\u001b[33m╭─\u001b[0m\u001b[33m─\u001b[0m\u001b[33m Cytoplasm segmentation \u001b[0m\u001b[33m──\u001b[0m\u001b[33m─╮\u001b[0m\n",
       "\u001b[33m│\u001b[0m Segmentation started!       \u001b[33m│\u001b[0m\n",
       "\u001b[33m│\u001b[0m                             \u001b[33m│\u001b[0m\n",
       "\u001b[33m│\u001b[0m Image: 2023_12_14_image_023 \u001b[33m│\u001b[0m\n",
       "\u001b[33m│\u001b[0m                             \u001b[33m│\u001b[0m\n",
       "\u001b[33m╰─────────────────────────────╯\u001b[0m\n"
      ]
     },
     "metadata": {},
     "output_type": "display_data"
    },
    {
     "data": {
      "text/html": [
       "<pre style=\"white-space:pre;overflow-x:auto;line-height:normal;font-family:Menlo,'DejaVu Sans Mono',consolas,'Courier New',monospace\"><span style=\"color: #808000; text-decoration-color: #808000\">╭── Cytoplasm segmentation ───╮</span>\n",
       "<span style=\"color: #808000; text-decoration-color: #808000\">│</span> Segmentation started!       <span style=\"color: #808000; text-decoration-color: #808000\">│</span>\n",
       "<span style=\"color: #808000; text-decoration-color: #808000\">│</span>                             <span style=\"color: #808000; text-decoration-color: #808000\">│</span>\n",
       "<span style=\"color: #808000; text-decoration-color: #808000\">│</span> Image: 2023_12_14_image_038 <span style=\"color: #808000; text-decoration-color: #808000\">│</span>\n",
       "<span style=\"color: #808000; text-decoration-color: #808000\">│</span>                             <span style=\"color: #808000; text-decoration-color: #808000\">│</span>\n",
       "<span style=\"color: #808000; text-decoration-color: #808000\">╰─────────────────────────────╯</span>\n",
       "</pre>\n"
      ],
      "text/plain": [
       "\u001b[33m╭─\u001b[0m\u001b[33m─\u001b[0m\u001b[33m Cytoplasm segmentation \u001b[0m\u001b[33m──\u001b[0m\u001b[33m─╮\u001b[0m\n",
       "\u001b[33m│\u001b[0m Segmentation started!       \u001b[33m│\u001b[0m\n",
       "\u001b[33m│\u001b[0m                             \u001b[33m│\u001b[0m\n",
       "\u001b[33m│\u001b[0m Image: 2023_12_14_image_038 \u001b[33m│\u001b[0m\n",
       "\u001b[33m│\u001b[0m                             \u001b[33m│\u001b[0m\n",
       "\u001b[33m╰─────────────────────────────╯\u001b[0m\n"
      ]
     },
     "metadata": {},
     "output_type": "display_data"
    },
    {
     "data": {
      "text/html": [
       "<pre style=\"white-space:pre;overflow-x:auto;line-height:normal;font-family:Menlo,'DejaVu Sans Mono',consolas,'Courier New',monospace\"><span style=\"color: #808000; text-decoration-color: #808000\">╭── Cytoplasm segmentation ───╮</span>\n",
       "<span style=\"color: #808000; text-decoration-color: #808000\">│</span> Segmentation started!       <span style=\"color: #808000; text-decoration-color: #808000\">│</span>\n",
       "<span style=\"color: #808000; text-decoration-color: #808000\">│</span>                             <span style=\"color: #808000; text-decoration-color: #808000\">│</span>\n",
       "<span style=\"color: #808000; text-decoration-color: #808000\">│</span> Image: 2023_12_14_image_048 <span style=\"color: #808000; text-decoration-color: #808000\">│</span>\n",
       "<span style=\"color: #808000; text-decoration-color: #808000\">│</span>                             <span style=\"color: #808000; text-decoration-color: #808000\">│</span>\n",
       "<span style=\"color: #808000; text-decoration-color: #808000\">╰─────────────────────────────╯</span>\n",
       "</pre>\n"
      ],
      "text/plain": [
       "\u001b[33m╭─\u001b[0m\u001b[33m─\u001b[0m\u001b[33m Cytoplasm segmentation \u001b[0m\u001b[33m──\u001b[0m\u001b[33m─╮\u001b[0m\n",
       "\u001b[33m│\u001b[0m Segmentation started!       \u001b[33m│\u001b[0m\n",
       "\u001b[33m│\u001b[0m                             \u001b[33m│\u001b[0m\n",
       "\u001b[33m│\u001b[0m Image: 2023_12_14_image_048 \u001b[33m│\u001b[0m\n",
       "\u001b[33m│\u001b[0m                             \u001b[33m│\u001b[0m\n",
       "\u001b[33m╰─────────────────────────────╯\u001b[0m\n"
      ]
     },
     "metadata": {},
     "output_type": "display_data"
    },
    {
     "data": {
      "text/html": [
       "<pre style=\"white-space:pre;overflow-x:auto;line-height:normal;font-family:Menlo,'DejaVu Sans Mono',consolas,'Courier New',monospace\"><span style=\"color: #808000; text-decoration-color: #808000\">╭── Cytoplasm segmentation ───╮</span>\n",
       "<span style=\"color: #808000; text-decoration-color: #808000\">│</span> Segmentation started!       <span style=\"color: #808000; text-decoration-color: #808000\">│</span>\n",
       "<span style=\"color: #808000; text-decoration-color: #808000\">│</span>                             <span style=\"color: #808000; text-decoration-color: #808000\">│</span>\n",
       "<span style=\"color: #808000; text-decoration-color: #808000\">│</span> Image: 2023_12_14_image_046 <span style=\"color: #808000; text-decoration-color: #808000\">│</span>\n",
       "<span style=\"color: #808000; text-decoration-color: #808000\">│</span>                             <span style=\"color: #808000; text-decoration-color: #808000\">│</span>\n",
       "<span style=\"color: #808000; text-decoration-color: #808000\">╰─────────────────────────────╯</span>\n",
       "</pre>\n"
      ],
      "text/plain": [
       "\u001b[33m╭─\u001b[0m\u001b[33m─\u001b[0m\u001b[33m Cytoplasm segmentation \u001b[0m\u001b[33m──\u001b[0m\u001b[33m─╮\u001b[0m\n",
       "\u001b[33m│\u001b[0m Segmentation started!       \u001b[33m│\u001b[0m\n",
       "\u001b[33m│\u001b[0m                             \u001b[33m│\u001b[0m\n",
       "\u001b[33m│\u001b[0m Image: 2023_12_14_image_046 \u001b[33m│\u001b[0m\n",
       "\u001b[33m│\u001b[0m                             \u001b[33m│\u001b[0m\n",
       "\u001b[33m╰─────────────────────────────╯\u001b[0m\n"
      ]
     },
     "metadata": {},
     "output_type": "display_data"
    },
    {
     "data": {
      "text/html": [
       "<pre style=\"white-space:pre;overflow-x:auto;line-height:normal;font-family:Menlo,'DejaVu Sans Mono',consolas,'Courier New',monospace\"><span style=\"color: #808000; text-decoration-color: #808000\">╭── Cytoplasm segmentation ───╮</span>\n",
       "<span style=\"color: #808000; text-decoration-color: #808000\">│</span> Segmentation started!       <span style=\"color: #808000; text-decoration-color: #808000\">│</span>\n",
       "<span style=\"color: #808000; text-decoration-color: #808000\">│</span>                             <span style=\"color: #808000; text-decoration-color: #808000\">│</span>\n",
       "<span style=\"color: #808000; text-decoration-color: #808000\">│</span> Image: 2023_12_14_image_021 <span style=\"color: #808000; text-decoration-color: #808000\">│</span>\n",
       "<span style=\"color: #808000; text-decoration-color: #808000\">│</span>                             <span style=\"color: #808000; text-decoration-color: #808000\">│</span>\n",
       "<span style=\"color: #808000; text-decoration-color: #808000\">╰─────────────────────────────╯</span>\n",
       "</pre>\n"
      ],
      "text/plain": [
       "\u001b[33m╭─\u001b[0m\u001b[33m─\u001b[0m\u001b[33m Cytoplasm segmentation \u001b[0m\u001b[33m──\u001b[0m\u001b[33m─╮\u001b[0m\n",
       "\u001b[33m│\u001b[0m Segmentation started!       \u001b[33m│\u001b[0m\n",
       "\u001b[33m│\u001b[0m                             \u001b[33m│\u001b[0m\n",
       "\u001b[33m│\u001b[0m Image: 2023_12_14_image_021 \u001b[33m│\u001b[0m\n",
       "\u001b[33m│\u001b[0m                             \u001b[33m│\u001b[0m\n",
       "\u001b[33m╰─────────────────────────────╯\u001b[0m\n"
      ]
     },
     "metadata": {},
     "output_type": "display_data"
    },
    {
     "data": {
      "text/html": [
       "<pre style=\"white-space:pre;overflow-x:auto;line-height:normal;font-family:Menlo,'DejaVu Sans Mono',consolas,'Courier New',monospace\"><span style=\"color: #808000; text-decoration-color: #808000\">╭── Cytoplasm segmentation ───╮</span>\n",
       "<span style=\"color: #808000; text-decoration-color: #808000\">│</span> Segmentation started!       <span style=\"color: #808000; text-decoration-color: #808000\">│</span>\n",
       "<span style=\"color: #808000; text-decoration-color: #808000\">│</span>                             <span style=\"color: #808000; text-decoration-color: #808000\">│</span>\n",
       "<span style=\"color: #808000; text-decoration-color: #808000\">│</span> Image: 2023_12_14_image_001 <span style=\"color: #808000; text-decoration-color: #808000\">│</span>\n",
       "<span style=\"color: #808000; text-decoration-color: #808000\">│</span>                             <span style=\"color: #808000; text-decoration-color: #808000\">│</span>\n",
       "<span style=\"color: #808000; text-decoration-color: #808000\">╰─────────────────────────────╯</span>\n",
       "</pre>\n"
      ],
      "text/plain": [
       "\u001b[33m╭─\u001b[0m\u001b[33m─\u001b[0m\u001b[33m Cytoplasm segmentation \u001b[0m\u001b[33m──\u001b[0m\u001b[33m─╮\u001b[0m\n",
       "\u001b[33m│\u001b[0m Segmentation started!       \u001b[33m│\u001b[0m\n",
       "\u001b[33m│\u001b[0m                             \u001b[33m│\u001b[0m\n",
       "\u001b[33m│\u001b[0m Image: 2023_12_14_image_001 \u001b[33m│\u001b[0m\n",
       "\u001b[33m│\u001b[0m                             \u001b[33m│\u001b[0m\n",
       "\u001b[33m╰─────────────────────────────╯\u001b[0m\n"
      ]
     },
     "metadata": {},
     "output_type": "display_data"
    },
    {
     "data": {
      "text/html": [
       "<pre style=\"white-space:pre;overflow-x:auto;line-height:normal;font-family:Menlo,'DejaVu Sans Mono',consolas,'Courier New',monospace\"><span style=\"color: #808000; text-decoration-color: #808000\">╭── Cytoplasm segmentation ───╮</span>\n",
       "<span style=\"color: #808000; text-decoration-color: #808000\">│</span> Segmentation started!       <span style=\"color: #808000; text-decoration-color: #808000\">│</span>\n",
       "<span style=\"color: #808000; text-decoration-color: #808000\">│</span>                             <span style=\"color: #808000; text-decoration-color: #808000\">│</span>\n",
       "<span style=\"color: #808000; text-decoration-color: #808000\">│</span> Image: 2023_12_14_image_020 <span style=\"color: #808000; text-decoration-color: #808000\">│</span>\n",
       "<span style=\"color: #808000; text-decoration-color: #808000\">│</span>                             <span style=\"color: #808000; text-decoration-color: #808000\">│</span>\n",
       "<span style=\"color: #808000; text-decoration-color: #808000\">╰─────────────────────────────╯</span>\n",
       "</pre>\n"
      ],
      "text/plain": [
       "\u001b[33m╭─\u001b[0m\u001b[33m─\u001b[0m\u001b[33m Cytoplasm segmentation \u001b[0m\u001b[33m──\u001b[0m\u001b[33m─╮\u001b[0m\n",
       "\u001b[33m│\u001b[0m Segmentation started!       \u001b[33m│\u001b[0m\n",
       "\u001b[33m│\u001b[0m                             \u001b[33m│\u001b[0m\n",
       "\u001b[33m│\u001b[0m Image: 2023_12_14_image_020 \u001b[33m│\u001b[0m\n",
       "\u001b[33m│\u001b[0m                             \u001b[33m│\u001b[0m\n",
       "\u001b[33m╰─────────────────────────────╯\u001b[0m\n"
      ]
     },
     "metadata": {},
     "output_type": "display_data"
    },
    {
     "data": {
      "text/html": [
       "<pre style=\"white-space:pre;overflow-x:auto;line-height:normal;font-family:Menlo,'DejaVu Sans Mono',consolas,'Courier New',monospace\"><span style=\"color: #808000; text-decoration-color: #808000\">╭── Cytoplasm segmentation ───╮</span>\n",
       "<span style=\"color: #808000; text-decoration-color: #808000\">│</span> Segmentation started!       <span style=\"color: #808000; text-decoration-color: #808000\">│</span>\n",
       "<span style=\"color: #808000; text-decoration-color: #808000\">│</span>                             <span style=\"color: #808000; text-decoration-color: #808000\">│</span>\n",
       "<span style=\"color: #808000; text-decoration-color: #808000\">│</span> Image: 2023_12_14_image_016 <span style=\"color: #808000; text-decoration-color: #808000\">│</span>\n",
       "<span style=\"color: #808000; text-decoration-color: #808000\">│</span>                             <span style=\"color: #808000; text-decoration-color: #808000\">│</span>\n",
       "<span style=\"color: #808000; text-decoration-color: #808000\">╰─────────────────────────────╯</span>\n",
       "</pre>\n"
      ],
      "text/plain": [
       "\u001b[33m╭─\u001b[0m\u001b[33m─\u001b[0m\u001b[33m Cytoplasm segmentation \u001b[0m\u001b[33m──\u001b[0m\u001b[33m─╮\u001b[0m\n",
       "\u001b[33m│\u001b[0m Segmentation started!       \u001b[33m│\u001b[0m\n",
       "\u001b[33m│\u001b[0m                             \u001b[33m│\u001b[0m\n",
       "\u001b[33m│\u001b[0m Image: 2023_12_14_image_016 \u001b[33m│\u001b[0m\n",
       "\u001b[33m│\u001b[0m                             \u001b[33m│\u001b[0m\n",
       "\u001b[33m╰─────────────────────────────╯\u001b[0m\n"
      ]
     },
     "metadata": {},
     "output_type": "display_data"
    },
    {
     "data": {
      "text/html": [
       "<pre style=\"white-space:pre;overflow-x:auto;line-height:normal;font-family:Menlo,'DejaVu Sans Mono',consolas,'Courier New',monospace\"><span style=\"color: #808000; text-decoration-color: #808000\">╭── Cytoplasm segmentation ───╮</span>\n",
       "<span style=\"color: #808000; text-decoration-color: #808000\">│</span> Segmentation started!       <span style=\"color: #808000; text-decoration-color: #808000\">│</span>\n",
       "<span style=\"color: #808000; text-decoration-color: #808000\">│</span>                             <span style=\"color: #808000; text-decoration-color: #808000\">│</span>\n",
       "<span style=\"color: #808000; text-decoration-color: #808000\">│</span> Image: 2023_12_14_image_014 <span style=\"color: #808000; text-decoration-color: #808000\">│</span>\n",
       "<span style=\"color: #808000; text-decoration-color: #808000\">│</span>                             <span style=\"color: #808000; text-decoration-color: #808000\">│</span>\n",
       "<span style=\"color: #808000; text-decoration-color: #808000\">╰─────────────────────────────╯</span>\n",
       "</pre>\n"
      ],
      "text/plain": [
       "\u001b[33m╭─\u001b[0m\u001b[33m─\u001b[0m\u001b[33m Cytoplasm segmentation \u001b[0m\u001b[33m──\u001b[0m\u001b[33m─╮\u001b[0m\n",
       "\u001b[33m│\u001b[0m Segmentation started!       \u001b[33m│\u001b[0m\n",
       "\u001b[33m│\u001b[0m                             \u001b[33m│\u001b[0m\n",
       "\u001b[33m│\u001b[0m Image: 2023_12_14_image_014 \u001b[33m│\u001b[0m\n",
       "\u001b[33m│\u001b[0m                             \u001b[33m│\u001b[0m\n",
       "\u001b[33m╰─────────────────────────────╯\u001b[0m\n"
      ]
     },
     "metadata": {},
     "output_type": "display_data"
    },
    {
     "data": {
      "text/html": [
       "<pre style=\"white-space:pre;overflow-x:auto;line-height:normal;font-family:Menlo,'DejaVu Sans Mono',consolas,'Courier New',monospace\"><span style=\"color: #808000; text-decoration-color: #808000\">╭── Cytoplasm segmentation ───╮</span>\n",
       "<span style=\"color: #808000; text-decoration-color: #808000\">│</span> Segmentation started!       <span style=\"color: #808000; text-decoration-color: #808000\">│</span>\n",
       "<span style=\"color: #808000; text-decoration-color: #808000\">│</span>                             <span style=\"color: #808000; text-decoration-color: #808000\">│</span>\n",
       "<span style=\"color: #808000; text-decoration-color: #808000\">│</span> Image: 2023_12_14_image_035 <span style=\"color: #808000; text-decoration-color: #808000\">│</span>\n",
       "<span style=\"color: #808000; text-decoration-color: #808000\">│</span>                             <span style=\"color: #808000; text-decoration-color: #808000\">│</span>\n",
       "<span style=\"color: #808000; text-decoration-color: #808000\">╰─────────────────────────────╯</span>\n",
       "</pre>\n"
      ],
      "text/plain": [
       "\u001b[33m╭─\u001b[0m\u001b[33m─\u001b[0m\u001b[33m Cytoplasm segmentation \u001b[0m\u001b[33m──\u001b[0m\u001b[33m─╮\u001b[0m\n",
       "\u001b[33m│\u001b[0m Segmentation started!       \u001b[33m│\u001b[0m\n",
       "\u001b[33m│\u001b[0m                             \u001b[33m│\u001b[0m\n",
       "\u001b[33m│\u001b[0m Image: 2023_12_14_image_035 \u001b[33m│\u001b[0m\n",
       "\u001b[33m│\u001b[0m                             \u001b[33m│\u001b[0m\n",
       "\u001b[33m╰─────────────────────────────╯\u001b[0m\n"
      ]
     },
     "metadata": {},
     "output_type": "display_data"
    },
    {
     "data": {
      "text/html": [
       "<pre style=\"white-space:pre;overflow-x:auto;line-height:normal;font-family:Menlo,'DejaVu Sans Mono',consolas,'Courier New',monospace\"><span style=\"color: #808000; text-decoration-color: #808000\">╭── Cytoplasm segmentation ───╮</span>\n",
       "<span style=\"color: #808000; text-decoration-color: #808000\">│</span> Segmentation started!       <span style=\"color: #808000; text-decoration-color: #808000\">│</span>\n",
       "<span style=\"color: #808000; text-decoration-color: #808000\">│</span>                             <span style=\"color: #808000; text-decoration-color: #808000\">│</span>\n",
       "<span style=\"color: #808000; text-decoration-color: #808000\">│</span> Image: 2023_12_14_image_031 <span style=\"color: #808000; text-decoration-color: #808000\">│</span>\n",
       "<span style=\"color: #808000; text-decoration-color: #808000\">│</span>                             <span style=\"color: #808000; text-decoration-color: #808000\">│</span>\n",
       "<span style=\"color: #808000; text-decoration-color: #808000\">╰─────────────────────────────╯</span>\n",
       "</pre>\n"
      ],
      "text/plain": [
       "\u001b[33m╭─\u001b[0m\u001b[33m─\u001b[0m\u001b[33m Cytoplasm segmentation \u001b[0m\u001b[33m──\u001b[0m\u001b[33m─╮\u001b[0m\n",
       "\u001b[33m│\u001b[0m Segmentation started!       \u001b[33m│\u001b[0m\n",
       "\u001b[33m│\u001b[0m                             \u001b[33m│\u001b[0m\n",
       "\u001b[33m│\u001b[0m Image: 2023_12_14_image_031 \u001b[33m│\u001b[0m\n",
       "\u001b[33m│\u001b[0m                             \u001b[33m│\u001b[0m\n",
       "\u001b[33m╰─────────────────────────────╯\u001b[0m\n"
      ]
     },
     "metadata": {},
     "output_type": "display_data"
    },
    {
     "data": {
      "text/html": [
       "<pre style=\"white-space:pre;overflow-x:auto;line-height:normal;font-family:Menlo,'DejaVu Sans Mono',consolas,'Courier New',monospace\"><span style=\"color: #808000; text-decoration-color: #808000\">╭── Cytoplasm segmentation ───╮</span>\n",
       "<span style=\"color: #808000; text-decoration-color: #808000\">│</span> Segmentation started!       <span style=\"color: #808000; text-decoration-color: #808000\">│</span>\n",
       "<span style=\"color: #808000; text-decoration-color: #808000\">│</span>                             <span style=\"color: #808000; text-decoration-color: #808000\">│</span>\n",
       "<span style=\"color: #808000; text-decoration-color: #808000\">│</span> Image: 2023_12_14_image_026 <span style=\"color: #808000; text-decoration-color: #808000\">│</span>\n",
       "<span style=\"color: #808000; text-decoration-color: #808000\">│</span>                             <span style=\"color: #808000; text-decoration-color: #808000\">│</span>\n",
       "<span style=\"color: #808000; text-decoration-color: #808000\">╰─────────────────────────────╯</span>\n",
       "</pre>\n"
      ],
      "text/plain": [
       "\u001b[33m╭─\u001b[0m\u001b[33m─\u001b[0m\u001b[33m Cytoplasm segmentation \u001b[0m\u001b[33m──\u001b[0m\u001b[33m─╮\u001b[0m\n",
       "\u001b[33m│\u001b[0m Segmentation started!       \u001b[33m│\u001b[0m\n",
       "\u001b[33m│\u001b[0m                             \u001b[33m│\u001b[0m\n",
       "\u001b[33m│\u001b[0m Image: 2023_12_14_image_026 \u001b[33m│\u001b[0m\n",
       "\u001b[33m│\u001b[0m                             \u001b[33m│\u001b[0m\n",
       "\u001b[33m╰─────────────────────────────╯\u001b[0m\n"
      ]
     },
     "metadata": {},
     "output_type": "display_data"
    },
    {
     "data": {
      "text/html": [
       "<pre style=\"white-space:pre;overflow-x:auto;line-height:normal;font-family:Menlo,'DejaVu Sans Mono',consolas,'Courier New',monospace\"><span style=\"color: #808000; text-decoration-color: #808000\">╭── Cytoplasm segmentation ───╮</span>\n",
       "<span style=\"color: #808000; text-decoration-color: #808000\">│</span> Segmentation started!       <span style=\"color: #808000; text-decoration-color: #808000\">│</span>\n",
       "<span style=\"color: #808000; text-decoration-color: #808000\">│</span>                             <span style=\"color: #808000; text-decoration-color: #808000\">│</span>\n",
       "<span style=\"color: #808000; text-decoration-color: #808000\">│</span> Image: 2023_12_14_image_008 <span style=\"color: #808000; text-decoration-color: #808000\">│</span>\n",
       "<span style=\"color: #808000; text-decoration-color: #808000\">│</span>                             <span style=\"color: #808000; text-decoration-color: #808000\">│</span>\n",
       "<span style=\"color: #808000; text-decoration-color: #808000\">╰─────────────────────────────╯</span>\n",
       "</pre>\n"
      ],
      "text/plain": [
       "\u001b[33m╭─\u001b[0m\u001b[33m─\u001b[0m\u001b[33m Cytoplasm segmentation \u001b[0m\u001b[33m──\u001b[0m\u001b[33m─╮\u001b[0m\n",
       "\u001b[33m│\u001b[0m Segmentation started!       \u001b[33m│\u001b[0m\n",
       "\u001b[33m│\u001b[0m                             \u001b[33m│\u001b[0m\n",
       "\u001b[33m│\u001b[0m Image: 2023_12_14_image_008 \u001b[33m│\u001b[0m\n",
       "\u001b[33m│\u001b[0m                             \u001b[33m│\u001b[0m\n",
       "\u001b[33m╰─────────────────────────────╯\u001b[0m\n"
      ]
     },
     "metadata": {},
     "output_type": "display_data"
    },
    {
     "data": {
      "text/html": [
       "<pre style=\"white-space:pre;overflow-x:auto;line-height:normal;font-family:Menlo,'DejaVu Sans Mono',consolas,'Courier New',monospace\"><span style=\"color: #808000; text-decoration-color: #808000\">╭── Cytoplasm segmentation ───╮</span>\n",
       "<span style=\"color: #808000; text-decoration-color: #808000\">│</span> Segmentation started!       <span style=\"color: #808000; text-decoration-color: #808000\">│</span>\n",
       "<span style=\"color: #808000; text-decoration-color: #808000\">│</span>                             <span style=\"color: #808000; text-decoration-color: #808000\">│</span>\n",
       "<span style=\"color: #808000; text-decoration-color: #808000\">│</span> Image: 2023_12_14_image_024 <span style=\"color: #808000; text-decoration-color: #808000\">│</span>\n",
       "<span style=\"color: #808000; text-decoration-color: #808000\">│</span>                             <span style=\"color: #808000; text-decoration-color: #808000\">│</span>\n",
       "<span style=\"color: #808000; text-decoration-color: #808000\">╰─────────────────────────────╯</span>\n",
       "</pre>\n"
      ],
      "text/plain": [
       "\u001b[33m╭─\u001b[0m\u001b[33m─\u001b[0m\u001b[33m Cytoplasm segmentation \u001b[0m\u001b[33m──\u001b[0m\u001b[33m─╮\u001b[0m\n",
       "\u001b[33m│\u001b[0m Segmentation started!       \u001b[33m│\u001b[0m\n",
       "\u001b[33m│\u001b[0m                             \u001b[33m│\u001b[0m\n",
       "\u001b[33m│\u001b[0m Image: 2023_12_14_image_024 \u001b[33m│\u001b[0m\n",
       "\u001b[33m│\u001b[0m                             \u001b[33m│\u001b[0m\n",
       "\u001b[33m╰─────────────────────────────╯\u001b[0m\n"
      ]
     },
     "metadata": {},
     "output_type": "display_data"
    },
    {
     "data": {
      "text/html": [
       "<pre style=\"white-space:pre;overflow-x:auto;line-height:normal;font-family:Menlo,'DejaVu Sans Mono',consolas,'Courier New',monospace\"><span style=\"color: #808000; text-decoration-color: #808000\">╭── Cytoplasm segmentation ───╮</span>\n",
       "<span style=\"color: #808000; text-decoration-color: #808000\">│</span> Segmentation started!       <span style=\"color: #808000; text-decoration-color: #808000\">│</span>\n",
       "<span style=\"color: #808000; text-decoration-color: #808000\">│</span>                             <span style=\"color: #808000; text-decoration-color: #808000\">│</span>\n",
       "<span style=\"color: #808000; text-decoration-color: #808000\">│</span> Image: 2023_12_14_image_007 <span style=\"color: #808000; text-decoration-color: #808000\">│</span>\n",
       "<span style=\"color: #808000; text-decoration-color: #808000\">│</span>                             <span style=\"color: #808000; text-decoration-color: #808000\">│</span>\n",
       "<span style=\"color: #808000; text-decoration-color: #808000\">╰─────────────────────────────╯</span>\n",
       "</pre>\n"
      ],
      "text/plain": [
       "\u001b[33m╭─\u001b[0m\u001b[33m─\u001b[0m\u001b[33m Cytoplasm segmentation \u001b[0m\u001b[33m──\u001b[0m\u001b[33m─╮\u001b[0m\n",
       "\u001b[33m│\u001b[0m Segmentation started!       \u001b[33m│\u001b[0m\n",
       "\u001b[33m│\u001b[0m                             \u001b[33m│\u001b[0m\n",
       "\u001b[33m│\u001b[0m Image: 2023_12_14_image_007 \u001b[33m│\u001b[0m\n",
       "\u001b[33m│\u001b[0m                             \u001b[33m│\u001b[0m\n",
       "\u001b[33m╰─────────────────────────────╯\u001b[0m\n"
      ]
     },
     "metadata": {},
     "output_type": "display_data"
    },
    {
     "data": {
      "text/html": [
       "<pre style=\"white-space:pre;overflow-x:auto;line-height:normal;font-family:Menlo,'DejaVu Sans Mono',consolas,'Courier New',monospace\"><span style=\"color: #808000; text-decoration-color: #808000\">╭── Cytoplasm segmentation ───╮</span>\n",
       "<span style=\"color: #808000; text-decoration-color: #808000\">│</span> Segmentation started!       <span style=\"color: #808000; text-decoration-color: #808000\">│</span>\n",
       "<span style=\"color: #808000; text-decoration-color: #808000\">│</span>                             <span style=\"color: #808000; text-decoration-color: #808000\">│</span>\n",
       "<span style=\"color: #808000; text-decoration-color: #808000\">│</span> Image: 2023_12_14_image_034 <span style=\"color: #808000; text-decoration-color: #808000\">│</span>\n",
       "<span style=\"color: #808000; text-decoration-color: #808000\">│</span>                             <span style=\"color: #808000; text-decoration-color: #808000\">│</span>\n",
       "<span style=\"color: #808000; text-decoration-color: #808000\">╰─────────────────────────────╯</span>\n",
       "</pre>\n"
      ],
      "text/plain": [
       "\u001b[33m╭─\u001b[0m\u001b[33m─\u001b[0m\u001b[33m Cytoplasm segmentation \u001b[0m\u001b[33m──\u001b[0m\u001b[33m─╮\u001b[0m\n",
       "\u001b[33m│\u001b[0m Segmentation started!       \u001b[33m│\u001b[0m\n",
       "\u001b[33m│\u001b[0m                             \u001b[33m│\u001b[0m\n",
       "\u001b[33m│\u001b[0m Image: 2023_12_14_image_034 \u001b[33m│\u001b[0m\n",
       "\u001b[33m│\u001b[0m                             \u001b[33m│\u001b[0m\n",
       "\u001b[33m╰─────────────────────────────╯\u001b[0m\n"
      ]
     },
     "metadata": {},
     "output_type": "display_data"
    },
    {
     "data": {
      "text/html": [
       "<pre style=\"white-space:pre;overflow-x:auto;line-height:normal;font-family:Menlo,'DejaVu Sans Mono',consolas,'Courier New',monospace\"><span style=\"color: #808000; text-decoration-color: #808000\">╭── Cytoplasm segmentation ───╮</span>\n",
       "<span style=\"color: #808000; text-decoration-color: #808000\">│</span> Segmentation started!       <span style=\"color: #808000; text-decoration-color: #808000\">│</span>\n",
       "<span style=\"color: #808000; text-decoration-color: #808000\">│</span>                             <span style=\"color: #808000; text-decoration-color: #808000\">│</span>\n",
       "<span style=\"color: #808000; text-decoration-color: #808000\">│</span> Image: 2023_12_14_image_033 <span style=\"color: #808000; text-decoration-color: #808000\">│</span>\n",
       "<span style=\"color: #808000; text-decoration-color: #808000\">│</span>                             <span style=\"color: #808000; text-decoration-color: #808000\">│</span>\n",
       "<span style=\"color: #808000; text-decoration-color: #808000\">╰─────────────────────────────╯</span>\n",
       "</pre>\n"
      ],
      "text/plain": [
       "\u001b[33m╭─\u001b[0m\u001b[33m─\u001b[0m\u001b[33m Cytoplasm segmentation \u001b[0m\u001b[33m──\u001b[0m\u001b[33m─╮\u001b[0m\n",
       "\u001b[33m│\u001b[0m Segmentation started!       \u001b[33m│\u001b[0m\n",
       "\u001b[33m│\u001b[0m                             \u001b[33m│\u001b[0m\n",
       "\u001b[33m│\u001b[0m Image: 2023_12_14_image_033 \u001b[33m│\u001b[0m\n",
       "\u001b[33m│\u001b[0m                             \u001b[33m│\u001b[0m\n",
       "\u001b[33m╰─────────────────────────────╯\u001b[0m\n"
      ]
     },
     "metadata": {},
     "output_type": "display_data"
    }
   ],
   "source": [
    "import mahotas as mh\n",
    "import pandas as pd\n",
    "import numpy as np\n",
    "import pathlib\n",
    "import time\n",
    "import matplotlib.pyplot as plt\n",
    "\n",
    "images_path = pathlib.Path(\"Images/all_images\")\n",
    "labels_path = pathlib.Path(\"Labels/orig/cytoplasm\")\n",
    "\n",
    "results_cytoplasm = pd.DataFrame(columns=[\"image\", \"F1\", \"time\", \"method\"])\n",
    "\n",
    "for image_path in images_path.glob(\"*.png\"):\n",
    "    if (labels_path / images_path.name).exists():\n",
    "        continue\n",
    "    \n",
    "    img = mh.imread(image_path)\n",
    "    img_name = str(image_path.stem).split(\"/\")[-1]\n",
    "    label = labels_path / f\"{img_name}.npy\"\n",
    "    \n",
    "    t1 = time.monotonic()\n",
    "    \n",
    "    cytoplasm, f1 = watershed_cytoplasm(img_path=image_path, label_path=label, **params)\n",
    "    \n",
    "    t2 = time.monotonic()\n",
    "    t = t2 - t1\n",
    "    \n",
    "    plt.imsave(f\"Watershed/cytoplasm/{img_name}_cytoplasm.png\", cytoplasm)\n",
    "    \n",
    "    # results = results.concat(pd.DataFrame({\"image\": [img_name], \"F1\": [f1], \"time\": [time], \"method\": [\"watershed\"]}))\n",
    "    results_cytoplasm = pd.concat([results_cytoplasm, pd.DataFrame({\"image\": [img_name], \"F1\": [f1], \"time\": [t], \"method\": [\"watershed\"]})])"
   ]
  },
  {
   "cell_type": "code",
   "execution_count": 22,
   "metadata": {},
   "outputs": [
    {
     "data": {
      "text/html": [
       "<div>\n",
       "<style scoped>\n",
       "    .dataframe tbody tr th:only-of-type {\n",
       "        vertical-align: middle;\n",
       "    }\n",
       "\n",
       "    .dataframe tbody tr th {\n",
       "        vertical-align: top;\n",
       "    }\n",
       "\n",
       "    .dataframe thead th {\n",
       "        text-align: right;\n",
       "    }\n",
       "</style>\n",
       "<table border=\"1\" class=\"dataframe\">\n",
       "  <thead>\n",
       "    <tr style=\"text-align: right;\">\n",
       "      <th></th>\n",
       "      <th>F1</th>\n",
       "      <th>time</th>\n",
       "    </tr>\n",
       "  </thead>\n",
       "  <tbody>\n",
       "    <tr>\n",
       "      <th>count</th>\n",
       "      <td>50.000000</td>\n",
       "      <td>50.000000</td>\n",
       "    </tr>\n",
       "    <tr>\n",
       "      <th>mean</th>\n",
       "      <td>0.865671</td>\n",
       "      <td>28.120082</td>\n",
       "    </tr>\n",
       "    <tr>\n",
       "      <th>std</th>\n",
       "      <td>0.042333</td>\n",
       "      <td>1.340561</td>\n",
       "    </tr>\n",
       "    <tr>\n",
       "      <th>min</th>\n",
       "      <td>0.768460</td>\n",
       "      <td>25.004649</td>\n",
       "    </tr>\n",
       "    <tr>\n",
       "      <th>25%</th>\n",
       "      <td>0.845202</td>\n",
       "      <td>27.409377</td>\n",
       "    </tr>\n",
       "    <tr>\n",
       "      <th>50%</th>\n",
       "      <td>0.872025</td>\n",
       "      <td>27.763843</td>\n",
       "    </tr>\n",
       "    <tr>\n",
       "      <th>75%</th>\n",
       "      <td>0.889647</td>\n",
       "      <td>28.485608</td>\n",
       "    </tr>\n",
       "    <tr>\n",
       "      <th>max</th>\n",
       "      <td>0.959843</td>\n",
       "      <td>32.001654</td>\n",
       "    </tr>\n",
       "  </tbody>\n",
       "</table>\n",
       "</div>"
      ],
      "text/plain": [
       "              F1       time\n",
       "count  50.000000  50.000000\n",
       "mean    0.865671  28.120082\n",
       "std     0.042333   1.340561\n",
       "min     0.768460  25.004649\n",
       "25%     0.845202  27.409377\n",
       "50%     0.872025  27.763843\n",
       "75%     0.889647  28.485608\n",
       "max     0.959843  32.001654"
      ]
     },
     "execution_count": 22,
     "metadata": {},
     "output_type": "execute_result"
    }
   ],
   "source": [
    "results_cytoplasm.describe()"
   ]
  },
  {
   "cell_type": "code",
   "execution_count": 23,
   "metadata": {},
   "outputs": [
    {
     "data": {
      "text/html": [
       "<div>\n",
       "<style scoped>\n",
       "    .dataframe tbody tr th:only-of-type {\n",
       "        vertical-align: middle;\n",
       "    }\n",
       "\n",
       "    .dataframe tbody tr th {\n",
       "        vertical-align: top;\n",
       "    }\n",
       "\n",
       "    .dataframe thead th {\n",
       "        text-align: right;\n",
       "    }\n",
       "</style>\n",
       "<table border=\"1\" class=\"dataframe\">\n",
       "  <thead>\n",
       "    <tr style=\"text-align: right;\">\n",
       "      <th></th>\n",
       "      <th>image</th>\n",
       "      <th>F1</th>\n",
       "      <th>time</th>\n",
       "      <th>method</th>\n",
       "      <th>type</th>\n",
       "    </tr>\n",
       "  </thead>\n",
       "  <tbody>\n",
       "    <tr>\n",
       "      <th>0</th>\n",
       "      <td>2023_12_14_image_041</td>\n",
       "      <td>0.898528</td>\n",
       "      <td>25.004649</td>\n",
       "      <td>watershed</td>\n",
       "      <td>cytoplasm</td>\n",
       "    </tr>\n",
       "    <tr>\n",
       "      <th>0</th>\n",
       "      <td>2023_12_14_image_040</td>\n",
       "      <td>0.837764</td>\n",
       "      <td>25.454719</td>\n",
       "      <td>watershed</td>\n",
       "      <td>cytoplasm</td>\n",
       "    </tr>\n",
       "    <tr>\n",
       "      <th>0</th>\n",
       "      <td>2023_12_14_image_043</td>\n",
       "      <td>0.824692</td>\n",
       "      <td>26.844102</td>\n",
       "      <td>watershed</td>\n",
       "      <td>cytoplasm</td>\n",
       "    </tr>\n",
       "    <tr>\n",
       "      <th>0</th>\n",
       "      <td>2023_12_14_image_005</td>\n",
       "      <td>0.801802</td>\n",
       "      <td>27.383406</td>\n",
       "      <td>watershed</td>\n",
       "      <td>cytoplasm</td>\n",
       "    </tr>\n",
       "    <tr>\n",
       "      <th>0</th>\n",
       "      <td>2023_12_14_image_029</td>\n",
       "      <td>0.869673</td>\n",
       "      <td>27.395784</td>\n",
       "      <td>watershed</td>\n",
       "      <td>cytoplasm</td>\n",
       "    </tr>\n",
       "    <tr>\n",
       "      <th>0</th>\n",
       "      <td>2023_12_14_image_027</td>\n",
       "      <td>0.946670</td>\n",
       "      <td>27.780439</td>\n",
       "      <td>watershed</td>\n",
       "      <td>cytoplasm</td>\n",
       "    </tr>\n",
       "    <tr>\n",
       "      <th>0</th>\n",
       "      <td>2023_12_14_image_039</td>\n",
       "      <td>0.855329</td>\n",
       "      <td>27.224938</td>\n",
       "      <td>watershed</td>\n",
       "      <td>cytoplasm</td>\n",
       "    </tr>\n",
       "    <tr>\n",
       "      <th>0</th>\n",
       "      <td>2023_12_14_image_037</td>\n",
       "      <td>0.849223</td>\n",
       "      <td>27.892085</td>\n",
       "      <td>watershed</td>\n",
       "      <td>cytoplasm</td>\n",
       "    </tr>\n",
       "    <tr>\n",
       "      <th>0</th>\n",
       "      <td>2023_12_14_image_045</td>\n",
       "      <td>0.797533</td>\n",
       "      <td>28.208415</td>\n",
       "      <td>watershed</td>\n",
       "      <td>cytoplasm</td>\n",
       "    </tr>\n",
       "    <tr>\n",
       "      <th>0</th>\n",
       "      <td>2023_12_14_image_000</td>\n",
       "      <td>0.893781</td>\n",
       "      <td>28.865014</td>\n",
       "      <td>watershed</td>\n",
       "      <td>cytoplasm</td>\n",
       "    </tr>\n",
       "    <tr>\n",
       "      <th>0</th>\n",
       "      <td>2023_12_14_image_015</td>\n",
       "      <td>0.884230</td>\n",
       "      <td>29.784028</td>\n",
       "      <td>watershed</td>\n",
       "      <td>cytoplasm</td>\n",
       "    </tr>\n",
       "    <tr>\n",
       "      <th>0</th>\n",
       "      <td>2023_12_14_image_017</td>\n",
       "      <td>0.874752</td>\n",
       "      <td>28.578005</td>\n",
       "      <td>watershed</td>\n",
       "      <td>cytoplasm</td>\n",
       "    </tr>\n",
       "    <tr>\n",
       "      <th>0</th>\n",
       "      <td>2023_12_14_image_003</td>\n",
       "      <td>0.784606</td>\n",
       "      <td>29.901289</td>\n",
       "      <td>watershed</td>\n",
       "      <td>cytoplasm</td>\n",
       "    </tr>\n",
       "    <tr>\n",
       "      <th>0</th>\n",
       "      <td>2023_12_14_image_022</td>\n",
       "      <td>0.880152</td>\n",
       "      <td>31.182254</td>\n",
       "      <td>watershed</td>\n",
       "      <td>cytoplasm</td>\n",
       "    </tr>\n",
       "    <tr>\n",
       "      <th>0</th>\n",
       "      <td>2023_12_14_image_044</td>\n",
       "      <td>0.939873</td>\n",
       "      <td>27.727002</td>\n",
       "      <td>watershed</td>\n",
       "      <td>cytoplasm</td>\n",
       "    </tr>\n",
       "    <tr>\n",
       "      <th>0</th>\n",
       "      <td>2023_12_14_image_002</td>\n",
       "      <td>0.874378</td>\n",
       "      <td>30.943515</td>\n",
       "      <td>watershed</td>\n",
       "      <td>cytoplasm</td>\n",
       "    </tr>\n",
       "    <tr>\n",
       "      <th>0</th>\n",
       "      <td>2023_12_14_image_036</td>\n",
       "      <td>0.862731</td>\n",
       "      <td>32.001654</td>\n",
       "      <td>watershed</td>\n",
       "      <td>cytoplasm</td>\n",
       "    </tr>\n",
       "    <tr>\n",
       "      <th>0</th>\n",
       "      <td>2023_12_14_image_009</td>\n",
       "      <td>0.884160</td>\n",
       "      <td>27.710974</td>\n",
       "      <td>watershed</td>\n",
       "      <td>cytoplasm</td>\n",
       "    </tr>\n",
       "    <tr>\n",
       "      <th>0</th>\n",
       "      <td>2023_12_14_image_047</td>\n",
       "      <td>0.876809</td>\n",
       "      <td>28.194093</td>\n",
       "      <td>watershed</td>\n",
       "      <td>cytoplasm</td>\n",
       "    </tr>\n",
       "    <tr>\n",
       "      <th>0</th>\n",
       "      <td>2023_12_14_image_018</td>\n",
       "      <td>0.879311</td>\n",
       "      <td>29.498460</td>\n",
       "      <td>watershed</td>\n",
       "      <td>cytoplasm</td>\n",
       "    </tr>\n",
       "    <tr>\n",
       "      <th>0</th>\n",
       "      <td>2023_12_14_image_032</td>\n",
       "      <td>0.792516</td>\n",
       "      <td>27.385380</td>\n",
       "      <td>watershed</td>\n",
       "      <td>cytoplasm</td>\n",
       "    </tr>\n",
       "    <tr>\n",
       "      <th>0</th>\n",
       "      <td>2023_12_14_image_004</td>\n",
       "      <td>0.890388</td>\n",
       "      <td>27.516791</td>\n",
       "      <td>watershed</td>\n",
       "      <td>cytoplasm</td>\n",
       "    </tr>\n",
       "    <tr>\n",
       "      <th>0</th>\n",
       "      <td>2023_12_14_image_019</td>\n",
       "      <td>0.898737</td>\n",
       "      <td>28.065096</td>\n",
       "      <td>watershed</td>\n",
       "      <td>cytoplasm</td>\n",
       "    </tr>\n",
       "    <tr>\n",
       "      <th>0</th>\n",
       "      <td>2023_12_14_image_010</td>\n",
       "      <td>0.894614</td>\n",
       "      <td>27.173344</td>\n",
       "      <td>watershed</td>\n",
       "      <td>cytoplasm</td>\n",
       "    </tr>\n",
       "    <tr>\n",
       "      <th>0</th>\n",
       "      <td>2023_12_14_image_013</td>\n",
       "      <td>0.835425</td>\n",
       "      <td>27.779451</td>\n",
       "      <td>watershed</td>\n",
       "      <td>cytoplasm</td>\n",
       "    </tr>\n",
       "    <tr>\n",
       "      <th>0</th>\n",
       "      <td>2023_12_14_image_011</td>\n",
       "      <td>0.845461</td>\n",
       "      <td>30.940421</td>\n",
       "      <td>watershed</td>\n",
       "      <td>cytoplasm</td>\n",
       "    </tr>\n",
       "    <tr>\n",
       "      <th>0</th>\n",
       "      <td>2023_12_14_image_049</td>\n",
       "      <td>0.874719</td>\n",
       "      <td>26.822756</td>\n",
       "      <td>watershed</td>\n",
       "      <td>cytoplasm</td>\n",
       "    </tr>\n",
       "    <tr>\n",
       "      <th>0</th>\n",
       "      <td>2023_12_14_image_006</td>\n",
       "      <td>0.786814</td>\n",
       "      <td>27.326902</td>\n",
       "      <td>watershed</td>\n",
       "      <td>cytoplasm</td>\n",
       "    </tr>\n",
       "    <tr>\n",
       "      <th>0</th>\n",
       "      <td>2023_12_14_image_030</td>\n",
       "      <td>0.927851</td>\n",
       "      <td>27.992044</td>\n",
       "      <td>watershed</td>\n",
       "      <td>cytoplasm</td>\n",
       "    </tr>\n",
       "    <tr>\n",
       "      <th>0</th>\n",
       "      <td>2023_12_14_image_028</td>\n",
       "      <td>0.834987</td>\n",
       "      <td>29.125722</td>\n",
       "      <td>watershed</td>\n",
       "      <td>cytoplasm</td>\n",
       "    </tr>\n",
       "    <tr>\n",
       "      <th>0</th>\n",
       "      <td>2023_12_14_image_012</td>\n",
       "      <td>0.854163</td>\n",
       "      <td>27.735923</td>\n",
       "      <td>watershed</td>\n",
       "      <td>cytoplasm</td>\n",
       "    </tr>\n",
       "    <tr>\n",
       "      <th>0</th>\n",
       "      <td>2023_12_14_image_042</td>\n",
       "      <td>0.845115</td>\n",
       "      <td>27.498700</td>\n",
       "      <td>watershed</td>\n",
       "      <td>cytoplasm</td>\n",
       "    </tr>\n",
       "    <tr>\n",
       "      <th>0</th>\n",
       "      <td>2023_12_14_image_025</td>\n",
       "      <td>0.930497</td>\n",
       "      <td>27.806148</td>\n",
       "      <td>watershed</td>\n",
       "      <td>cytoplasm</td>\n",
       "    </tr>\n",
       "    <tr>\n",
       "      <th>0</th>\n",
       "      <td>2023_12_14_image_023</td>\n",
       "      <td>0.887422</td>\n",
       "      <td>27.210143</td>\n",
       "      <td>watershed</td>\n",
       "      <td>cytoplasm</td>\n",
       "    </tr>\n",
       "    <tr>\n",
       "      <th>0</th>\n",
       "      <td>2023_12_14_image_038</td>\n",
       "      <td>0.881771</td>\n",
       "      <td>27.054994</td>\n",
       "      <td>watershed</td>\n",
       "      <td>cytoplasm</td>\n",
       "    </tr>\n",
       "    <tr>\n",
       "      <th>0</th>\n",
       "      <td>2023_12_14_image_048</td>\n",
       "      <td>0.862956</td>\n",
       "      <td>27.773411</td>\n",
       "      <td>watershed</td>\n",
       "      <td>cytoplasm</td>\n",
       "    </tr>\n",
       "    <tr>\n",
       "      <th>0</th>\n",
       "      <td>2023_12_14_image_046</td>\n",
       "      <td>0.884734</td>\n",
       "      <td>27.649667</td>\n",
       "      <td>watershed</td>\n",
       "      <td>cytoplasm</td>\n",
       "    </tr>\n",
       "    <tr>\n",
       "      <th>0</th>\n",
       "      <td>2023_12_14_image_021</td>\n",
       "      <td>0.824888</td>\n",
       "      <td>27.399137</td>\n",
       "      <td>watershed</td>\n",
       "      <td>cytoplasm</td>\n",
       "    </tr>\n",
       "    <tr>\n",
       "      <th>0</th>\n",
       "      <td>2023_12_14_image_001</td>\n",
       "      <td>0.897278</td>\n",
       "      <td>27.440097</td>\n",
       "      <td>watershed</td>\n",
       "      <td>cytoplasm</td>\n",
       "    </tr>\n",
       "    <tr>\n",
       "      <th>0</th>\n",
       "      <td>2023_12_14_image_020</td>\n",
       "      <td>0.768460</td>\n",
       "      <td>27.488626</td>\n",
       "      <td>watershed</td>\n",
       "      <td>cytoplasm</td>\n",
       "    </tr>\n",
       "    <tr>\n",
       "      <th>0</th>\n",
       "      <td>2023_12_14_image_016</td>\n",
       "      <td>0.857391</td>\n",
       "      <td>27.919118</td>\n",
       "      <td>watershed</td>\n",
       "      <td>cytoplasm</td>\n",
       "    </tr>\n",
       "    <tr>\n",
       "      <th>0</th>\n",
       "      <td>2023_12_14_image_014</td>\n",
       "      <td>0.881681</td>\n",
       "      <td>29.519337</td>\n",
       "      <td>watershed</td>\n",
       "      <td>cytoplasm</td>\n",
       "    </tr>\n",
       "    <tr>\n",
       "      <th>0</th>\n",
       "      <td>2023_12_14_image_035</td>\n",
       "      <td>0.862532</td>\n",
       "      <td>30.463756</td>\n",
       "      <td>watershed</td>\n",
       "      <td>cytoplasm</td>\n",
       "    </tr>\n",
       "    <tr>\n",
       "      <th>0</th>\n",
       "      <td>2023_12_14_image_031</td>\n",
       "      <td>0.852934</td>\n",
       "      <td>27.695562</td>\n",
       "      <td>watershed</td>\n",
       "      <td>cytoplasm</td>\n",
       "    </tr>\n",
       "    <tr>\n",
       "      <th>0</th>\n",
       "      <td>2023_12_14_image_026</td>\n",
       "      <td>0.959843</td>\n",
       "      <td>27.790248</td>\n",
       "      <td>watershed</td>\n",
       "      <td>cytoplasm</td>\n",
       "    </tr>\n",
       "    <tr>\n",
       "      <th>0</th>\n",
       "      <td>2023_12_14_image_008</td>\n",
       "      <td>0.896072</td>\n",
       "      <td>28.730673</td>\n",
       "      <td>watershed</td>\n",
       "      <td>cytoplasm</td>\n",
       "    </tr>\n",
       "    <tr>\n",
       "      <th>0</th>\n",
       "      <td>2023_12_14_image_024</td>\n",
       "      <td>0.916499</td>\n",
       "      <td>28.013731</td>\n",
       "      <td>watershed</td>\n",
       "      <td>cytoplasm</td>\n",
       "    </tr>\n",
       "    <tr>\n",
       "      <th>0</th>\n",
       "      <td>2023_12_14_image_007</td>\n",
       "      <td>0.853818</td>\n",
       "      <td>27.754275</td>\n",
       "      <td>watershed</td>\n",
       "      <td>cytoplasm</td>\n",
       "    </tr>\n",
       "    <tr>\n",
       "      <th>0</th>\n",
       "      <td>2023_12_14_image_034</td>\n",
       "      <td>0.811198</td>\n",
       "      <td>27.608649</td>\n",
       "      <td>watershed</td>\n",
       "      <td>cytoplasm</td>\n",
       "    </tr>\n",
       "    <tr>\n",
       "      <th>0</th>\n",
       "      <td>2023_12_14_image_033</td>\n",
       "      <td>0.856772</td>\n",
       "      <td>27.749162</td>\n",
       "      <td>watershed</td>\n",
       "      <td>cytoplasm</td>\n",
       "    </tr>\n",
       "  </tbody>\n",
       "</table>\n",
       "</div>"
      ],
      "text/plain": [
       "                  image        F1       time     method       type\n",
       "0  2023_12_14_image_041  0.898528  25.004649  watershed  cytoplasm\n",
       "0  2023_12_14_image_040  0.837764  25.454719  watershed  cytoplasm\n",
       "0  2023_12_14_image_043  0.824692  26.844102  watershed  cytoplasm\n",
       "0  2023_12_14_image_005  0.801802  27.383406  watershed  cytoplasm\n",
       "0  2023_12_14_image_029  0.869673  27.395784  watershed  cytoplasm\n",
       "0  2023_12_14_image_027  0.946670  27.780439  watershed  cytoplasm\n",
       "0  2023_12_14_image_039  0.855329  27.224938  watershed  cytoplasm\n",
       "0  2023_12_14_image_037  0.849223  27.892085  watershed  cytoplasm\n",
       "0  2023_12_14_image_045  0.797533  28.208415  watershed  cytoplasm\n",
       "0  2023_12_14_image_000  0.893781  28.865014  watershed  cytoplasm\n",
       "0  2023_12_14_image_015  0.884230  29.784028  watershed  cytoplasm\n",
       "0  2023_12_14_image_017  0.874752  28.578005  watershed  cytoplasm\n",
       "0  2023_12_14_image_003  0.784606  29.901289  watershed  cytoplasm\n",
       "0  2023_12_14_image_022  0.880152  31.182254  watershed  cytoplasm\n",
       "0  2023_12_14_image_044  0.939873  27.727002  watershed  cytoplasm\n",
       "0  2023_12_14_image_002  0.874378  30.943515  watershed  cytoplasm\n",
       "0  2023_12_14_image_036  0.862731  32.001654  watershed  cytoplasm\n",
       "0  2023_12_14_image_009  0.884160  27.710974  watershed  cytoplasm\n",
       "0  2023_12_14_image_047  0.876809  28.194093  watershed  cytoplasm\n",
       "0  2023_12_14_image_018  0.879311  29.498460  watershed  cytoplasm\n",
       "0  2023_12_14_image_032  0.792516  27.385380  watershed  cytoplasm\n",
       "0  2023_12_14_image_004  0.890388  27.516791  watershed  cytoplasm\n",
       "0  2023_12_14_image_019  0.898737  28.065096  watershed  cytoplasm\n",
       "0  2023_12_14_image_010  0.894614  27.173344  watershed  cytoplasm\n",
       "0  2023_12_14_image_013  0.835425  27.779451  watershed  cytoplasm\n",
       "0  2023_12_14_image_011  0.845461  30.940421  watershed  cytoplasm\n",
       "0  2023_12_14_image_049  0.874719  26.822756  watershed  cytoplasm\n",
       "0  2023_12_14_image_006  0.786814  27.326902  watershed  cytoplasm\n",
       "0  2023_12_14_image_030  0.927851  27.992044  watershed  cytoplasm\n",
       "0  2023_12_14_image_028  0.834987  29.125722  watershed  cytoplasm\n",
       "0  2023_12_14_image_012  0.854163  27.735923  watershed  cytoplasm\n",
       "0  2023_12_14_image_042  0.845115  27.498700  watershed  cytoplasm\n",
       "0  2023_12_14_image_025  0.930497  27.806148  watershed  cytoplasm\n",
       "0  2023_12_14_image_023  0.887422  27.210143  watershed  cytoplasm\n",
       "0  2023_12_14_image_038  0.881771  27.054994  watershed  cytoplasm\n",
       "0  2023_12_14_image_048  0.862956  27.773411  watershed  cytoplasm\n",
       "0  2023_12_14_image_046  0.884734  27.649667  watershed  cytoplasm\n",
       "0  2023_12_14_image_021  0.824888  27.399137  watershed  cytoplasm\n",
       "0  2023_12_14_image_001  0.897278  27.440097  watershed  cytoplasm\n",
       "0  2023_12_14_image_020  0.768460  27.488626  watershed  cytoplasm\n",
       "0  2023_12_14_image_016  0.857391  27.919118  watershed  cytoplasm\n",
       "0  2023_12_14_image_014  0.881681  29.519337  watershed  cytoplasm\n",
       "0  2023_12_14_image_035  0.862532  30.463756  watershed  cytoplasm\n",
       "0  2023_12_14_image_031  0.852934  27.695562  watershed  cytoplasm\n",
       "0  2023_12_14_image_026  0.959843  27.790248  watershed  cytoplasm\n",
       "0  2023_12_14_image_008  0.896072  28.730673  watershed  cytoplasm\n",
       "0  2023_12_14_image_024  0.916499  28.013731  watershed  cytoplasm\n",
       "0  2023_12_14_image_007  0.853818  27.754275  watershed  cytoplasm\n",
       "0  2023_12_14_image_034  0.811198  27.608649  watershed  cytoplasm\n",
       "0  2023_12_14_image_033  0.856772  27.749162  watershed  cytoplasm"
      ]
     },
     "execution_count": 23,
     "metadata": {},
     "output_type": "execute_result"
    }
   ],
   "source": [
    "results_cytoplasm[\"type\"] = \"cytoplasm\"\n",
    "results_cytoplasm"
   ]
  },
  {
   "cell_type": "code",
   "execution_count": 24,
   "metadata": {},
   "outputs": [],
   "source": [
    "results_cytoplasm.to_csv(\"results_cytoplasm.csv\", index=False)"
   ]
  },
  {
   "cell_type": "code",
   "execution_count": 33,
   "metadata": {},
   "outputs": [
    {
     "name": "stdout",
     "output_type": "stream",
     "text": [
      "{'radius': 37, 'percent': 643, 'threshold': 8, 'mask_size': 14, 'iterations': 4, 'min_size': 1}\n"
     ]
    }
   ],
   "source": [
    "from optuna import load_study\n",
    "from cellseg.src.watershed import watershed_cytoplasm\n",
    "import pathlib\n",
    "\n",
    "study = load_study(storage=\"sqlite:///optuna_nucleus.db\", study_name=\"nucleis_segmentation\")\n",
    "params = study.best_params\n",
    "print(params)"
   ]
  },
  {
   "cell_type": "code",
   "execution_count": 34,
   "metadata": {},
   "outputs": [
    {
     "data": {
      "text/html": [
       "<pre style=\"white-space:pre;overflow-x:auto;line-height:normal;font-family:Menlo,'DejaVu Sans Mono',consolas,'Courier New',monospace\"><span style=\"color: #808000; text-decoration-color: #808000\">╭─── Nucleus segmentation ────╮</span>\n",
       "<span style=\"color: #808000; text-decoration-color: #808000\">│</span> Segmentation started!       <span style=\"color: #808000; text-decoration-color: #808000\">│</span>\n",
       "<span style=\"color: #808000; text-decoration-color: #808000\">│</span>                             <span style=\"color: #808000; text-decoration-color: #808000\">│</span>\n",
       "<span style=\"color: #808000; text-decoration-color: #808000\">│</span> Image: 2023_12_14_image_041 <span style=\"color: #808000; text-decoration-color: #808000\">│</span>\n",
       "<span style=\"color: #808000; text-decoration-color: #808000\">│</span>                             <span style=\"color: #808000; text-decoration-color: #808000\">│</span>\n",
       "<span style=\"color: #808000; text-decoration-color: #808000\">╰─────────────────────────────╯</span>\n",
       "</pre>\n"
      ],
      "text/plain": [
       "\u001b[33m╭─\u001b[0m\u001b[33m──\u001b[0m\u001b[33m Nucleus segmentation \u001b[0m\u001b[33m───\u001b[0m\u001b[33m─╮\u001b[0m\n",
       "\u001b[33m│\u001b[0m Segmentation started!       \u001b[33m│\u001b[0m\n",
       "\u001b[33m│\u001b[0m                             \u001b[33m│\u001b[0m\n",
       "\u001b[33m│\u001b[0m Image: 2023_12_14_image_041 \u001b[33m│\u001b[0m\n",
       "\u001b[33m│\u001b[0m                             \u001b[33m│\u001b[0m\n",
       "\u001b[33m╰─────────────────────────────╯\u001b[0m\n"
      ]
     },
     "metadata": {},
     "output_type": "display_data"
    },
    {
     "name": "stderr",
     "output_type": "stream",
     "text": [
      "/tmp/ipykernel_653001/4026443233.py:30: FutureWarning: The behavior of DataFrame concatenation with empty or all-NA entries is deprecated. In a future version, this will no longer exclude empty or all-NA columns when determining the result dtypes. To retain the old behavior, exclude the relevant entries before the concat operation.\n",
      "  results_nucleus = pd.concat([results_nucleus, pd.DataFrame({\"image\": [img_name], \"F1\": [f1], \"time\": [t], \"method\": [\"watershed\"]})])\n"
     ]
    },
    {
     "data": {
      "text/html": [
       "<pre style=\"white-space:pre;overflow-x:auto;line-height:normal;font-family:Menlo,'DejaVu Sans Mono',consolas,'Courier New',monospace\"><span style=\"color: #808000; text-decoration-color: #808000\">╭─── Nucleus segmentation ────╮</span>\n",
       "<span style=\"color: #808000; text-decoration-color: #808000\">│</span> Segmentation started!       <span style=\"color: #808000; text-decoration-color: #808000\">│</span>\n",
       "<span style=\"color: #808000; text-decoration-color: #808000\">│</span>                             <span style=\"color: #808000; text-decoration-color: #808000\">│</span>\n",
       "<span style=\"color: #808000; text-decoration-color: #808000\">│</span> Image: 2023_12_14_image_040 <span style=\"color: #808000; text-decoration-color: #808000\">│</span>\n",
       "<span style=\"color: #808000; text-decoration-color: #808000\">│</span>                             <span style=\"color: #808000; text-decoration-color: #808000\">│</span>\n",
       "<span style=\"color: #808000; text-decoration-color: #808000\">╰─────────────────────────────╯</span>\n",
       "</pre>\n"
      ],
      "text/plain": [
       "\u001b[33m╭─\u001b[0m\u001b[33m──\u001b[0m\u001b[33m Nucleus segmentation \u001b[0m\u001b[33m───\u001b[0m\u001b[33m─╮\u001b[0m\n",
       "\u001b[33m│\u001b[0m Segmentation started!       \u001b[33m│\u001b[0m\n",
       "\u001b[33m│\u001b[0m                             \u001b[33m│\u001b[0m\n",
       "\u001b[33m│\u001b[0m Image: 2023_12_14_image_040 \u001b[33m│\u001b[0m\n",
       "\u001b[33m│\u001b[0m                             \u001b[33m│\u001b[0m\n",
       "\u001b[33m╰─────────────────────────────╯\u001b[0m\n"
      ]
     },
     "metadata": {},
     "output_type": "display_data"
    },
    {
     "data": {
      "text/html": [
       "<pre style=\"white-space:pre;overflow-x:auto;line-height:normal;font-family:Menlo,'DejaVu Sans Mono',consolas,'Courier New',monospace\"><span style=\"color: #808000; text-decoration-color: #808000\">╭─── Nucleus segmentation ────╮</span>\n",
       "<span style=\"color: #808000; text-decoration-color: #808000\">│</span> Segmentation started!       <span style=\"color: #808000; text-decoration-color: #808000\">│</span>\n",
       "<span style=\"color: #808000; text-decoration-color: #808000\">│</span>                             <span style=\"color: #808000; text-decoration-color: #808000\">│</span>\n",
       "<span style=\"color: #808000; text-decoration-color: #808000\">│</span> Image: 2023_12_14_image_043 <span style=\"color: #808000; text-decoration-color: #808000\">│</span>\n",
       "<span style=\"color: #808000; text-decoration-color: #808000\">│</span>                             <span style=\"color: #808000; text-decoration-color: #808000\">│</span>\n",
       "<span style=\"color: #808000; text-decoration-color: #808000\">╰─────────────────────────────╯</span>\n",
       "</pre>\n"
      ],
      "text/plain": [
       "\u001b[33m╭─\u001b[0m\u001b[33m──\u001b[0m\u001b[33m Nucleus segmentation \u001b[0m\u001b[33m───\u001b[0m\u001b[33m─╮\u001b[0m\n",
       "\u001b[33m│\u001b[0m Segmentation started!       \u001b[33m│\u001b[0m\n",
       "\u001b[33m│\u001b[0m                             \u001b[33m│\u001b[0m\n",
       "\u001b[33m│\u001b[0m Image: 2023_12_14_image_043 \u001b[33m│\u001b[0m\n",
       "\u001b[33m│\u001b[0m                             \u001b[33m│\u001b[0m\n",
       "\u001b[33m╰─────────────────────────────╯\u001b[0m\n"
      ]
     },
     "metadata": {},
     "output_type": "display_data"
    },
    {
     "data": {
      "text/html": [
       "<pre style=\"white-space:pre;overflow-x:auto;line-height:normal;font-family:Menlo,'DejaVu Sans Mono',consolas,'Courier New',monospace\"><span style=\"color: #808000; text-decoration-color: #808000\">╭─── Nucleus segmentation ────╮</span>\n",
       "<span style=\"color: #808000; text-decoration-color: #808000\">│</span> Segmentation started!       <span style=\"color: #808000; text-decoration-color: #808000\">│</span>\n",
       "<span style=\"color: #808000; text-decoration-color: #808000\">│</span>                             <span style=\"color: #808000; text-decoration-color: #808000\">│</span>\n",
       "<span style=\"color: #808000; text-decoration-color: #808000\">│</span> Image: 2023_12_14_image_005 <span style=\"color: #808000; text-decoration-color: #808000\">│</span>\n",
       "<span style=\"color: #808000; text-decoration-color: #808000\">│</span>                             <span style=\"color: #808000; text-decoration-color: #808000\">│</span>\n",
       "<span style=\"color: #808000; text-decoration-color: #808000\">╰─────────────────────────────╯</span>\n",
       "</pre>\n"
      ],
      "text/plain": [
       "\u001b[33m╭─\u001b[0m\u001b[33m──\u001b[0m\u001b[33m Nucleus segmentation \u001b[0m\u001b[33m───\u001b[0m\u001b[33m─╮\u001b[0m\n",
       "\u001b[33m│\u001b[0m Segmentation started!       \u001b[33m│\u001b[0m\n",
       "\u001b[33m│\u001b[0m                             \u001b[33m│\u001b[0m\n",
       "\u001b[33m│\u001b[0m Image: 2023_12_14_image_005 \u001b[33m│\u001b[0m\n",
       "\u001b[33m│\u001b[0m                             \u001b[33m│\u001b[0m\n",
       "\u001b[33m╰─────────────────────────────╯\u001b[0m\n"
      ]
     },
     "metadata": {},
     "output_type": "display_data"
    },
    {
     "data": {
      "text/html": [
       "<pre style=\"white-space:pre;overflow-x:auto;line-height:normal;font-family:Menlo,'DejaVu Sans Mono',consolas,'Courier New',monospace\"><span style=\"color: #808000; text-decoration-color: #808000\">╭─── Nucleus segmentation ────╮</span>\n",
       "<span style=\"color: #808000; text-decoration-color: #808000\">│</span> Segmentation started!       <span style=\"color: #808000; text-decoration-color: #808000\">│</span>\n",
       "<span style=\"color: #808000; text-decoration-color: #808000\">│</span>                             <span style=\"color: #808000; text-decoration-color: #808000\">│</span>\n",
       "<span style=\"color: #808000; text-decoration-color: #808000\">│</span> Image: 2023_12_14_image_029 <span style=\"color: #808000; text-decoration-color: #808000\">│</span>\n",
       "<span style=\"color: #808000; text-decoration-color: #808000\">│</span>                             <span style=\"color: #808000; text-decoration-color: #808000\">│</span>\n",
       "<span style=\"color: #808000; text-decoration-color: #808000\">╰─────────────────────────────╯</span>\n",
       "</pre>\n"
      ],
      "text/plain": [
       "\u001b[33m╭─\u001b[0m\u001b[33m──\u001b[0m\u001b[33m Nucleus segmentation \u001b[0m\u001b[33m───\u001b[0m\u001b[33m─╮\u001b[0m\n",
       "\u001b[33m│\u001b[0m Segmentation started!       \u001b[33m│\u001b[0m\n",
       "\u001b[33m│\u001b[0m                             \u001b[33m│\u001b[0m\n",
       "\u001b[33m│\u001b[0m Image: 2023_12_14_image_029 \u001b[33m│\u001b[0m\n",
       "\u001b[33m│\u001b[0m                             \u001b[33m│\u001b[0m\n",
       "\u001b[33m╰─────────────────────────────╯\u001b[0m\n"
      ]
     },
     "metadata": {},
     "output_type": "display_data"
    },
    {
     "data": {
      "text/html": [
       "<pre style=\"white-space:pre;overflow-x:auto;line-height:normal;font-family:Menlo,'DejaVu Sans Mono',consolas,'Courier New',monospace\"><span style=\"color: #808000; text-decoration-color: #808000\">╭─── Nucleus segmentation ────╮</span>\n",
       "<span style=\"color: #808000; text-decoration-color: #808000\">│</span> Segmentation started!       <span style=\"color: #808000; text-decoration-color: #808000\">│</span>\n",
       "<span style=\"color: #808000; text-decoration-color: #808000\">│</span>                             <span style=\"color: #808000; text-decoration-color: #808000\">│</span>\n",
       "<span style=\"color: #808000; text-decoration-color: #808000\">│</span> Image: 2023_12_14_image_027 <span style=\"color: #808000; text-decoration-color: #808000\">│</span>\n",
       "<span style=\"color: #808000; text-decoration-color: #808000\">│</span>                             <span style=\"color: #808000; text-decoration-color: #808000\">│</span>\n",
       "<span style=\"color: #808000; text-decoration-color: #808000\">╰─────────────────────────────╯</span>\n",
       "</pre>\n"
      ],
      "text/plain": [
       "\u001b[33m╭─\u001b[0m\u001b[33m──\u001b[0m\u001b[33m Nucleus segmentation \u001b[0m\u001b[33m───\u001b[0m\u001b[33m─╮\u001b[0m\n",
       "\u001b[33m│\u001b[0m Segmentation started!       \u001b[33m│\u001b[0m\n",
       "\u001b[33m│\u001b[0m                             \u001b[33m│\u001b[0m\n",
       "\u001b[33m│\u001b[0m Image: 2023_12_14_image_027 \u001b[33m│\u001b[0m\n",
       "\u001b[33m│\u001b[0m                             \u001b[33m│\u001b[0m\n",
       "\u001b[33m╰─────────────────────────────╯\u001b[0m\n"
      ]
     },
     "metadata": {},
     "output_type": "display_data"
    },
    {
     "data": {
      "text/html": [
       "<pre style=\"white-space:pre;overflow-x:auto;line-height:normal;font-family:Menlo,'DejaVu Sans Mono',consolas,'Courier New',monospace\"><span style=\"color: #808000; text-decoration-color: #808000\">╭─── Nucleus segmentation ────╮</span>\n",
       "<span style=\"color: #808000; text-decoration-color: #808000\">│</span> Segmentation started!       <span style=\"color: #808000; text-decoration-color: #808000\">│</span>\n",
       "<span style=\"color: #808000; text-decoration-color: #808000\">│</span>                             <span style=\"color: #808000; text-decoration-color: #808000\">│</span>\n",
       "<span style=\"color: #808000; text-decoration-color: #808000\">│</span> Image: 2023_12_14_image_039 <span style=\"color: #808000; text-decoration-color: #808000\">│</span>\n",
       "<span style=\"color: #808000; text-decoration-color: #808000\">│</span>                             <span style=\"color: #808000; text-decoration-color: #808000\">│</span>\n",
       "<span style=\"color: #808000; text-decoration-color: #808000\">╰─────────────────────────────╯</span>\n",
       "</pre>\n"
      ],
      "text/plain": [
       "\u001b[33m╭─\u001b[0m\u001b[33m──\u001b[0m\u001b[33m Nucleus segmentation \u001b[0m\u001b[33m───\u001b[0m\u001b[33m─╮\u001b[0m\n",
       "\u001b[33m│\u001b[0m Segmentation started!       \u001b[33m│\u001b[0m\n",
       "\u001b[33m│\u001b[0m                             \u001b[33m│\u001b[0m\n",
       "\u001b[33m│\u001b[0m Image: 2023_12_14_image_039 \u001b[33m│\u001b[0m\n",
       "\u001b[33m│\u001b[0m                             \u001b[33m│\u001b[0m\n",
       "\u001b[33m╰─────────────────────────────╯\u001b[0m\n"
      ]
     },
     "metadata": {},
     "output_type": "display_data"
    },
    {
     "data": {
      "text/html": [
       "<pre style=\"white-space:pre;overflow-x:auto;line-height:normal;font-family:Menlo,'DejaVu Sans Mono',consolas,'Courier New',monospace\"><span style=\"color: #808000; text-decoration-color: #808000\">╭─── Nucleus segmentation ────╮</span>\n",
       "<span style=\"color: #808000; text-decoration-color: #808000\">│</span> Segmentation started!       <span style=\"color: #808000; text-decoration-color: #808000\">│</span>\n",
       "<span style=\"color: #808000; text-decoration-color: #808000\">│</span>                             <span style=\"color: #808000; text-decoration-color: #808000\">│</span>\n",
       "<span style=\"color: #808000; text-decoration-color: #808000\">│</span> Image: 2023_12_14_image_037 <span style=\"color: #808000; text-decoration-color: #808000\">│</span>\n",
       "<span style=\"color: #808000; text-decoration-color: #808000\">│</span>                             <span style=\"color: #808000; text-decoration-color: #808000\">│</span>\n",
       "<span style=\"color: #808000; text-decoration-color: #808000\">╰─────────────────────────────╯</span>\n",
       "</pre>\n"
      ],
      "text/plain": [
       "\u001b[33m╭─\u001b[0m\u001b[33m──\u001b[0m\u001b[33m Nucleus segmentation \u001b[0m\u001b[33m───\u001b[0m\u001b[33m─╮\u001b[0m\n",
       "\u001b[33m│\u001b[0m Segmentation started!       \u001b[33m│\u001b[0m\n",
       "\u001b[33m│\u001b[0m                             \u001b[33m│\u001b[0m\n",
       "\u001b[33m│\u001b[0m Image: 2023_12_14_image_037 \u001b[33m│\u001b[0m\n",
       "\u001b[33m│\u001b[0m                             \u001b[33m│\u001b[0m\n",
       "\u001b[33m╰─────────────────────────────╯\u001b[0m\n"
      ]
     },
     "metadata": {},
     "output_type": "display_data"
    },
    {
     "data": {
      "text/html": [
       "<pre style=\"white-space:pre;overflow-x:auto;line-height:normal;font-family:Menlo,'DejaVu Sans Mono',consolas,'Courier New',monospace\"><span style=\"color: #808000; text-decoration-color: #808000\">╭─── Nucleus segmentation ────╮</span>\n",
       "<span style=\"color: #808000; text-decoration-color: #808000\">│</span> Segmentation started!       <span style=\"color: #808000; text-decoration-color: #808000\">│</span>\n",
       "<span style=\"color: #808000; text-decoration-color: #808000\">│</span>                             <span style=\"color: #808000; text-decoration-color: #808000\">│</span>\n",
       "<span style=\"color: #808000; text-decoration-color: #808000\">│</span> Image: 2023_12_14_image_045 <span style=\"color: #808000; text-decoration-color: #808000\">│</span>\n",
       "<span style=\"color: #808000; text-decoration-color: #808000\">│</span>                             <span style=\"color: #808000; text-decoration-color: #808000\">│</span>\n",
       "<span style=\"color: #808000; text-decoration-color: #808000\">╰─────────────────────────────╯</span>\n",
       "</pre>\n"
      ],
      "text/plain": [
       "\u001b[33m╭─\u001b[0m\u001b[33m──\u001b[0m\u001b[33m Nucleus segmentation \u001b[0m\u001b[33m───\u001b[0m\u001b[33m─╮\u001b[0m\n",
       "\u001b[33m│\u001b[0m Segmentation started!       \u001b[33m│\u001b[0m\n",
       "\u001b[33m│\u001b[0m                             \u001b[33m│\u001b[0m\n",
       "\u001b[33m│\u001b[0m Image: 2023_12_14_image_045 \u001b[33m│\u001b[0m\n",
       "\u001b[33m│\u001b[0m                             \u001b[33m│\u001b[0m\n",
       "\u001b[33m╰─────────────────────────────╯\u001b[0m\n"
      ]
     },
     "metadata": {},
     "output_type": "display_data"
    },
    {
     "data": {
      "text/html": [
       "<pre style=\"white-space:pre;overflow-x:auto;line-height:normal;font-family:Menlo,'DejaVu Sans Mono',consolas,'Courier New',monospace\"><span style=\"color: #808000; text-decoration-color: #808000\">╭─── Nucleus segmentation ────╮</span>\n",
       "<span style=\"color: #808000; text-decoration-color: #808000\">│</span> Segmentation started!       <span style=\"color: #808000; text-decoration-color: #808000\">│</span>\n",
       "<span style=\"color: #808000; text-decoration-color: #808000\">│</span>                             <span style=\"color: #808000; text-decoration-color: #808000\">│</span>\n",
       "<span style=\"color: #808000; text-decoration-color: #808000\">│</span> Image: 2023_12_14_image_000 <span style=\"color: #808000; text-decoration-color: #808000\">│</span>\n",
       "<span style=\"color: #808000; text-decoration-color: #808000\">│</span>                             <span style=\"color: #808000; text-decoration-color: #808000\">│</span>\n",
       "<span style=\"color: #808000; text-decoration-color: #808000\">╰─────────────────────────────╯</span>\n",
       "</pre>\n"
      ],
      "text/plain": [
       "\u001b[33m╭─\u001b[0m\u001b[33m──\u001b[0m\u001b[33m Nucleus segmentation \u001b[0m\u001b[33m───\u001b[0m\u001b[33m─╮\u001b[0m\n",
       "\u001b[33m│\u001b[0m Segmentation started!       \u001b[33m│\u001b[0m\n",
       "\u001b[33m│\u001b[0m                             \u001b[33m│\u001b[0m\n",
       "\u001b[33m│\u001b[0m Image: 2023_12_14_image_000 \u001b[33m│\u001b[0m\n",
       "\u001b[33m│\u001b[0m                             \u001b[33m│\u001b[0m\n",
       "\u001b[33m╰─────────────────────────────╯\u001b[0m\n"
      ]
     },
     "metadata": {},
     "output_type": "display_data"
    },
    {
     "data": {
      "text/html": [
       "<pre style=\"white-space:pre;overflow-x:auto;line-height:normal;font-family:Menlo,'DejaVu Sans Mono',consolas,'Courier New',monospace\"><span style=\"color: #808000; text-decoration-color: #808000\">╭─── Nucleus segmentation ────╮</span>\n",
       "<span style=\"color: #808000; text-decoration-color: #808000\">│</span> Segmentation started!       <span style=\"color: #808000; text-decoration-color: #808000\">│</span>\n",
       "<span style=\"color: #808000; text-decoration-color: #808000\">│</span>                             <span style=\"color: #808000; text-decoration-color: #808000\">│</span>\n",
       "<span style=\"color: #808000; text-decoration-color: #808000\">│</span> Image: 2023_12_14_image_015 <span style=\"color: #808000; text-decoration-color: #808000\">│</span>\n",
       "<span style=\"color: #808000; text-decoration-color: #808000\">│</span>                             <span style=\"color: #808000; text-decoration-color: #808000\">│</span>\n",
       "<span style=\"color: #808000; text-decoration-color: #808000\">╰─────────────────────────────╯</span>\n",
       "</pre>\n"
      ],
      "text/plain": [
       "\u001b[33m╭─\u001b[0m\u001b[33m──\u001b[0m\u001b[33m Nucleus segmentation \u001b[0m\u001b[33m───\u001b[0m\u001b[33m─╮\u001b[0m\n",
       "\u001b[33m│\u001b[0m Segmentation started!       \u001b[33m│\u001b[0m\n",
       "\u001b[33m│\u001b[0m                             \u001b[33m│\u001b[0m\n",
       "\u001b[33m│\u001b[0m Image: 2023_12_14_image_015 \u001b[33m│\u001b[0m\n",
       "\u001b[33m│\u001b[0m                             \u001b[33m│\u001b[0m\n",
       "\u001b[33m╰─────────────────────────────╯\u001b[0m\n"
      ]
     },
     "metadata": {},
     "output_type": "display_data"
    },
    {
     "data": {
      "text/html": [
       "<pre style=\"white-space:pre;overflow-x:auto;line-height:normal;font-family:Menlo,'DejaVu Sans Mono',consolas,'Courier New',monospace\"><span style=\"color: #808000; text-decoration-color: #808000\">╭─── Nucleus segmentation ────╮</span>\n",
       "<span style=\"color: #808000; text-decoration-color: #808000\">│</span> Segmentation started!       <span style=\"color: #808000; text-decoration-color: #808000\">│</span>\n",
       "<span style=\"color: #808000; text-decoration-color: #808000\">│</span>                             <span style=\"color: #808000; text-decoration-color: #808000\">│</span>\n",
       "<span style=\"color: #808000; text-decoration-color: #808000\">│</span> Image: 2023_12_14_image_017 <span style=\"color: #808000; text-decoration-color: #808000\">│</span>\n",
       "<span style=\"color: #808000; text-decoration-color: #808000\">│</span>                             <span style=\"color: #808000; text-decoration-color: #808000\">│</span>\n",
       "<span style=\"color: #808000; text-decoration-color: #808000\">╰─────────────────────────────╯</span>\n",
       "</pre>\n"
      ],
      "text/plain": [
       "\u001b[33m╭─\u001b[0m\u001b[33m──\u001b[0m\u001b[33m Nucleus segmentation \u001b[0m\u001b[33m───\u001b[0m\u001b[33m─╮\u001b[0m\n",
       "\u001b[33m│\u001b[0m Segmentation started!       \u001b[33m│\u001b[0m\n",
       "\u001b[33m│\u001b[0m                             \u001b[33m│\u001b[0m\n",
       "\u001b[33m│\u001b[0m Image: 2023_12_14_image_017 \u001b[33m│\u001b[0m\n",
       "\u001b[33m│\u001b[0m                             \u001b[33m│\u001b[0m\n",
       "\u001b[33m╰─────────────────────────────╯\u001b[0m\n"
      ]
     },
     "metadata": {},
     "output_type": "display_data"
    },
    {
     "data": {
      "text/html": [
       "<pre style=\"white-space:pre;overflow-x:auto;line-height:normal;font-family:Menlo,'DejaVu Sans Mono',consolas,'Courier New',monospace\"><span style=\"color: #808000; text-decoration-color: #808000\">╭─── Nucleus segmentation ────╮</span>\n",
       "<span style=\"color: #808000; text-decoration-color: #808000\">│</span> Segmentation started!       <span style=\"color: #808000; text-decoration-color: #808000\">│</span>\n",
       "<span style=\"color: #808000; text-decoration-color: #808000\">│</span>                             <span style=\"color: #808000; text-decoration-color: #808000\">│</span>\n",
       "<span style=\"color: #808000; text-decoration-color: #808000\">│</span> Image: 2023_12_14_image_003 <span style=\"color: #808000; text-decoration-color: #808000\">│</span>\n",
       "<span style=\"color: #808000; text-decoration-color: #808000\">│</span>                             <span style=\"color: #808000; text-decoration-color: #808000\">│</span>\n",
       "<span style=\"color: #808000; text-decoration-color: #808000\">╰─────────────────────────────╯</span>\n",
       "</pre>\n"
      ],
      "text/plain": [
       "\u001b[33m╭─\u001b[0m\u001b[33m──\u001b[0m\u001b[33m Nucleus segmentation \u001b[0m\u001b[33m───\u001b[0m\u001b[33m─╮\u001b[0m\n",
       "\u001b[33m│\u001b[0m Segmentation started!       \u001b[33m│\u001b[0m\n",
       "\u001b[33m│\u001b[0m                             \u001b[33m│\u001b[0m\n",
       "\u001b[33m│\u001b[0m Image: 2023_12_14_image_003 \u001b[33m│\u001b[0m\n",
       "\u001b[33m│\u001b[0m                             \u001b[33m│\u001b[0m\n",
       "\u001b[33m╰─────────────────────────────╯\u001b[0m\n"
      ]
     },
     "metadata": {},
     "output_type": "display_data"
    },
    {
     "data": {
      "text/html": [
       "<pre style=\"white-space:pre;overflow-x:auto;line-height:normal;font-family:Menlo,'DejaVu Sans Mono',consolas,'Courier New',monospace\"><span style=\"color: #808000; text-decoration-color: #808000\">╭─── Nucleus segmentation ────╮</span>\n",
       "<span style=\"color: #808000; text-decoration-color: #808000\">│</span> Segmentation started!       <span style=\"color: #808000; text-decoration-color: #808000\">│</span>\n",
       "<span style=\"color: #808000; text-decoration-color: #808000\">│</span>                             <span style=\"color: #808000; text-decoration-color: #808000\">│</span>\n",
       "<span style=\"color: #808000; text-decoration-color: #808000\">│</span> Image: 2023_12_14_image_022 <span style=\"color: #808000; text-decoration-color: #808000\">│</span>\n",
       "<span style=\"color: #808000; text-decoration-color: #808000\">│</span>                             <span style=\"color: #808000; text-decoration-color: #808000\">│</span>\n",
       "<span style=\"color: #808000; text-decoration-color: #808000\">╰─────────────────────────────╯</span>\n",
       "</pre>\n"
      ],
      "text/plain": [
       "\u001b[33m╭─\u001b[0m\u001b[33m──\u001b[0m\u001b[33m Nucleus segmentation \u001b[0m\u001b[33m───\u001b[0m\u001b[33m─╮\u001b[0m\n",
       "\u001b[33m│\u001b[0m Segmentation started!       \u001b[33m│\u001b[0m\n",
       "\u001b[33m│\u001b[0m                             \u001b[33m│\u001b[0m\n",
       "\u001b[33m│\u001b[0m Image: 2023_12_14_image_022 \u001b[33m│\u001b[0m\n",
       "\u001b[33m│\u001b[0m                             \u001b[33m│\u001b[0m\n",
       "\u001b[33m╰─────────────────────────────╯\u001b[0m\n"
      ]
     },
     "metadata": {},
     "output_type": "display_data"
    },
    {
     "ename": "KeyboardInterrupt",
     "evalue": "",
     "output_type": "error",
     "traceback": [
      "\u001b[0;31m---------------------------------------------------------------------------\u001b[0m",
      "\u001b[0;31mKeyboardInterrupt\u001b[0m                         Traceback (most recent call last)",
      "Cell \u001b[0;32mIn[34], line 23\u001b[0m\n\u001b[1;32m     19\u001b[0m label \u001b[38;5;241m=\u001b[39m labels_path \u001b[38;5;241m/\u001b[39m \u001b[38;5;124mf\u001b[39m\u001b[38;5;124m\"\u001b[39m\u001b[38;5;132;01m{\u001b[39;00mimg_name\u001b[38;5;132;01m}\u001b[39;00m\u001b[38;5;124m.npy\u001b[39m\u001b[38;5;124m\"\u001b[39m\n\u001b[1;32m     21\u001b[0m t1 \u001b[38;5;241m=\u001b[39m time\u001b[38;5;241m.\u001b[39mmonotonic()\n\u001b[0;32m---> 23\u001b[0m cytoplasm, f1 \u001b[38;5;241m=\u001b[39m \u001b[43mwatershed_nucleus\u001b[49m\u001b[43m(\u001b[49m\u001b[43mimg_path\u001b[49m\u001b[38;5;241;43m=\u001b[39;49m\u001b[43mimage_path\u001b[49m\u001b[43m,\u001b[49m\u001b[43m \u001b[49m\u001b[43mlabel_path\u001b[49m\u001b[38;5;241;43m=\u001b[39;49m\u001b[43mlabel\u001b[49m\u001b[43m,\u001b[49m\u001b[43m \u001b[49m\u001b[38;5;241;43m*\u001b[39;49m\u001b[38;5;241;43m*\u001b[39;49m\u001b[43mparams\u001b[49m\u001b[43m)\u001b[49m\n\u001b[1;32m     25\u001b[0m t2 \u001b[38;5;241m=\u001b[39m time\u001b[38;5;241m.\u001b[39mmonotonic()\n\u001b[1;32m     26\u001b[0m t \u001b[38;5;241m=\u001b[39m t2 \u001b[38;5;241m-\u001b[39m t1\n",
      "File \u001b[0;32m~/projects/UJEP/bakalarka/segmentace-bunek/cellseg/src/watershed.py:134\u001b[0m, in \u001b[0;36mwatershed_nucleus\u001b[0;34m(img_path, mask_size, iterations, min_size, radius, percent, threshold, label_path)\u001b[0m\n\u001b[1;32m    131\u001b[0m r1, g1, b1 \u001b[38;5;241m=\u001b[39m img_unsharp[:, :, \u001b[38;5;241m0\u001b[39m], img_unsharp[:, :, \u001b[38;5;241m1\u001b[39m], img_unsharp[:, :, \u001b[38;5;241m2\u001b[39m]\n\u001b[1;32m    133\u001b[0m b_bin_otsu \u001b[38;5;241m=\u001b[39m cw\u001b[38;5;241m.\u001b[39mconvert_grayscale_to_bin_otsu(b1)\n\u001b[0;32m--> 134\u001b[0m b_bin_otsu_morp \u001b[38;5;241m=\u001b[39m \u001b[43miw\u001b[49m\u001b[38;5;241;43m.\u001b[39;49m\u001b[43mclose_holes_remove_noise\u001b[49m\u001b[43m(\u001b[49m\u001b[43mb_bin_otsu\u001b[49m\u001b[43m,\u001b[49m\u001b[43m \u001b[49m\u001b[43mmask_size\u001b[49m\u001b[38;5;241;43m=\u001b[39;49m\u001b[43mmask_size\u001b[49m\u001b[43m,\u001b[49m\u001b[43m \u001b[49m\u001b[43miterations\u001b[49m\u001b[38;5;241;43m=\u001b[39;49m\u001b[43miterations\u001b[49m\u001b[43m)\u001b[49m\n\u001b[1;32m    136\u001b[0m img_labeled_nuclei, nr_nuclei \u001b[38;5;241m=\u001b[39m mh\u001b[38;5;241m.\u001b[39mlabel(b_bin_otsu_morp)\n\u001b[1;32m    137\u001b[0m img_labeled_nuclei \u001b[38;5;241m=\u001b[39m iw\u001b[38;5;241m.\u001b[39mremove_small_regions(img_labeled_nuclei, min_size\u001b[38;5;241m=\u001b[39mmin_size)\n",
      "File \u001b[0;32m~/projects/UJEP/bakalarka/segmentace-bunek/cellseg/src/image_worker.py:241\u001b[0m, in \u001b[0;36mclose_holes_remove_noise\u001b[0;34m(img, mask_size, iterations)\u001b[0m\n\u001b[1;32m    240\u001b[0m \u001b[38;5;28;01mdef\u001b[39;00m \u001b[38;5;21mclose_holes_remove_noise\u001b[39m(img: np\u001b[38;5;241m.\u001b[39mndarray, mask_size: \u001b[38;5;28mint\u001b[39m \u001b[38;5;241m=\u001b[39m \u001b[38;5;241m3\u001b[39m, iterations: \u001b[38;5;28mint\u001b[39m \u001b[38;5;241m=\u001b[39m \u001b[38;5;241m5\u001b[39m):\n\u001b[0;32m--> 241\u001b[0m     img_bin \u001b[38;5;241m=\u001b[39m \u001b[43mmh\u001b[49m\u001b[38;5;241;43m.\u001b[39;49m\u001b[43mclose_holes\u001b[49m\u001b[43m(\u001b[49m\u001b[43mimg\u001b[49m\u001b[43m)\u001b[49m\n\u001b[1;32m    242\u001b[0m     mask \u001b[38;5;241m=\u001b[39m np\u001b[38;5;241m.\u001b[39mones((mask_size, mask_size))  \u001b[38;5;66;03m# Občas se používá kernel\u001b[39;00m\n\u001b[1;32m    244\u001b[0m     \u001b[38;5;28;01mfor\u001b[39;00m k \u001b[38;5;129;01min\u001b[39;00m \u001b[38;5;28mrange\u001b[39m(iterations):\n",
      "File \u001b[0;32m~/projects/UJEP/bakalarka/segmentace-bunek/.venv/lib/python3.10/site-packages/mahotas/morph.py:496\u001b[0m, in \u001b[0;36mclose_holes\u001b[0;34m(ref, Bc)\u001b[0m\n\u001b[1;32m    494\u001b[0m ref \u001b[38;5;241m=\u001b[39m np\u001b[38;5;241m.\u001b[39mascontiguousarray(ref, dtype\u001b[38;5;241m=\u001b[39mnp\u001b[38;5;241m.\u001b[39mbool_)\n\u001b[1;32m    495\u001b[0m Bc \u001b[38;5;241m=\u001b[39m get_structuring_elem(ref, Bc)\n\u001b[0;32m--> 496\u001b[0m \u001b[38;5;28;01mreturn\u001b[39;00m \u001b[43m_morph\u001b[49m\u001b[38;5;241;43m.\u001b[39;49m\u001b[43mclose_holes\u001b[49m\u001b[43m(\u001b[49m\u001b[43mref\u001b[49m\u001b[43m,\u001b[49m\u001b[43m \u001b[49m\u001b[43mBc\u001b[49m\u001b[43m)\u001b[49m\n",
      "\u001b[0;31mKeyboardInterrupt\u001b[0m: "
     ]
    }
   ],
   "source": [
    "import mahotas as mh\n",
    "import pandas as pd\n",
    "import numpy as np\n",
    "import pathlib\n",
    "import time\n",
    "from cellseg.src.watershed import watershed_nucleus\n",
    "\n",
    "images_path = pathlib.Path(\"Images/all_images\")\n",
    "labels_path = pathlib.Path(\"Labels/orig/nucleus\")\n",
    "\n",
    "results_nucleus = pd.DataFrame(columns=[\"image\", \"F1\", \"time\", \"method\"])\n",
    "\n",
    "for image_path in images_path.glob(\"*.png\"):\n",
    "    if (labels_path / images_path.name).exists():\n",
    "        continue\n",
    "    \n",
    "    img = mh.imread(image_path)\n",
    "    img_name = str(image_path.stem).split(\"/\")[-1]\n",
    "    label = labels_path / f\"{img_name}.npy\"\n",
    "    \n",
    "    t1 = time.monotonic()\n",
    "    \n",
    "    cytoplasm, f1 = watershed_nucleus(img_path=image_path, label_path=label, **params)\n",
    "    \n",
    "    t2 = time.monotonic()\n",
    "    t = t2 - t1\n",
    "    \n",
    "    plt.imsave(f\"Watershed/nucleus/{img_name}_nucleus.png\", cytoplasm)\n",
    "    \n",
    "    results_nucleus = pd.concat([results_nucleus, pd.DataFrame({\"image\": [img_name], \"F1\": [f1], \"time\": [t], \"method\": [\"watershed\"]})])"
   ]
  },
  {
   "cell_type": "code",
   "execution_count": 27,
   "metadata": {},
   "outputs": [
    {
     "data": {
      "text/html": [
       "<div>\n",
       "<style scoped>\n",
       "    .dataframe tbody tr th:only-of-type {\n",
       "        vertical-align: middle;\n",
       "    }\n",
       "\n",
       "    .dataframe tbody tr th {\n",
       "        vertical-align: top;\n",
       "    }\n",
       "\n",
       "    .dataframe thead th {\n",
       "        text-align: right;\n",
       "    }\n",
       "</style>\n",
       "<table border=\"1\" class=\"dataframe\">\n",
       "  <thead>\n",
       "    <tr style=\"text-align: right;\">\n",
       "      <th></th>\n",
       "      <th>F1</th>\n",
       "      <th>time</th>\n",
       "    </tr>\n",
       "  </thead>\n",
       "  <tbody>\n",
       "    <tr>\n",
       "      <th>count</th>\n",
       "      <td>50.000000</td>\n",
       "      <td>50.000000</td>\n",
       "    </tr>\n",
       "    <tr>\n",
       "      <th>mean</th>\n",
       "      <td>0.965225</td>\n",
       "      <td>1.139055</td>\n",
       "    </tr>\n",
       "    <tr>\n",
       "      <th>std</th>\n",
       "      <td>0.011142</td>\n",
       "      <td>0.046256</td>\n",
       "    </tr>\n",
       "    <tr>\n",
       "      <th>min</th>\n",
       "      <td>0.940242</td>\n",
       "      <td>1.065447</td>\n",
       "    </tr>\n",
       "    <tr>\n",
       "      <th>25%</th>\n",
       "      <td>0.959396</td>\n",
       "      <td>1.104159</td>\n",
       "    </tr>\n",
       "    <tr>\n",
       "      <th>50%</th>\n",
       "      <td>0.965643</td>\n",
       "      <td>1.128563</td>\n",
       "    </tr>\n",
       "    <tr>\n",
       "      <th>75%</th>\n",
       "      <td>0.970338</td>\n",
       "      <td>1.173316</td>\n",
       "    </tr>\n",
       "    <tr>\n",
       "      <th>max</th>\n",
       "      <td>0.990745</td>\n",
       "      <td>1.255226</td>\n",
       "    </tr>\n",
       "  </tbody>\n",
       "</table>\n",
       "</div>"
      ],
      "text/plain": [
       "              F1       time\n",
       "count  50.000000  50.000000\n",
       "mean    0.965225   1.139055\n",
       "std     0.011142   0.046256\n",
       "min     0.940242   1.065447\n",
       "25%     0.959396   1.104159\n",
       "50%     0.965643   1.128563\n",
       "75%     0.970338   1.173316\n",
       "max     0.990745   1.255226"
      ]
     },
     "execution_count": 27,
     "metadata": {},
     "output_type": "execute_result"
    }
   ],
   "source": [
    "results_nucleus.describe()"
   ]
  },
  {
   "cell_type": "code",
   "execution_count": 28,
   "metadata": {},
   "outputs": [
    {
     "data": {
      "text/html": [
       "<div>\n",
       "<style scoped>\n",
       "    .dataframe tbody tr th:only-of-type {\n",
       "        vertical-align: middle;\n",
       "    }\n",
       "\n",
       "    .dataframe tbody tr th {\n",
       "        vertical-align: top;\n",
       "    }\n",
       "\n",
       "    .dataframe thead th {\n",
       "        text-align: right;\n",
       "    }\n",
       "</style>\n",
       "<table border=\"1\" class=\"dataframe\">\n",
       "  <thead>\n",
       "    <tr style=\"text-align: right;\">\n",
       "      <th></th>\n",
       "      <th>image</th>\n",
       "      <th>F1</th>\n",
       "      <th>time</th>\n",
       "      <th>method</th>\n",
       "      <th>type</th>\n",
       "    </tr>\n",
       "  </thead>\n",
       "  <tbody>\n",
       "    <tr>\n",
       "      <th>0</th>\n",
       "      <td>2023_12_14_image_041</td>\n",
       "      <td>0.975439</td>\n",
       "      <td>1.160269</td>\n",
       "      <td>watershed</td>\n",
       "      <td>nucleus</td>\n",
       "    </tr>\n",
       "    <tr>\n",
       "      <th>0</th>\n",
       "      <td>2023_12_14_image_040</td>\n",
       "      <td>0.959686</td>\n",
       "      <td>1.180744</td>\n",
       "      <td>watershed</td>\n",
       "      <td>nucleus</td>\n",
       "    </tr>\n",
       "    <tr>\n",
       "      <th>0</th>\n",
       "      <td>2023_12_14_image_043</td>\n",
       "      <td>0.953084</td>\n",
       "      <td>1.077430</td>\n",
       "      <td>watershed</td>\n",
       "      <td>nucleus</td>\n",
       "    </tr>\n",
       "    <tr>\n",
       "      <th>0</th>\n",
       "      <td>2023_12_14_image_005</td>\n",
       "      <td>0.955820</td>\n",
       "      <td>1.097240</td>\n",
       "      <td>watershed</td>\n",
       "      <td>nucleus</td>\n",
       "    </tr>\n",
       "    <tr>\n",
       "      <th>0</th>\n",
       "      <td>2023_12_14_image_029</td>\n",
       "      <td>0.964480</td>\n",
       "      <td>1.105423</td>\n",
       "      <td>watershed</td>\n",
       "      <td>nucleus</td>\n",
       "    </tr>\n",
       "    <tr>\n",
       "      <th>0</th>\n",
       "      <td>2023_12_14_image_027</td>\n",
       "      <td>0.987913</td>\n",
       "      <td>1.202499</td>\n",
       "      <td>watershed</td>\n",
       "      <td>nucleus</td>\n",
       "    </tr>\n",
       "    <tr>\n",
       "      <th>0</th>\n",
       "      <td>2023_12_14_image_039</td>\n",
       "      <td>0.959299</td>\n",
       "      <td>1.130829</td>\n",
       "      <td>watershed</td>\n",
       "      <td>nucleus</td>\n",
       "    </tr>\n",
       "    <tr>\n",
       "      <th>0</th>\n",
       "      <td>2023_12_14_image_037</td>\n",
       "      <td>0.959755</td>\n",
       "      <td>1.179034</td>\n",
       "      <td>watershed</td>\n",
       "      <td>nucleus</td>\n",
       "    </tr>\n",
       "    <tr>\n",
       "      <th>0</th>\n",
       "      <td>2023_12_14_image_045</td>\n",
       "      <td>0.944190</td>\n",
       "      <td>1.127452</td>\n",
       "      <td>watershed</td>\n",
       "      <td>nucleus</td>\n",
       "    </tr>\n",
       "    <tr>\n",
       "      <th>0</th>\n",
       "      <td>2023_12_14_image_000</td>\n",
       "      <td>0.968356</td>\n",
       "      <td>1.070448</td>\n",
       "      <td>watershed</td>\n",
       "      <td>nucleus</td>\n",
       "    </tr>\n",
       "    <tr>\n",
       "      <th>0</th>\n",
       "      <td>2023_12_14_image_015</td>\n",
       "      <td>0.965625</td>\n",
       "      <td>1.255226</td>\n",
       "      <td>watershed</td>\n",
       "      <td>nucleus</td>\n",
       "    </tr>\n",
       "    <tr>\n",
       "      <th>0</th>\n",
       "      <td>2023_12_14_image_017</td>\n",
       "      <td>0.970485</td>\n",
       "      <td>1.095608</td>\n",
       "      <td>watershed</td>\n",
       "      <td>nucleus</td>\n",
       "    </tr>\n",
       "    <tr>\n",
       "      <th>0</th>\n",
       "      <td>2023_12_14_image_003</td>\n",
       "      <td>0.949315</td>\n",
       "      <td>1.069148</td>\n",
       "      <td>watershed</td>\n",
       "      <td>nucleus</td>\n",
       "    </tr>\n",
       "    <tr>\n",
       "      <th>0</th>\n",
       "      <td>2023_12_14_image_022</td>\n",
       "      <td>0.973247</td>\n",
       "      <td>1.095278</td>\n",
       "      <td>watershed</td>\n",
       "      <td>nucleus</td>\n",
       "    </tr>\n",
       "    <tr>\n",
       "      <th>0</th>\n",
       "      <td>2023_12_14_image_044</td>\n",
       "      <td>0.989086</td>\n",
       "      <td>1.140233</td>\n",
       "      <td>watershed</td>\n",
       "      <td>nucleus</td>\n",
       "    </tr>\n",
       "    <tr>\n",
       "      <th>0</th>\n",
       "      <td>2023_12_14_image_002</td>\n",
       "      <td>0.965288</td>\n",
       "      <td>1.065447</td>\n",
       "      <td>watershed</td>\n",
       "      <td>nucleus</td>\n",
       "    </tr>\n",
       "    <tr>\n",
       "      <th>0</th>\n",
       "      <td>2023_12_14_image_036</td>\n",
       "      <td>0.962641</td>\n",
       "      <td>1.122266</td>\n",
       "      <td>watershed</td>\n",
       "      <td>nucleus</td>\n",
       "    </tr>\n",
       "    <tr>\n",
       "      <th>0</th>\n",
       "      <td>2023_12_14_image_009</td>\n",
       "      <td>0.967254</td>\n",
       "      <td>1.166210</td>\n",
       "      <td>watershed</td>\n",
       "      <td>nucleus</td>\n",
       "    </tr>\n",
       "    <tr>\n",
       "      <th>0</th>\n",
       "      <td>2023_12_14_image_047</td>\n",
       "      <td>0.969158</td>\n",
       "      <td>1.118719</td>\n",
       "      <td>watershed</td>\n",
       "      <td>nucleus</td>\n",
       "    </tr>\n",
       "    <tr>\n",
       "      <th>0</th>\n",
       "      <td>2023_12_14_image_018</td>\n",
       "      <td>0.965493</td>\n",
       "      <td>1.175685</td>\n",
       "      <td>watershed</td>\n",
       "      <td>nucleus</td>\n",
       "    </tr>\n",
       "    <tr>\n",
       "      <th>0</th>\n",
       "      <td>2023_12_14_image_032</td>\n",
       "      <td>0.940242</td>\n",
       "      <td>1.142822</td>\n",
       "      <td>watershed</td>\n",
       "      <td>nucleus</td>\n",
       "    </tr>\n",
       "    <tr>\n",
       "      <th>0</th>\n",
       "      <td>2023_12_14_image_004</td>\n",
       "      <td>0.967812</td>\n",
       "      <td>1.180923</td>\n",
       "      <td>watershed</td>\n",
       "      <td>nucleus</td>\n",
       "    </tr>\n",
       "    <tr>\n",
       "      <th>0</th>\n",
       "      <td>2023_12_14_image_019</td>\n",
       "      <td>0.974374</td>\n",
       "      <td>1.150981</td>\n",
       "      <td>watershed</td>\n",
       "      <td>nucleus</td>\n",
       "    </tr>\n",
       "    <tr>\n",
       "      <th>0</th>\n",
       "      <td>2023_12_14_image_010</td>\n",
       "      <td>0.971743</td>\n",
       "      <td>1.103738</td>\n",
       "      <td>watershed</td>\n",
       "      <td>nucleus</td>\n",
       "    </tr>\n",
       "    <tr>\n",
       "      <th>0</th>\n",
       "      <td>2023_12_14_image_013</td>\n",
       "      <td>0.950643</td>\n",
       "      <td>1.098784</td>\n",
       "      <td>watershed</td>\n",
       "      <td>nucleus</td>\n",
       "    </tr>\n",
       "    <tr>\n",
       "      <th>0</th>\n",
       "      <td>2023_12_14_image_011</td>\n",
       "      <td>0.957820</td>\n",
       "      <td>1.082226</td>\n",
       "      <td>watershed</td>\n",
       "      <td>nucleus</td>\n",
       "    </tr>\n",
       "    <tr>\n",
       "      <th>0</th>\n",
       "      <td>2023_12_14_image_049</td>\n",
       "      <td>0.966877</td>\n",
       "      <td>1.231907</td>\n",
       "      <td>watershed</td>\n",
       "      <td>nucleus</td>\n",
       "    </tr>\n",
       "    <tr>\n",
       "      <th>0</th>\n",
       "      <td>2023_12_14_image_006</td>\n",
       "      <td>0.953902</td>\n",
       "      <td>1.161892</td>\n",
       "      <td>watershed</td>\n",
       "      <td>nucleus</td>\n",
       "    </tr>\n",
       "    <tr>\n",
       "      <th>0</th>\n",
       "      <td>2023_12_14_image_030</td>\n",
       "      <td>0.980235</td>\n",
       "      <td>1.146735</td>\n",
       "      <td>watershed</td>\n",
       "      <td>nucleus</td>\n",
       "    </tr>\n",
       "    <tr>\n",
       "      <th>0</th>\n",
       "      <td>2023_12_14_image_028</td>\n",
       "      <td>0.959141</td>\n",
       "      <td>1.111020</td>\n",
       "      <td>watershed</td>\n",
       "      <td>nucleus</td>\n",
       "    </tr>\n",
       "    <tr>\n",
       "      <th>0</th>\n",
       "      <td>2023_12_14_image_012</td>\n",
       "      <td>0.966340</td>\n",
       "      <td>1.118287</td>\n",
       "      <td>watershed</td>\n",
       "      <td>nucleus</td>\n",
       "    </tr>\n",
       "    <tr>\n",
       "      <th>0</th>\n",
       "      <td>2023_12_14_image_042</td>\n",
       "      <td>0.967013</td>\n",
       "      <td>1.130774</td>\n",
       "      <td>watershed</td>\n",
       "      <td>nucleus</td>\n",
       "    </tr>\n",
       "    <tr>\n",
       "      <th>0</th>\n",
       "      <td>2023_12_14_image_025</td>\n",
       "      <td>0.986077</td>\n",
       "      <td>1.199987</td>\n",
       "      <td>watershed</td>\n",
       "      <td>nucleus</td>\n",
       "    </tr>\n",
       "    <tr>\n",
       "      <th>0</th>\n",
       "      <td>2023_12_14_image_023</td>\n",
       "      <td>0.972318</td>\n",
       "      <td>1.099431</td>\n",
       "      <td>watershed</td>\n",
       "      <td>nucleus</td>\n",
       "    </tr>\n",
       "    <tr>\n",
       "      <th>0</th>\n",
       "      <td>2023_12_14_image_038</td>\n",
       "      <td>0.970427</td>\n",
       "      <td>1.122841</td>\n",
       "      <td>watershed</td>\n",
       "      <td>nucleus</td>\n",
       "    </tr>\n",
       "    <tr>\n",
       "      <th>0</th>\n",
       "      <td>2023_12_14_image_048</td>\n",
       "      <td>0.964255</td>\n",
       "      <td>1.201920</td>\n",
       "      <td>watershed</td>\n",
       "      <td>nucleus</td>\n",
       "    </tr>\n",
       "    <tr>\n",
       "      <th>0</th>\n",
       "      <td>2023_12_14_image_046</td>\n",
       "      <td>0.966351</td>\n",
       "      <td>1.155126</td>\n",
       "      <td>watershed</td>\n",
       "      <td>nucleus</td>\n",
       "    </tr>\n",
       "    <tr>\n",
       "      <th>0</th>\n",
       "      <td>2023_12_14_image_021</td>\n",
       "      <td>0.953432</td>\n",
       "      <td>1.142845</td>\n",
       "      <td>watershed</td>\n",
       "      <td>nucleus</td>\n",
       "    </tr>\n",
       "    <tr>\n",
       "      <th>0</th>\n",
       "      <td>2023_12_14_image_001</td>\n",
       "      <td>0.969564</td>\n",
       "      <td>1.116818</td>\n",
       "      <td>watershed</td>\n",
       "      <td>nucleus</td>\n",
       "    </tr>\n",
       "    <tr>\n",
       "      <th>0</th>\n",
       "      <td>2023_12_14_image_020</td>\n",
       "      <td>0.946610</td>\n",
       "      <td>1.118164</td>\n",
       "      <td>watershed</td>\n",
       "      <td>nucleus</td>\n",
       "    </tr>\n",
       "    <tr>\n",
       "      <th>0</th>\n",
       "      <td>2023_12_14_image_016</td>\n",
       "      <td>0.969622</td>\n",
       "      <td>1.196238</td>\n",
       "      <td>watershed</td>\n",
       "      <td>nucleus</td>\n",
       "    </tr>\n",
       "    <tr>\n",
       "      <th>0</th>\n",
       "      <td>2023_12_14_image_014</td>\n",
       "      <td>0.965661</td>\n",
       "      <td>1.206460</td>\n",
       "      <td>watershed</td>\n",
       "      <td>nucleus</td>\n",
       "    </tr>\n",
       "    <tr>\n",
       "      <th>0</th>\n",
       "      <td>2023_12_14_image_035</td>\n",
       "      <td>0.963852</td>\n",
       "      <td>1.111985</td>\n",
       "      <td>watershed</td>\n",
       "      <td>nucleus</td>\n",
       "    </tr>\n",
       "    <tr>\n",
       "      <th>0</th>\n",
       "      <td>2023_12_14_image_031</td>\n",
       "      <td>0.964133</td>\n",
       "      <td>1.129673</td>\n",
       "      <td>watershed</td>\n",
       "      <td>nucleus</td>\n",
       "    </tr>\n",
       "    <tr>\n",
       "      <th>0</th>\n",
       "      <td>2023_12_14_image_026</td>\n",
       "      <td>0.990745</td>\n",
       "      <td>1.209649</td>\n",
       "      <td>watershed</td>\n",
       "      <td>nucleus</td>\n",
       "    </tr>\n",
       "    <tr>\n",
       "      <th>0</th>\n",
       "      <td>2023_12_14_image_008</td>\n",
       "      <td>0.970073</td>\n",
       "      <td>1.222580</td>\n",
       "      <td>watershed</td>\n",
       "      <td>nucleus</td>\n",
       "    </tr>\n",
       "    <tr>\n",
       "      <th>0</th>\n",
       "      <td>2023_12_14_image_024</td>\n",
       "      <td>0.978428</td>\n",
       "      <td>1.095983</td>\n",
       "      <td>watershed</td>\n",
       "      <td>nucleus</td>\n",
       "    </tr>\n",
       "    <tr>\n",
       "      <th>0</th>\n",
       "      <td>2023_12_14_image_007</td>\n",
       "      <td>0.960675</td>\n",
       "      <td>1.119779</td>\n",
       "      <td>watershed</td>\n",
       "      <td>nucleus</td>\n",
       "    </tr>\n",
       "    <tr>\n",
       "      <th>0</th>\n",
       "      <td>2023_12_14_image_034</td>\n",
       "      <td>0.945371</td>\n",
       "      <td>1.086835</td>\n",
       "      <td>watershed</td>\n",
       "      <td>nucleus</td>\n",
       "    </tr>\n",
       "    <tr>\n",
       "      <th>0</th>\n",
       "      <td>2023_12_14_image_033</td>\n",
       "      <td>0.961894</td>\n",
       "      <td>1.121179</td>\n",
       "      <td>watershed</td>\n",
       "      <td>nucleus</td>\n",
       "    </tr>\n",
       "  </tbody>\n",
       "</table>\n",
       "</div>"
      ],
      "text/plain": [
       "                  image        F1      time     method     type\n",
       "0  2023_12_14_image_041  0.975439  1.160269  watershed  nucleus\n",
       "0  2023_12_14_image_040  0.959686  1.180744  watershed  nucleus\n",
       "0  2023_12_14_image_043  0.953084  1.077430  watershed  nucleus\n",
       "0  2023_12_14_image_005  0.955820  1.097240  watershed  nucleus\n",
       "0  2023_12_14_image_029  0.964480  1.105423  watershed  nucleus\n",
       "0  2023_12_14_image_027  0.987913  1.202499  watershed  nucleus\n",
       "0  2023_12_14_image_039  0.959299  1.130829  watershed  nucleus\n",
       "0  2023_12_14_image_037  0.959755  1.179034  watershed  nucleus\n",
       "0  2023_12_14_image_045  0.944190  1.127452  watershed  nucleus\n",
       "0  2023_12_14_image_000  0.968356  1.070448  watershed  nucleus\n",
       "0  2023_12_14_image_015  0.965625  1.255226  watershed  nucleus\n",
       "0  2023_12_14_image_017  0.970485  1.095608  watershed  nucleus\n",
       "0  2023_12_14_image_003  0.949315  1.069148  watershed  nucleus\n",
       "0  2023_12_14_image_022  0.973247  1.095278  watershed  nucleus\n",
       "0  2023_12_14_image_044  0.989086  1.140233  watershed  nucleus\n",
       "0  2023_12_14_image_002  0.965288  1.065447  watershed  nucleus\n",
       "0  2023_12_14_image_036  0.962641  1.122266  watershed  nucleus\n",
       "0  2023_12_14_image_009  0.967254  1.166210  watershed  nucleus\n",
       "0  2023_12_14_image_047  0.969158  1.118719  watershed  nucleus\n",
       "0  2023_12_14_image_018  0.965493  1.175685  watershed  nucleus\n",
       "0  2023_12_14_image_032  0.940242  1.142822  watershed  nucleus\n",
       "0  2023_12_14_image_004  0.967812  1.180923  watershed  nucleus\n",
       "0  2023_12_14_image_019  0.974374  1.150981  watershed  nucleus\n",
       "0  2023_12_14_image_010  0.971743  1.103738  watershed  nucleus\n",
       "0  2023_12_14_image_013  0.950643  1.098784  watershed  nucleus\n",
       "0  2023_12_14_image_011  0.957820  1.082226  watershed  nucleus\n",
       "0  2023_12_14_image_049  0.966877  1.231907  watershed  nucleus\n",
       "0  2023_12_14_image_006  0.953902  1.161892  watershed  nucleus\n",
       "0  2023_12_14_image_030  0.980235  1.146735  watershed  nucleus\n",
       "0  2023_12_14_image_028  0.959141  1.111020  watershed  nucleus\n",
       "0  2023_12_14_image_012  0.966340  1.118287  watershed  nucleus\n",
       "0  2023_12_14_image_042  0.967013  1.130774  watershed  nucleus\n",
       "0  2023_12_14_image_025  0.986077  1.199987  watershed  nucleus\n",
       "0  2023_12_14_image_023  0.972318  1.099431  watershed  nucleus\n",
       "0  2023_12_14_image_038  0.970427  1.122841  watershed  nucleus\n",
       "0  2023_12_14_image_048  0.964255  1.201920  watershed  nucleus\n",
       "0  2023_12_14_image_046  0.966351  1.155126  watershed  nucleus\n",
       "0  2023_12_14_image_021  0.953432  1.142845  watershed  nucleus\n",
       "0  2023_12_14_image_001  0.969564  1.116818  watershed  nucleus\n",
       "0  2023_12_14_image_020  0.946610  1.118164  watershed  nucleus\n",
       "0  2023_12_14_image_016  0.969622  1.196238  watershed  nucleus\n",
       "0  2023_12_14_image_014  0.965661  1.206460  watershed  nucleus\n",
       "0  2023_12_14_image_035  0.963852  1.111985  watershed  nucleus\n",
       "0  2023_12_14_image_031  0.964133  1.129673  watershed  nucleus\n",
       "0  2023_12_14_image_026  0.990745  1.209649  watershed  nucleus\n",
       "0  2023_12_14_image_008  0.970073  1.222580  watershed  nucleus\n",
       "0  2023_12_14_image_024  0.978428  1.095983  watershed  nucleus\n",
       "0  2023_12_14_image_007  0.960675  1.119779  watershed  nucleus\n",
       "0  2023_12_14_image_034  0.945371  1.086835  watershed  nucleus\n",
       "0  2023_12_14_image_033  0.961894  1.121179  watershed  nucleus"
      ]
     },
     "execution_count": 28,
     "metadata": {},
     "output_type": "execute_result"
    }
   ],
   "source": [
    "results_nucleus[\"type\"] = \"nucleus\"\n",
    "results_nucleus"
   ]
  },
  {
   "cell_type": "code",
   "execution_count": 29,
   "metadata": {},
   "outputs": [],
   "source": [
    "cytoplasm_df = pd.read_csv(\"results_cytoplasm.csv\")\n",
    "\n",
    "# concatenate the two dataframes\n",
    "results = pd.concat([cytoplasm_df, results_nucleus])"
   ]
  },
  {
   "cell_type": "code",
   "execution_count": 30,
   "metadata": {},
   "outputs": [],
   "source": [
    "results.to_csv(\"results_water.csv\", index=False)"
   ]
  }
 ],
 "metadata": {
  "kernelspec": {
   "display_name": ".venv",
   "language": "python",
   "name": "python3"
  },
  "language_info": {
   "codemirror_mode": {
    "name": "ipython",
    "version": 3
   },
   "file_extension": ".py",
   "mimetype": "text/x-python",
   "name": "python",
   "nbconvert_exporter": "python",
   "pygments_lexer": "ipython3",
   "version": "3.10.12"
  }
 },
 "nbformat": 4,
 "nbformat_minor": 2
}
