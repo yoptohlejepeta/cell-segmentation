{
 "cells": [
  {
   "cell_type": "code",
   "execution_count": 1,
   "metadata": {},
   "outputs": [],
   "source": [
    "params = {'slope': 7, 'limit': 1623, 'samples': 423, 'sigma': 1.0056550229113084, 'subwidth': 21, 'subweight': 29, 'mask_size': 5, 'iterations': 7, 'min_size': 143}"
   ]
  },
  {
   "cell_type": "code",
   "execution_count": null,
   "metadata": {},
   "outputs": [],
   "source": []
  },
  {
   "cell_type": "code",
   "execution_count": 10,
   "metadata": {},
   "outputs": [
    {
     "name": "stdout",
     "output_type": "stream",
     "text": [
      "Images/BAL_images/PoC/2023_12_14_image_005.png\n",
      "                   name  Dice_coefficient\n",
      "0  2023_12_14_image_005          0.801539\n",
      "Images/BAL_images/PoC/2023_12_14_image_000.png\n"
     ]
    },
    {
     "name": "stderr",
     "output_type": "stream",
     "text": [
      "/tmp/ipykernel_398099/3977999630.py:45: FutureWarning: The behavior of DataFrame concatenation with empty or all-NA entries is deprecated. In a future version, this will no longer exclude empty or all-NA columns when determining the result dtypes. To retain the old behavior, exclude the relevant entries before the concat operation.\n",
      "  results_df = pd.concat([results_df, result], ignore_index=True)\n"
     ]
    },
    {
     "name": "stdout",
     "output_type": "stream",
     "text": [
      "                   name  Dice_coefficient\n",
      "0  2023_12_14_image_000          0.893167\n",
      "Images/BAL_images/PoC/2023_12_14_image_017.png\n",
      "                   name  Dice_coefficient\n",
      "0  2023_12_14_image_017          0.874456\n",
      "Images/BAL_images/PoC/2023_12_14_image_018.png\n",
      "                   name  Dice_coefficient\n",
      "0  2023_12_14_image_018          0.879137\n",
      "Images/BAL_images/PoC/2023_12_14_image_032.png\n",
      "                   name  Dice_coefficient\n",
      "0  2023_12_14_image_032          0.791995\n",
      "Images/BAL_images/PoC/2023_12_14_image_025.png\n",
      "                   name  Dice_coefficient\n",
      "0  2023_12_14_image_025          0.930487\n",
      "Images/BAL_images/PoC/2023_12_14_image_038.png\n",
      "                   name  Dice_coefficient\n",
      "0  2023_12_14_image_038          0.880147\n",
      "Images/BAL_images/PoC/2023_12_14_image_031.png\n",
      "                   name  Dice_coefficient\n",
      "0  2023_12_14_image_031          0.852582\n",
      "Images/BAL_images/PoC/2023_12_14_image_008.png\n",
      "                   name  Dice_coefficient\n",
      "0  2023_12_14_image_008          0.896922\n",
      "Images/BAL_images/PoC/2023_12_14_image_024.png\n",
      "                   name  Dice_coefficient\n",
      "0  2023_12_14_image_024          0.916529\n"
     ]
    }
   ],
   "source": [
    "import pathlib\n",
    "\n",
    "import optuna\n",
    "from skimage import filters\n",
    "from scipy.ndimage import gaussian_filter\n",
    "from sklearn.metrics import f1_score\n",
    "import colorcorrect.algorithm as cca\n",
    "import mahotas as mh\n",
    "import cellseg.src.image_worker as iw\n",
    "import cellseg.src.convert_worker as cw\n",
    "import cellseg.src.shape_descriptors as sd\n",
    "import numpy as np\n",
    "import pandas as pd\n",
    "\n",
    "results_df = pd.DataFrame(columns=[\"name\", \"Dice_coefficient\"])\n",
    "\n",
    "for bal_image in pathlib.Path(\"Images/BAL_images/PoC/\").glob(\"*.png\"):\n",
    "    print(bal_image)\n",
    "    img = mh.imread(bal_image)\n",
    "    img_c_corrected = cca.automatic_color_equalization(img, slope=params['slope'], limit=params['limit'], samples=params['samples'])\n",
    "    \n",
    "    img_blurred = gaussian_filter(img_c_corrected, sigma=params['sigma'])\n",
    "    \n",
    "    RGB_balanced = cca.luminance_weighted_gray_world(img_blurred, subwidth=params['subwidth'], subheight=params['subweight'])\n",
    "    r2, g2, b2 = RGB_balanced[:, :, 0], RGB_balanced[:, :, 1], RGB_balanced[:, :, 2]\n",
    "    \n",
    "    thresholds = filters.threshold_multiotsu(g2)\n",
    "    regions = np.digitize(g2, bins=thresholds)\n",
    "    bin_cyto_nuclei = cw.convert_labeled_to_bin(regions, background=2)\n",
    "    bin_cyto_nuclei = iw.close_holes_remove_noise(bin_cyto_nuclei, mask_size=params['mask_size'], iterations=params['iterations'])\n",
    "    \n",
    "    img_labeled_cytoplasm, nr_cytoplasm = mh.label(bin_cyto_nuclei)\n",
    "    img_labeled_cytoplasm = iw.remove_small_regions(img_labeled_cytoplasm, min_size=params['min_size'])\n",
    "    img_cytoplasm_nuclei = mh.labeled.remove_bordering(img_labeled_cytoplasm)\n",
    "    \n",
    "    label_file = f\"Images/labels/cytoplasm/{bal_image.stem}.txt\"\n",
    "    \n",
    "    cytoplasm_labels = np.loadtxt(label_file, dtype=int)\n",
    "    \n",
    "    f1 = f1_score(cytoplasm_labels.flatten(), img_cytoplasm_nuclei.flatten(), average=\"micro\")\n",
    "    \n",
    "    # results_df = results_df.append({\"name\": bal_image.stem, \"Dice_coefficient\": f1}, ignore_index=True)\n",
    "    result = pd.DataFrame({\"name\": bal_image.stem, \"Dice_coefficient\": f1}, index=[0])\n",
    "    print(result)\n",
    "    results_df = pd.concat([results_df, result], ignore_index=True)\n",
    "\n",
    "results_df.to_csv(\"results.csv\", index=False)"
   ]
  }
 ],
 "metadata": {
  "kernelspec": {
   "display_name": "cellseg-1BDzHjDw-py3.10",
   "language": "python",
   "name": "python3"
  },
  "language_info": {
   "codemirror_mode": {
    "name": "ipython",
    "version": 3
   },
   "file_extension": ".py",
   "mimetype": "text/x-python",
   "name": "python",
   "nbconvert_exporter": "python",
   "pygments_lexer": "ipython3",
   "version": "3.10.12"
  }
 },
 "nbformat": 4,
 "nbformat_minor": 2
}
